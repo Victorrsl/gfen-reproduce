{
 "cells": [
  {
   "cell_type": "code",
   "execution_count": 1,
   "metadata": {},
   "outputs": [
    {
     "data": {
      "text/plain": [
       "8-element Array{Int64,1}:\n",
       " 2\n",
       " 3\n",
       " 4\n",
       " 5\n",
       " 6\n",
       " 7\n",
       " 8\n",
       " 9"
      ]
     },
     "execution_count": 1,
     "metadata": {},
     "output_type": "execute_result"
    }
   ],
   "source": [
    "using Distributed\n",
    "addprocs(8)"
   ]
  },
  {
   "cell_type": "code",
   "execution_count": 2,
   "metadata": {},
   "outputs": [
    {
     "name": "stderr",
     "output_type": "stream",
     "text": [
      "┌ Info: Precompiling GraphFusedLasso [ebf00d30-dbed-11e8-07b9-cfffd4a15404]\n",
      "└ @ Base loading.jl:1186\n"
     ]
    },
    {
     "name": "stdout",
     "output_type": "stream",
     "text": [
      "      From worker 3:\t\n",
      "      From worker 6:\t\n",
      "      From worker 7:\t\n",
      "      From worker 6:\tR version 3.4.3 (2017-11-30) -- \"Kite-Eating Tree\"\n",
      "      From worker 6:\tCopyright (C) 2017 The R Foundation for Statistical Computing\n",
      "      From worker 6:\tPlatform: x86_64-w64-mingw32/x64 (64-bit)\n",
      "      From worker 6:\t\n",
      "      From worker 3:\tR version 3.4.3 (2017-11-30) -- \"Kite-Eating Tree\"\n",
      "      From worker 3:\tCopyright (C) 2017 The R Foundation for Statistical Computing\n",
      "      From worker 3:\tPlatform: x86_64-w64-mingw32/x64 (64-bit)\n",
      "      From worker 3:\t\n",
      "      From worker 7:\tR version 3.4.3 (2017-11-30) -- \"Kite-Eating Tree\"\n",
      "      From worker 7:\tCopyright (C) 2017 The R Foundation for Statistical Computing\n",
      "      From worker 7:\tPlatform: x86_64-w64-mingw32/x64 (64-bit)\n",
      "      From worker 7:\t\n",
      "      From worker 9:\t\n",
      "      From worker 2:\t\n",
      "      From worker 5:\t\n",
      "      From worker 8:\t\n",
      "      From worker 4:\t\n",
      "      From worker 9:\tR version 3.4.3 (2017-11-30) -- \"Kite-Eating Tree\"\n",
      "      From worker 9:\tCopyright (C) 2017 The R Foundation for Statistical Computing\n",
      "      From worker 9:\tPlatform: x86_64-w64-mingw32/x64 (64-bit)\n",
      "      From worker 9:\t\n",
      "      From worker 2:\tR version 3.4.3 (2017-11-30) -- \"Kite-Eating Tree\"\n",
      "      From worker 2:\tCopyright (C) 2017 The R Foundation for Statistical Computing\n",
      "      From worker 2:\tPlatform: x86_64-w64-mingw32/x64 (64-bit)\n",
      "      From worker 2:\t\n",
      "      From worker 5:\tR version 3.4.3 (2017-11-30) -- \"Kite-Eating Tree\"\n",
      "      From worker 5:\tCopyright (C) 2017 The R Foundation for Statistical Computing\n",
      "      From worker 5:\tPlatform: x86_64-w64-mingw32/x64 (64-bit)\n",
      "      From worker 5:\t\n",
      "      From worker 8:\tR version 3.4.3 (2017-11-30) -- \"Kite-Eating Tree\"\n",
      "      From worker 8:\tCopyright (C) 2017 The R Foundation for Statistical Computing\n",
      "      From worker 8:\tPlatform: x86_64-w64-mingw32/x64 (64-bit)\n",
      "      From worker 8:\t\n",
      "      From worker 4:\tR version 3.4.3 (2017-11-30) -- \"Kite-Eating Tree\"\n",
      "      From worker 4:\tCopyright (C) 2017 The R Foundation for Statistical Computing\n",
      "      From worker 4:\tPlatform: x86_64-w64-mingw32/x64 (64-bit)\n",
      "      From worker 4:\t\n",
      "      From worker 6:\tR is free software and comes with ABSOLUTELY NO WARRANTY.\n",
      "      From worker 6:\tYou are welcome to redistribute it under certain conditions.\n",
      "      From worker 6:\tType 'license()' or 'licence()' for distribution details.\n",
      "      From worker 6:\t\n",
      "      From worker 6:\tR is a collaborative project with many contributors.\n",
      "      From worker 6:\tType 'contributors()' for more information and\n",
      "      From worker 6:\t'citation()' on how to cite R or R packages in publications.\n",
      "      From worker 6:\t\n",
      "      From worker 6:\tType 'demo()' for some demos, 'help()' for on-line help, or\n",
      "      From worker 6:\t'help.start()' for an HTML browser interface to help.\n",
      "      From worker 6:\tType 'q()' to quit R.\n",
      "      From worker 6:\t\n",
      "      From worker 3:\tR is free software and comes with ABSOLUTELY NO WARRANTY.\n",
      "      From worker 3:\tYou are welcome to redistribute it under certain conditions.\n",
      "      From worker 3:\tType 'license()' or 'licence()' for distribution details.\n",
      "      From worker 3:\t\n",
      "      From worker 3:\tR is a collaborative project with many contributors.\n",
      "      From worker 3:\tType 'contributors()' for more information and\n",
      "      From worker 3:\t'citation()' on how to cite R or R packages in publications.\n",
      "      From worker 3:\t\n",
      "      From worker 3:\tType 'demo()' for some demos, 'help()' for on-line help, or\n",
      "      From worker 3:\t'help.start()' for an HTML browser interface to help.\n",
      "      From worker 3:\tType 'q()' to quit R.\n",
      "      From worker 3:\t\n",
      "      From worker 7:\tR is free software and comes with ABSOLUTELY NO WARRANTY.\n",
      "      From worker 7:\tYou are welcome to redistribute it under certain conditions.\n",
      "      From worker 7:\tType 'license()' or 'licence()' for distribution details.\n",
      "      From worker 7:\t\n",
      "      From worker 7:\tR is a collaborative project with many contributors.\n",
      "      From worker 7:\tType 'contributors()' for more information and\n",
      "      From worker 7:\t'citation()' on how to cite R or R packages in publications.\n",
      "      From worker 7:\t\n",
      "      From worker 7:\tType 'demo()' for some demos, 'help()' for on-line help, or\n",
      "      From worker 7:\t'help.start()' for an HTML browser interface to help.\n",
      "      From worker 7:\tType 'q()' to quit R.\n",
      "      From worker 7:\t\n",
      "      From worker 9:\tR is free software and comes with ABSOLUTELY NO WARRANTY.\n",
      "      From worker 9:\tYou are welcome to redistribute it under certain conditions.\n",
      "      From worker 9:\tType 'license()' or 'licence()' for distribution details.\n",
      "      From worker 9:\t\n",
      "      From worker 9:\tR is a collaborative project with many contributors.\n",
      "      From worker 9:\tType 'contributors()' for more information and\n",
      "      From worker 9:\t'citation()' on how to cite R or R packages in publications.\n",
      "      From worker 9:\t\n",
      "      From worker 9:\tType 'demo()' for some demos, 'help()' for on-line help, or\n",
      "      From worker 9:\t'help.start()' for an HTML browser interface to help.\n",
      "      From worker 9:\tType 'q()' to quit R.\n",
      "      From worker 9:\t\n",
      "      From worker 2:\tR is free software and comes with ABSOLUTELY NO WARRANTY.\n",
      "      From worker 2:\tYou are welcome to redistribute it under certain conditions.\n",
      "      From worker 2:\tType 'license()' or 'licence()' for distribution details.\n",
      "      From worker 2:\t\n",
      "      From worker 2:\tR is a collaborative project with many contributors.\n",
      "      From worker 2:\tType 'contributors()' for more information and\n",
      "      From worker 2:\t'citation()' on how to cite R or R packages in publications.\n",
      "      From worker 2:\t\n",
      "      From worker 2:\tType 'demo()' for some demos, 'help()' for on-line help, or\n",
      "      From worker 2:\t'help.start()' for an HTML browser interface to help.\n",
      "      From worker 2:\tType 'q()' to quit R.\n",
      "      From worker 2:\t\n",
      "      From worker 4:\tR is free software and comes with ABSOLUTELY NO WARRANTY.\n",
      "      From worker 4:\tYou are welcome to redistribute it under certain conditions.\n",
      "      From worker 4:\tType 'license()' or 'licence()' for distribution details.\n",
      "      From worker 4:\t\n",
      "      From worker 4:\tR is a collaborative project with many contributors.\n",
      "      From worker 4:\tType 'contributors()' for more information and\n",
      "      From worker 4:\t'citation()' on how to cite R or R packages in publications.\n",
      "      From worker 4:\t\n",
      "      From worker 4:\tType 'demo()' for some demos, 'help()' for on-line help, or\n",
      "      From worker 4:\t'help.start()' for an HTML browser interface to help.\n",
      "      From worker 4:\tType 'q()' to quit R.\n",
      "      From worker 4:\t\n",
      "      From worker 5:\tR is free software and comes with ABSOLUTELY NO WARRANTY.\n",
      "      From worker 5:\tYou are welcome to redistribute it under certain conditions.\n",
      "      From worker 5:\tType 'license()' or 'licence()' for distribution details.\n",
      "      From worker 5:\t\n",
      "      From worker 5:\tR is a collaborative project with many contributors.\n",
      "      From worker 5:\tType 'contributors()' for more information and\n",
      "      From worker 5:\t'citation()' on how to cite R or R packages in publications.\n",
      "      From worker 5:\t\n",
      "      From worker 5:\tType 'demo()' for some demos, 'help()' for on-line help, or\n",
      "      From worker 5:\t'help.start()' for an HTML browser interface to help.\n",
      "      From worker 5:\tType 'q()' to quit R.\n",
      "      From worker 5:\t\n",
      "      From worker 8:\tR is free software and comes with ABSOLUTELY NO WARRANTY.\n",
      "      From worker 8:\tYou are welcome to redistribute it under certain conditions.\n",
      "      From worker 8:\tType 'license()' or 'licence()' for distribution details.\n",
      "      From worker 8:\t\n",
      "      From worker 8:\tR is a collaborative project with many contributors.\n",
      "      From worker 8:\tType 'contributors()' for more information and\n",
      "      From worker 8:\t'citation()' on how to cite R or R packages in publications.\n",
      "      From worker 8:\t\n",
      "      From worker 8:\tType 'demo()' for some demos, 'help()' for on-line help, or\n",
      "      From worker 8:\t'help.start()' for an HTML browser interface to help.\n",
      "      From worker 8:\tType 'q()' to quit R.\n",
      "      From worker 8:\t\n",
      "\n",
      "R version 3.4.3 (2017-11-30) -- \"Kite-Eating Tree\"\n",
      "Copyright (C) 2017 The R Foundation for Statistical Computing\n",
      "Platform: x86_64-w64-mingw32/x64 (64-bit)\n",
      "\n",
      "R is free software and comes with ABSOLUTELY NO WARRANTY.\n",
      "You are welcome to redistribute it under certain conditions.\n",
      "Type 'license()' or 'licence()' for distribution details.\n",
      "\n",
      "R is a collaborative project with many contributors.\n",
      "Type 'contributors()' for more information and\n",
      "'citation()' on how to cite R or R packages in publications.\n",
      "\n",
      "Type 'demo()' for some demos, 'help()' for on-line help, or\n",
      "'help.start()' for an HTML browser interface to help.\n",
      "Type 'q()' to quit R.\n",
      "\n"
     ]
    }
   ],
   "source": [
    "# %%\n",
    "@everywhere begin\n",
    "    \n",
    "using Pkg; Pkg.activate(\"..\")\n",
    "# Pkg.instantiate()\n",
    "using GraphFusedLasso\n",
    "# using Base.Threads\n",
    "# using Revise\n",
    "using Distributions\n",
    "import StatsBase.weights\n",
    "using Random\n",
    "using RCall\n",
    "using ProgressBars\n",
    "using FileIO\n",
    "using DataFrames, CSV\n",
    "using Printf\n",
    "# using Base.Threads\n",
    "    \n",
    "end"
   ]
  },
  {
   "cell_type": "code",
   "execution_count": 3,
   "metadata": {},
   "outputs": [
    {
     "name": "stdout",
     "output_type": "stream",
     "text": [
      "Running with 1 thread(s)\n"
     ]
    },
    {
     "name": "stderr",
     "output_type": "stream",
     "text": [
      "┌ Warning: RCall.jl: Warning: package 'tidyverse' was built under R version 3.4.4\n",
      "│ -- Attaching packages --------------------------------------- tidyverse 1.2.1 --\n",
      "│ v ggplot2 3.2.1     v purrr   0.2.4\n",
      "│ v tibble  2.1.3     v dplyr   0.8.3\n",
      "│ v tidyr   0.7.2     v stringr 1.2.0\n",
      "│ v readr   1.1.1     v forcats 0.2.0\n",
      "│ -- Conflicts ------------------------------------------ tidyverse_conflicts() --\n",
      "│ x dplyr::filter() masks stats::filter()\n",
      "│ x dplyr::lag()    masks stats::lag()\n",
      "└ @ RCall C:\\Users\\mbg877\\.julia\\packages\\RCall\\iojZI\\src\\io.jl:113\n"
     ]
    }
   ],
   "source": [
    "println(\"Running with $(Threads.nthreads()) thread(s)\")\n",
    "# println(\"Running with $(nprocs()) process(ses)\")\n",
    "\n",
    "R\"library('tidyverse')\"\n",
    "\n",
    "# Random.seed!(418916);\n",
    "\n",
    "@everywhere begin\n",
    "\n",
    "# %%\n",
    "function generate_trace(task, N)\n",
    "    cuts = [N ÷ 3, 2(N ÷ 3)]\n",
    "#     cuts = sort(sample(2:N-1, 2, replace=false))\n",
    "    x1 = 1:cuts[1]\n",
    "    x2 = (cuts[1] + 1):cuts[2]\n",
    "    x3 = (cuts[2] + 1):N\n",
    "    x = [x1; x2; x3]\n",
    "    \n",
    "    values1 = 2.0(rand(Uniform(), 4) .- 0.5)\n",
    "\n",
    "    if task == \"smooth\"\n",
    "        y1 = values1[1] .+ (values1[2] - values1[1]) .* (x1 ./ cuts[1])\n",
    "        y2 = values1[2] .+ (values1[3] - values1[2]) .* (x2 .- cuts[1]) ./ (cuts[2] - cuts[1])\n",
    "        y3 = values1[3] .+ (values1[4] - values1[3]) .* (x3 .- cuts[2]) ./ (N - cuts[2])\n",
    "    elseif task == \"constant\"\n",
    "        y1 = fill(values1[1], cuts[1])\n",
    "        y2 = fill(values1[2], cuts[2] - cuts[1])\n",
    "        y3 = fill(values1[3], N - cuts[2])\n",
    "    elseif task == \"mixed\"\n",
    "        y1 = values1[1] .+ Int(rand() < 0.5) .* (values1[2] - values1[1]) .* (x1 ./ cuts[1])\n",
    "        y2 = values1[2] .+ Int(rand() < 0.5) .* (values1[3] - values1[2]) .* (x2 .- cuts[1]) ./ (cuts[2] - cuts[1])\n",
    "        y3 = values1[3] .+ Int(rand() < 0.5) .* (values1[4] - values1[3]) .* (x3 .- cuts[2]) ./ (N - cuts[2])\n",
    "    else\n",
    "        throw(ArgumentError)\n",
    "    end\n",
    "    μ = [y1; y2; y3]\n",
    "    return μ\n",
    "end\n",
    "\n",
    "\n",
    "function generate_spt_task(task_space, task_time, N, pmiss; σ=0.3, outliers=false)\n",
    "    μ1s = generate_trace(task_space, N)\n",
    "    μ2s = generate_trace(task_space, N)\n",
    "    ts =  generate_trace(task_time, N)\n",
    "    \n",
    "    evalpts = collect(range(-2.5, 2.5, length=100))\n",
    "    \n",
    "    μs = [(t + μ1, t + μ2) for (μ1, μ2) in zip(μ1s, μ2s), t in ts]\n",
    "    dmodels = [MixtureModel([Normal(μ1, σ), Normal(μ2, σ)]) for (μ1, μ2) in μs]\n",
    "\n",
    "    devals = [pdf.(d, evalpts) for d in dmodels];\n",
    "    ndata = [sample([0, 10], weights([pmiss, 1.0 - pmiss])) for d in dmodels]\n",
    "    y = [rand(d, n) for (d, n) in zip(dmodels, ndata)]\n",
    "    \n",
    "    if outliers\n",
    "        Nobs = sum([1 for n in ndata if n > 0])\n",
    "        K = Int(floor(Nobs * 0.5))\n",
    "        idx = sample([i for (i, n) in enumerate(ndata) if n > 0], K, replace=false)\n",
    "        for i in idx\n",
    "            j = rand(1:length(y[i]))\n",
    "            y[i][j] += rand([-1, 1]) * 5.0\n",
    "        end\n",
    "    end\n",
    "                    \n",
    "    # make matrix pts\n",
    "    xrange = collect(1:N)\n",
    "    # temporal\n",
    "    ptr = Int[]\n",
    "    brks = Int[1]\n",
    "    for i in 1:N\n",
    "        append!(ptr, xrange .+ (i - 1) * N)\n",
    "        push!(brks, brks[end] + N)\n",
    "    end\n",
    "    istemporal = fill(true, N^2)\n",
    "    # spatial\n",
    "    xrange = [(i - 1) * N + 1 for i in 1:N]\n",
    "    for i in 1:N\n",
    "        append!(ptr, xrange .+ (i - 1))\n",
    "        push!(brks, brks[end] + N)\n",
    "    end\n",
    "    append!(istemporal, fill(false, N^2))\n",
    "    \n",
    "    return Dict(\"evalpts\" => evalpts,\n",
    "                \"dmodels\" => dmodels,\n",
    "                \"devals\" => devals,\n",
    "                \"y\" => y,\n",
    "                \"ndata\" => ndata,\n",
    "                \"mean1\" => μ1s,\n",
    "                \"mean2\" => μ2s,\n",
    "                \"t\" => ts,\n",
    "                \"means\" => μs,\n",
    "                \"ptr\" => ptr,\n",
    "                \"brks\" => brks,\n",
    "                \"istemporal\" => istemporal)\n",
    "end\n",
    "\n",
    "# function for cross-validation fit\n",
    "\n",
    "function generate_cvsets(y, nsplits)\n",
    "    # make the cv splits\n",
    "    N = length(y)\n",
    "    cvsets = [Set{Int}() for i in 1:nsplits]\n",
    "    iobs = shuffle([i for (i, yi) in enumerate(y) if !isempty(yi)])\n",
    "    Nobs = length(iobs)\n",
    "    splitsize = Nobs ÷ nsplits\n",
    "    for k in 1:nsplits\n",
    "        for i in ((k - 1) * splitsize + 1):(k * splitsize)\n",
    "            push!(cvsets[k], iobs[i])\n",
    "        end\n",
    "    end\n",
    "    return cvsets\n",
    "end\n",
    "               \n",
    "\n",
    "\n",
    "function fit2(ytrain, ptr, brks, λ1, λ2, η1, η2, istemporal)\n",
    "    N = length(ytrain)\n",
    "    lambdasl1 = Float64[temp ? η1 : λ1 for temp in istemporal]\n",
    "    lambdasl2 = Float64[temp ? η2 : λ2 for temp in istemporal]\n",
    "\n",
    "    # create the tree\n",
    "    M  = 33\n",
    "    splits = collect(range(-2.5, 2.5, length=M))\n",
    "    tree = DensityTree(splits)\n",
    "    bins2counts = Dict()\n",
    "    for (j, (li, ui)) in enumerate([tree.bins; [(i, i+1) for i in 1:M-1]])\n",
    "        lower = splits[li]\n",
    "        upper = splits[ui]\n",
    "        k = [sum(lower .< yi .< upper) for yi in ytrain]\n",
    "        bins2counts[(li, ui)] = k\n",
    "    end\n",
    "            \n",
    "    # fit binomial model in each tree\n",
    "    beta = zeros(N, M - 2)\n",
    "    for j in 1:M - 2\n",
    "        li, ui = tree.bins[j]\n",
    "        mi = (ui + li) ÷ 2 \n",
    "        parent_counts = bins2counts[(li, ui)] .+ 0.1\n",
    "        left_counts = bins2counts[(li, mi)]  .+ 0.05\n",
    "\n",
    "        level = trunc(Int, log2(j))\n",
    "\n",
    "        model = BinomialEnet(\n",
    "            ptr, brks,\n",
    "            lambdasl1 .* 2.0 ^ (0.25 * level),\n",
    "            lambdasl2 .* 2.0 ^ (0.25 * level);\n",
    "            abstol=0.0,\n",
    "            reltol=1e-3)\n",
    "        fit!(model, left_counts, parent_counts; steps=100, parallel=false)\n",
    "\n",
    "        beta[:, j] = model.beta\n",
    "    end\n",
    "    tree.beta = beta\n",
    "    return tree\n",
    "end\n",
    "         \n",
    "                \n",
    "function cv_fit2(y, evalpts, ptr, brks, istemporal, lambdas, cvsets, models)\n",
    "    # for each cv split get the mse error\n",
    "    N = length(y)\n",
    "    nsplits = length(cvsets)\n",
    "    nlambdas = length(lambdas)\n",
    "                    \n",
    "    # prepare the tree structure and the bint \n",
    "    test_loglikelihood = pmap(1:nlambdas) do k\n",
    "        λ1, λ2, η1, η2 = lambdas[k]\n",
    "        Ntest = 0.0\n",
    "        loglikelihood = 0.0\n",
    "        for i = 1:nsplits\n",
    "            # get the cv vector with missing data\n",
    "            ytrain = [j in cvsets[i] ? Float64[] : yi\n",
    "                      for (j, yi) in enumerate(y)]\n",
    "\n",
    "            tree = fit2(ytrain, ptr, brks, λ1, λ2, η1, η2, istemporal)               \n",
    "                            \n",
    "            # compute the out-of-sample likelihood\n",
    "            for j in collect(cvsets[i])\n",
    "                test_eval = y[j]\n",
    "                Ntest += length(test_eval)\n",
    "                ll = - log.(predict(tree, sort(test_eval), j) .+ 1e-4)\n",
    "                loglikelihood += sum(ll)\n",
    "            end\n",
    "        end\n",
    "        loglikelihood / Ntest\n",
    "    end\n",
    "    # println(\".\")\n",
    "\n",
    "    # now choose the best lambdas\n",
    "#     display(collect(zip(test_loglikelihood, lambdas)))\n",
    "    best_lambdas = lambdas[argmin(test_loglikelihood)]\n",
    "    best_loglikelihood = minimum(test_loglikelihood)\n",
    "    \n",
    "    # compute validation likelihood\n",
    "    nsims = 100\n",
    "    samples = [rand(model, nsims) for model in models]\n",
    "    λ1, λ2, η1, η2 = best_lambdas\n",
    "    tree = fit2(y, ptr, brks, λ1, λ2, η1, η2, istemporal)\n",
    "    lls = [- mean(log.(predict(tree, sort(x), j) .+ 1e-4)) for (j, x) in enumerate(samples)]\n",
    "    validation_loglikelihood = mean(lls)\n",
    "\n",
    "    return Dict(\"best_lambdas\" => best_lambdas,\n",
    "                \"cv_loglikelihood\" => best_loglikelihood,\n",
    "                \"val_loglikelihood\" => validation_loglikelihood)\n",
    "end\n",
    "            \n",
    "function get_hypers()\n",
    "#     fl_choices = [1e-12, 0.33, 0.66, 1.0]\n",
    "#     kal_choices = [1e-12, 0.75, 1.5, 3.0]\n",
    "    fl_choices = [1e-6, 0.33, 0.66, 1.0] ./ 2.0\n",
    "    kal_choices = [1e-6, 0.75, 1.5, 3.0] ./ 2.0\n",
    "    lambdas_dict = Dict(\n",
    "        \"fl\" =>  [(λ1, 1e-12, η1, 1e-12) for λ1 in fl_choices for η1 in fl_choices],\n",
    "        \"kal\" => [(1e-12, λ2, 1e-12, η2) for λ2 in kal_choices for η2 in kal_choices],\n",
    "        \"enet\" => [(λ1, λ2, η1, η2) for λ1 in fl_choices for λ2 in kal_choices\n",
    "                                    for η1 in fl_choices for η2 in kal_choices])\n",
    "    return lambdas_dict\n",
    "end\n",
    "\n",
    "\n",
    "function run_benchmarks(N, pmiss;\n",
    "                        nsims=100,\n",
    "                        nsplits=5,\n",
    "                        tasks=(\"constant\", \"smooth\", \"mixed\"),\n",
    "                        outliers=false)\n",
    "    experiment_results = []\n",
    "    for task_space in tasks\n",
    "        for task_time in tasks\n",
    "            data = [\n",
    "                generate_spt_task(task_space, task_time, N, pmiss, outliers=outliers)\n",
    "                for _ in 1:nsims\n",
    "            ]\n",
    "            lambdas_dict = get_hypers()\n",
    "            for method in (\"fl\", \"kal\", \"enet\")\n",
    "                println(\"Running task_space $task_space task_time $task_time for method $method, outliers $outliers\")\n",
    "                \n",
    "                new_records = []\n",
    "                for (l, D) in ProgressBar(collect(enumerate(data)))\n",
    "#                 for (l, D) in enumerate(data)\n",
    "                    y = vec(D[\"y\"])\n",
    "                    models = vec(D[\"dmodels\"])\n",
    "                    ndata = vec(D[\"ndata\"])\n",
    "                    devals = vec(D[\"devals\"])\n",
    "                    ptr = D[\"ptr\"]\n",
    "                    brks = D[\"brks\"]\n",
    "                    evalpts = D[\"evalpts\"]\n",
    "                    istemporal = D[\"istemporal\"]\n",
    "                    \n",
    "                    cvsets = generate_cvsets(y, nsplits)\n",
    "                    lambdas = lambdas_dict[method]\n",
    "                    results = cv_fit2(y, evalpts, ptr, brks, istemporal, lambdas, cvsets, models)\n",
    "\n",
    "                    λ1, λ2, η1, η2 = results[\"best_lambdas\"]\n",
    "                    record = Dict(\n",
    "                        :experiment => l,\n",
    "                        :task_space => task_space,\n",
    "                        :task_time => task_time,\n",
    "                        :method => method,\n",
    "                        :cv_ll => results[\"cv_loglikelihood\"],\n",
    "                        :val_ll => results[\"val_loglikelihood\"],\n",
    "                        :lamb1 => λ1,\n",
    "                        :lamb2 => λ2,\n",
    "                        :eta1 => η1,\n",
    "                        :eta2 => η2,\n",
    "                        :outliers => Int(outliers))\n",
    "                    push!(new_records, record)\n",
    "                    display(record)\n",
    "                end\n",
    "                append!(experiment_results, new_records)\n",
    "            end\n",
    "        end\n",
    "    end\n",
    "    return experiment_results\n",
    "end\n",
    "\n",
    "end"
   ]
  },
  {
   "cell_type": "code",
   "execution_count": 4,
   "metadata": {},
   "outputs": [
    {
     "name": "stdout",
     "output_type": "stream",
     "text": [
      "Running task_space smooth task_time smooth for method fl, outliers false\n"
     ]
    },
    {
     "data": {
      "text/plain": [
       "Dict{Symbol,Any} with 11 entries:\n",
       "  :eta2       => 1.0e-12\n",
       "  :lamb1      => 0.132\n",
       "  :lamb2      => 1.0e-12\n",
       "  :method     => \"fl\"\n",
       "  :experiment => 1\n",
       "  :eta1       => 0.2\n",
       "  :task_space => \"smooth\"\n",
       "  :outliers   => 0\n",
       "  :cv_ll      => 0.827946\n",
       "  :val_ll     => 0.772092\n",
       "  :task_time  => \"smooth\""
      ]
     },
     "metadata": {},
     "output_type": "display_data"
    },
    {
     "name": "stdout",
     "output_type": "stream",
     "text": [
      "0.00%┣                                                             ┫ 0/10 Inf:Inf<Inf:Inf, 0.00 it/s]"
     ]
    },
    {
     "data": {
      "text/plain": [
       "Dict{Symbol,Any} with 11 entries:\n",
       "  :eta2       => 1.0e-12\n",
       "  :lamb1      => 0.2\n",
       "  :lamb2      => 1.0e-12\n",
       "  :method     => \"fl\"\n",
       "  :experiment => 2\n",
       "  :eta1       => 0.2\n",
       "  :task_space => \"smooth\"\n",
       "  :outliers   => 0\n",
       "  :cv_ll      => 0.774578\n",
       "  :val_ll     => 0.676679\n",
       "  :task_time  => \"smooth\""
      ]
     },
     "metadata": {},
     "output_type": "display_data"
    },
    {
     "name": "stdout",
     "output_type": "stream",
     "text": [
      "10.00%┣██████▏                                                       ┫ 1/10 00:40<Inf:Inf, 0.00 it/s]"
     ]
    },
    {
     "data": {
      "text/plain": [
       "Dict{Symbol,Any} with 11 entries:\n",
       "  :eta2       => 1.0e-12\n",
       "  :lamb1      => 0.066\n",
       "  :lamb2      => 1.0e-12\n",
       "  :method     => \"fl\"\n",
       "  :experiment => 3\n",
       "  :eta1       => 0.2\n",
       "  :task_space => \"smooth\"\n",
       "  :outliers   => 0\n",
       "  :cv_ll      => 1.01038\n",
       "  :val_ll     => 1.01173\n",
       "  :task_time  => \"smooth\""
      ]
     },
     "metadata": {},
     "output_type": "display_data"
    },
    {
     "name": "stdout",
     "output_type": "stream",
     "text": [
      "20.00%┣████████████▊                                                   ┫ 2/10 00:53<07:00, 0.02 it/s]"
     ]
    },
    {
     "data": {
      "text/plain": [
       "Dict{Symbol,Any} with 11 entries:\n",
       "  :eta2       => 1.0e-12\n",
       "  :lamb1      => 0.2\n",
       "  :lamb2      => 1.0e-12\n",
       "  :method     => \"fl\"\n",
       "  :experiment => 4\n",
       "  :eta1       => 0.2\n",
       "  :task_space => \"smooth\"\n",
       "  :outliers   => 0\n",
       "  :cv_ll      => 0.779746\n",
       "  :val_ll     => 0.744549\n",
       "  :task_time  => \"smooth\""
      ]
     },
     "metadata": {},
     "output_type": "display_data"
    },
    {
     "name": "stdout",
     "output_type": "stream",
     "text": [
      "30.00%┣███████████████████▏                                            ┫ 3/10 01:04<03:45, 0.03 it/s]"
     ]
    },
    {
     "data": {
      "text/plain": [
       "Dict{Symbol,Any} with 11 entries:\n",
       "  :eta2       => 1.0e-12\n",
       "  :lamb1      => 0.132\n",
       "  :lamb2      => 1.0e-12\n",
       "  :method     => \"fl\"\n",
       "  :experiment => 5\n",
       "  :eta1       => 0.2\n",
       "  :task_space => \"smooth\"\n",
       "  :outliers   => 0\n",
       "  :cv_ll      => 1.04391\n",
       "  :val_ll     => 1.00248\n",
       "  :task_time  => \"smooth\""
      ]
     },
     "metadata": {},
     "output_type": "display_data"
    },
    {
     "name": "stdout",
     "output_type": "stream",
     "text": [
      "40.00%┣█████████████████████████▌                                      ┫ 4/10 01:17<02:34, 0.04 it/s]"
     ]
    },
    {
     "data": {
      "text/plain": [
       "Dict{Symbol,Any} with 11 entries:\n",
       "  :eta2       => 1.0e-12\n",
       "  :lamb1      => 0.2\n",
       "  :lamb2      => 1.0e-12\n",
       "  :method     => \"fl\"\n",
       "  :experiment => 6\n",
       "  :eta1       => 0.2\n",
       "  :task_space => \"smooth\"\n",
       "  :outliers   => 0\n",
       "  :cv_ll      => 0.876908\n",
       "  :val_ll     => 0.854103\n",
       "  :task_time  => \"smooth\""
      ]
     },
     "metadata": {},
     "output_type": "display_data"
    },
    {
     "name": "stdout",
     "output_type": "stream",
     "text": [
      "50.00%┣████████████████████████████████                                ┫ 5/10 01:28<01:50, 0.05 it/s]"
     ]
    },
    {
     "data": {
      "text/plain": [
       "Dict{Symbol,Any} with 11 entries:\n",
       "  :eta2       => 1.0e-12\n",
       "  :lamb1      => 0.2\n",
       "  :lamb2      => 1.0e-12\n",
       "  :method     => \"fl\"\n",
       "  :experiment => 7\n",
       "  :eta1       => 0.2\n",
       "  :task_space => \"smooth\"\n",
       "  :outliers   => 0\n",
       "  :cv_ll      => 0.794685\n",
       "  :val_ll     => 0.72503\n",
       "  :task_time  => \"smooth\""
      ]
     },
     "metadata": {},
     "output_type": "display_data"
    },
    {
     "name": "stdout",
     "output_type": "stream",
     "text": [
      "60.00%┣██████████████████████████████████████▍                         ┫ 6/10 01:40<01:20, 0.05 it/s]"
     ]
    },
    {
     "data": {
      "text/plain": [
       "Dict{Symbol,Any} with 11 entries:\n",
       "  :eta2       => 1.0e-12\n",
       "  :lamb1      => 0.2\n",
       "  :lamb2      => 1.0e-12\n",
       "  :method     => \"fl\"\n",
       "  :experiment => 8\n",
       "  :eta1       => 0.066\n",
       "  :task_space => \"smooth\"\n",
       "  :outliers   => 0\n",
       "  :cv_ll      => 0.573052\n",
       "  :val_ll     => 0.555318\n",
       "  :task_time  => \"smooth\""
      ]
     },
     "metadata": {},
     "output_type": "display_data"
    },
    {
     "name": "stdout",
     "output_type": "stream",
     "text": [
      "70.00%┣████████████████████████████████████████████▊                   ┫ 7/10 01:51<00:55, 0.05 it/s]"
     ]
    },
    {
     "data": {
      "text/plain": [
       "Dict{Symbol,Any} with 11 entries:\n",
       "  :eta2       => 1.0e-12\n",
       "  :lamb1      => 0.2\n",
       "  :lamb2      => 1.0e-12\n",
       "  :method     => \"fl\"\n",
       "  :experiment => 9\n",
       "  :eta1       => 0.2\n",
       "  :task_space => \"smooth\"\n",
       "  :outliers   => 0\n",
       "  :cv_ll      => 0.74614\n",
       "  :val_ll     => 0.697543\n",
       "  :task_time  => \"smooth\""
      ]
     },
     "metadata": {},
     "output_type": "display_data"
    },
    {
     "name": "stdout",
     "output_type": "stream",
     "text": [
      "80.00%┣███████████████████████████████████████████████████▏            ┫ 8/10 02:03<00:35, 0.06 it/s]"
     ]
    },
    {
     "data": {
      "text/plain": [
       "Dict{Symbol,Any} with 11 entries:\n",
       "  :eta2       => 1.0e-12\n",
       "  :lamb1      => 0.066\n",
       "  :lamb2      => 1.0e-12\n",
       "  :method     => \"fl\"\n",
       "  :experiment => 10\n",
       "  :eta1       => 0.2\n",
       "  :task_space => \"smooth\"\n",
       "  :outliers   => 0\n",
       "  :cv_ll      => 0.748342\n",
       "  :val_ll     => 0.751263\n",
       "  :task_time  => \"smooth\""
      ]
     },
     "metadata": {},
     "output_type": "display_data"
    },
    {
     "name": "stdout",
     "output_type": "stream",
     "text": [
      "100.00%┣██████████████████████████████████████████████████████████████┫ 10/10 02:14<00:00, 0.07 it/s]\n",
      "Running task_space smooth task_time smooth for method kal, outliers false\n"
     ]
    },
    {
     "data": {
      "text/plain": [
       "Dict{Symbol,Any} with 11 entries:\n",
       "  :eta2       => 0.6\n",
       "  :lamb1      => 1.0e-12\n",
       "  :lamb2      => 0.3\n",
       "  :method     => \"kal\"\n",
       "  :experiment => 1\n",
       "  :eta1       => 1.0e-12\n",
       "  :task_space => \"smooth\"\n",
       "  :outliers   => 0\n",
       "  :cv_ll      => 0.748702\n",
       "  :val_ll     => 0.728472\n",
       "  :task_time  => \"smooth\""
      ]
     },
     "metadata": {},
     "output_type": "display_data"
    },
    {
     "name": "stdout",
     "output_type": "stream",
     "text": [
      "0.00%┣                                                             ┫ 0/10 Inf:Inf<Inf:Inf, 0.00 it/s]"
     ]
    },
    {
     "data": {
      "text/plain": [
       "Dict{Symbol,Any} with 11 entries:\n",
       "  :eta2       => 0.6\n",
       "  :lamb1      => 1.0e-12\n",
       "  :lamb2      => 0.15\n",
       "  :method     => \"kal\"\n",
       "  :experiment => 2\n",
       "  :eta1       => 1.0e-12\n",
       "  :task_space => \"smooth\"\n",
       "  :outliers   => 0\n",
       "  :cv_ll      => 0.621112\n",
       "  :val_ll     => 0.570386\n",
       "  :task_time  => \"smooth\""
      ]
     },
     "metadata": {},
     "output_type": "display_data"
    },
    {
     "name": "stdout",
     "output_type": "stream",
     "text": [
      "10.00%┣██████▏                                                       ┫ 1/10 00:26<Inf:Inf, 0.00 it/s]"
     ]
    },
    {
     "data": {
      "text/plain": [
       "Dict{Symbol,Any} with 11 entries:\n",
       "  :eta2       => 0.6\n",
       "  :lamb1      => 1.0e-12\n",
       "  :lamb2      => 0.15\n",
       "  :method     => \"kal\"\n",
       "  :experiment => 3\n",
       "  :eta1       => 1.0e-12\n",
       "  :task_space => \"smooth\"\n",
       "  :outliers   => 0\n",
       "  :cv_ll      => 1.00779\n",
       "  :val_ll     => 0.996042\n",
       "  :task_time  => \"smooth\""
      ]
     },
     "metadata": {},
     "output_type": "display_data"
    },
    {
     "name": "stdout",
     "output_type": "stream",
     "text": [
      "20.00%┣████████████▊                                                   ┫ 2/10 00:39<05:09, 0.03 it/s]"
     ]
    },
    {
     "data": {
      "text/plain": [
       "Dict{Symbol,Any} with 11 entries:\n",
       "  :eta2       => 0.6\n",
       "  :lamb1      => 1.0e-12\n",
       "  :lamb2      => 0.6\n",
       "  :method     => \"kal\"\n",
       "  :experiment => 4\n",
       "  :eta1       => 1.0e-12\n",
       "  :task_space => \"smooth\"\n",
       "  :outliers   => 0\n",
       "  :cv_ll      => 0.709495\n",
       "  :val_ll     => 0.710528\n",
       "  :task_time  => \"smooth\""
      ]
     },
     "metadata": {},
     "output_type": "display_data"
    },
    {
     "name": "stdout",
     "output_type": "stream",
     "text": [
      "30.00%┣███████████████████▏                                            ┫ 3/10 00:50<02:57, 0.04 it/s]"
     ]
    },
    {
     "data": {
      "text/plain": [
       "Dict{Symbol,Any} with 11 entries:\n",
       "  :eta2       => 0.6\n",
       "  :lamb1      => 1.0e-12\n",
       "  :lamb2      => 0.3\n",
       "  :method     => \"kal\"\n",
       "  :experiment => 5\n",
       "  :eta1       => 1.0e-12\n",
       "  :task_space => \"smooth\"\n",
       "  :outliers   => 0\n",
       "  :cv_ll      => 0.97555\n",
       "  :val_ll     => 0.952892\n",
       "  :task_time  => \"smooth\""
      ]
     },
     "metadata": {},
     "output_type": "display_data"
    },
    {
     "name": "stdout",
     "output_type": "stream",
     "text": [
      "40.00%┣█████████████████████████▌                                      ┫ 4/10 01:04<02:07, 0.05 it/s]"
     ]
    },
    {
     "data": {
      "text/plain": [
       "Dict{Symbol,Any} with 11 entries:\n",
       "  :eta2       => 0.6\n",
       "  :lamb1      => 1.0e-12\n",
       "  :lamb2      => 0.6\n",
       "  :method     => \"kal\"\n",
       "  :experiment => 6\n",
       "  :eta1       => 1.0e-12\n",
       "  :task_space => \"smooth\"\n",
       "  :outliers   => 0\n",
       "  :cv_ll      => 0.885868\n",
       "  :val_ll     => 0.839672\n",
       "  :task_time  => \"smooth\""
      ]
     },
     "metadata": {},
     "output_type": "display_data"
    },
    {
     "name": "stdout",
     "output_type": "stream",
     "text": [
      "50.00%┣████████████████████████████████                                ┫ 5/10 01:15<01:33, 0.05 it/s]"
     ]
    },
    {
     "data": {
      "text/plain": [
       "Dict{Symbol,Any} with 11 entries:\n",
       "  :eta2       => 0.3\n",
       "  :lamb1      => 1.0e-12\n",
       "  :lamb2      => 0.6\n",
       "  :method     => \"kal\"\n",
       "  :experiment => 7\n",
       "  :eta1       => 1.0e-12\n",
       "  :task_space => \"smooth\"\n",
       "  :outliers   => 0\n",
       "  :cv_ll      => 0.709037\n",
       "  :val_ll     => 0.656465\n",
       "  :task_time  => \"smooth\""
      ]
     },
     "metadata": {},
     "output_type": "display_data"
    },
    {
     "name": "stdout",
     "output_type": "stream",
     "text": [
      "60.00%┣██████████████████████████████████████▍                         ┫ 6/10 01:27<01:10, 0.06 it/s]"
     ]
    },
    {
     "data": {
      "text/plain": [
       "Dict{Symbol,Any} with 11 entries:\n",
       "  :eta2       => 0.3\n",
       "  :lamb1      => 1.0e-12\n",
       "  :lamb2      => 0.6\n",
       "  :method     => \"kal\"\n",
       "  :experiment => 8\n",
       "  :eta1       => 1.0e-12\n",
       "  :task_space => \"smooth\"\n",
       "  :outliers   => 0\n",
       "  :cv_ll      => 0.57801\n",
       "  :val_ll     => 0.556296\n",
       "  :task_time  => \"smooth\""
      ]
     },
     "metadata": {},
     "output_type": "display_data"
    },
    {
     "name": "stdout",
     "output_type": "stream",
     "text": [
      "70.00%┣████████████████████████████████████████████▊                   ┫ 7/10 01:38<00:49, 0.06 it/s]"
     ]
    },
    {
     "data": {
      "text/plain": [
       "Dict{Symbol,Any} with 11 entries:\n",
       "  :eta2       => 0.6\n",
       "  :lamb1      => 1.0e-12\n",
       "  :lamb2      => 0.6\n",
       "  :method     => \"kal\"\n",
       "  :experiment => 9\n",
       "  :eta1       => 1.0e-12\n",
       "  :task_space => \"smooth\"\n",
       "  :outliers   => 0\n",
       "  :cv_ll      => 0.686852\n",
       "  :val_ll     => 0.640199\n",
       "  :task_time  => \"smooth\""
      ]
     },
     "metadata": {},
     "output_type": "display_data"
    },
    {
     "name": "stdout",
     "output_type": "stream",
     "text": [
      "80.00%┣███████████████████████████████████████████████████▏            ┫ 8/10 01:50<00:31, 0.06 it/s]"
     ]
    },
    {
     "data": {
      "text/plain": [
       "Dict{Symbol,Any} with 11 entries:\n",
       "  :eta2       => 0.6\n",
       "  :lamb1      => 1.0e-12\n",
       "  :lamb2      => 0.3\n",
       "  :method     => \"kal\"\n",
       "  :experiment => 10\n",
       "  :eta1       => 1.0e-12\n",
       "  :task_space => \"smooth\"\n",
       "  :outliers   => 0\n",
       "  :cv_ll      => 0.728354\n",
       "  :val_ll     => 0.72741\n",
       "  :task_time  => \"smooth\""
      ]
     },
     "metadata": {},
     "output_type": "display_data"
    },
    {
     "name": "stdout",
     "output_type": "stream",
     "text": [
      "100.00%┣██████████████████████████████████████████████████████████████┫ 10/10 02:02<00:00, 0.07 it/s]\n",
      "Running task_space smooth task_time smooth for method enet, outliers false\n"
     ]
    },
    {
     "data": {
      "text/plain": [
       "Dict{Symbol,Any} with 11 entries:\n",
       "  :eta2       => 0.6\n",
       "  :lamb1      => 2.0e-7\n",
       "  :lamb2      => 0.3\n",
       "  :method     => \"enet\"\n",
       "  :experiment => 1\n",
       "  :eta1       => 0.132\n",
       "  :task_space => \"smooth\"\n",
       "  :outliers   => 0\n",
       "  :cv_ll      => 0.748601\n",
       "  :val_ll     => 0.725711\n",
       "  :task_time  => \"smooth\""
      ]
     },
     "metadata": {},
     "output_type": "display_data"
    },
    {
     "name": "stdout",
     "output_type": "stream",
     "text": [
      "0.00%┣                                                             ┫ 0/10 Inf:Inf<Inf:Inf, 0.00 it/s]"
     ]
    },
    {
     "data": {
      "text/plain": [
       "Dict{Symbol,Any} with 11 entries:\n",
       "  :eta2       => 0.6\n",
       "  :lamb1      => 2.0e-7\n",
       "  :lamb2      => 0.3\n",
       "  :method     => \"enet\"\n",
       "  :experiment => 2\n",
       "  :eta1       => 2.0e-7\n",
       "  :task_space => \"smooth\"\n",
       "  :outliers   => 0\n",
       "  :cv_ll      => 0.625256\n",
       "  :val_ll     => 0.575821\n",
       "  :task_time  => \"smooth\""
      ]
     },
     "metadata": {},
     "output_type": "display_data"
    },
    {
     "name": "stdout",
     "output_type": "stream",
     "text": [
      "10.00%┣██████▏                                                       ┫ 1/10 06:30<Inf:Inf, 0.00 it/s]"
     ]
    },
    {
     "data": {
      "text/plain": [
       "Dict{Symbol,Any} with 11 entries:\n",
       "  :eta2       => 0.6\n",
       "  :lamb1      => 2.0e-7\n",
       "  :lamb2      => 0.15\n",
       "  :method     => \"enet\"\n",
       "  :experiment => 3\n",
       "  :eta1       => 0.132\n",
       "  :task_space => \"smooth\"\n",
       "  :outliers   => 0\n",
       "  :cv_ll      => 0.981244\n",
       "  :val_ll     => 0.988159\n",
       "  :task_time  => \"smooth\""
      ]
     },
     "metadata": {},
     "output_type": "display_data"
    },
    {
     "name": "stdout",
     "output_type": "stream",
     "text": [
      "20.00%┣████████████▏                                                ┫ 2/10 09:35<01:16:37, 0.00 it/s]"
     ]
    },
    {
     "data": {
      "text/plain": [
       "Dict{Symbol,Any} with 11 entries:\n",
       "  :eta2       => 0.6\n",
       "  :lamb1      => 2.0e-7\n",
       "  :lamb2      => 0.6\n",
       "  :method     => \"enet\"\n",
       "  :experiment => 4\n",
       "  :eta1       => 2.0e-7\n",
       "  :task_space => \"smooth\"\n",
       "  :outliers   => 0\n",
       "  :cv_ll      => 0.711273\n",
       "  :val_ll     => 0.711278\n",
       "  :task_time  => \"smooth\""
      ]
     },
     "metadata": {},
     "output_type": "display_data"
    },
    {
     "name": "stdout",
     "output_type": "stream",
     "text": [
      "30.00%┣███████████████████▏                                            ┫ 3/10 12:33<43:56, 0.00 it/s]"
     ]
    },
    {
     "data": {
      "text/plain": [
       "Dict{Symbol,Any} with 11 entries:\n",
       "  :eta2       => 0.6\n",
       "  :lamb1      => 2.0e-7\n",
       "  :lamb2      => 0.3\n",
       "  :method     => \"enet\"\n",
       "  :experiment => 5\n",
       "  :eta1       => 2.0e-7\n",
       "  :task_space => \"smooth\"\n",
       "  :outliers   => 0\n",
       "  :cv_ll      => 0.973804\n",
       "  :val_ll     => 0.948273\n",
       "  :task_time  => \"smooth\""
      ]
     },
     "metadata": {},
     "output_type": "display_data"
    },
    {
     "name": "stdout",
     "output_type": "stream",
     "text": [
      "40.00%┣█████████████████████████▌                                      ┫ 4/10 15:48<31:35, 0.00 it/s]"
     ]
    },
    {
     "data": {
      "text/plain": [
       "Dict{Symbol,Any} with 11 entries:\n",
       "  :eta2       => 0.6\n",
       "  :lamb1      => 0.2\n",
       "  :lamb2      => 0.6\n",
       "  :method     => \"enet\"\n",
       "  :experiment => 6\n",
       "  :eta1       => 2.0e-7\n",
       "  :task_space => \"smooth\"\n",
       "  :outliers   => 0\n",
       "  :cv_ll      => 0.848608\n",
       "  :val_ll     => 0.826199\n",
       "  :task_time  => \"smooth\""
      ]
     },
     "metadata": {},
     "output_type": "display_data"
    },
    {
     "name": "stdout",
     "output_type": "stream",
     "text": [
      "50.00%┣████████████████████████████████                                ┫ 5/10 18:30<23:07, 0.00 it/s]"
     ]
    },
    {
     "data": {
      "text/plain": [
       "Dict{Symbol,Any} with 11 entries:\n",
       "  :eta2       => 0.3\n",
       "  :lamb1      => 0.066\n",
       "  :lamb2      => 0.6\n",
       "  :method     => \"enet\"\n",
       "  :experiment => 7\n",
       "  :eta1       => 2.0e-7\n",
       "  :task_space => \"smooth\"\n",
       "  :outliers   => 0\n",
       "  :cv_ll      => 0.704747\n",
       "  :val_ll     => 0.654225\n",
       "  :task_time  => \"smooth\""
      ]
     },
     "metadata": {},
     "output_type": "display_data"
    },
    {
     "name": "stdout",
     "output_type": "stream",
     "text": [
      "60.00%┣██████████████████████████████████████▍                         ┫ 6/10 21:32<17:14, 0.00 it/s]"
     ]
    },
    {
     "data": {
      "text/plain": [
       "Dict{Symbol,Any} with 11 entries:\n",
       "  :eta2       => 0.15\n",
       "  :lamb1      => 0.2\n",
       "  :lamb2      => 0.6\n",
       "  :method     => \"enet\"\n",
       "  :experiment => 8\n",
       "  :eta1       => 2.0e-7\n",
       "  :task_space => \"smooth\"\n",
       "  :outliers   => 0\n",
       "  :cv_ll      => 0.551912\n",
       "  :val_ll     => 0.537534\n",
       "  :task_time  => \"smooth\""
      ]
     },
     "metadata": {},
     "output_type": "display_data"
    },
    {
     "name": "stdout",
     "output_type": "stream",
     "text": [
      "70.00%┣████████████████████████████████████████████▊                   ┫ 7/10 24:15<12:07, 0.00 it/s]"
     ]
    },
    {
     "data": {
      "text/plain": [
       "Dict{Symbol,Any} with 11 entries:\n",
       "  :eta2       => 0.6\n",
       "  :lamb1      => 2.0e-7\n",
       "  :lamb2      => 0.6\n",
       "  :method     => \"enet\"\n",
       "  :experiment => 9\n",
       "  :eta1       => 0.066\n",
       "  :task_space => \"smooth\"\n",
       "  :outliers   => 0\n",
       "  :cv_ll      => 0.684324\n",
       "  :val_ll     => 0.645413\n",
       "  :task_time  => \"smooth\""
      ]
     },
     "metadata": {},
     "output_type": "display_data"
    },
    {
     "name": "stdout",
     "output_type": "stream",
     "text": [
      "80.00%┣███████████████████████████████████████████████████▏            ┫ 8/10 27:17<07:48, 0.00 it/s]"
     ]
    },
    {
     "data": {
      "text/plain": [
       "Dict{Symbol,Any} with 11 entries:\n",
       "  :eta2       => 0.6\n",
       "  :lamb1      => 2.0e-7\n",
       "  :lamb2      => 0.3\n",
       "  :method     => \"enet\"\n",
       "  :experiment => 10\n",
       "  :eta1       => 0.132\n",
       "  :task_space => \"smooth\"\n",
       "  :outliers   => 0\n",
       "  :cv_ll      => 0.712739\n",
       "  :val_ll     => 0.72589\n",
       "  :task_time  => \"smooth\""
      ]
     },
     "metadata": {},
     "output_type": "display_data"
    },
    {
     "name": "stdout",
     "output_type": "stream",
     "text": [
      "100.00%┣██████████████████████████████████████████████████████████████┫ 10/10 30:13<00:00, 0.00 it/s]\n",
      "Running task_space smooth task_time constant for method fl, outliers false\n"
     ]
    },
    {
     "data": {
      "text/plain": [
       "Dict{Symbol,Any} with 11 entries:\n",
       "  :eta2       => 1.0e-12\n",
       "  :lamb1      => 0.2\n",
       "  :lamb2      => 1.0e-12\n",
       "  :method     => \"fl\"\n",
       "  :experiment => 1\n",
       "  :eta1       => 0.2\n",
       "  :task_space => \"smooth\"\n",
       "  :outliers   => 0\n",
       "  :cv_ll      => 0.513892\n",
       "  :val_ll     => 0.510222\n",
       "  :task_time  => \"constant\""
      ]
     },
     "metadata": {},
     "output_type": "display_data"
    },
    {
     "name": "stdout",
     "output_type": "stream",
     "text": [
      "0.00%┣                                                             ┫ 0/10 Inf:Inf<Inf:Inf, 0.00 it/s]"
     ]
    },
    {
     "data": {
      "text/plain": [
       "Dict{Symbol,Any} with 11 entries:\n",
       "  :eta2       => 1.0e-12\n",
       "  :lamb1      => 0.2\n",
       "  :lamb2      => 1.0e-12\n",
       "  :method     => \"fl\"\n",
       "  :experiment => 2\n",
       "  :eta1       => 0.2\n",
       "  :task_space => \"smooth\"\n",
       "  :outliers   => 0\n",
       "  :cv_ll      => 0.941096\n",
       "  :val_ll     => 0.890016\n",
       "  :task_time  => \"constant\""
      ]
     },
     "metadata": {},
     "output_type": "display_data"
    },
    {
     "name": "stdout",
     "output_type": "stream",
     "text": [
      "10.00%┣██████▏                                                       ┫ 1/10 00:22<Inf:Inf, 0.00 it/s]"
     ]
    },
    {
     "data": {
      "text/plain": [
       "Dict{Symbol,Any} with 11 entries:\n",
       "  :eta2       => 1.0e-12\n",
       "  :lamb1      => 0.2\n",
       "  :lamb2      => 1.0e-12\n",
       "  :method     => \"fl\"\n",
       "  :experiment => 3\n",
       "  :eta1       => 0.2\n",
       "  :task_space => \"smooth\"\n",
       "  :outliers   => 0\n",
       "  :cv_ll      => 0.78208\n",
       "  :val_ll     => 0.75404\n",
       "  :task_time  => \"constant\""
      ]
     },
     "metadata": {},
     "output_type": "display_data"
    },
    {
     "name": "stdout",
     "output_type": "stream",
     "text": [
      "20.00%┣████████████▊                                                   ┫ 2/10 00:34<04:29, 0.03 it/s]"
     ]
    },
    {
     "data": {
      "text/plain": [
       "Dict{Symbol,Any} with 11 entries:\n",
       "  :eta2       => 1.0e-12\n",
       "  :lamb1      => 0.2\n",
       "  :lamb2      => 1.0e-12\n",
       "  :method     => \"fl\"\n",
       "  :experiment => 4\n",
       "  :eta1       => 0.2\n",
       "  :task_space => \"smooth\"\n",
       "  :outliers   => 0\n",
       "  :cv_ll      => 0.927762\n",
       "  :val_ll     => 0.886147\n",
       "  :task_time  => \"constant\""
      ]
     },
     "metadata": {},
     "output_type": "display_data"
    },
    {
     "name": "stdout",
     "output_type": "stream",
     "text": [
      "30.00%┣███████████████████▏                                            ┫ 3/10 00:47<02:43, 0.04 it/s]"
     ]
    },
    {
     "data": {
      "text/plain": [
       "Dict{Symbol,Any} with 11 entries:\n",
       "  :eta2       => 1.0e-12\n",
       "  :lamb1      => 0.2\n",
       "  :lamb2      => 1.0e-12\n",
       "  :method     => \"fl\"\n",
       "  :experiment => 5\n",
       "  :eta1       => 0.2\n",
       "  :task_space => \"smooth\"\n",
       "  :outliers   => 0\n",
       "  :cv_ll      => 0.591772\n",
       "  :val_ll     => 0.527046\n",
       "  :task_time  => \"constant\""
      ]
     },
     "metadata": {},
     "output_type": "display_data"
    },
    {
     "name": "stdout",
     "output_type": "stream",
     "text": [
      "40.00%┣█████████████████████████▌                                      ┫ 4/10 00:59<01:58, 0.05 it/s]"
     ]
    },
    {
     "data": {
      "text/plain": [
       "Dict{Symbol,Any} with 11 entries:\n",
       "  :eta2       => 1.0e-12\n",
       "  :lamb1      => 0.2\n",
       "  :lamb2      => 1.0e-12\n",
       "  :method     => \"fl\"\n",
       "  :experiment => 6\n",
       "  :eta1       => 0.2\n",
       "  :task_space => \"smooth\"\n",
       "  :outliers   => 0\n",
       "  :cv_ll      => 0.9184\n",
       "  :val_ll     => 0.894901\n",
       "  :task_time  => \"constant\""
      ]
     },
     "metadata": {},
     "output_type": "display_data"
    },
    {
     "name": "stdout",
     "output_type": "stream",
     "text": [
      "50.00%┣████████████████████████████████                                ┫ 5/10 01:11<01:28, 0.06 it/s]"
     ]
    },
    {
     "data": {
      "text/plain": [
       "Dict{Symbol,Any} with 11 entries:\n",
       "  :eta2       => 1.0e-12\n",
       "  :lamb1      => 0.2\n",
       "  :lamb2      => 1.0e-12\n",
       "  :method     => \"fl\"\n",
       "  :experiment => 7\n",
       "  :eta1       => 0.2\n",
       "  :task_space => \"smooth\"\n",
       "  :outliers   => 0\n",
       "  :cv_ll      => 0.903396\n",
       "  :val_ll     => 0.853972\n",
       "  :task_time  => \"constant\""
      ]
     },
     "metadata": {},
     "output_type": "display_data"
    },
    {
     "name": "stdout",
     "output_type": "stream",
     "text": [
      "60.00%┣██████████████████████████████████████▍                         ┫ 6/10 01:22<01:06, 0.06 it/s]"
     ]
    },
    {
     "data": {
      "text/plain": [
       "Dict{Symbol,Any} with 11 entries:\n",
       "  :eta2       => 1.0e-12\n",
       "  :lamb1      => 0.2\n",
       "  :lamb2      => 1.0e-12\n",
       "  :method     => \"fl\"\n",
       "  :experiment => 8\n",
       "  :eta1       => 0.132\n",
       "  :task_space => \"smooth\"\n",
       "  :outliers   => 0\n",
       "  :cv_ll      => 0.960403\n",
       "  :val_ll     => 0.930065\n",
       "  :task_time  => \"constant\""
      ]
     },
     "metadata": {},
     "output_type": "display_data"
    },
    {
     "name": "stdout",
     "output_type": "stream",
     "text": [
      "70.00%┣████████████████████████████████████████████▊                   ┫ 7/10 01:34<00:47, 0.06 it/s]"
     ]
    },
    {
     "data": {
      "text/plain": [
       "Dict{Symbol,Any} with 11 entries:\n",
       "  :eta2       => 1.0e-12\n",
       "  :lamb1      => 0.2\n",
       "  :lamb2      => 1.0e-12\n",
       "  :method     => \"fl\"\n",
       "  :experiment => 9\n",
       "  :eta1       => 0.2\n",
       "  :task_space => \"smooth\"\n",
       "  :outliers   => 0\n",
       "  :cv_ll      => 0.633857\n",
       "  :val_ll     => 0.585568\n",
       "  :task_time  => \"constant\""
      ]
     },
     "metadata": {},
     "output_type": "display_data"
    },
    {
     "name": "stdout",
     "output_type": "stream",
     "text": [
      "80.00%┣███████████████████████████████████████████████████▏            ┫ 8/10 01:46<00:30, 0.07 it/s]"
     ]
    },
    {
     "data": {
      "text/plain": [
       "Dict{Symbol,Any} with 11 entries:\n",
       "  :eta2       => 1.0e-12\n",
       "  :lamb1      => 0.2\n",
       "  :lamb2      => 1.0e-12\n",
       "  :method     => \"fl\"\n",
       "  :experiment => 10\n",
       "  :eta1       => 0.2\n",
       "  :task_space => \"smooth\"\n",
       "  :outliers   => 0\n",
       "  :cv_ll      => 0.572725\n",
       "  :val_ll     => 0.510212\n",
       "  :task_time  => \"constant\""
      ]
     },
     "metadata": {},
     "output_type": "display_data"
    },
    {
     "name": "stdout",
     "output_type": "stream",
     "text": [
      "100.00%┣██████████████████████████████████████████████████████████████┫ 10/10 01:57<00:00, 0.08 it/s]\n",
      "Running task_space smooth task_time constant for method kal, outliers false\n"
     ]
    },
    {
     "data": {
      "text/plain": [
       "Dict{Symbol,Any} with 11 entries:\n",
       "  :eta2       => 0.3\n",
       "  :lamb1      => 1.0e-12\n",
       "  :lamb2      => 0.6\n",
       "  :method     => \"kal\"\n",
       "  :experiment => 1\n",
       "  :eta1       => 1.0e-12\n",
       "  :task_space => \"smooth\"\n",
       "  :outliers   => 0\n",
       "  :cv_ll      => 0.495403\n",
       "  :val_ll     => 0.489927\n",
       "  :task_time  => \"constant\""
      ]
     },
     "metadata": {},
     "output_type": "display_data"
    },
    {
     "name": "stdout",
     "output_type": "stream",
     "text": [
      "0.00%┣                                                             ┫ 0/10 Inf:Inf<Inf:Inf, 0.00 it/s]"
     ]
    },
    {
     "data": {
      "text/plain": [
       "Dict{Symbol,Any} with 11 entries:\n",
       "  :eta2       => 0.3\n",
       "  :lamb1      => 1.0e-12\n",
       "  :lamb2      => 0.6\n",
       "  :method     => \"kal\"\n",
       "  :experiment => 2\n",
       "  :eta1       => 1.0e-12\n",
       "  :task_space => \"smooth\"\n",
       "  :outliers   => 0\n",
       "  :cv_ll      => 0.887954\n",
       "  :val_ll     => 0.848112\n",
       "  :task_time  => \"constant\""
      ]
     },
     "metadata": {},
     "output_type": "display_data"
    },
    {
     "name": "stdout",
     "output_type": "stream",
     "text": [
      "10.00%┣██████▏                                                       ┫ 1/10 00:23<Inf:Inf, 0.00 it/s]"
     ]
    },
    {
     "data": {
      "text/plain": [
       "Dict{Symbol,Any} with 11 entries:\n",
       "  :eta2       => 0.6\n",
       "  :lamb1      => 1.0e-12\n",
       "  :lamb2      => 0.6\n",
       "  :method     => \"kal\"\n",
       "  :experiment => 3\n",
       "  :eta1       => 1.0e-12\n",
       "  :task_space => \"smooth\"\n",
       "  :outliers   => 0\n",
       "  :cv_ll      => 0.749357\n",
       "  :val_ll     => 0.727842\n",
       "  :task_time  => \"constant\""
      ]
     },
     "metadata": {},
     "output_type": "display_data"
    },
    {
     "name": "stdout",
     "output_type": "stream",
     "text": [
      "20.00%┣████████████▊                                                   ┫ 2/10 00:34<04:34, 0.03 it/s]"
     ]
    },
    {
     "data": {
      "text/plain": [
       "Dict{Symbol,Any} with 11 entries:\n",
       "  :eta2       => 0.6\n",
       "  :lamb1      => 1.0e-12\n",
       "  :lamb2      => 0.6\n",
       "  :method     => \"kal\"\n",
       "  :experiment => 4\n",
       "  :eta1       => 1.0e-12\n",
       "  :task_space => \"smooth\"\n",
       "  :outliers   => 0\n",
       "  :cv_ll      => 0.889029\n",
       "  :val_ll     => 0.868374\n",
       "  :task_time  => \"constant\""
      ]
     },
     "metadata": {},
     "output_type": "display_data"
    },
    {
     "name": "stdout",
     "output_type": "stream",
     "text": [
      "30.00%┣███████████████████▏                                            ┫ 3/10 00:48<02:46, 0.04 it/s]"
     ]
    },
    {
     "data": {
      "text/plain": [
       "Dict{Symbol,Any} with 11 entries:\n",
       "  :eta2       => 0.6\n",
       "  :lamb1      => 1.0e-12\n",
       "  :lamb2      => 0.6\n",
       "  :method     => \"kal\"\n",
       "  :experiment => 5\n",
       "  :eta1       => 1.0e-12\n",
       "  :task_space => \"smooth\"\n",
       "  :outliers   => 0\n",
       "  :cv_ll      => 0.538404\n",
       "  :val_ll     => 0.500618\n",
       "  :task_time  => \"constant\""
      ]
     },
     "metadata": {},
     "output_type": "display_data"
    },
    {
     "name": "stdout",
     "output_type": "stream",
     "text": [
      "40.00%┣█████████████████████████▌                                      ┫ 4/10 01:00<02:01, 0.05 it/s]"
     ]
    },
    {
     "data": {
      "text/plain": [
       "Dict{Symbol,Any} with 11 entries:\n",
       "  :eta2       => 0.6\n",
       "  :lamb1      => 1.0e-12\n",
       "  :lamb2      => 0.6\n",
       "  :method     => \"kal\"\n",
       "  :experiment => 6\n",
       "  :eta1       => 1.0e-12\n",
       "  :task_space => \"smooth\"\n",
       "  :outliers   => 0\n",
       "  :cv_ll      => 0.864875\n",
       "  :val_ll     => 0.859752\n",
       "  :task_time  => \"constant\""
      ]
     },
     "metadata": {},
     "output_type": "display_data"
    },
    {
     "name": "stdout",
     "output_type": "stream",
     "text": [
      "50.00%┣████████████████████████████████                                ┫ 5/10 01:12<01:30, 0.06 it/s]"
     ]
    },
    {
     "data": {
      "text/plain": [
       "Dict{Symbol,Any} with 11 entries:\n",
       "  :eta2       => 0.6\n",
       "  :lamb1      => 1.0e-12\n",
       "  :lamb2      => 0.6\n",
       "  :method     => \"kal\"\n",
       "  :experiment => 7\n",
       "  :eta1       => 1.0e-12\n",
       "  :task_space => \"smooth\"\n",
       "  :outliers   => 0\n",
       "  :cv_ll      => 0.865865\n",
       "  :val_ll     => 0.823428\n",
       "  :task_time  => \"constant\""
      ]
     },
     "metadata": {},
     "output_type": "display_data"
    },
    {
     "name": "stdout",
     "output_type": "stream",
     "text": [
      "60.00%┣██████████████████████████████████████▍                         ┫ 6/10 01:24<01:07, 0.06 it/s]"
     ]
    },
    {
     "data": {
      "text/plain": [
       "Dict{Symbol,Any} with 11 entries:\n",
       "  :eta2       => 0.6\n",
       "  :lamb1      => 1.0e-12\n",
       "  :lamb2      => 0.6\n",
       "  :method     => \"kal\"\n",
       "  :experiment => 8\n",
       "  :eta1       => 1.0e-12\n",
       "  :task_space => \"smooth\"\n",
       "  :outliers   => 0\n",
       "  :cv_ll      => 0.923521\n",
       "  :val_ll     => 0.902738\n",
       "  :task_time  => \"constant\""
      ]
     },
     "metadata": {},
     "output_type": "display_data"
    },
    {
     "name": "stdout",
     "output_type": "stream",
     "text": [
      "70.00%┣████████████████████████████████████████████▊                   ┫ 7/10 01:36<00:48, 0.06 it/s]"
     ]
    },
    {
     "data": {
      "text/plain": [
       "Dict{Symbol,Any} with 11 entries:\n",
       "  :eta2       => 0.6\n",
       "  :lamb1      => 1.0e-12\n",
       "  :lamb2      => 0.3\n",
       "  :method     => \"kal\"\n",
       "  :experiment => 9\n",
       "  :eta1       => 1.0e-12\n",
       "  :task_space => \"smooth\"\n",
       "  :outliers   => 0\n",
       "  :cv_ll      => 0.553634\n",
       "  :val_ll     => 0.527607\n",
       "  :task_time  => \"constant\""
      ]
     },
     "metadata": {},
     "output_type": "display_data"
    },
    {
     "name": "stdout",
     "output_type": "stream",
     "text": [
      "80.00%┣███████████████████████████████████████████████████▏            ┫ 8/10 01:48<00:31, 0.06 it/s]"
     ]
    },
    {
     "data": {
      "text/plain": [
       "Dict{Symbol,Any} with 11 entries:\n",
       "  :eta2       => 0.6\n",
       "  :lamb1      => 1.0e-12\n",
       "  :lamb2      => 0.3\n",
       "  :method     => \"kal\"\n",
       "  :experiment => 10\n",
       "  :eta1       => 1.0e-12\n",
       "  :task_space => \"smooth\"\n",
       "  :outliers   => 0\n",
       "  :cv_ll      => 0.568265\n",
       "  :val_ll     => 0.50125\n",
       "  :task_time  => \"constant\""
      ]
     },
     "metadata": {},
     "output_type": "display_data"
    },
    {
     "name": "stdout",
     "output_type": "stream",
     "text": [
      "100.00%┣██████████████████████████████████████████████████████████████┫ 10/10 01:59<00:00, 0.08 it/s]\n",
      "Running task_space smooth task_time constant for method enet, outliers false\n"
     ]
    },
    {
     "data": {
      "text/plain": [
       "Dict{Symbol,Any} with 11 entries:\n",
       "  :eta2       => 0.3\n",
       "  :lamb1      => 0.2\n",
       "  :lamb2      => 0.6\n",
       "  :method     => \"enet\"\n",
       "  :experiment => 1\n",
       "  :eta1       => 2.0e-7\n",
       "  :task_space => \"smooth\"\n",
       "  :outliers   => 0\n",
       "  :cv_ll      => 0.470752\n",
       "  :val_ll     => 0.465123\n",
       "  :task_time  => \"constant\""
      ]
     },
     "metadata": {},
     "output_type": "display_data"
    },
    {
     "name": "stdout",
     "output_type": "stream",
     "text": [
      "0.00%┣                                                             ┫ 0/10 Inf:Inf<Inf:Inf, 0.00 it/s]"
     ]
    },
    {
     "data": {
      "text/plain": [
       "Dict{Symbol,Any} with 11 entries:\n",
       "  :eta2       => 0.6\n",
       "  :lamb1      => 2.0e-7\n",
       "  :lamb2      => 0.6\n",
       "  :method     => \"enet\"\n",
       "  :experiment => 2\n",
       "  :eta1       => 2.0e-7\n",
       "  :task_space => \"smooth\"\n",
       "  :outliers   => 0\n",
       "  :cv_ll      => 0.885201\n",
       "  :val_ll     => 0.852912\n",
       "  :task_time  => \"constant\""
      ]
     },
     "metadata": {},
     "output_type": "display_data"
    },
    {
     "name": "stdout",
     "output_type": "stream",
     "text": [
      "10.00%┣██████▏                                                       ┫ 1/10 05:42<Inf:Inf, 0.00 it/s]"
     ]
    },
    {
     "data": {
      "text/plain": [
       "Dict{Symbol,Any} with 11 entries:\n",
       "  :eta2       => 0.6\n",
       "  :lamb1      => 0.2\n",
       "  :lamb2      => 2.0e-7\n",
       "  :method     => \"enet\"\n",
       "  :experiment => 3\n",
       "  :eta1       => 2.0e-7\n",
       "  :task_space => \"smooth\"\n",
       "  :outliers   => 0\n",
       "  :cv_ll      => 0.745048\n",
       "  :val_ll     => 0.724436\n",
       "  :task_time  => \"constant\""
      ]
     },
     "metadata": {},
     "output_type": "display_data"
    },
    {
     "name": "stdout",
     "output_type": "stream",
     "text": [
      "20.00%┣████████████▏                                                ┫ 2/10 08:39<01:09:15, 0.00 it/s]"
     ]
    },
    {
     "data": {
      "text/plain": [
       "Dict{Symbol,Any} with 11 entries:\n",
       "  :eta2       => 0.6\n",
       "  :lamb1      => 0.132\n",
       "  :lamb2      => 2.0e-7\n",
       "  :method     => \"enet\"\n",
       "  :experiment => 4\n",
       "  :eta1       => 0.2\n",
       "  :task_space => \"smooth\"\n",
       "  :outliers   => 0\n",
       "  :cv_ll      => 0.883515\n",
       "  :val_ll     => 0.857484\n",
       "  :task_time  => \"constant\""
      ]
     },
     "metadata": {},
     "output_type": "display_data"
    },
    {
     "name": "stdout",
     "output_type": "stream",
     "text": [
      "30.00%┣███████████████████▏                                            ┫ 3/10 12:02<42:06, 0.00 it/s]"
     ]
    },
    {
     "data": {
      "text/plain": [
       "Dict{Symbol,Any} with 11 entries:\n",
       "  :eta2       => 0.6\n",
       "  :lamb1      => 0.066\n",
       "  :lamb2      => 0.3\n",
       "  :method     => \"enet\"\n",
       "  :experiment => 5\n",
       "  :eta1       => 2.0e-7\n",
       "  :task_space => \"smooth\"\n",
       "  :outliers   => 0\n",
       "  :cv_ll      => 0.536759\n",
       "  :val_ll     => 0.501582\n",
       "  :task_time  => \"constant\""
      ]
     },
     "metadata": {},
     "output_type": "display_data"
    },
    {
     "name": "stdout",
     "output_type": "stream",
     "text": [
      "40.00%┣█████████████████████████▌                                      ┫ 4/10 15:13<30:25, 0.00 it/s]"
     ]
    },
    {
     "data": {
      "text/plain": [
       "Dict{Symbol,Any} with 11 entries:\n",
       "  :eta2       => 0.6\n",
       "  :lamb1      => 0.066\n",
       "  :lamb2      => 0.6\n",
       "  :method     => \"enet\"\n",
       "  :experiment => 6\n",
       "  :eta1       => 2.0e-7\n",
       "  :task_space => \"smooth\"\n",
       "  :outliers   => 0\n",
       "  :cv_ll      => 0.867925\n",
       "  :val_ll     => 0.859314\n",
       "  :task_time  => \"constant\""
      ]
     },
     "metadata": {},
     "output_type": "display_data"
    },
    {
     "name": "stdout",
     "output_type": "stream",
     "text": [
      "50.00%┣████████████████████████████████                                ┫ 5/10 18:11<22:44, 0.00 it/s]"
     ]
    },
    {
     "data": {
      "text/plain": [
       "Dict{Symbol,Any} with 11 entries:\n",
       "  :eta2       => 0.6\n",
       "  :lamb1      => 2.0e-7\n",
       "  :lamb2      => 0.6\n",
       "  :method     => \"enet\"\n",
       "  :experiment => 7\n",
       "  :eta1       => 2.0e-7\n",
       "  :task_space => \"smooth\"\n",
       "  :outliers   => 0\n",
       "  :cv_ll      => 0.867413\n",
       "  :val_ll     => 0.820691\n",
       "  :task_time  => \"constant\""
      ]
     },
     "metadata": {},
     "output_type": "display_data"
    },
    {
     "name": "stdout",
     "output_type": "stream",
     "text": [
      "60.00%┣██████████████████████████████████████▍                         ┫ 6/10 21:02<16:49, 0.00 it/s]"
     ]
    },
    {
     "data": {
      "text/plain": [
       "Dict{Symbol,Any} with 11 entries:\n",
       "  :eta2       => 0.3\n",
       "  :lamb1      => 0.132\n",
       "  :lamb2      => 0.6\n",
       "  :method     => \"enet\"\n",
       "  :experiment => 8\n",
       "  :eta1       => 2.0e-7\n",
       "  :task_space => \"smooth\"\n",
       "  :outliers   => 0\n",
       "  :cv_ll      => 0.906296\n",
       "  :val_ll     => 0.894666\n",
       "  :task_time  => \"constant\""
      ]
     },
     "metadata": {},
     "output_type": "display_data"
    },
    {
     "name": "stdout",
     "output_type": "stream",
     "text": [
      "70.00%┣████████████████████████████████████████████▊                   ┫ 7/10 24:06<12:03, 0.00 it/s]"
     ]
    },
    {
     "data": {
      "text/plain": [
       "Dict{Symbol,Any} with 11 entries:\n",
       "  :eta2       => 0.6\n",
       "  :lamb1      => 2.0e-7\n",
       "  :lamb2      => 0.3\n",
       "  :method     => \"enet\"\n",
       "  :experiment => 9\n",
       "  :eta1       => 2.0e-7\n",
       "  :task_space => \"smooth\"\n",
       "  :outliers   => 0\n",
       "  :cv_ll      => 0.56506\n",
       "  :val_ll     => 0.528007\n",
       "  :task_time  => \"constant\""
      ]
     },
     "metadata": {},
     "output_type": "display_data"
    },
    {
     "name": "stdout",
     "output_type": "stream",
     "text": [
      "80.00%┣███████████████████████████████████████████████████▏            ┫ 8/10 27:12<07:46, 0.00 it/s]"
     ]
    },
    {
     "data": {
      "text/plain": [
       "Dict{Symbol,Any} with 11 entries:\n",
       "  :eta2       => 0.6\n",
       "  :lamb1      => 0.132\n",
       "  :lamb2      => 2.0e-7\n",
       "  :method     => \"enet\"\n",
       "  :experiment => 10\n",
       "  :eta1       => 0.132\n",
       "  :task_space => \"smooth\"\n",
       "  :outliers   => 0\n",
       "  :cv_ll      => 0.54338\n",
       "  :val_ll     => 0.48228\n",
       "  :task_time  => \"constant\""
      ]
     },
     "metadata": {},
     "output_type": "display_data"
    },
    {
     "name": "stdout",
     "output_type": "stream",
     "text": [
      "100.00%┣██████████████████████████████████████████████████████████████┫ 10/10 29:57<00:00, 0.01 it/s]\n",
      "Running task_space smooth task_time mixed for method fl, outliers false\n"
     ]
    },
    {
     "data": {
      "text/plain": [
       "Dict{Symbol,Any} with 11 entries:\n",
       "  :eta2       => 1.0e-12\n",
       "  :lamb1      => 0.2\n",
       "  :lamb2      => 1.0e-12\n",
       "  :method     => \"fl\"\n",
       "  :experiment => 1\n",
       "  :eta1       => 0.2\n",
       "  :task_space => \"smooth\"\n",
       "  :outliers   => 0\n",
       "  :cv_ll      => 0.787604\n",
       "  :val_ll     => 0.710763\n",
       "  :task_time  => \"mixed\""
      ]
     },
     "metadata": {},
     "output_type": "display_data"
    },
    {
     "name": "stdout",
     "output_type": "stream",
     "text": [
      "0.00%┣                                                             ┫ 0/10 Inf:Inf<Inf:Inf, 0.00 it/s]"
     ]
    },
    {
     "data": {
      "text/plain": [
       "Dict{Symbol,Any} with 11 entries:\n",
       "  :eta2       => 1.0e-12\n",
       "  :lamb1      => 0.2\n",
       "  :lamb2      => 1.0e-12\n",
       "  :method     => \"fl\"\n",
       "  :experiment => 2\n",
       "  :eta1       => 0.2\n",
       "  :task_space => \"smooth\"\n",
       "  :outliers   => 0\n",
       "  :cv_ll      => 0.752395\n",
       "  :val_ll     => 0.697835\n",
       "  :task_time  => \"mixed\""
      ]
     },
     "metadata": {},
     "output_type": "display_data"
    },
    {
     "name": "stdout",
     "output_type": "stream",
     "text": [
      "10.00%┣██████▏                                                       ┫ 1/10 00:24<Inf:Inf, 0.00 it/s]"
     ]
    },
    {
     "data": {
      "text/plain": [
       "Dict{Symbol,Any} with 11 entries:\n",
       "  :eta2       => 1.0e-12\n",
       "  :lamb1      => 0.2\n",
       "  :lamb2      => 1.0e-12\n",
       "  :method     => \"fl\"\n",
       "  :experiment => 3\n",
       "  :eta1       => 0.2\n",
       "  :task_space => \"smooth\"\n",
       "  :outliers   => 0\n",
       "  :cv_ll      => 0.656119\n",
       "  :val_ll     => 0.613893\n",
       "  :task_time  => \"mixed\""
      ]
     },
     "metadata": {},
     "output_type": "display_data"
    },
    {
     "name": "stdout",
     "output_type": "stream",
     "text": [
      "20.00%┣████████████▊                                                   ┫ 2/10 00:35<04:38, 0.03 it/s]"
     ]
    },
    {
     "data": {
      "text/plain": [
       "Dict{Symbol,Any} with 11 entries:\n",
       "  :eta2       => 1.0e-12\n",
       "  :lamb1      => 0.2\n",
       "  :lamb2      => 1.0e-12\n",
       "  :method     => \"fl\"\n",
       "  :experiment => 4\n",
       "  :eta1       => 0.2\n",
       "  :task_space => \"smooth\"\n",
       "  :outliers   => 0\n",
       "  :cv_ll      => 0.868204\n",
       "  :val_ll     => 0.837923\n",
       "  :task_time  => \"mixed\""
      ]
     },
     "metadata": {},
     "output_type": "display_data"
    },
    {
     "name": "stdout",
     "output_type": "stream",
     "text": [
      "30.00%┣███████████████████▏                                            ┫ 3/10 00:45<02:39, 0.04 it/s]"
     ]
    },
    {
     "data": {
      "text/plain": [
       "Dict{Symbol,Any} with 11 entries:\n",
       "  :eta2       => 1.0e-12\n",
       "  :lamb1      => 0.2\n",
       "  :lamb2      => 1.0e-12\n",
       "  :method     => \"fl\"\n",
       "  :experiment => 5\n",
       "  :eta1       => 0.2\n",
       "  :task_space => \"smooth\"\n",
       "  :outliers   => 0\n",
       "  :cv_ll      => 0.915121\n",
       "  :val_ll     => 0.848072\n",
       "  :task_time  => \"mixed\""
      ]
     },
     "metadata": {},
     "output_type": "display_data"
    },
    {
     "name": "stdout",
     "output_type": "stream",
     "text": [
      "40.00%┣█████████████████████████▌                                      ┫ 4/10 00:57<01:54, 0.05 it/s]"
     ]
    },
    {
     "data": {
      "text/plain": [
       "Dict{Symbol,Any} with 11 entries:\n",
       "  :eta2       => 1.0e-12\n",
       "  :lamb1      => 0.132\n",
       "  :lamb2      => 1.0e-12\n",
       "  :method     => \"fl\"\n",
       "  :experiment => 6\n",
       "  :eta1       => 0.2\n",
       "  :task_space => \"smooth\"\n",
       "  :outliers   => 0\n",
       "  :cv_ll      => 0.816523\n",
       "  :val_ll     => 0.767087\n",
       "  :task_time  => \"mixed\""
      ]
     },
     "metadata": {},
     "output_type": "display_data"
    },
    {
     "name": "stdout",
     "output_type": "stream",
     "text": [
      "50.00%┣████████████████████████████████                                ┫ 5/10 01:08<01:24, 0.06 it/s]"
     ]
    },
    {
     "data": {
      "text/plain": [
       "Dict{Symbol,Any} with 11 entries:\n",
       "  :eta2       => 1.0e-12\n",
       "  :lamb1      => 0.132\n",
       "  :lamb2      => 1.0e-12\n",
       "  :method     => \"fl\"\n",
       "  :experiment => 7\n",
       "  :eta1       => 0.2\n",
       "  :task_space => \"smooth\"\n",
       "  :outliers   => 0\n",
       "  :cv_ll      => 0.890774\n",
       "  :val_ll     => 0.770896\n",
       "  :task_time  => \"mixed\""
      ]
     },
     "metadata": {},
     "output_type": "display_data"
    },
    {
     "name": "stdout",
     "output_type": "stream",
     "text": [
      "60.00%┣██████████████████████████████████████▍                         ┫ 6/10 01:20<01:04, 0.06 it/s]"
     ]
    },
    {
     "data": {
      "text/plain": [
       "Dict{Symbol,Any} with 11 entries:\n",
       "  :eta2       => 1.0e-12\n",
       "  :lamb1      => 0.2\n",
       "  :lamb2      => 1.0e-12\n",
       "  :method     => \"fl\"\n",
       "  :experiment => 8\n",
       "  :eta1       => 0.2\n",
       "  :task_space => \"smooth\"\n",
       "  :outliers   => 0\n",
       "  :cv_ll      => 0.830524\n",
       "  :val_ll     => 0.811729\n",
       "  :task_time  => \"mixed\""
      ]
     },
     "metadata": {},
     "output_type": "display_data"
    },
    {
     "name": "stdout",
     "output_type": "stream",
     "text": [
      "70.00%┣████████████████████████████████████████████▊                   ┫ 7/10 01:33<00:47, 0.06 it/s]"
     ]
    },
    {
     "data": {
      "text/plain": [
       "Dict{Symbol,Any} with 11 entries:\n",
       "  :eta2       => 1.0e-12\n",
       "  :lamb1      => 0.2\n",
       "  :lamb2      => 1.0e-12\n",
       "  :method     => \"fl\"\n",
       "  :experiment => 9\n",
       "  :eta1       => 0.2\n",
       "  :task_space => \"smooth\"\n",
       "  :outliers   => 0\n",
       "  :cv_ll      => 0.828424\n",
       "  :val_ll     => 0.740976\n",
       "  :task_time  => \"mixed\""
      ]
     },
     "metadata": {},
     "output_type": "display_data"
    },
    {
     "name": "stdout",
     "output_type": "stream",
     "text": [
      "80.00%┣███████████████████████████████████████████████████▏            ┫ 8/10 01:45<00:30, 0.07 it/s]"
     ]
    },
    {
     "data": {
      "text/plain": [
       "Dict{Symbol,Any} with 11 entries:\n",
       "  :eta2       => 1.0e-12\n",
       "  :lamb1      => 0.2\n",
       "  :lamb2      => 1.0e-12\n",
       "  :method     => \"fl\"\n",
       "  :experiment => 10\n",
       "  :eta1       => 0.066\n",
       "  :task_space => \"smooth\"\n",
       "  :outliers   => 0\n",
       "  :cv_ll      => 0.917781\n",
       "  :val_ll     => 0.884811\n",
       "  :task_time  => \"mixed\""
      ]
     },
     "metadata": {},
     "output_type": "display_data"
    },
    {
     "name": "stdout",
     "output_type": "stream",
     "text": [
      "100.00%┣██████████████████████████████████████████████████████████████┫ 10/10 01:57<00:00, 0.08 it/s]\n",
      "Running task_space smooth task_time mixed for method kal, outliers false\n"
     ]
    },
    {
     "data": {
      "text/plain": [
       "Dict{Symbol,Any} with 11 entries:\n",
       "  :eta2       => 0.6\n",
       "  :lamb1      => 1.0e-12\n",
       "  :lamb2      => 0.6\n",
       "  :method     => \"kal\"\n",
       "  :experiment => 1\n",
       "  :eta1       => 1.0e-12\n",
       "  :task_space => \"smooth\"\n",
       "  :outliers   => 0\n",
       "  :cv_ll      => 0.707099\n",
       "  :val_ll     => 0.652047\n",
       "  :task_time  => \"mixed\""
      ]
     },
     "metadata": {},
     "output_type": "display_data"
    },
    {
     "name": "stdout",
     "output_type": "stream",
     "text": [
      "0.00%┣                                                             ┫ 0/10 Inf:Inf<Inf:Inf, 0.00 it/s]"
     ]
    },
    {
     "data": {
      "text/plain": [
       "Dict{Symbol,Any} with 11 entries:\n",
       "  :eta2       => 0.6\n",
       "  :lamb1      => 1.0e-12\n",
       "  :lamb2      => 0.6\n",
       "  :method     => \"kal\"\n",
       "  :experiment => 2\n",
       "  :eta1       => 1.0e-12\n",
       "  :task_space => \"smooth\"\n",
       "  :outliers   => 0\n",
       "  :cv_ll      => 0.700794\n",
       "  :val_ll     => 0.663974\n",
       "  :task_time  => \"mixed\""
      ]
     },
     "metadata": {},
     "output_type": "display_data"
    },
    {
     "name": "stdout",
     "output_type": "stream",
     "text": [
      "10.00%┣██████▏                                                       ┫ 1/10 00:24<Inf:Inf, 0.00 it/s]"
     ]
    },
    {
     "data": {
      "text/plain": [
       "Dict{Symbol,Any} with 11 entries:\n",
       "  :eta2       => 0.3\n",
       "  :lamb1      => 1.0e-12\n",
       "  :lamb2      => 0.6\n",
       "  :method     => \"kal\"\n",
       "  :experiment => 3\n",
       "  :eta1       => 1.0e-12\n",
       "  :task_space => \"smooth\"\n",
       "  :outliers   => 0\n",
       "  :cv_ll      => 0.627985\n",
       "  :val_ll     => 0.581947\n",
       "  :task_time  => \"mixed\""
      ]
     },
     "metadata": {},
     "output_type": "display_data"
    },
    {
     "name": "stdout",
     "output_type": "stream",
     "text": [
      "20.00%┣████████████▊                                                   ┫ 2/10 00:35<04:40, 0.03 it/s]"
     ]
    },
    {
     "data": {
      "text/plain": [
       "Dict{Symbol,Any} with 11 entries:\n",
       "  :eta2       => 0.3\n",
       "  :lamb1      => 1.0e-12\n",
       "  :lamb2      => 0.6\n",
       "  :method     => \"kal\"\n",
       "  :experiment => 4\n",
       "  :eta1       => 1.0e-12\n",
       "  :task_space => \"smooth\"\n",
       "  :outliers   => 0\n",
       "  :cv_ll      => 0.801429\n",
       "  :val_ll     => 0.791978\n",
       "  :task_time  => \"mixed\""
      ]
     },
     "metadata": {},
     "output_type": "display_data"
    },
    {
     "name": "stdout",
     "output_type": "stream",
     "text": [
      "30.00%┣███████████████████▏                                            ┫ 3/10 00:46<02:40, 0.04 it/s]"
     ]
    },
    {
     "data": {
      "text/plain": [
       "Dict{Symbol,Any} with 11 entries:\n",
       "  :eta2       => 0.6\n",
       "  :lamb1      => 1.0e-12\n",
       "  :lamb2      => 0.6\n",
       "  :method     => \"kal\"\n",
       "  :experiment => 5\n",
       "  :eta1       => 1.0e-12\n",
       "  :task_space => \"smooth\"\n",
       "  :outliers   => 0\n",
       "  :cv_ll      => 0.863374\n",
       "  :val_ll     => 0.815617\n",
       "  :task_time  => \"mixed\""
      ]
     },
     "metadata": {},
     "output_type": "display_data"
    },
    {
     "name": "stdout",
     "output_type": "stream",
     "text": [
      "40.00%┣█████████████████████████▌                                      ┫ 4/10 00:58<01:55, 0.05 it/s]"
     ]
    },
    {
     "data": {
      "text/plain": [
       "Dict{Symbol,Any} with 11 entries:\n",
       "  :eta2       => 0.6\n",
       "  :lamb1      => 1.0e-12\n",
       "  :lamb2      => 0.6\n",
       "  :method     => \"kal\"\n",
       "  :experiment => 6\n",
       "  :eta1       => 1.0e-12\n",
       "  :task_space => \"smooth\"\n",
       "  :outliers   => 0\n",
       "  :cv_ll      => 0.778322\n",
       "  :val_ll     => 0.747309\n",
       "  :task_time  => \"mixed\""
      ]
     },
     "metadata": {},
     "output_type": "display_data"
    },
    {
     "name": "stdout",
     "output_type": "stream",
     "text": [
      "50.00%┣████████████████████████████████                                ┫ 5/10 01:08<01:25, 0.06 it/s]"
     ]
    },
    {
     "data": {
      "text/plain": [
       "Dict{Symbol,Any} with 11 entries:\n",
       "  :eta2       => 0.6\n",
       "  :lamb1      => 1.0e-12\n",
       "  :lamb2      => 0.15\n",
       "  :method     => \"kal\"\n",
       "  :experiment => 7\n",
       "  :eta1       => 1.0e-12\n",
       "  :task_space => \"smooth\"\n",
       "  :outliers   => 0\n",
       "  :cv_ll      => 0.789159\n",
       "  :val_ll     => 0.720954\n",
       "  :task_time  => \"mixed\""
      ]
     },
     "metadata": {},
     "output_type": "display_data"
    },
    {
     "name": "stdout",
     "output_type": "stream",
     "text": [
      "60.00%┣██████████████████████████████████████▍                         ┫ 6/10 01:21<01:05, 0.06 it/s]"
     ]
    },
    {
     "data": {
      "text/plain": [
       "Dict{Symbol,Any} with 11 entries:\n",
       "  :eta2       => 0.6\n",
       "  :lamb1      => 1.0e-12\n",
       "  :lamb2      => 0.6\n",
       "  :method     => \"kal\"\n",
       "  :experiment => 8\n",
       "  :eta1       => 1.0e-12\n",
       "  :task_space => \"smooth\"\n",
       "  :outliers   => 0\n",
       "  :cv_ll      => 0.780127\n",
       "  :val_ll     => 0.782448\n",
       "  :task_time  => \"mixed\""
      ]
     },
     "metadata": {},
     "output_type": "display_data"
    },
    {
     "name": "stdout",
     "output_type": "stream",
     "text": [
      "70.00%┣████████████████████████████████████████████▊                   ┫ 7/10 01:34<00:47, 0.06 it/s]"
     ]
    },
    {
     "data": {
      "text/plain": [
       "Dict{Symbol,Any} with 11 entries:\n",
       "  :eta2       => 0.6\n",
       "  :lamb1      => 1.0e-12\n",
       "  :lamb2      => 0.3\n",
       "  :method     => \"kal\"\n",
       "  :experiment => 9\n",
       "  :eta1       => 1.0e-12\n",
       "  :task_space => \"smooth\"\n",
       "  :outliers   => 0\n",
       "  :cv_ll      => 0.778861\n",
       "  :val_ll     => 0.721882\n",
       "  :task_time  => \"mixed\""
      ]
     },
     "metadata": {},
     "output_type": "display_data"
    },
    {
     "name": "stdout",
     "output_type": "stream",
     "text": [
      "80.00%┣███████████████████████████████████████████████████▏            ┫ 8/10 01:46<00:30, 0.07 it/s]"
     ]
    },
    {
     "data": {
      "text/plain": [
       "Dict{Symbol,Any} with 11 entries:\n",
       "  :eta2       => 0.15\n",
       "  :lamb1      => 1.0e-12\n",
       "  :lamb2      => 0.6\n",
       "  :method     => \"kal\"\n",
       "  :experiment => 10\n",
       "  :eta1       => 1.0e-12\n",
       "  :task_space => \"smooth\"\n",
       "  :outliers   => 0\n",
       "  :cv_ll      => 0.871924\n",
       "  :val_ll     => 0.843362\n",
       "  :task_time  => \"mixed\""
      ]
     },
     "metadata": {},
     "output_type": "display_data"
    },
    {
     "name": "stdout",
     "output_type": "stream",
     "text": [
      "100.00%┣██████████████████████████████████████████████████████████████┫ 10/10 01:58<00:00, 0.08 it/s]\n",
      "Running task_space smooth task_time mixed for method enet, outliers false\n"
     ]
    },
    {
     "data": {
      "text/plain": [
       "Dict{Symbol,Any} with 11 entries:\n",
       "  :eta2       => 0.6\n",
       "  :lamb1      => 2.0e-7\n",
       "  :lamb2      => 0.6\n",
       "  :method     => \"enet\"\n",
       "  :experiment => 1\n",
       "  :eta1       => 2.0e-7\n",
       "  :task_space => \"smooth\"\n",
       "  :outliers   => 0\n",
       "  :cv_ll      => 0.71241\n",
       "  :val_ll     => 0.65353\n",
       "  :task_time  => \"mixed\""
      ]
     },
     "metadata": {},
     "output_type": "display_data"
    },
    {
     "name": "stdout",
     "output_type": "stream",
     "text": [
      "0.00%┣                                                             ┫ 0/10 Inf:Inf<Inf:Inf, 0.00 it/s]"
     ]
    },
    {
     "data": {
      "text/plain": [
       "Dict{Symbol,Any} with 11 entries:\n",
       "  :eta2       => 0.6\n",
       "  :lamb1      => 2.0e-7\n",
       "  :lamb2      => 0.6\n",
       "  :method     => \"enet\"\n",
       "  :experiment => 2\n",
       "  :eta1       => 2.0e-7\n",
       "  :task_space => \"smooth\"\n",
       "  :outliers   => 0\n",
       "  :cv_ll      => 0.708363\n",
       "  :val_ll     => 0.662223\n",
       "  :task_time  => \"mixed\""
      ]
     },
     "metadata": {},
     "output_type": "display_data"
    },
    {
     "name": "stdout",
     "output_type": "stream",
     "text": [
      "10.00%┣██████▏                                                       ┫ 1/10 06:06<Inf:Inf, 0.00 it/s]"
     ]
    },
    {
     "data": {
      "text/plain": [
       "Dict{Symbol,Any} with 11 entries:\n",
       "  :eta2       => 0.3\n",
       "  :lamb1      => 0.2\n",
       "  :lamb2      => 0.6\n",
       "  :method     => \"enet\"\n",
       "  :experiment => 3\n",
       "  :eta1       => 2.0e-7\n",
       "  :task_space => \"smooth\"\n",
       "  :outliers   => 0\n",
       "  :cv_ll      => 0.610651\n",
       "  :val_ll     => 0.569006\n",
       "  :task_time  => \"mixed\""
      ]
     },
     "metadata": {},
     "output_type": "display_data"
    },
    {
     "name": "stdout",
     "output_type": "stream",
     "text": [
      "20.00%┣████████████▏                                                ┫ 2/10 08:52<01:10:52, 0.00 it/s]"
     ]
    },
    {
     "data": {
      "text/plain": [
       "Dict{Symbol,Any} with 11 entries:\n",
       "  :eta2       => 0.15\n",
       "  :lamb1      => 0.2\n",
       "  :lamb2      => 0.6\n",
       "  :method     => \"enet\"\n",
       "  :experiment => 4\n",
       "  :eta1       => 2.0e-7\n",
       "  :task_space => \"smooth\"\n",
       "  :outliers   => 0\n",
       "  :cv_ll      => 0.792988\n",
       "  :val_ll     => 0.795951\n",
       "  :task_time  => \"mixed\""
      ]
     },
     "metadata": {},
     "output_type": "display_data"
    },
    {
     "name": "stdout",
     "output_type": "stream",
     "text": [
      "30.00%┣███████████████████▏                                            ┫ 3/10 11:32<40:22, 0.00 it/s]"
     ]
    },
    {
     "data": {
      "text/plain": [
       "Dict{Symbol,Any} with 11 entries:\n",
       "  :eta2       => 0.6\n",
       "  :lamb1      => 2.0e-7\n",
       "  :lamb2      => 0.6\n",
       "  :method     => \"enet\"\n",
       "  :experiment => 5\n",
       "  :eta1       => 2.0e-7\n",
       "  :task_space => \"smooth\"\n",
       "  :outliers   => 0\n",
       "  :cv_ll      => 0.859007\n",
       "  :val_ll     => 0.814425\n",
       "  :task_time  => \"mixed\""
      ]
     },
     "metadata": {},
     "output_type": "display_data"
    },
    {
     "name": "stdout",
     "output_type": "stream",
     "text": [
      "40.00%┣█████████████████████████▌                                      ┫ 4/10 14:31<29:02, 0.00 it/s]"
     ]
    },
    {
     "data": {
      "text/plain": [
       "Dict{Symbol,Any} with 11 entries:\n",
       "  :eta2       => 0.6\n",
       "  :lamb1      => 0.066\n",
       "  :lamb2      => 0.6\n",
       "  :method     => \"enet\"\n",
       "  :experiment => 6\n",
       "  :eta1       => 2.0e-7\n",
       "  :task_space => \"smooth\"\n",
       "  :outliers   => 0\n",
       "  :cv_ll      => 0.783342\n",
       "  :val_ll     => 0.743512\n",
       "  :task_time  => \"mixed\""
      ]
     },
     "metadata": {},
     "output_type": "display_data"
    },
    {
     "name": "stdout",
     "output_type": "stream",
     "text": [
      "50.00%┣████████████████████████████████                                ┫ 5/10 17:11<21:29, 0.00 it/s]"
     ]
    },
    {
     "data": {
      "text/plain": [
       "Dict{Symbol,Any} with 11 entries:\n",
       "  :eta2       => 0.6\n",
       "  :lamb1      => 2.0e-7\n",
       "  :lamb2      => 0.15\n",
       "  :method     => \"enet\"\n",
       "  :experiment => 7\n",
       "  :eta1       => 2.0e-7\n",
       "  :task_space => \"smooth\"\n",
       "  :outliers   => 0\n",
       "  :cv_ll      => 0.792388\n",
       "  :val_ll     => 0.724367\n",
       "  :task_time  => \"mixed\""
      ]
     },
     "metadata": {},
     "output_type": "display_data"
    },
    {
     "name": "stdout",
     "output_type": "stream",
     "text": [
      "60.00%┣██████████████████████████████████████▍                         ┫ 6/10 20:33<16:26, 0.00 it/s]"
     ]
    },
    {
     "data": {
      "text/plain": [
       "Dict{Symbol,Any} with 11 entries:\n",
       "  :eta2       => 0.6\n",
       "  :lamb1      => 2.0e-7\n",
       "  :lamb2      => 0.3\n",
       "  :method     => \"enet\"\n",
       "  :experiment => 8\n",
       "  :eta1       => 2.0e-7\n",
       "  :task_space => \"smooth\"\n",
       "  :outliers   => 0\n",
       "  :cv_ll      => 0.777617\n",
       "  :val_ll     => 0.782648\n",
       "  :task_time  => \"mixed\""
      ]
     },
     "metadata": {},
     "output_type": "display_data"
    },
    {
     "name": "stdout",
     "output_type": "stream",
     "text": [
      "70.00%┣████████████████████████████████████████████▊                   ┫ 7/10 23:50<11:55, 0.00 it/s]"
     ]
    },
    {
     "data": {
      "text/plain": [
       "Dict{Symbol,Any} with 11 entries:\n",
       "  :eta2       => 0.6\n",
       "  :lamb1      => 0.132\n",
       "  :lamb2      => 2.0e-7\n",
       "  :method     => \"enet\"\n",
       "  :experiment => 9\n",
       "  :eta1       => 2.0e-7\n",
       "  :task_space => \"smooth\"\n",
       "  :outliers   => 0\n",
       "  :cv_ll      => 0.768994\n",
       "  :val_ll     => 0.70811\n",
       "  :task_time  => \"mixed\""
      ]
     },
     "metadata": {},
     "output_type": "display_data"
    },
    {
     "name": "stdout",
     "output_type": "stream",
     "text": [
      "80.00%┣███████████████████████████████████████████████████▏            ┫ 8/10 26:53<07:41, 0.00 it/s]"
     ]
    },
    {
     "data": {
      "text/plain": [
       "Dict{Symbol,Any} with 11 entries:\n",
       "  :eta2       => 0.15\n",
       "  :lamb1      => 0.066\n",
       "  :lamb2      => 0.6\n",
       "  :method     => \"enet\"\n",
       "  :experiment => 10\n",
       "  :eta1       => 2.0e-7\n",
       "  :task_space => \"smooth\"\n",
       "  :outliers   => 0\n",
       "  :cv_ll      => 0.855689\n",
       "  :val_ll     => 0.842804\n",
       "  :task_time  => \"mixed\""
      ]
     },
     "metadata": {},
     "output_type": "display_data"
    },
    {
     "name": "stdout",
     "output_type": "stream",
     "text": [
      "100.00%┣██████████████████████████████████████████████████████████████┫ 10/10 29:54<00:00, 0.01 it/s]\n",
      "Running task_space constant task_time smooth for method fl, outliers false\n"
     ]
    },
    {
     "data": {
      "text/plain": [
       "Dict{Symbol,Any} with 11 entries:\n",
       "  :eta2       => 1.0e-12\n",
       "  :lamb1      => 0.2\n",
       "  :lamb2      => 1.0e-12\n",
       "  :method     => \"fl\"\n",
       "  :experiment => 1\n",
       "  :eta1       => 0.132\n",
       "  :task_space => \"constant\"\n",
       "  :outliers   => 0\n",
       "  :cv_ll      => 0.905106\n",
       "  :val_ll     => 0.883054\n",
       "  :task_time  => \"smooth\""
      ]
     },
     "metadata": {},
     "output_type": "display_data"
    },
    {
     "name": "stdout",
     "output_type": "stream",
     "text": [
      "0.00%┣                                                             ┫ 0/10 Inf:Inf<Inf:Inf, 0.00 it/s]"
     ]
    },
    {
     "data": {
      "text/plain": [
       "Dict{Symbol,Any} with 11 entries:\n",
       "  :eta2       => 1.0e-12\n",
       "  :lamb1      => 0.2\n",
       "  :lamb2      => 1.0e-12\n",
       "  :method     => \"fl\"\n",
       "  :experiment => 2\n",
       "  :eta1       => 0.2\n",
       "  :task_space => \"constant\"\n",
       "  :outliers   => 0\n",
       "  :cv_ll      => 0.782721\n",
       "  :val_ll     => 0.75245\n",
       "  :task_time  => \"smooth\""
      ]
     },
     "metadata": {},
     "output_type": "display_data"
    },
    {
     "name": "stdout",
     "output_type": "stream",
     "text": [
      "10.00%┣██████▏                                                       ┫ 1/10 00:24<Inf:Inf, 0.00 it/s]"
     ]
    },
    {
     "data": {
      "text/plain": [
       "Dict{Symbol,Any} with 11 entries:\n",
       "  :eta2       => 1.0e-12\n",
       "  :lamb1      => 0.2\n",
       "  :lamb2      => 1.0e-12\n",
       "  :method     => \"fl\"\n",
       "  :experiment => 3\n",
       "  :eta1       => 0.2\n",
       "  :task_space => \"constant\"\n",
       "  :outliers   => 0\n",
       "  :cv_ll      => 0.903444\n",
       "  :val_ll     => 0.843901\n",
       "  :task_time  => \"smooth\""
      ]
     },
     "metadata": {},
     "output_type": "display_data"
    },
    {
     "name": "stdout",
     "output_type": "stream",
     "text": [
      "20.00%┣████████████▊                                                   ┫ 2/10 00:37<04:52, 0.03 it/s]"
     ]
    },
    {
     "data": {
      "text/plain": [
       "Dict{Symbol,Any} with 11 entries:\n",
       "  :eta2       => 1.0e-12\n",
       "  :lamb1      => 0.132\n",
       "  :lamb2      => 1.0e-12\n",
       "  :method     => \"fl\"\n",
       "  :experiment => 4\n",
       "  :eta1       => 0.2\n",
       "  :task_space => \"constant\"\n",
       "  :outliers   => 0\n",
       "  :cv_ll      => 0.713848\n",
       "  :val_ll     => 0.719241\n",
       "  :task_time  => \"smooth\""
      ]
     },
     "metadata": {},
     "output_type": "display_data"
    },
    {
     "name": "stdout",
     "output_type": "stream",
     "text": [
      "30.00%┣███████████████████▏                                            ┫ 3/10 00:47<02:46, 0.04 it/s]"
     ]
    },
    {
     "data": {
      "text/plain": [
       "Dict{Symbol,Any} with 11 entries:\n",
       "  :eta2       => 1.0e-12\n",
       "  :lamb1      => 0.2\n",
       "  :lamb2      => 1.0e-12\n",
       "  :method     => \"fl\"\n",
       "  :experiment => 5\n",
       "  :eta1       => 0.2\n",
       "  :task_space => \"constant\"\n",
       "  :outliers   => 0\n",
       "  :cv_ll      => 0.695137\n",
       "  :val_ll     => 0.617926\n",
       "  :task_time  => \"smooth\""
      ]
     },
     "metadata": {},
     "output_type": "display_data"
    },
    {
     "name": "stdout",
     "output_type": "stream",
     "text": [
      "40.00%┣█████████████████████████▌                                      ┫ 4/10 00:59<01:58, 0.05 it/s]"
     ]
    },
    {
     "data": {
      "text/plain": [
       "Dict{Symbol,Any} with 11 entries:\n",
       "  :eta2       => 1.0e-12\n",
       "  :lamb1      => 0.132\n",
       "  :lamb2      => 1.0e-12\n",
       "  :method     => \"fl\"\n",
       "  :experiment => 6\n",
       "  :eta1       => 0.2\n",
       "  :task_space => \"constant\"\n",
       "  :outliers   => 0\n",
       "  :cv_ll      => 0.922743\n",
       "  :val_ll     => 0.849217\n",
       "  :task_time  => \"smooth\""
      ]
     },
     "metadata": {},
     "output_type": "display_data"
    },
    {
     "name": "stdout",
     "output_type": "stream",
     "text": [
      "50.00%┣████████████████████████████████                                ┫ 5/10 01:12<01:29, 0.06 it/s]"
     ]
    },
    {
     "data": {
      "text/plain": [
       "Dict{Symbol,Any} with 11 entries:\n",
       "  :eta2       => 1.0e-12\n",
       "  :lamb1      => 0.066\n",
       "  :lamb2      => 1.0e-12\n",
       "  :method     => \"fl\"\n",
       "  :experiment => 7\n",
       "  :eta1       => 0.2\n",
       "  :task_space => \"constant\"\n",
       "  :outliers   => 0\n",
       "  :cv_ll      => 0.698154\n",
       "  :val_ll     => 0.681632\n",
       "  :task_time  => \"smooth\""
      ]
     },
     "metadata": {},
     "output_type": "display_data"
    },
    {
     "name": "stdout",
     "output_type": "stream",
     "text": [
      "60.00%┣██████████████████████████████████████▍                         ┫ 6/10 01:24<01:07, 0.06 it/s]"
     ]
    },
    {
     "data": {
      "text/plain": [
       "Dict{Symbol,Any} with 11 entries:\n",
       "  :eta2       => 1.0e-12\n",
       "  :lamb1      => 0.2\n",
       "  :lamb2      => 1.0e-12\n",
       "  :method     => \"fl\"\n",
       "  :experiment => 8\n",
       "  :eta1       => 0.2\n",
       "  :task_space => \"constant\"\n",
       "  :outliers   => 0\n",
       "  :cv_ll      => 0.712947\n",
       "  :val_ll     => 0.642551\n",
       "  :task_time  => \"smooth\""
      ]
     },
     "metadata": {},
     "output_type": "display_data"
    },
    {
     "name": "stdout",
     "output_type": "stream",
     "text": [
      "70.00%┣████████████████████████████████████████████▊                   ┫ 7/10 01:36<00:48, 0.06 it/s]"
     ]
    },
    {
     "data": {
      "text/plain": [
       "Dict{Symbol,Any} with 11 entries:\n",
       "  :eta2       => 1.0e-12\n",
       "  :lamb1      => 0.2\n",
       "  :lamb2      => 1.0e-12\n",
       "  :method     => \"fl\"\n",
       "  :experiment => 9\n",
       "  :eta1       => 0.2\n",
       "  :task_space => \"constant\"\n",
       "  :outliers   => 0\n",
       "  :cv_ll      => 0.670561\n",
       "  :val_ll     => 0.596248\n",
       "  :task_time  => \"smooth\""
      ]
     },
     "metadata": {},
     "output_type": "display_data"
    },
    {
     "name": "stdout",
     "output_type": "stream",
     "text": [
      "80.00%┣███████████████████████████████████████████████████▏            ┫ 8/10 01:47<00:31, 0.07 it/s]"
     ]
    },
    {
     "data": {
      "text/plain": [
       "Dict{Symbol,Any} with 11 entries:\n",
       "  :eta2       => 1.0e-12\n",
       "  :lamb1      => 0.2\n",
       "  :lamb2      => 1.0e-12\n",
       "  :method     => \"fl\"\n",
       "  :experiment => 10\n",
       "  :eta1       => 0.2\n",
       "  :task_space => \"constant\"\n",
       "  :outliers   => 0\n",
       "  :cv_ll      => 0.809466\n",
       "  :val_ll     => 0.748875\n",
       "  :task_time  => \"smooth\""
      ]
     },
     "metadata": {},
     "output_type": "display_data"
    },
    {
     "name": "stdout",
     "output_type": "stream",
     "text": [
      "100.00%┣██████████████████████████████████████████████████████████████┫ 10/10 01:59<00:00, 0.08 it/s]\n",
      "Running task_space constant task_time smooth for method kal, outliers false\n"
     ]
    },
    {
     "data": {
      "text/plain": [
       "Dict{Symbol,Any} with 11 entries:\n",
       "  :eta2       => 0.3\n",
       "  :lamb1      => 1.0e-12\n",
       "  :lamb2      => 0.3\n",
       "  :method     => \"kal\"\n",
       "  :experiment => 1\n",
       "  :eta1       => 1.0e-12\n",
       "  :task_space => \"constant\"\n",
       "  :outliers   => 0\n",
       "  :cv_ll      => 0.870367\n",
       "  :val_ll     => 0.859537\n",
       "  :task_time  => \"smooth\""
      ]
     },
     "metadata": {},
     "output_type": "display_data"
    },
    {
     "name": "stdout",
     "output_type": "stream",
     "text": [
      "0.00%┣                                                             ┫ 0/10 Inf:Inf<Inf:Inf, 0.00 it/s]"
     ]
    },
    {
     "data": {
      "text/plain": [
       "Dict{Symbol,Any} with 11 entries:\n",
       "  :eta2       => 0.6\n",
       "  :lamb1      => 1.0e-12\n",
       "  :lamb2      => 0.6\n",
       "  :method     => \"kal\"\n",
       "  :experiment => 2\n",
       "  :eta1       => 1.0e-12\n",
       "  :task_space => \"constant\"\n",
       "  :outliers   => 0\n",
       "  :cv_ll      => 0.752795\n",
       "  :val_ll     => 0.732005\n",
       "  :task_time  => \"smooth\""
      ]
     },
     "metadata": {},
     "output_type": "display_data"
    },
    {
     "name": "stdout",
     "output_type": "stream",
     "text": [
      "10.00%┣██████▏                                                       ┫ 1/10 00:24<Inf:Inf, 0.00 it/s]"
     ]
    },
    {
     "data": {
      "text/plain": [
       "Dict{Symbol,Any} with 11 entries:\n",
       "  :eta2       => 0.3\n",
       "  :lamb1      => 1.0e-12\n",
       "  :lamb2      => 0.6\n",
       "  :method     => \"kal\"\n",
       "  :experiment => 3\n",
       "  :eta1       => 1.0e-12\n",
       "  :task_space => \"constant\"\n",
       "  :outliers   => 0\n",
       "  :cv_ll      => 0.862147\n",
       "  :val_ll     => 0.808049\n",
       "  :task_time  => \"smooth\""
      ]
     },
     "metadata": {},
     "output_type": "display_data"
    },
    {
     "name": "stdout",
     "output_type": "stream",
     "text": [
      "20.00%┣████████████▊                                                   ┫ 2/10 00:37<04:55, 0.03 it/s]"
     ]
    },
    {
     "data": {
      "text/plain": [
       "Dict{Symbol,Any} with 11 entries:\n",
       "  :eta2       => 0.6\n",
       "  :lamb1      => 1.0e-12\n",
       "  :lamb2      => 0.6\n",
       "  :method     => \"kal\"\n",
       "  :experiment => 4\n",
       "  :eta1       => 1.0e-12\n",
       "  :task_space => \"constant\"\n",
       "  :outliers   => 0\n",
       "  :cv_ll      => 0.702031\n",
       "  :val_ll     => 0.710936\n",
       "  :task_time  => \"smooth\""
      ]
     },
     "metadata": {},
     "output_type": "display_data"
    },
    {
     "name": "stdout",
     "output_type": "stream",
     "text": [
      "30.00%┣███████████████████▏                                            ┫ 3/10 00:48<02:48, 0.04 it/s]"
     ]
    },
    {
     "data": {
      "text/plain": [
       "Dict{Symbol,Any} with 11 entries:\n",
       "  :eta2       => 0.6\n",
       "  :lamb1      => 1.0e-12\n",
       "  :lamb2      => 0.6\n",
       "  :method     => \"kal\"\n",
       "  :experiment => 5\n",
       "  :eta1       => 1.0e-12\n",
       "  :task_space => \"constant\"\n",
       "  :outliers   => 0\n",
       "  :cv_ll      => 0.646223\n",
       "  :val_ll     => 0.59276\n",
       "  :task_time  => \"smooth\""
      ]
     },
     "metadata": {},
     "output_type": "display_data"
    },
    {
     "name": "stdout",
     "output_type": "stream",
     "text": [
      "40.00%┣█████████████████████████▌                                      ┫ 4/10 01:00<02:00, 0.05 it/s]"
     ]
    },
    {
     "data": {
      "text/plain": [
       "Dict{Symbol,Any} with 11 entries:\n",
       "  :eta2       => 0.6\n",
       "  :lamb1      => 1.0e-12\n",
       "  :lamb2      => 0.15\n",
       "  :method     => \"kal\"\n",
       "  :experiment => 6\n",
       "  :eta1       => 1.0e-12\n",
       "  :task_space => \"constant\"\n",
       "  :outliers   => 0\n",
       "  :cv_ll      => 0.834832\n",
       "  :val_ll     => 0.810143\n",
       "  :task_time  => \"smooth\""
      ]
     },
     "metadata": {},
     "output_type": "display_data"
    },
    {
     "name": "stdout",
     "output_type": "stream",
     "text": [
      "50.00%┣████████████████████████████████                                ┫ 5/10 01:12<01:30, 0.06 it/s]"
     ]
    },
    {
     "data": {
      "text/plain": [
       "Dict{Symbol,Any} with 11 entries:\n",
       "  :eta2       => 0.6\n",
       "  :lamb1      => 1.0e-12\n",
       "  :lamb2      => 0.3\n",
       "  :method     => \"kal\"\n",
       "  :experiment => 7\n",
       "  :eta1       => 1.0e-12\n",
       "  :task_space => \"constant\"\n",
       "  :outliers   => 0\n",
       "  :cv_ll      => 0.631467\n",
       "  :val_ll     => 0.644013\n",
       "  :task_time  => \"smooth\""
      ]
     },
     "metadata": {},
     "output_type": "display_data"
    },
    {
     "name": "stdout",
     "output_type": "stream",
     "text": [
      "60.00%┣██████████████████████████████████████▍                         ┫ 6/10 01:25<01:08, 0.06 it/s]"
     ]
    },
    {
     "data": {
      "text/plain": [
       "Dict{Symbol,Any} with 11 entries:\n",
       "  :eta2       => 0.6\n",
       "  :lamb1      => 1.0e-12\n",
       "  :lamb2      => 0.6\n",
       "  :method     => \"kal\"\n",
       "  :experiment => 8\n",
       "  :eta1       => 1.0e-12\n",
       "  :task_space => \"constant\"\n",
       "  :outliers   => 0\n",
       "  :cv_ll      => 0.664478\n",
       "  :val_ll     => 0.615724\n",
       "  :task_time  => \"smooth\""
      ]
     },
     "metadata": {},
     "output_type": "display_data"
    },
    {
     "name": "stdout",
     "output_type": "stream",
     "text": [
      "70.00%┣████████████████████████████████████████████▊                   ┫ 7/10 01:37<00:49, 0.06 it/s]"
     ]
    },
    {
     "data": {
      "text/plain": [
       "Dict{Symbol,Any} with 11 entries:\n",
       "  :eta2       => 0.3\n",
       "  :lamb1      => 1.0e-12\n",
       "  :lamb2      => 0.6\n",
       "  :method     => \"kal\"\n",
       "  :experiment => 9\n",
       "  :eta1       => 1.0e-12\n",
       "  :task_space => \"constant\"\n",
       "  :outliers   => 0\n",
       "  :cv_ll      => 0.635345\n",
       "  :val_ll     => 0.56491\n",
       "  :task_time  => \"smooth\""
      ]
     },
     "metadata": {},
     "output_type": "display_data"
    },
    {
     "name": "stdout",
     "output_type": "stream",
     "text": [
      "80.00%┣███████████████████████████████████████████████████▏            ┫ 8/10 01:49<00:31, 0.06 it/s]"
     ]
    },
    {
     "data": {
      "text/plain": [
       "Dict{Symbol,Any} with 11 entries:\n",
       "  :eta2       => 0.3\n",
       "  :lamb1      => 1.0e-12\n",
       "  :lamb2      => 0.6\n",
       "  :method     => \"kal\"\n",
       "  :experiment => 10\n",
       "  :eta1       => 1.0e-12\n",
       "  :task_space => \"constant\"\n",
       "  :outliers   => 0\n",
       "  :cv_ll      => 0.771126\n",
       "  :val_ll     => 0.726523\n",
       "  :task_time  => \"smooth\""
      ]
     },
     "metadata": {},
     "output_type": "display_data"
    },
    {
     "name": "stdout",
     "output_type": "stream",
     "text": [
      "100.00%┣██████████████████████████████████████████████████████████████┫ 10/10 02:01<00:00, 0.07 it/s]\n",
      "Running task_space constant task_time smooth for method enet, outliers false\n"
     ]
    },
    {
     "data": {
      "text/plain": [
       "Dict{Symbol,Any} with 11 entries:\n",
       "  :eta2       => 0.15\n",
       "  :lamb1      => 0.066\n",
       "  :lamb2      => 0.3\n",
       "  :method     => \"enet\"\n",
       "  :experiment => 1\n",
       "  :eta1       => 0.066\n",
       "  :task_space => \"constant\"\n",
       "  :outliers   => 0\n",
       "  :cv_ll      => 0.880079\n",
       "  :val_ll     => 0.861539\n",
       "  :task_time  => \"smooth\""
      ]
     },
     "metadata": {},
     "output_type": "display_data"
    },
    {
     "name": "stdout",
     "output_type": "stream",
     "text": [
      "0.00%┣                                                             ┫ 0/10 Inf:Inf<Inf:Inf, 0.00 it/s]"
     ]
    },
    {
     "data": {
      "text/plain": [
       "Dict{Symbol,Any} with 11 entries:\n",
       "  :eta2       => 0.6\n",
       "  :lamb1      => 0.066\n",
       "  :lamb2      => 0.6\n",
       "  :method     => \"enet\"\n",
       "  :experiment => 2\n",
       "  :eta1       => 2.0e-7\n",
       "  :task_space => \"constant\"\n",
       "  :outliers   => 0\n",
       "  :cv_ll      => 0.738728\n",
       "  :val_ll     => 0.73073\n",
       "  :task_time  => \"smooth\""
      ]
     },
     "metadata": {},
     "output_type": "display_data"
    },
    {
     "name": "stdout",
     "output_type": "stream",
     "text": [
      "10.00%┣██████▏                                                       ┫ 1/10 06:14<Inf:Inf, 0.00 it/s]"
     ]
    },
    {
     "data": {
      "text/plain": [
       "Dict{Symbol,Any} with 11 entries:\n",
       "  :eta2       => 0.15\n",
       "  :lamb1      => 2.0e-7\n",
       "  :lamb2      => 0.6\n",
       "  :method     => \"enet\"\n",
       "  :experiment => 3\n",
       "  :eta1       => 0.066\n",
       "  :task_space => \"constant\"\n",
       "  :outliers   => 0\n",
       "  :cv_ll      => 0.840514\n",
       "  :val_ll     => 0.805799\n",
       "  :task_time  => \"smooth\""
      ]
     },
     "metadata": {},
     "output_type": "display_data"
    },
    {
     "name": "stdout",
     "output_type": "stream",
     "text": [
      "20.00%┣████████████▏                                                ┫ 2/10 09:22<01:14:55, 0.00 it/s]"
     ]
    },
    {
     "data": {
      "text/plain": [
       "Dict{Symbol,Any} with 11 entries:\n",
       "  :eta2       => 0.6\n",
       "  :lamb1      => 2.0e-7\n",
       "  :lamb2      => 0.6\n",
       "  :method     => \"enet\"\n",
       "  :experiment => 4\n",
       "  :eta1       => 0.2\n",
       "  :task_space => \"constant\"\n",
       "  :outliers   => 0\n",
       "  :cv_ll      => 0.702001\n",
       "  :val_ll     => 0.700331\n",
       "  :task_time  => \"smooth\""
      ]
     },
     "metadata": {},
     "output_type": "display_data"
    },
    {
     "name": "stdout",
     "output_type": "stream",
     "text": [
      "30.00%┣███████████████████▏                                            ┫ 3/10 12:06<42:21, 0.00 it/s]"
     ]
    },
    {
     "data": {
      "text/plain": [
       "Dict{Symbol,Any} with 11 entries:\n",
       "  :eta2       => 2.0e-7\n",
       "  :lamb1      => 2.0e-7\n",
       "  :lamb2      => 0.6\n",
       "  :method     => \"enet\"\n",
       "  :experiment => 5\n",
       "  :eta1       => 0.2\n",
       "  :task_space => \"constant\"\n",
       "  :outliers   => 0\n",
       "  :cv_ll      => 0.641021\n",
       "  :val_ll     => 0.588883\n",
       "  :task_time  => \"smooth\""
      ]
     },
     "metadata": {},
     "output_type": "display_data"
    },
    {
     "name": "stdout",
     "output_type": "stream",
     "text": [
      "40.00%┣█████████████████████████▌                                      ┫ 4/10 15:05<30:10, 0.00 it/s]"
     ]
    },
    {
     "data": {
      "text/plain": [
       "Dict{Symbol,Any} with 11 entries:\n",
       "  :eta2       => 0.6\n",
       "  :lamb1      => 2.0e-7\n",
       "  :lamb2      => 0.15\n",
       "  :method     => \"enet\"\n",
       "  :experiment => 6\n",
       "  :eta1       => 0.2\n",
       "  :task_space => \"constant\"\n",
       "  :outliers   => 0\n",
       "  :cv_ll      => 0.816763\n",
       "  :val_ll     => 0.797882\n",
       "  :task_time  => \"smooth\""
      ]
     },
     "metadata": {},
     "output_type": "display_data"
    },
    {
     "name": "stdout",
     "output_type": "stream",
     "text": [
      "50.00%┣████████████████████████████████                                ┫ 5/10 18:11<22:44, 0.00 it/s]"
     ]
    },
    {
     "data": {
      "text/plain": [
       "Dict{Symbol,Any} with 11 entries:\n",
       "  :eta2       => 0.6\n",
       "  :lamb1      => 2.0e-7\n",
       "  :lamb2      => 0.3\n",
       "  :method     => \"enet\"\n",
       "  :experiment => 7\n",
       "  :eta1       => 2.0e-7\n",
       "  :task_space => \"constant\"\n",
       "  :outliers   => 0\n",
       "  :cv_ll      => 0.631508\n",
       "  :val_ll     => 0.639185\n",
       "  :task_time  => \"smooth\""
      ]
     },
     "metadata": {},
     "output_type": "display_data"
    },
    {
     "name": "stdout",
     "output_type": "stream",
     "text": [
      "60.00%┣██████████████████████████████████████▍                         ┫ 6/10 21:20<17:04, 0.00 it/s]"
     ]
    },
    {
     "data": {
      "text/plain": [
       "Dict{Symbol,Any} with 11 entries:\n",
       "  :eta2       => 2.0e-7\n",
       "  :lamb1      => 2.0e-7\n",
       "  :lamb2      => 0.6\n",
       "  :method     => \"enet\"\n",
       "  :experiment => 8\n",
       "  :eta1       => 0.2\n",
       "  :task_space => \"constant\"\n",
       "  :outliers   => 0\n",
       "  :cv_ll      => 0.642748\n",
       "  :val_ll     => 0.607568\n",
       "  :task_time  => \"smooth\""
      ]
     },
     "metadata": {},
     "output_type": "display_data"
    },
    {
     "name": "stdout",
     "output_type": "stream",
     "text": [
      "70.00%┣████████████████████████████████████████████▊                   ┫ 7/10 24:29<12:15, 0.00 it/s]"
     ]
    },
    {
     "data": {
      "text/plain": [
       "Dict{Symbol,Any} with 11 entries:\n",
       "  :eta2       => 2.0e-7\n",
       "  :lamb1      => 0.132\n",
       "  :lamb2      => 0.6\n",
       "  :method     => \"enet\"\n",
       "  :experiment => 9\n",
       "  :eta1       => 0.132\n",
       "  :task_space => \"constant\"\n",
       "  :outliers   => 0\n",
       "  :cv_ll      => 0.623106\n",
       "  :val_ll     => 0.560204\n",
       "  :task_time  => \"smooth\""
      ]
     },
     "metadata": {},
     "output_type": "display_data"
    },
    {
     "name": "stdout",
     "output_type": "stream",
     "text": [
      "80.00%┣███████████████████████████████████████████████████▏            ┫ 8/10 27:19<07:48, 0.00 it/s]"
     ]
    },
    {
     "data": {
      "text/plain": [
       "Dict{Symbol,Any} with 11 entries:\n",
       "  :eta2       => 2.0e-7\n",
       "  :lamb1      => 2.0e-7\n",
       "  :lamb2      => 0.6\n",
       "  :method     => \"enet\"\n",
       "  :experiment => 10\n",
       "  :eta1       => 0.2\n",
       "  :task_space => \"constant\"\n",
       "  :outliers   => 0\n",
       "  :cv_ll      => 0.748025\n",
       "  :val_ll     => 0.709276\n",
       "  :task_time  => \"smooth\""
      ]
     },
     "metadata": {},
     "output_type": "display_data"
    },
    {
     "name": "stdout",
     "output_type": "stream",
     "text": [
      "100.00%┣██████████████████████████████████████████████████████████████┫ 10/10 30:24<00:00, 0.00 it/s]\n",
      "Running task_space constant task_time constant for method fl, outliers false\n"
     ]
    },
    {
     "data": {
      "text/plain": [
       "Dict{Symbol,Any} with 11 entries:\n",
       "  :eta2       => 1.0e-12\n",
       "  :lamb1      => 0.2\n",
       "  :lamb2      => 1.0e-12\n",
       "  :method     => \"fl\"\n",
       "  :experiment => 1\n",
       "  :eta1       => 0.2\n",
       "  :task_space => \"constant\"\n",
       "  :outliers   => 0\n",
       "  :cv_ll      => 0.976517\n",
       "  :val_ll     => 0.899012\n",
       "  :task_time  => \"constant\""
      ]
     },
     "metadata": {},
     "output_type": "display_data"
    },
    {
     "name": "stdout",
     "output_type": "stream",
     "text": [
      "0.00%┣                                                             ┫ 0/10 Inf:Inf<Inf:Inf, 0.00 it/s]"
     ]
    },
    {
     "data": {
      "text/plain": [
       "Dict{Symbol,Any} with 11 entries:\n",
       "  :eta2       => 1.0e-12\n",
       "  :lamb1      => 0.2\n",
       "  :lamb2      => 1.0e-12\n",
       "  :method     => \"fl\"\n",
       "  :experiment => 2\n",
       "  :eta1       => 0.132\n",
       "  :task_space => \"constant\"\n",
       "  :outliers   => 0\n",
       "  :cv_ll      => 0.426536\n",
       "  :val_ll     => 0.397059\n",
       "  :task_time  => \"constant\""
      ]
     },
     "metadata": {},
     "output_type": "display_data"
    },
    {
     "name": "stdout",
     "output_type": "stream",
     "text": [
      "10.00%┣██████▏                                                       ┫ 1/10 00:23<Inf:Inf, 0.00 it/s]"
     ]
    },
    {
     "data": {
      "text/plain": [
       "Dict{Symbol,Any} with 11 entries:\n",
       "  :eta2       => 1.0e-12\n",
       "  :lamb1      => 0.132\n",
       "  :lamb2      => 1.0e-12\n",
       "  :method     => \"fl\"\n",
       "  :experiment => 3\n",
       "  :eta1       => 0.2\n",
       "  :task_space => \"constant\"\n",
       "  :outliers   => 0\n",
       "  :cv_ll      => 0.683207\n",
       "  :val_ll     => 0.611874\n",
       "  :task_time  => \"constant\""
      ]
     },
     "metadata": {},
     "output_type": "display_data"
    },
    {
     "name": "stdout",
     "output_type": "stream",
     "text": [
      "20.00%┣████████████▊                                                   ┫ 2/10 00:35<04:36, 0.03 it/s]"
     ]
    },
    {
     "data": {
      "text/plain": [
       "Dict{Symbol,Any} with 11 entries:\n",
       "  :eta2       => 1.0e-12\n",
       "  :lamb1      => 0.2\n",
       "  :lamb2      => 1.0e-12\n",
       "  :method     => \"fl\"\n",
       "  :experiment => 4\n",
       "  :eta1       => 0.2\n",
       "  :task_space => \"constant\"\n",
       "  :outliers   => 0\n",
       "  :cv_ll      => 0.867657\n",
       "  :val_ll     => 0.792565\n",
       "  :task_time  => \"constant\""
      ]
     },
     "metadata": {},
     "output_type": "display_data"
    },
    {
     "name": "stdout",
     "output_type": "stream",
     "text": [
      "30.00%┣███████████████████▏                                            ┫ 3/10 00:47<02:45, 0.04 it/s]"
     ]
    },
    {
     "data": {
      "text/plain": [
       "Dict{Symbol,Any} with 11 entries:\n",
       "  :eta2       => 1.0e-12\n",
       "  :lamb1      => 0.132\n",
       "  :lamb2      => 1.0e-12\n",
       "  :method     => \"fl\"\n",
       "  :experiment => 5\n",
       "  :eta1       => 0.2\n",
       "  :task_space => \"constant\"\n",
       "  :outliers   => 0\n",
       "  :cv_ll      => 0.764212\n",
       "  :val_ll     => 0.722025\n",
       "  :task_time  => \"constant\""
      ]
     },
     "metadata": {},
     "output_type": "display_data"
    },
    {
     "name": "stdout",
     "output_type": "stream",
     "text": [
      "40.00%┣█████████████████████████▌                                      ┫ 4/10 01:00<01:59, 0.05 it/s]"
     ]
    },
    {
     "data": {
      "text/plain": [
       "Dict{Symbol,Any} with 11 entries:\n",
       "  :eta2       => 1.0e-12\n",
       "  :lamb1      => 0.132\n",
       "  :lamb2      => 1.0e-12\n",
       "  :method     => \"fl\"\n",
       "  :experiment => 6\n",
       "  :eta1       => 0.2\n",
       "  :task_space => \"constant\"\n",
       "  :outliers   => 0\n",
       "  :cv_ll      => 0.926938\n",
       "  :val_ll     => 0.898509\n",
       "  :task_time  => \"constant\""
      ]
     },
     "metadata": {},
     "output_type": "display_data"
    },
    {
     "name": "stdout",
     "output_type": "stream",
     "text": [
      "50.00%┣████████████████████████████████                                ┫ 5/10 01:12<01:30, 0.06 it/s]"
     ]
    },
    {
     "data": {
      "text/plain": [
       "Dict{Symbol,Any} with 11 entries:\n",
       "  :eta2       => 1.0e-12\n",
       "  :lamb1      => 0.066\n",
       "  :lamb2      => 1.0e-12\n",
       "  :method     => \"fl\"\n",
       "  :experiment => 7\n",
       "  :eta1       => 0.2\n",
       "  :task_space => \"constant\"\n",
       "  :outliers   => 0\n",
       "  :cv_ll      => 0.831316\n",
       "  :val_ll     => 0.821329\n",
       "  :task_time  => \"constant\""
      ]
     },
     "metadata": {},
     "output_type": "display_data"
    },
    {
     "name": "stdout",
     "output_type": "stream",
     "text": [
      "60.00%┣██████████████████████████████████████▍                         ┫ 6/10 01:23<01:06, 0.06 it/s]"
     ]
    },
    {
     "data": {
      "text/plain": [
       "Dict{Symbol,Any} with 11 entries:\n",
       "  :eta2       => 1.0e-12\n",
       "  :lamb1      => 0.132\n",
       "  :lamb2      => 1.0e-12\n",
       "  :method     => \"fl\"\n",
       "  :experiment => 8\n",
       "  :eta1       => 0.2\n",
       "  :task_space => \"constant\"\n",
       "  :outliers   => 0\n",
       "  :cv_ll      => 0.945765\n",
       "  :val_ll     => 0.920564\n",
       "  :task_time  => \"constant\""
      ]
     },
     "metadata": {},
     "output_type": "display_data"
    },
    {
     "name": "stdout",
     "output_type": "stream",
     "text": [
      "70.00%┣████████████████████████████████████████████▊                   ┫ 7/10 01:35<00:48, 0.06 it/s]"
     ]
    },
    {
     "data": {
      "text/plain": [
       "Dict{Symbol,Any} with 11 entries:\n",
       "  :eta2       => 1.0e-12\n",
       "  :lamb1      => 0.132\n",
       "  :lamb2      => 1.0e-12\n",
       "  :method     => \"fl\"\n",
       "  :experiment => 9\n",
       "  :eta1       => 0.2\n",
       "  :task_space => \"constant\"\n",
       "  :outliers   => 0\n",
       "  :cv_ll      => 0.842621\n",
       "  :val_ll     => 0.712197\n",
       "  :task_time  => \"constant\""
      ]
     },
     "metadata": {},
     "output_type": "display_data"
    },
    {
     "name": "stdout",
     "output_type": "stream",
     "text": [
      "80.00%┣███████████████████████████████████████████████████▏            ┫ 8/10 01:48<00:31, 0.06 it/s]"
     ]
    },
    {
     "data": {
      "text/plain": [
       "Dict{Symbol,Any} with 11 entries:\n",
       "  :eta2       => 1.0e-12\n",
       "  :lamb1      => 0.132\n",
       "  :lamb2      => 1.0e-12\n",
       "  :method     => \"fl\"\n",
       "  :experiment => 10\n",
       "  :eta1       => 0.2\n",
       "  :task_space => \"constant\"\n",
       "  :outliers   => 0\n",
       "  :cv_ll      => 0.727677\n",
       "  :val_ll     => 0.653228\n",
       "  :task_time  => \"constant\""
      ]
     },
     "metadata": {},
     "output_type": "display_data"
    },
    {
     "name": "stdout",
     "output_type": "stream",
     "text": [
      "100.00%┣██████████████████████████████████████████████████████████████┫ 10/10 02:00<00:00, 0.08 it/s]\n",
      "Running task_space constant task_time constant for method kal, outliers false\n"
     ]
    },
    {
     "data": {
      "text/plain": [
       "Dict{Symbol,Any} with 11 entries:\n",
       "  :eta2       => 0.6\n",
       "  :lamb1      => 1.0e-12\n",
       "  :lamb2      => 0.6\n",
       "  :method     => \"kal\"\n",
       "  :experiment => 1\n",
       "  :eta1       => 1.0e-12\n",
       "  :task_space => \"constant\"\n",
       "  :outliers   => 0\n",
       "  :cv_ll      => 0.926547\n",
       "  :val_ll     => 0.868411\n",
       "  :task_time  => \"constant\""
      ]
     },
     "metadata": {},
     "output_type": "display_data"
    },
    {
     "name": "stdout",
     "output_type": "stream",
     "text": [
      "0.00%┣                                                             ┫ 0/10 Inf:Inf<Inf:Inf, 0.00 it/s]"
     ]
    },
    {
     "data": {
      "text/plain": [
       "Dict{Symbol,Any} with 11 entries:\n",
       "  :eta2       => 0.15\n",
       "  :lamb1      => 1.0e-12\n",
       "  :lamb2      => 0.6\n",
       "  :method     => \"kal\"\n",
       "  :experiment => 2\n",
       "  :eta1       => 1.0e-12\n",
       "  :task_space => \"constant\"\n",
       "  :outliers   => 0\n",
       "  :cv_ll      => 0.440922\n",
       "  :val_ll     => 0.414207\n",
       "  :task_time  => \"constant\""
      ]
     },
     "metadata": {},
     "output_type": "display_data"
    },
    {
     "name": "stdout",
     "output_type": "stream",
     "text": [
      "10.00%┣██████▏                                                       ┫ 1/10 00:23<Inf:Inf, 0.00 it/s]"
     ]
    },
    {
     "data": {
      "text/plain": [
       "Dict{Symbol,Any} with 11 entries:\n",
       "  :eta2       => 0.6\n",
       "  :lamb1      => 1.0e-12\n",
       "  :lamb2      => 0.15\n",
       "  :method     => \"kal\"\n",
       "  :experiment => 3\n",
       "  :eta1       => 1.0e-12\n",
       "  :task_space => \"constant\"\n",
       "  :outliers   => 0\n",
       "  :cv_ll      => 0.690608\n",
       "  :val_ll     => 0.624472\n",
       "  :task_time  => \"constant\""
      ]
     },
     "metadata": {},
     "output_type": "display_data"
    },
    {
     "name": "stdout",
     "output_type": "stream",
     "text": [
      "20.00%┣████████████▊                                                   ┫ 2/10 00:35<04:41, 0.03 it/s]"
     ]
    },
    {
     "data": {
      "text/plain": [
       "Dict{Symbol,Any} with 11 entries:\n",
       "  :eta2       => 0.3\n",
       "  :lamb1      => 1.0e-12\n",
       "  :lamb2      => 0.6\n",
       "  :method     => \"kal\"\n",
       "  :experiment => 4\n",
       "  :eta1       => 1.0e-12\n",
       "  :task_space => \"constant\"\n",
       "  :outliers   => 0\n",
       "  :cv_ll      => 0.805562\n",
       "  :val_ll     => 0.778744\n",
       "  :task_time  => \"constant\""
      ]
     },
     "metadata": {},
     "output_type": "display_data"
    },
    {
     "name": "stdout",
     "output_type": "stream",
     "text": [
      "30.00%┣███████████████████▏                                            ┫ 3/10 00:48<02:48, 0.04 it/s]"
     ]
    },
    {
     "data": {
      "text/plain": [
       "Dict{Symbol,Any} with 11 entries:\n",
       "  :eta2       => 0.6\n",
       "  :lamb1      => 1.0e-12\n",
       "  :lamb2      => 0.15\n",
       "  :method     => \"kal\"\n",
       "  :experiment => 5\n",
       "  :eta1       => 1.0e-12\n",
       "  :task_space => \"constant\"\n",
       "  :outliers   => 0\n",
       "  :cv_ll      => 0.731642\n",
       "  :val_ll     => 0.693586\n",
       "  :task_time  => \"constant\""
      ]
     },
     "metadata": {},
     "output_type": "display_data"
    },
    {
     "name": "stdout",
     "output_type": "stream",
     "text": [
      "40.00%┣█████████████████████████▌                                      ┫ 4/10 01:01<02:01, 0.05 it/s]"
     ]
    },
    {
     "data": {
      "text/plain": [
       "Dict{Symbol,Any} with 11 entries:\n",
       "  :eta2       => 0.6\n",
       "  :lamb1      => 1.0e-12\n",
       "  :lamb2      => 0.6\n",
       "  :method     => \"kal\"\n",
       "  :experiment => 6\n",
       "  :eta1       => 1.0e-12\n",
       "  :task_space => \"constant\"\n",
       "  :outliers   => 0\n",
       "  :cv_ll      => 0.912887\n",
       "  :val_ll     => 0.890067\n",
       "  :task_time  => \"constant\""
      ]
     },
     "metadata": {},
     "output_type": "display_data"
    },
    {
     "name": "stdout",
     "output_type": "stream",
     "text": [
      "50.00%┣████████████████████████████████                                ┫ 5/10 01:13<01:31, 0.06 it/s]"
     ]
    },
    {
     "data": {
      "text/plain": [
       "Dict{Symbol,Any} with 11 entries:\n",
       "  :eta2       => 0.6\n",
       "  :lamb1      => 1.0e-12\n",
       "  :lamb2      => 0.6\n",
       "  :method     => \"kal\"\n",
       "  :experiment => 7\n",
       "  :eta1       => 1.0e-12\n",
       "  :task_space => \"constant\"\n",
       "  :outliers   => 0\n",
       "  :cv_ll      => 0.813983\n",
       "  :val_ll     => 0.812024\n",
       "  :task_time  => \"constant\""
      ]
     },
     "metadata": {},
     "output_type": "display_data"
    },
    {
     "name": "stdout",
     "output_type": "stream",
     "text": [
      "60.00%┣██████████████████████████████████████▍                         ┫ 6/10 01:24<01:07, 0.06 it/s]"
     ]
    },
    {
     "data": {
      "text/plain": [
       "Dict{Symbol,Any} with 11 entries:\n",
       "  :eta2       => 0.6\n",
       "  :lamb1      => 1.0e-12\n",
       "  :lamb2      => 0.6\n",
       "  :method     => \"kal\"\n",
       "  :experiment => 8\n",
       "  :eta1       => 1.0e-12\n",
       "  :task_space => \"constant\"\n",
       "  :outliers   => 0\n",
       "  :cv_ll      => 0.9467\n",
       "  :val_ll     => 0.916116\n",
       "  :task_time  => \"constant\""
      ]
     },
     "metadata": {},
     "output_type": "display_data"
    },
    {
     "name": "stdout",
     "output_type": "stream",
     "text": [
      "70.00%┣████████████████████████████████████████████▊                   ┫ 7/10 01:36<00:48, 0.06 it/s]"
     ]
    },
    {
     "data": {
      "text/plain": [
       "Dict{Symbol,Any} with 11 entries:\n",
       "  :eta2       => 0.6\n",
       "  :lamb1      => 1.0e-12\n",
       "  :lamb2      => 0.15\n",
       "  :method     => \"kal\"\n",
       "  :experiment => 9\n",
       "  :eta1       => 1.0e-12\n",
       "  :task_space => \"constant\"\n",
       "  :outliers   => 0\n",
       "  :cv_ll      => 0.780626\n",
       "  :val_ll     => 0.710153\n",
       "  :task_time  => \"constant\""
      ]
     },
     "metadata": {},
     "output_type": "display_data"
    },
    {
     "name": "stdout",
     "output_type": "stream",
     "text": [
      "80.00%┣███████████████████████████████████████████████████▏            ┫ 8/10 01:50<00:31, 0.06 it/s]"
     ]
    },
    {
     "data": {
      "text/plain": [
       "Dict{Symbol,Any} with 11 entries:\n",
       "  :eta2       => 0.6\n",
       "  :lamb1      => 1.0e-12\n",
       "  :lamb2      => 0.15\n",
       "  :method     => \"kal\"\n",
       "  :experiment => 10\n",
       "  :eta1       => 1.0e-12\n",
       "  :task_space => \"constant\"\n",
       "  :outliers   => 0\n",
       "  :cv_ll      => 0.671072\n",
       "  :val_ll     => 0.645072\n",
       "  :task_time  => \"constant\""
      ]
     },
     "metadata": {},
     "output_type": "display_data"
    },
    {
     "name": "stdout",
     "output_type": "stream",
     "text": [
      "100.00%┣██████████████████████████████████████████████████████████████┫ 10/10 02:02<00:00, 0.07 it/s]\n",
      "Running task_space constant task_time constant for method enet, outliers false\n"
     ]
    },
    {
     "data": {
      "text/plain": [
       "Dict{Symbol,Any} with 11 entries:\n",
       "  :eta2       => 0.6\n",
       "  :lamb1      => 0.132\n",
       "  :lamb2      => 2.0e-7\n",
       "  :method     => \"enet\"\n",
       "  :experiment => 1\n",
       "  :eta1       => 2.0e-7\n",
       "  :task_space => \"constant\"\n",
       "  :outliers   => 0\n",
       "  :cv_ll      => 0.934021\n",
       "  :val_ll     => 0.863022\n",
       "  :task_time  => \"constant\""
      ]
     },
     "metadata": {},
     "output_type": "display_data"
    },
    {
     "name": "stdout",
     "output_type": "stream",
     "text": [
      "0.00%┣                                                             ┫ 0/10 Inf:Inf<Inf:Inf, 0.00 it/s]"
     ]
    },
    {
     "data": {
      "text/plain": [
       "Dict{Symbol,Any} with 11 entries:\n",
       "  :eta2       => 2.0e-7\n",
       "  :lamb1      => 0.2\n",
       "  :lamb2      => 0.6\n",
       "  :method     => \"enet\"\n",
       "  :experiment => 2\n",
       "  :eta1       => 0.066\n",
       "  :task_space => \"constant\"\n",
       "  :outliers   => 0\n",
       "  :cv_ll      => 0.390944\n",
       "  :val_ll     => 0.373286\n",
       "  :task_time  => \"constant\""
      ]
     },
     "metadata": {},
     "output_type": "display_data"
    },
    {
     "name": "stdout",
     "output_type": "stream",
     "text": [
      "10.00%┣██████▏                                                       ┫ 1/10 05:50<Inf:Inf, 0.00 it/s]"
     ]
    },
    {
     "data": {
      "text/plain": [
       "Dict{Symbol,Any} with 11 entries:\n",
       "  :eta2       => 0.6\n",
       "  :lamb1      => 0.066\n",
       "  :lamb2      => 2.0e-7\n",
       "  :method     => \"enet\"\n",
       "  :experiment => 3\n",
       "  :eta1       => 0.2\n",
       "  :task_space => \"constant\"\n",
       "  :outliers   => 0\n",
       "  :cv_ll      => 0.618731\n",
       "  :val_ll     => 0.592527\n",
       "  :task_time  => \"constant\""
      ]
     },
     "metadata": {},
     "output_type": "display_data"
    },
    {
     "name": "stdout",
     "output_type": "stream",
     "text": [
      "20.00%┣████████████▏                                                ┫ 2/10 08:47<01:10:15, 0.00 it/s]"
     ]
    },
    {
     "data": {
      "text/plain": [
       "Dict{Symbol,Any} with 11 entries:\n",
       "  :eta2       => 2.0e-7\n",
       "  :lamb1      => 2.0e-7\n",
       "  :lamb2      => 0.6\n",
       "  :method     => \"enet\"\n",
       "  :experiment => 4\n",
       "  :eta1       => 0.132\n",
       "  :task_space => \"constant\"\n",
       "  :outliers   => 0\n",
       "  :cv_ll      => 0.790294\n",
       "  :val_ll     => 0.76646\n",
       "  :task_time  => \"constant\""
      ]
     },
     "metadata": {},
     "output_type": "display_data"
    },
    {
     "name": "stdout",
     "output_type": "stream",
     "text": [
      "30.00%┣███████████████████▏                                            ┫ 3/10 12:05<42:16, 0.00 it/s]"
     ]
    },
    {
     "data": {
      "text/plain": [
       "Dict{Symbol,Any} with 11 entries:\n",
       "  :eta2       => 0.6\n",
       "  :lamb1      => 0.066\n",
       "  :lamb2      => 2.0e-7\n",
       "  :method     => \"enet\"\n",
       "  :experiment => 5\n",
       "  :eta1       => 0.2\n",
       "  :task_space => \"constant\"\n",
       "  :outliers   => 0\n",
       "  :cv_ll      => 0.692448\n",
       "  :val_ll     => 0.678987\n",
       "  :task_time  => \"constant\""
      ]
     },
     "metadata": {},
     "output_type": "display_data"
    },
    {
     "name": "stdout",
     "output_type": "stream",
     "text": [
      "40.00%┣█████████████████████████▌                                      ┫ 4/10 15:19<30:38, 0.00 it/s]"
     ]
    },
    {
     "data": {
      "text/plain": [
       "Dict{Symbol,Any} with 11 entries:\n",
       "  :eta2       => 0.6\n",
       "  :lamb1      => 0.066\n",
       "  :lamb2      => 0.15\n",
       "  :method     => \"enet\"\n",
       "  :experiment => 6\n",
       "  :eta1       => 2.0e-7\n",
       "  :task_space => \"constant\"\n",
       "  :outliers   => 0\n",
       "  :cv_ll      => 0.908409\n",
       "  :val_ll     => 0.887788\n",
       "  :task_time  => \"constant\""
      ]
     },
     "metadata": {},
     "output_type": "display_data"
    },
    {
     "name": "stdout",
     "output_type": "stream",
     "text": [
      "50.00%┣████████████████████████████████                                ┫ 5/10 18:21<22:57, 0.00 it/s]"
     ]
    },
    {
     "data": {
      "text/plain": [
       "Dict{Symbol,Any} with 11 entries:\n",
       "  :eta2       => 0.6\n",
       "  :lamb1      => 2.0e-7\n",
       "  :lamb2      => 0.3\n",
       "  :method     => \"enet\"\n",
       "  :experiment => 7\n",
       "  :eta1       => 0.2\n",
       "  :task_space => \"constant\"\n",
       "  :outliers   => 0\n",
       "  :cv_ll      => 0.790304\n",
       "  :val_ll     => 0.794493\n",
       "  :task_time  => \"constant\""
      ]
     },
     "metadata": {},
     "output_type": "display_data"
    },
    {
     "name": "stdout",
     "output_type": "stream",
     "text": [
      "60.00%┣██████████████████████████████████████▍                         ┫ 6/10 21:14<17:00, 0.00 it/s]"
     ]
    },
    {
     "data": {
      "text/plain": [
       "Dict{Symbol,Any} with 11 entries:\n",
       "  :eta2       => 2.0e-7\n",
       "  :lamb1      => 2.0e-7\n",
       "  :lamb2      => 0.6\n",
       "  :method     => \"enet\"\n",
       "  :experiment => 8\n",
       "  :eta1       => 0.132\n",
       "  :task_space => \"constant\"\n",
       "  :outliers   => 0\n",
       "  :cv_ll      => 0.941306\n",
       "  :val_ll     => 0.909001\n",
       "  :task_time  => \"constant\""
      ]
     },
     "metadata": {},
     "output_type": "display_data"
    },
    {
     "name": "stdout",
     "output_type": "stream",
     "text": [
      "70.00%┣████████████████████████████████████████████▊                   ┫ 7/10 24:21<12:11, 0.00 it/s]"
     ]
    },
    {
     "data": {
      "text/plain": [
       "Dict{Symbol,Any} with 11 entries:\n",
       "  :eta2       => 0.6\n",
       "  :lamb1      => 0.066\n",
       "  :lamb2      => 2.0e-7\n",
       "  :method     => \"enet\"\n",
       "  :experiment => 9\n",
       "  :eta1       => 2.0e-7\n",
       "  :task_space => \"constant\"\n",
       "  :outliers   => 0\n",
       "  :cv_ll      => 0.771971\n",
       "  :val_ll     => 0.696412\n",
       "  :task_time  => \"constant\""
      ]
     },
     "metadata": {},
     "output_type": "display_data"
    },
    {
     "name": "stdout",
     "output_type": "stream",
     "text": [
      "80.00%┣███████████████████████████████████████████████████▏            ┫ 8/10 27:40<07:54, 0.00 it/s]"
     ]
    },
    {
     "data": {
      "text/plain": [
       "Dict{Symbol,Any} with 11 entries:\n",
       "  :eta2       => 0.6\n",
       "  :lamb1      => 0.066\n",
       "  :lamb2      => 2.0e-7\n",
       "  :method     => \"enet\"\n",
       "  :experiment => 10\n",
       "  :eta1       => 0.2\n",
       "  :task_space => \"constant\"\n",
       "  :outliers   => 0\n",
       "  :cv_ll      => 0.640161\n",
       "  :val_ll     => 0.606069\n",
       "  :task_time  => \"constant\""
      ]
     },
     "metadata": {},
     "output_type": "display_data"
    },
    {
     "name": "stdout",
     "output_type": "stream",
     "text": [
      "100.00%┣██████████████████████████████████████████████████████████████┫ 10/10 30:38<00:00, 0.00 it/s]\n",
      "Running task_space constant task_time mixed for method fl, outliers false\n"
     ]
    },
    {
     "data": {
      "text/plain": [
       "Dict{Symbol,Any} with 11 entries:\n",
       "  :eta2       => 1.0e-12\n",
       "  :lamb1      => 0.2\n",
       "  :lamb2      => 1.0e-12\n",
       "  :method     => \"fl\"\n",
       "  :experiment => 1\n",
       "  :eta1       => 0.066\n",
       "  :task_space => \"constant\"\n",
       "  :outliers   => 0\n",
       "  :cv_ll      => 0.873583\n",
       "  :val_ll     => 0.864474\n",
       "  :task_time  => \"mixed\""
      ]
     },
     "metadata": {},
     "output_type": "display_data"
    },
    {
     "name": "stdout",
     "output_type": "stream",
     "text": [
      "0.00%┣                                                             ┫ 0/10 Inf:Inf<Inf:Inf, 0.00 it/s]"
     ]
    },
    {
     "data": {
      "text/plain": [
       "Dict{Symbol,Any} with 11 entries:\n",
       "  :eta2       => 1.0e-12\n",
       "  :lamb1      => 0.2\n",
       "  :lamb2      => 1.0e-12\n",
       "  :method     => \"fl\"\n",
       "  :experiment => 2\n",
       "  :eta1       => 0.2\n",
       "  :task_space => \"constant\"\n",
       "  :outliers   => 0\n",
       "  :cv_ll      => 0.755663\n",
       "  :val_ll     => 0.714651\n",
       "  :task_time  => \"mixed\""
      ]
     },
     "metadata": {},
     "output_type": "display_data"
    },
    {
     "name": "stdout",
     "output_type": "stream",
     "text": [
      "10.00%┣██████▏                                                       ┫ 1/10 00:24<Inf:Inf, 0.00 it/s]"
     ]
    },
    {
     "data": {
      "text/plain": [
       "Dict{Symbol,Any} with 11 entries:\n",
       "  :eta2       => 1.0e-12\n",
       "  :lamb1      => 0.132\n",
       "  :lamb2      => 1.0e-12\n",
       "  :method     => \"fl\"\n",
       "  :experiment => 3\n",
       "  :eta1       => 0.2\n",
       "  :task_space => \"constant\"\n",
       "  :outliers   => 0\n",
       "  :cv_ll      => 0.808216\n",
       "  :val_ll     => 0.788195\n",
       "  :task_time  => \"mixed\""
      ]
     },
     "metadata": {},
     "output_type": "display_data"
    },
    {
     "name": "stdout",
     "output_type": "stream",
     "text": [
      "20.00%┣████████████▊                                                   ┫ 2/10 00:38<05:03, 0.03 it/s]"
     ]
    },
    {
     "data": {
      "text/plain": [
       "Dict{Symbol,Any} with 11 entries:\n",
       "  :eta2       => 1.0e-12\n",
       "  :lamb1      => 0.2\n",
       "  :lamb2      => 1.0e-12\n",
       "  :method     => \"fl\"\n",
       "  :experiment => 4\n",
       "  :eta1       => 0.2\n",
       "  :task_space => \"constant\"\n",
       "  :outliers   => 0\n",
       "  :cv_ll      => 0.988637\n",
       "  :val_ll     => 0.969187\n",
       "  :task_time  => \"mixed\""
      ]
     },
     "metadata": {},
     "output_type": "display_data"
    },
    {
     "name": "stdout",
     "output_type": "stream",
     "text": [
      "30.00%┣███████████████████▏                                            ┫ 3/10 00:51<03:00, 0.04 it/s]"
     ]
    },
    {
     "data": {
      "text/plain": [
       "Dict{Symbol,Any} with 11 entries:\n",
       "  :eta2       => 1.0e-12\n",
       "  :lamb1      => 0.132\n",
       "  :lamb2      => 1.0e-12\n",
       "  :method     => \"fl\"\n",
       "  :experiment => 5\n",
       "  :eta1       => 0.2\n",
       "  :task_space => \"constant\"\n",
       "  :outliers   => 0\n",
       "  :cv_ll      => 0.781451\n",
       "  :val_ll     => 0.740158\n",
       "  :task_time  => \"mixed\""
      ]
     },
     "metadata": {},
     "output_type": "display_data"
    },
    {
     "name": "stdout",
     "output_type": "stream",
     "text": [
      "40.00%┣█████████████████████████▌                                      ┫ 4/10 01:05<02:10, 0.05 it/s]"
     ]
    },
    {
     "data": {
      "text/plain": [
       "Dict{Symbol,Any} with 11 entries:\n",
       "  :eta2       => 1.0e-12\n",
       "  :lamb1      => 0.2\n",
       "  :lamb2      => 1.0e-12\n",
       "  :method     => \"fl\"\n",
       "  :experiment => 6\n",
       "  :eta1       => 0.2\n",
       "  :task_space => \"constant\"\n",
       "  :outliers   => 0\n",
       "  :cv_ll      => 0.773105\n",
       "  :val_ll     => 0.735183\n",
       "  :task_time  => \"mixed\""
      ]
     },
     "metadata": {},
     "output_type": "display_data"
    },
    {
     "name": "stdout",
     "output_type": "stream",
     "text": [
      "50.00%┣████████████████████████████████                                ┫ 5/10 01:17<01:37, 0.05 it/s]"
     ]
    },
    {
     "data": {
      "text/plain": [
       "Dict{Symbol,Any} with 11 entries:\n",
       "  :eta2       => 1.0e-12\n",
       "  :lamb1      => 0.2\n",
       "  :lamb2      => 1.0e-12\n",
       "  :method     => \"fl\"\n",
       "  :experiment => 7\n",
       "  :eta1       => 0.2\n",
       "  :task_space => \"constant\"\n",
       "  :outliers   => 0\n",
       "  :cv_ll      => 0.781145\n",
       "  :val_ll     => 0.708617\n",
       "  :task_time  => \"mixed\""
      ]
     },
     "metadata": {},
     "output_type": "display_data"
    },
    {
     "name": "stdout",
     "output_type": "stream",
     "text": [
      "60.00%┣██████████████████████████████████████▍                         ┫ 6/10 01:29<01:11, 0.06 it/s]"
     ]
    },
    {
     "data": {
      "text/plain": [
       "Dict{Symbol,Any} with 11 entries:\n",
       "  :eta2       => 1.0e-12\n",
       "  :lamb1      => 0.2\n",
       "  :lamb2      => 1.0e-12\n",
       "  :method     => \"fl\"\n",
       "  :experiment => 8\n",
       "  :eta1       => 0.2\n",
       "  :task_space => \"constant\"\n",
       "  :outliers   => 0\n",
       "  :cv_ll      => 0.768848\n",
       "  :val_ll     => 0.714622\n",
       "  :task_time  => \"mixed\""
      ]
     },
     "metadata": {},
     "output_type": "display_data"
    },
    {
     "name": "stdout",
     "output_type": "stream",
     "text": [
      "70.00%┣████████████████████████████████████████████▊                   ┫ 7/10 01:43<00:52, 0.06 it/s]"
     ]
    },
    {
     "data": {
      "text/plain": [
       "Dict{Symbol,Any} with 11 entries:\n",
       "  :eta2       => 1.0e-12\n",
       "  :lamb1      => 0.2\n",
       "  :lamb2      => 1.0e-12\n",
       "  :method     => \"fl\"\n",
       "  :experiment => 9\n",
       "  :eta1       => 0.2\n",
       "  :task_space => \"constant\"\n",
       "  :outliers   => 0\n",
       "  :cv_ll      => 0.552648\n",
       "  :val_ll     => 0.507812\n",
       "  :task_time  => \"mixed\""
      ]
     },
     "metadata": {},
     "output_type": "display_data"
    },
    {
     "name": "stdout",
     "output_type": "stream",
     "text": [
      "80.00%┣███████████████████████████████████████████████████▏            ┫ 8/10 01:54<00:33, 0.06 it/s]"
     ]
    },
    {
     "data": {
      "text/plain": [
       "Dict{Symbol,Any} with 11 entries:\n",
       "  :eta2       => 1.0e-12\n",
       "  :lamb1      => 0.2\n",
       "  :lamb2      => 1.0e-12\n",
       "  :method     => \"fl\"\n",
       "  :experiment => 10\n",
       "  :eta1       => 0.2\n",
       "  :task_space => \"constant\"\n",
       "  :outliers   => 0\n",
       "  :cv_ll      => 0.96578\n",
       "  :val_ll     => 0.893971\n",
       "  :task_time  => \"mixed\""
      ]
     },
     "metadata": {},
     "output_type": "display_data"
    },
    {
     "name": "stdout",
     "output_type": "stream",
     "text": [
      "100.00%┣██████████████████████████████████████████████████████████████┫ 10/10 02:08<00:00, 0.07 it/s]\n",
      "Running task_space constant task_time mixed for method kal, outliers false\n"
     ]
    },
    {
     "data": {
      "text/plain": [
       "Dict{Symbol,Any} with 11 entries:\n",
       "  :eta2       => 0.3\n",
       "  :lamb1      => 1.0e-12\n",
       "  :lamb2      => 0.6\n",
       "  :method     => \"kal\"\n",
       "  :experiment => 1\n",
       "  :eta1       => 1.0e-12\n",
       "  :task_space => \"constant\"\n",
       "  :outliers   => 0\n",
       "  :cv_ll      => 0.845291\n",
       "  :val_ll     => 0.84231\n",
       "  :task_time  => \"mixed\""
      ]
     },
     "metadata": {},
     "output_type": "display_data"
    },
    {
     "name": "stdout",
     "output_type": "stream",
     "text": [
      "0.00%┣                                                             ┫ 0/10 Inf:Inf<Inf:Inf, 0.00 it/s]"
     ]
    },
    {
     "data": {
      "text/plain": [
       "Dict{Symbol,Any} with 11 entries:\n",
       "  :eta2       => 0.6\n",
       "  :lamb1      => 1.0e-12\n",
       "  :lamb2      => 0.3\n",
       "  :method     => \"kal\"\n",
       "  :experiment => 2\n",
       "  :eta1       => 1.0e-12\n",
       "  :task_space => \"constant\"\n",
       "  :outliers   => 0\n",
       "  :cv_ll      => 0.727696\n",
       "  :val_ll     => 0.697567\n",
       "  :task_time  => \"mixed\""
      ]
     },
     "metadata": {},
     "output_type": "display_data"
    },
    {
     "name": "stdout",
     "output_type": "stream",
     "text": [
      "10.00%┣██████▏                                                       ┫ 1/10 00:24<Inf:Inf, 0.00 it/s]"
     ]
    },
    {
     "data": {
      "text/plain": [
       "Dict{Symbol,Any} with 11 entries:\n",
       "  :eta2       => 0.6\n",
       "  :lamb1      => 1.0e-12\n",
       "  :lamb2      => 0.3\n",
       "  :method     => \"kal\"\n",
       "  :experiment => 3\n",
       "  :eta1       => 1.0e-12\n",
       "  :task_space => \"constant\"\n",
       "  :outliers   => 0\n",
       "  :cv_ll      => 0.76419\n",
       "  :val_ll     => 0.765248\n",
       "  :task_time  => \"mixed\""
      ]
     },
     "metadata": {},
     "output_type": "display_data"
    },
    {
     "name": "stdout",
     "output_type": "stream",
     "text": [
      "20.00%┣████████████▊                                                   ┫ 2/10 00:38<05:01, 0.03 it/s]"
     ]
    },
    {
     "data": {
      "text/plain": [
       "Dict{Symbol,Any} with 11 entries:\n",
       "  :eta2       => 0.6\n",
       "  :lamb1      => 1.0e-12\n",
       "  :lamb2      => 0.3\n",
       "  :method     => \"kal\"\n",
       "  :experiment => 4\n",
       "  :eta1       => 1.0e-12\n",
       "  :task_space => \"constant\"\n",
       "  :outliers   => 0\n",
       "  :cv_ll      => 0.947939\n",
       "  :val_ll     => 0.939976\n",
       "  :task_time  => \"mixed\""
      ]
     },
     "metadata": {},
     "output_type": "display_data"
    },
    {
     "name": "stdout",
     "output_type": "stream",
     "text": [
      "30.00%┣███████████████████▏                                            ┫ 3/10 00:51<02:59, 0.04 it/s]"
     ]
    },
    {
     "data": {
      "text/plain": [
       "Dict{Symbol,Any} with 11 entries:\n",
       "  :eta2       => 0.6\n",
       "  :lamb1      => 1.0e-12\n",
       "  :lamb2      => 0.3\n",
       "  :method     => \"kal\"\n",
       "  :experiment => 5\n",
       "  :eta1       => 1.0e-12\n",
       "  :task_space => \"constant\"\n",
       "  :outliers   => 0\n",
       "  :cv_ll      => 0.745058\n",
       "  :val_ll     => 0.712543\n",
       "  :task_time  => \"mixed\""
      ]
     },
     "metadata": {},
     "output_type": "display_data"
    },
    {
     "name": "stdout",
     "output_type": "stream",
     "text": [
      "40.00%┣█████████████████████████▌                                      ┫ 4/10 01:04<02:09, 0.05 it/s]"
     ]
    },
    {
     "data": {
      "text/plain": [
       "Dict{Symbol,Any} with 11 entries:\n",
       "  :eta2       => 0.6\n",
       "  :lamb1      => 1.0e-12\n",
       "  :lamb2      => 0.3\n",
       "  :method     => \"kal\"\n",
       "  :experiment => 6\n",
       "  :eta1       => 1.0e-12\n",
       "  :task_space => \"constant\"\n",
       "  :outliers   => 0\n",
       "  :cv_ll      => 0.750662\n",
       "  :val_ll     => 0.716344\n",
       "  :task_time  => \"mixed\""
      ]
     },
     "metadata": {},
     "output_type": "display_data"
    },
    {
     "name": "stdout",
     "output_type": "stream",
     "text": [
      "50.00%┣████████████████████████████████                                ┫ 5/10 01:17<01:36, 0.05 it/s]"
     ]
    },
    {
     "data": {
      "text/plain": [
       "Dict{Symbol,Any} with 11 entries:\n",
       "  :eta2       => 0.6\n",
       "  :lamb1      => 1.0e-12\n",
       "  :lamb2      => 0.15\n",
       "  :method     => \"kal\"\n",
       "  :experiment => 7\n",
       "  :eta1       => 1.0e-12\n",
       "  :task_space => \"constant\"\n",
       "  :outliers   => 0\n",
       "  :cv_ll      => 0.750293\n",
       "  :val_ll     => 0.693039\n",
       "  :task_time  => \"mixed\""
      ]
     },
     "metadata": {},
     "output_type": "display_data"
    },
    {
     "name": "stdout",
     "output_type": "stream",
     "text": [
      "60.00%┣██████████████████████████████████████▍                         ┫ 6/10 01:30<01:12, 0.06 it/s]"
     ]
    },
    {
     "data": {
      "text/plain": [
       "Dict{Symbol,Any} with 11 entries:\n",
       "  :eta2       => 0.6\n",
       "  :lamb1      => 1.0e-12\n",
       "  :lamb2      => 0.3\n",
       "  :method     => \"kal\"\n",
       "  :experiment => 8\n",
       "  :eta1       => 1.0e-12\n",
       "  :task_space => \"constant\"\n",
       "  :outliers   => 0\n",
       "  :cv_ll      => 0.686258\n",
       "  :val_ll     => 0.683016\n",
       "  :task_time  => \"mixed\""
      ]
     },
     "metadata": {},
     "output_type": "display_data"
    },
    {
     "name": "stdout",
     "output_type": "stream",
     "text": [
      "70.00%┣████████████████████████████████████████████▊                   ┫ 7/10 01:44<00:52, 0.06 it/s]"
     ]
    },
    {
     "data": {
      "text/plain": [
       "Dict{Symbol,Any} with 11 entries:\n",
       "  :eta2       => 0.6\n",
       "  :lamb1      => 1.0e-12\n",
       "  :lamb2      => 0.6\n",
       "  :method     => \"kal\"\n",
       "  :experiment => 9\n",
       "  :eta1       => 1.0e-12\n",
       "  :task_space => \"constant\"\n",
       "  :outliers   => 0\n",
       "  :cv_ll      => 0.504922\n",
       "  :val_ll     => 0.474399\n",
       "  :task_time  => \"mixed\""
      ]
     },
     "metadata": {},
     "output_type": "display_data"
    },
    {
     "name": "stdout",
     "output_type": "stream",
     "text": [
      "80.00%┣███████████████████████████████████████████████████▏            ┫ 8/10 01:56<00:33, 0.06 it/s]"
     ]
    },
    {
     "data": {
      "text/plain": [
       "Dict{Symbol,Any} with 11 entries:\n",
       "  :eta2       => 0.3\n",
       "  :lamb1      => 1.0e-12\n",
       "  :lamb2      => 0.6\n",
       "  :method     => \"kal\"\n",
       "  :experiment => 10\n",
       "  :eta1       => 1.0e-12\n",
       "  :task_space => \"constant\"\n",
       "  :outliers   => 0\n",
       "  :cv_ll      => 0.895637\n",
       "  :val_ll     => 0.843682\n",
       "  :task_time  => \"mixed\""
      ]
     },
     "metadata": {},
     "output_type": "display_data"
    },
    {
     "name": "stdout",
     "output_type": "stream",
     "text": [
      "100.00%┣██████████████████████████████████████████████████████████████┫ 10/10 02:09<00:00, 0.07 it/s]\n",
      "Running task_space constant task_time mixed for method enet, outliers false\n"
     ]
    },
    {
     "data": {
      "text/plain": [
       "Dict{Symbol,Any} with 11 entries:\n",
       "  :eta2       => 0.3\n",
       "  :lamb1      => 0.2\n",
       "  :lamb2      => 0.6\n",
       "  :method     => \"enet\"\n",
       "  :experiment => 1\n",
       "  :eta1       => 2.0e-7\n",
       "  :task_space => \"constant\"\n",
       "  :outliers   => 0\n",
       "  :cv_ll      => 0.842896\n",
       "  :val_ll     => 0.842709\n",
       "  :task_time  => \"mixed\""
      ]
     },
     "metadata": {},
     "output_type": "display_data"
    },
    {
     "name": "stdout",
     "output_type": "stream",
     "text": [
      "0.00%┣                                                             ┫ 0/10 Inf:Inf<Inf:Inf, 0.00 it/s]"
     ]
    },
    {
     "data": {
      "text/plain": [
       "Dict{Symbol,Any} with 11 entries:\n",
       "  :eta2       => 0.6\n",
       "  :lamb1      => 0.132\n",
       "  :lamb2      => 2.0e-7\n",
       "  :method     => \"enet\"\n",
       "  :experiment => 2\n",
       "  :eta1       => 0.132\n",
       "  :task_space => \"constant\"\n",
       "  :outliers   => 0\n",
       "  :cv_ll      => 0.71099\n",
       "  :val_ll     => 0.695728\n",
       "  :task_time  => \"mixed\""
      ]
     },
     "metadata": {},
     "output_type": "display_data"
    },
    {
     "name": "stdout",
     "output_type": "stream",
     "text": [
      "10.00%┣██████▏                                                       ┫ 1/10 05:55<Inf:Inf, 0.00 it/s]"
     ]
    },
    {
     "data": {
      "text/plain": [
       "Dict{Symbol,Any} with 11 entries:\n",
       "  :eta2       => 0.6\n",
       "  :lamb1      => 2.0e-7\n",
       "  :lamb2      => 0.3\n",
       "  :method     => \"enet\"\n",
       "  :experiment => 3\n",
       "  :eta1       => 2.0e-7\n",
       "  :task_space => \"constant\"\n",
       "  :outliers   => 0\n",
       "  :cv_ll      => 0.758162\n",
       "  :val_ll     => 0.765999\n",
       "  :task_time  => \"mixed\""
      ]
     },
     "metadata": {},
     "output_type": "display_data"
    },
    {
     "name": "stdout",
     "output_type": "stream",
     "text": [
      "20.00%┣████████████▏                                                ┫ 2/10 09:16<01:14:08, 0.00 it/s]"
     ]
    },
    {
     "data": {
      "text/plain": [
       "Dict{Symbol,Any} with 11 entries:\n",
       "  :eta2       => 0.6\n",
       "  :lamb1      => 2.0e-7\n",
       "  :lamb2      => 0.6\n",
       "  :method     => \"enet\"\n",
       "  :experiment => 4\n",
       "  :eta1       => 2.0e-7\n",
       "  :task_space => \"constant\"\n",
       "  :outliers   => 0\n",
       "  :cv_ll      => 0.945304\n",
       "  :val_ll     => 0.939748\n",
       "  :task_time  => \"mixed\""
      ]
     },
     "metadata": {},
     "output_type": "display_data"
    },
    {
     "name": "stdout",
     "output_type": "stream",
     "text": [
      "30.00%┣███████████████████▏                                            ┫ 3/10 12:33<43:55, 0.00 it/s]"
     ]
    },
    {
     "data": {
      "text/plain": [
       "Dict{Symbol,Any} with 11 entries:\n",
       "  :eta2       => 0.6\n",
       "  :lamb1      => 2.0e-7\n",
       "  :lamb2      => 0.3\n",
       "  :method     => \"enet\"\n",
       "  :experiment => 5\n",
       "  :eta1       => 0.2\n",
       "  :task_space => \"constant\"\n",
       "  :outliers   => 0\n",
       "  :cv_ll      => 0.7205\n",
       "  :val_ll     => 0.703257\n",
       "  :task_time  => \"mixed\""
      ]
     },
     "metadata": {},
     "output_type": "display_data"
    },
    {
     "name": "stdout",
     "output_type": "stream",
     "text": [
      "40.00%┣█████████████████████████▌                                      ┫ 4/10 15:36<31:12, 0.00 it/s]"
     ]
    },
    {
     "data": {
      "text/plain": [
       "Dict{Symbol,Any} with 11 entries:\n",
       "  :eta2       => 0.6\n",
       "  :lamb1      => 0.132\n",
       "  :lamb2      => 2.0e-7\n",
       "  :method     => \"enet\"\n",
       "  :experiment => 6\n",
       "  :eta1       => 0.066\n",
       "  :task_space => \"constant\"\n",
       "  :outliers   => 0\n",
       "  :cv_ll      => 0.737167\n",
       "  :val_ll     => 0.71272\n",
       "  :task_time  => \"mixed\""
      ]
     },
     "metadata": {},
     "output_type": "display_data"
    },
    {
     "name": "stdout",
     "output_type": "stream",
     "text": [
      "50.00%┣████████████████████████████████                                ┫ 5/10 18:41<23:21, 0.00 it/s]"
     ]
    },
    {
     "data": {
      "text/plain": [
       "Dict{Symbol,Any} with 11 entries:\n",
       "  :eta2       => 0.6\n",
       "  :lamb1      => 0.132\n",
       "  :lamb2      => 2.0e-7\n",
       "  :method     => \"enet\"\n",
       "  :experiment => 7\n",
       "  :eta1       => 0.132\n",
       "  :task_space => \"constant\"\n",
       "  :outliers   => 0\n",
       "  :cv_ll      => 0.748449\n",
       "  :val_ll     => 0.685812\n",
       "  :task_time  => \"mixed\""
      ]
     },
     "metadata": {},
     "output_type": "display_data"
    },
    {
     "name": "stdout",
     "output_type": "stream",
     "text": [
      "60.00%┣██████████████████████████████████████▍                         ┫ 6/10 21:39<17:19, 0.00 it/s]"
     ]
    },
    {
     "data": {
      "text/plain": [
       "Dict{Symbol,Any} with 11 entries:\n",
       "  :eta2       => 0.6\n",
       "  :lamb1      => 0.132\n",
       "  :lamb2      => 2.0e-7\n",
       "  :method     => \"enet\"\n",
       "  :experiment => 8\n",
       "  :eta1       => 2.0e-7\n",
       "  :task_space => \"constant\"\n",
       "  :outliers   => 0\n",
       "  :cv_ll      => 0.711279\n",
       "  :val_ll     => 0.676941\n",
       "  :task_time  => \"mixed\""
      ]
     },
     "metadata": {},
     "output_type": "display_data"
    },
    {
     "name": "stdout",
     "output_type": "stream",
     "text": [
      "70.00%┣████████████████████████████████████████████▊                   ┫ 7/10 25:05<12:32, 0.00 it/s]"
     ]
    },
    {
     "data": {
      "text/plain": [
       "Dict{Symbol,Any} with 11 entries:\n",
       "  :eta2       => 2.0e-7\n",
       "  :lamb1      => 2.0e-7\n",
       "  :lamb2      => 0.6\n",
       "  :method     => \"enet\"\n",
       "  :experiment => 9\n",
       "  :eta1       => 0.2\n",
       "  :task_space => \"constant\"\n",
       "  :outliers   => 0\n",
       "  :cv_ll      => 0.502583\n",
       "  :val_ll     => 0.481036\n",
       "  :task_time  => \"mixed\""
      ]
     },
     "metadata": {},
     "output_type": "display_data"
    },
    {
     "name": "stdout",
     "output_type": "stream",
     "text": [
      "80.00%┣███████████████████████████████████████████████████▏            ┫ 8/10 27:56<07:59, 0.00 it/s]"
     ]
    },
    {
     "data": {
      "text/plain": [
       "Dict{Symbol,Any} with 11 entries:\n",
       "  :eta2       => 2.0e-7\n",
       "  :lamb1      => 2.0e-7\n",
       "  :lamb2      => 0.6\n",
       "  :method     => \"enet\"\n",
       "  :experiment => 10\n",
       "  :eta1       => 0.132\n",
       "  :task_space => \"constant\"\n",
       "  :outliers   => 0\n",
       "  :cv_ll      => 0.903345\n",
       "  :val_ll     => 0.836008\n",
       "  :task_time  => \"mixed\""
      ]
     },
     "metadata": {},
     "output_type": "display_data"
    },
    {
     "name": "stdout",
     "output_type": "stream",
     "text": [
      "100.00%┣██████████████████████████████████████████████████████████████┫ 10/10 31:19<00:00, 0.00 it/s]\n",
      "Running task_space mixed task_time smooth for method fl, outliers false\n"
     ]
    },
    {
     "data": {
      "text/plain": [
       "Dict{Symbol,Any} with 11 entries:\n",
       "  :eta2       => 1.0e-12\n",
       "  :lamb1      => 0.132\n",
       "  :lamb2      => 1.0e-12\n",
       "  :method     => \"fl\"\n",
       "  :experiment => 1\n",
       "  :eta1       => 0.2\n",
       "  :task_space => \"mixed\"\n",
       "  :outliers   => 0\n",
       "  :cv_ll      => 0.749623\n",
       "  :val_ll     => 0.684681\n",
       "  :task_time  => \"smooth\""
      ]
     },
     "metadata": {},
     "output_type": "display_data"
    },
    {
     "name": "stdout",
     "output_type": "stream",
     "text": [
      "0.00%┣                                                             ┫ 0/10 Inf:Inf<Inf:Inf, 0.00 it/s]"
     ]
    },
    {
     "data": {
      "text/plain": [
       "Dict{Symbol,Any} with 11 entries:\n",
       "  :eta2       => 1.0e-12\n",
       "  :lamb1      => 0.132\n",
       "  :lamb2      => 1.0e-12\n",
       "  :method     => \"fl\"\n",
       "  :experiment => 2\n",
       "  :eta1       => 0.2\n",
       "  :task_space => \"mixed\"\n",
       "  :outliers   => 0\n",
       "  :cv_ll      => 0.880891\n",
       "  :val_ll     => 0.797154\n",
       "  :task_time  => \"smooth\""
      ]
     },
     "metadata": {},
     "output_type": "display_data"
    },
    {
     "name": "stdout",
     "output_type": "stream",
     "text": [
      "10.00%┣██████▏                                                       ┫ 1/10 00:25<Inf:Inf, 0.00 it/s]"
     ]
    },
    {
     "data": {
      "text/plain": [
       "Dict{Symbol,Any} with 11 entries:\n",
       "  :eta2       => 1.0e-12\n",
       "  :lamb1      => 0.2\n",
       "  :lamb2      => 1.0e-12\n",
       "  :method     => \"fl\"\n",
       "  :experiment => 3\n",
       "  :eta1       => 0.2\n",
       "  :task_space => \"mixed\"\n",
       "  :outliers   => 0\n",
       "  :cv_ll      => 0.871771\n",
       "  :val_ll     => 0.866381\n",
       "  :task_time  => \"smooth\""
      ]
     },
     "metadata": {},
     "output_type": "display_data"
    },
    {
     "name": "stdout",
     "output_type": "stream",
     "text": [
      "20.00%┣████████████▊                                                   ┫ 2/10 00:38<05:00, 0.03 it/s]"
     ]
    },
    {
     "data": {
      "text/plain": [
       "Dict{Symbol,Any} with 11 entries:\n",
       "  :eta2       => 1.0e-12\n",
       "  :lamb1      => 0.2\n",
       "  :lamb2      => 1.0e-12\n",
       "  :method     => \"fl\"\n",
       "  :experiment => 4\n",
       "  :eta1       => 0.132\n",
       "  :task_space => \"mixed\"\n",
       "  :outliers   => 0\n",
       "  :cv_ll      => 0.879266\n",
       "  :val_ll     => 0.825776\n",
       "  :task_time  => \"smooth\""
      ]
     },
     "metadata": {},
     "output_type": "display_data"
    },
    {
     "name": "stdout",
     "output_type": "stream",
     "text": [
      "30.00%┣███████████████████▏                                            ┫ 3/10 00:51<02:58, 0.04 it/s]"
     ]
    },
    {
     "data": {
      "text/plain": [
       "Dict{Symbol,Any} with 11 entries:\n",
       "  :eta2       => 1.0e-12\n",
       "  :lamb1      => 0.2\n",
       "  :lamb2      => 1.0e-12\n",
       "  :method     => \"fl\"\n",
       "  :experiment => 5\n",
       "  :eta1       => 0.2\n",
       "  :task_space => \"mixed\"\n",
       "  :outliers   => 0\n",
       "  :cv_ll      => 0.584174\n",
       "  :val_ll     => 0.535415\n",
       "  :task_time  => \"smooth\""
      ]
     },
     "metadata": {},
     "output_type": "display_data"
    },
    {
     "name": "stdout",
     "output_type": "stream",
     "text": [
      "40.00%┣█████████████████████████▌                                      ┫ 4/10 01:01<02:03, 0.05 it/s]"
     ]
    },
    {
     "data": {
      "text/plain": [
       "Dict{Symbol,Any} with 11 entries:\n",
       "  :eta2       => 1.0e-12\n",
       "  :lamb1      => 0.2\n",
       "  :lamb2      => 1.0e-12\n",
       "  :method     => \"fl\"\n",
       "  :experiment => 6\n",
       "  :eta1       => 0.2\n",
       "  :task_space => \"mixed\"\n",
       "  :outliers   => 0\n",
       "  :cv_ll      => 0.634789\n",
       "  :val_ll     => 0.559161\n",
       "  :task_time  => \"smooth\""
      ]
     },
     "metadata": {},
     "output_type": "display_data"
    },
    {
     "name": "stdout",
     "output_type": "stream",
     "text": [
      "50.00%┣████████████████████████████████                                ┫ 5/10 01:13<01:31, 0.05 it/s]"
     ]
    },
    {
     "data": {
      "text/plain": [
       "Dict{Symbol,Any} with 11 entries:\n",
       "  :eta2       => 1.0e-12\n",
       "  :lamb1      => 0.132\n",
       "  :lamb2      => 1.0e-12\n",
       "  :method     => \"fl\"\n",
       "  :experiment => 7\n",
       "  :eta1       => 0.2\n",
       "  :task_space => \"mixed\"\n",
       "  :outliers   => 0\n",
       "  :cv_ll      => 0.86894\n",
       "  :val_ll     => 0.856\n",
       "  :task_time  => \"smooth\""
      ]
     },
     "metadata": {},
     "output_type": "display_data"
    },
    {
     "name": "stdout",
     "output_type": "stream",
     "text": [
      "60.00%┣██████████████████████████████████████▍                         ┫ 6/10 01:26<01:08, 0.06 it/s]"
     ]
    },
    {
     "data": {
      "text/plain": [
       "Dict{Symbol,Any} with 11 entries:\n",
       "  :eta2       => 1.0e-12\n",
       "  :lamb1      => 0.2\n",
       "  :lamb2      => 1.0e-12\n",
       "  :method     => \"fl\"\n",
       "  :experiment => 8\n",
       "  :eta1       => 0.2\n",
       "  :task_space => \"mixed\"\n",
       "  :outliers   => 0\n",
       "  :cv_ll      => 0.875059\n",
       "  :val_ll     => 0.796226\n",
       "  :task_time  => \"smooth\""
      ]
     },
     "metadata": {},
     "output_type": "display_data"
    },
    {
     "name": "stdout",
     "output_type": "stream",
     "text": [
      "70.00%┣████████████████████████████████████████████▊                   ┫ 7/10 01:39<00:49, 0.06 it/s]"
     ]
    },
    {
     "data": {
      "text/plain": [
       "Dict{Symbol,Any} with 11 entries:\n",
       "  :eta2       => 1.0e-12\n",
       "  :lamb1      => 0.2\n",
       "  :lamb2      => 1.0e-12\n",
       "  :method     => \"fl\"\n",
       "  :experiment => 9\n",
       "  :eta1       => 0.2\n",
       "  :task_space => \"mixed\"\n",
       "  :outliers   => 0\n",
       "  :cv_ll      => 0.612715\n",
       "  :val_ll     => 0.526592\n",
       "  :task_time  => \"smooth\""
      ]
     },
     "metadata": {},
     "output_type": "display_data"
    },
    {
     "name": "stdout",
     "output_type": "stream",
     "text": [
      "80.00%┣███████████████████████████████████████████████████▏            ┫ 8/10 01:51<00:32, 0.06 it/s]"
     ]
    },
    {
     "data": {
      "text/plain": [
       "Dict{Symbol,Any} with 11 entries:\n",
       "  :eta2       => 1.0e-12\n",
       "  :lamb1      => 0.2\n",
       "  :lamb2      => 1.0e-12\n",
       "  :method     => \"fl\"\n",
       "  :experiment => 10\n",
       "  :eta1       => 0.2\n",
       "  :task_space => \"mixed\"\n",
       "  :outliers   => 0\n",
       "  :cv_ll      => 0.808443\n",
       "  :val_ll     => 0.796895\n",
       "  :task_time  => \"smooth\""
      ]
     },
     "metadata": {},
     "output_type": "display_data"
    },
    {
     "name": "stdout",
     "output_type": "stream",
     "text": [
      "100.00%┣██████████████████████████████████████████████████████████████┫ 10/10 02:03<00:00, 0.07 it/s]\n",
      "Running task_space mixed task_time smooth for method kal, outliers false\n"
     ]
    },
    {
     "data": {
      "text/plain": [
       "Dict{Symbol,Any} with 11 entries:\n",
       "  :eta2       => 0.6\n",
       "  :lamb1      => 1.0e-12\n",
       "  :lamb2      => 0.3\n",
       "  :method     => \"kal\"\n",
       "  :experiment => 1\n",
       "  :eta1       => 1.0e-12\n",
       "  :task_space => \"mixed\"\n",
       "  :outliers   => 0\n",
       "  :cv_ll      => 0.680684\n",
       "  :val_ll     => 0.639472\n",
       "  :task_time  => \"smooth\""
      ]
     },
     "metadata": {},
     "output_type": "display_data"
    },
    {
     "name": "stdout",
     "output_type": "stream",
     "text": [
      "0.00%┣                                                             ┫ 0/10 Inf:Inf<Inf:Inf, 0.00 it/s]"
     ]
    },
    {
     "data": {
      "text/plain": [
       "Dict{Symbol,Any} with 11 entries:\n",
       "  :eta2       => 0.6\n",
       "  :lamb1      => 1.0e-12\n",
       "  :lamb2      => 0.3\n",
       "  :method     => \"kal\"\n",
       "  :experiment => 2\n",
       "  :eta1       => 1.0e-12\n",
       "  :task_space => \"mixed\"\n",
       "  :outliers   => 0\n",
       "  :cv_ll      => 0.791037\n",
       "  :val_ll     => 0.735323\n",
       "  :task_time  => \"smooth\""
      ]
     },
     "metadata": {},
     "output_type": "display_data"
    },
    {
     "name": "stdout",
     "output_type": "stream",
     "text": [
      "10.00%┣██████▏                                                       ┫ 1/10 00:25<Inf:Inf, 0.00 it/s]"
     ]
    },
    {
     "data": {
      "text/plain": [
       "Dict{Symbol,Any} with 11 entries:\n",
       "  :eta2       => 0.6\n",
       "  :lamb1      => 1.0e-12\n",
       "  :lamb2      => 0.3\n",
       "  :method     => \"kal\"\n",
       "  :experiment => 3\n",
       "  :eta1       => 1.0e-12\n",
       "  :task_space => \"mixed\"\n",
       "  :outliers   => 0\n",
       "  :cv_ll      => 0.812676\n",
       "  :val_ll     => 0.815037\n",
       "  :task_time  => \"smooth\""
      ]
     },
     "metadata": {},
     "output_type": "display_data"
    },
    {
     "name": "stdout",
     "output_type": "stream",
     "text": [
      "20.00%┣████████████▊                                                   ┫ 2/10 00:38<05:00, 0.03 it/s]"
     ]
    },
    {
     "data": {
      "text/plain": [
       "Dict{Symbol,Any} with 11 entries:\n",
       "  :eta2       => 0.3\n",
       "  :lamb1      => 1.0e-12\n",
       "  :lamb2      => 0.6\n",
       "  :method     => \"kal\"\n",
       "  :experiment => 4\n",
       "  :eta1       => 1.0e-12\n",
       "  :task_space => \"mixed\"\n",
       "  :outliers   => 0\n",
       "  :cv_ll      => 0.776818\n",
       "  :val_ll     => 0.765311\n",
       "  :task_time  => \"smooth\""
      ]
     },
     "metadata": {},
     "output_type": "display_data"
    },
    {
     "name": "stdout",
     "output_type": "stream",
     "text": [
      "30.00%┣███████████████████▏                                            ┫ 3/10 00:51<02:59, 0.04 it/s]"
     ]
    },
    {
     "data": {
      "text/plain": [
       "Dict{Symbol,Any} with 11 entries:\n",
       "  :eta2       => 0.6\n",
       "  :lamb1      => 1.0e-12\n",
       "  :lamb2      => 0.6\n",
       "  :method     => \"kal\"\n",
       "  :experiment => 5\n",
       "  :eta1       => 1.0e-12\n",
       "  :task_space => \"mixed\"\n",
       "  :outliers   => 0\n",
       "  :cv_ll      => 0.539307\n",
       "  :val_ll     => 0.509839\n",
       "  :task_time  => \"smooth\""
      ]
     },
     "metadata": {},
     "output_type": "display_data"
    },
    {
     "name": "stdout",
     "output_type": "stream",
     "text": [
      "40.00%┣█████████████████████████▌                                      ┫ 4/10 01:02<02:04, 0.05 it/s]"
     ]
    },
    {
     "data": {
      "text/plain": [
       "Dict{Symbol,Any} with 11 entries:\n",
       "  :eta2       => 0.6\n",
       "  :lamb1      => 1.0e-12\n",
       "  :lamb2      => 0.6\n",
       "  :method     => \"kal\"\n",
       "  :experiment => 6\n",
       "  :eta1       => 1.0e-12\n",
       "  :task_space => \"mixed\"\n",
       "  :outliers   => 0\n",
       "  :cv_ll      => 0.547914\n",
       "  :val_ll     => 0.501933\n",
       "  :task_time  => \"smooth\""
      ]
     },
     "metadata": {},
     "output_type": "display_data"
    },
    {
     "name": "stdout",
     "output_type": "stream",
     "text": [
      "50.00%┣████████████████████████████████                                ┫ 5/10 01:14<01:32, 0.05 it/s]"
     ]
    },
    {
     "data": {
      "text/plain": [
       "Dict{Symbol,Any} with 11 entries:\n",
       "  :eta2       => 0.3\n",
       "  :lamb1      => 1.0e-12\n",
       "  :lamb2      => 0.3\n",
       "  :method     => \"kal\"\n",
       "  :experiment => 7\n",
       "  :eta1       => 1.0e-12\n",
       "  :task_space => \"mixed\"\n",
       "  :outliers   => 0\n",
       "  :cv_ll      => 0.785232\n",
       "  :val_ll     => 0.800092\n",
       "  :task_time  => \"smooth\""
      ]
     },
     "metadata": {},
     "output_type": "display_data"
    },
    {
     "name": "stdout",
     "output_type": "stream",
     "text": [
      "60.00%┣██████████████████████████████████████▍                         ┫ 6/10 01:27<01:09, 0.06 it/s]"
     ]
    },
    {
     "data": {
      "text/plain": [
       "Dict{Symbol,Any} with 11 entries:\n",
       "  :eta2       => 0.6\n",
       "  :lamb1      => 1.0e-12\n",
       "  :lamb2      => 0.3\n",
       "  :method     => \"kal\"\n",
       "  :experiment => 8\n",
       "  :eta1       => 1.0e-12\n",
       "  :task_space => \"mixed\"\n",
       "  :outliers   => 0\n",
       "  :cv_ll      => 0.78399\n",
       "  :val_ll     => 0.735697\n",
       "  :task_time  => \"smooth\""
      ]
     },
     "metadata": {},
     "output_type": "display_data"
    },
    {
     "name": "stdout",
     "output_type": "stream",
     "text": [
      "70.00%┣████████████████████████████████████████████▊                   ┫ 7/10 01:39<00:50, 0.06 it/s]"
     ]
    },
    {
     "data": {
      "text/plain": [
       "Dict{Symbol,Any} with 11 entries:\n",
       "  :eta2       => 0.6\n",
       "  :lamb1      => 1.0e-12\n",
       "  :lamb2      => 0.15\n",
       "  :method     => \"kal\"\n",
       "  :experiment => 9\n",
       "  :eta1       => 1.0e-12\n",
       "  :task_space => \"mixed\"\n",
       "  :outliers   => 0\n",
       "  :cv_ll      => 0.551293\n",
       "  :val_ll     => 0.487595\n",
       "  :task_time  => \"smooth\""
      ]
     },
     "metadata": {},
     "output_type": "display_data"
    },
    {
     "name": "stdout",
     "output_type": "stream",
     "text": [
      "80.00%┣███████████████████████████████████████████████████▏            ┫ 8/10 01:52<00:32, 0.06 it/s]"
     ]
    },
    {
     "data": {
      "text/plain": [
       "Dict{Symbol,Any} with 11 entries:\n",
       "  :eta2       => 0.6\n",
       "  :lamb1      => 1.0e-12\n",
       "  :lamb2      => 0.3\n",
       "  :method     => \"kal\"\n",
       "  :experiment => 10\n",
       "  :eta1       => 1.0e-12\n",
       "  :task_space => \"mixed\"\n",
       "  :outliers   => 0\n",
       "  :cv_ll      => 0.750251\n",
       "  :val_ll     => 0.732336\n",
       "  :task_time  => \"smooth\""
      ]
     },
     "metadata": {},
     "output_type": "display_data"
    },
    {
     "name": "stdout",
     "output_type": "stream",
     "text": [
      "100.00%┣██████████████████████████████████████████████████████████████┫ 10/10 02:04<00:00, 0.07 it/s]\n",
      "Running task_space mixed task_time smooth for method enet, outliers false\n"
     ]
    },
    {
     "data": {
      "text/plain": [
       "Dict{Symbol,Any} with 11 entries:\n",
       "  :eta2       => 0.6\n",
       "  :lamb1      => 2.0e-7\n",
       "  :lamb2      => 0.3\n",
       "  :method     => \"enet\"\n",
       "  :experiment => 1\n",
       "  :eta1       => 2.0e-7\n",
       "  :task_space => \"mixed\"\n",
       "  :outliers   => 0\n",
       "  :cv_ll      => 0.689462\n",
       "  :val_ll     => 0.638599\n",
       "  :task_time  => \"smooth\""
      ]
     },
     "metadata": {},
     "output_type": "display_data"
    },
    {
     "name": "stdout",
     "output_type": "stream",
     "text": [
      "0.00%┣                                                             ┫ 0/10 Inf:Inf<Inf:Inf, 0.00 it/s]"
     ]
    },
    {
     "data": {
      "text/plain": [
       "Dict{Symbol,Any} with 11 entries:\n",
       "  :eta2       => 0.6\n",
       "  :lamb1      => 2.0e-7\n",
       "  :lamb2      => 0.3\n",
       "  :method     => \"enet\"\n",
       "  :experiment => 2\n",
       "  :eta1       => 2.0e-7\n",
       "  :task_space => \"mixed\"\n",
       "  :outliers   => 0\n",
       "  :cv_ll      => 0.779182\n",
       "  :val_ll     => 0.738659\n",
       "  :task_time  => \"smooth\""
      ]
     },
     "metadata": {},
     "output_type": "display_data"
    },
    {
     "name": "stdout",
     "output_type": "stream",
     "text": [
      "10.00%┣██████▏                                                       ┫ 1/10 06:26<Inf:Inf, 0.00 it/s]"
     ]
    },
    {
     "data": {
      "text/plain": [
       "Dict{Symbol,Any} with 11 entries:\n",
       "  :eta2       => 0.6\n",
       "  :lamb1      => 2.0e-7\n",
       "  :lamb2      => 0.3\n",
       "  :method     => \"enet\"\n",
       "  :experiment => 3\n",
       "  :eta1       => 0.066\n",
       "  :task_space => \"mixed\"\n",
       "  :outliers   => 0\n",
       "  :cv_ll      => 0.819841\n",
       "  :val_ll     => 0.814249\n",
       "  :task_time  => \"smooth\""
      ]
     },
     "metadata": {},
     "output_type": "display_data"
    },
    {
     "name": "stdout",
     "output_type": "stream",
     "text": [
      "20.00%┣████████████▏                                                ┫ 2/10 09:39<01:17:10, 0.00 it/s]"
     ]
    },
    {
     "data": {
      "text/plain": [
       "Dict{Symbol,Any} with 11 entries:\n",
       "  :eta2       => 0.3\n",
       "  :lamb1      => 2.0e-7\n",
       "  :lamb2      => 0.6\n",
       "  :method     => \"enet\"\n",
       "  :experiment => 4\n",
       "  :eta1       => 2.0e-7\n",
       "  :task_space => \"mixed\"\n",
       "  :outliers   => 0\n",
       "  :cv_ll      => 0.770023\n",
       "  :val_ll     => 0.767\n",
       "  :task_time  => \"smooth\""
      ]
     },
     "metadata": {},
     "output_type": "display_data"
    },
    {
     "name": "stdout",
     "output_type": "stream",
     "text": [
      "30.00%┣███████████████████▏                                            ┫ 3/10 13:00<45:31, 0.00 it/s]"
     ]
    },
    {
     "data": {
      "text/plain": [
       "Dict{Symbol,Any} with 11 entries:\n",
       "  :eta2       => 2.0e-7\n",
       "  :lamb1      => 2.0e-7\n",
       "  :lamb2      => 0.6\n",
       "  :method     => \"enet\"\n",
       "  :experiment => 5\n",
       "  :eta1       => 0.2\n",
       "  :task_space => \"mixed\"\n",
       "  :outliers   => 0\n",
       "  :cv_ll      => 0.55159\n",
       "  :val_ll     => 0.50637\n",
       "  :task_time  => \"smooth\""
      ]
     },
     "metadata": {},
     "output_type": "display_data"
    },
    {
     "name": "stdout",
     "output_type": "stream",
     "text": [
      "40.00%┣█████████████████████████▌                                      ┫ 4/10 15:48<31:37, 0.00 it/s]"
     ]
    },
    {
     "data": {
      "text/plain": [
       "Dict{Symbol,Any} with 11 entries:\n",
       "  :eta2       => 0.6\n",
       "  :lamb1      => 2.0e-7\n",
       "  :lamb2      => 0.6\n",
       "  :method     => \"enet\"\n",
       "  :experiment => 6\n",
       "  :eta1       => 2.0e-7\n",
       "  :task_space => \"mixed\"\n",
       "  :outliers   => 0\n",
       "  :cv_ll      => 0.550502\n",
       "  :val_ll     => 0.503573\n",
       "  :task_time  => \"smooth\""
      ]
     },
     "metadata": {},
     "output_type": "display_data"
    },
    {
     "name": "stdout",
     "output_type": "stream",
     "text": [
      "50.00%┣████████████████████████████████                                ┫ 5/10 18:53<23:37, 0.00 it/s]"
     ]
    },
    {
     "data": {
      "text/plain": [
       "Dict{Symbol,Any} with 11 entries:\n",
       "  :eta2       => 0.3\n",
       "  :lamb1      => 2.0e-7\n",
       "  :lamb2      => 0.3\n",
       "  :method     => \"enet\"\n",
       "  :experiment => 7\n",
       "  :eta1       => 2.0e-7\n",
       "  :task_space => \"mixed\"\n",
       "  :outliers   => 0\n",
       "  :cv_ll      => 0.775152\n",
       "  :val_ll     => 0.797265\n",
       "  :task_time  => \"smooth\""
      ]
     },
     "metadata": {},
     "output_type": "display_data"
    },
    {
     "name": "stdout",
     "output_type": "stream",
     "text": [
      "60.00%┣██████████████████████████████████████▍                         ┫ 6/10 22:15<17:48, 0.00 it/s]"
     ]
    },
    {
     "data": {
      "text/plain": [
       "Dict{Symbol,Any} with 11 entries:\n",
       "  :eta2       => 0.6\n",
       "  :lamb1      => 2.0e-7\n",
       "  :lamb2      => 0.3\n",
       "  :method     => \"enet\"\n",
       "  :experiment => 8\n",
       "  :eta1       => 2.0e-7\n",
       "  :task_space => \"mixed\"\n",
       "  :outliers   => 0\n",
       "  :cv_ll      => 0.781504\n",
       "  :val_ll     => 0.733297\n",
       "  :task_time  => \"smooth\""
      ]
     },
     "metadata": {},
     "output_type": "display_data"
    },
    {
     "name": "stdout",
     "output_type": "stream",
     "text": [
      "70.00%┣████████████████████████████████████████████▊                   ┫ 7/10 25:27<12:44, 0.00 it/s]"
     ]
    },
    {
     "data": {
      "text/plain": [
       "Dict{Symbol,Any} with 11 entries:\n",
       "  :eta2       => 0.6\n",
       "  :lamb1      => 2.0e-7\n",
       "  :lamb2      => 0.15\n",
       "  :method     => \"enet\"\n",
       "  :experiment => 9\n",
       "  :eta1       => 0.2\n",
       "  :task_space => \"mixed\"\n",
       "  :outliers   => 0\n",
       "  :cv_ll      => 0.551967\n",
       "  :val_ll     => 0.480022\n",
       "  :task_time  => \"smooth\""
      ]
     },
     "metadata": {},
     "output_type": "display_data"
    },
    {
     "name": "stdout",
     "output_type": "stream",
     "text": [
      "80.00%┣███████████████████████████████████████████████████▏            ┫ 8/10 28:29<08:08, 0.00 it/s]"
     ]
    },
    {
     "data": {
      "text/plain": [
       "Dict{Symbol,Any} with 11 entries:\n",
       "  :eta2       => 0.6\n",
       "  :lamb1      => 2.0e-7\n",
       "  :lamb2      => 0.3\n",
       "  :method     => \"enet\"\n",
       "  :experiment => 10\n",
       "  :eta1       => 2.0e-7\n",
       "  :task_space => \"mixed\"\n",
       "  :outliers   => 0\n",
       "  :cv_ll      => 0.739718\n",
       "  :val_ll     => 0.735453\n",
       "  :task_time  => \"smooth\""
      ]
     },
     "metadata": {},
     "output_type": "display_data"
    },
    {
     "name": "stdout",
     "output_type": "stream",
     "text": [
      "100.00%┣██████████████████████████████████████████████████████████████┫ 10/10 31:32<00:00, 0.00 it/s]\n",
      "Running task_space mixed task_time constant for method fl, outliers false\n"
     ]
    },
    {
     "data": {
      "text/plain": [
       "Dict{Symbol,Any} with 11 entries:\n",
       "  :eta2       => 1.0e-12\n",
       "  :lamb1      => 0.2\n",
       "  :lamb2      => 1.0e-12\n",
       "  :method     => \"fl\"\n",
       "  :experiment => 1\n",
       "  :eta1       => 0.2\n",
       "  :task_space => \"mixed\"\n",
       "  :outliers   => 0\n",
       "  :cv_ll      => 0.83205\n",
       "  :val_ll     => 0.789728\n",
       "  :task_time  => \"constant\""
      ]
     },
     "metadata": {},
     "output_type": "display_data"
    },
    {
     "name": "stdout",
     "output_type": "stream",
     "text": [
      "0.00%┣                                                             ┫ 0/10 Inf:Inf<Inf:Inf, 0.00 it/s]"
     ]
    },
    {
     "data": {
      "text/plain": [
       "Dict{Symbol,Any} with 11 entries:\n",
       "  :eta2       => 1.0e-12\n",
       "  :lamb1      => 0.2\n",
       "  :lamb2      => 1.0e-12\n",
       "  :method     => \"fl\"\n",
       "  :experiment => 2\n",
       "  :eta1       => 0.2\n",
       "  :task_space => \"mixed\"\n",
       "  :outliers   => 0\n",
       "  :cv_ll      => 0.689651\n",
       "  :val_ll     => 0.634387\n",
       "  :task_time  => \"constant\""
      ]
     },
     "metadata": {},
     "output_type": "display_data"
    },
    {
     "name": "stdout",
     "output_type": "stream",
     "text": [
      "10.00%┣██████▏                                                       ┫ 1/10 00:24<Inf:Inf, 0.00 it/s]"
     ]
    },
    {
     "data": {
      "text/plain": [
       "Dict{Symbol,Any} with 11 entries:\n",
       "  :eta2       => 1.0e-12\n",
       "  :lamb1      => 0.2\n",
       "  :lamb2      => 1.0e-12\n",
       "  :method     => \"fl\"\n",
       "  :experiment => 3\n",
       "  :eta1       => 0.2\n",
       "  :task_space => \"mixed\"\n",
       "  :outliers   => 0\n",
       "  :cv_ll      => 0.706296\n",
       "  :val_ll     => 0.637614\n",
       "  :task_time  => \"constant\""
      ]
     },
     "metadata": {},
     "output_type": "display_data"
    },
    {
     "name": "stdout",
     "output_type": "stream",
     "text": [
      "20.00%┣████████████▊                                                   ┫ 2/10 00:37<04:59, 0.03 it/s]"
     ]
    },
    {
     "data": {
      "text/plain": [
       "Dict{Symbol,Any} with 11 entries:\n",
       "  :eta2       => 1.0e-12\n",
       "  :lamb1      => 0.2\n",
       "  :lamb2      => 1.0e-12\n",
       "  :method     => \"fl\"\n",
       "  :experiment => 4\n",
       "  :eta1       => 0.132\n",
       "  :task_space => \"mixed\"\n",
       "  :outliers   => 0\n",
       "  :cv_ll      => 0.773964\n",
       "  :val_ll     => 0.718033\n",
       "  :task_time  => \"constant\""
      ]
     },
     "metadata": {},
     "output_type": "display_data"
    },
    {
     "name": "stdout",
     "output_type": "stream",
     "text": [
      "30.00%┣███████████████████▏                                            ┫ 3/10 00:49<02:52, 0.04 it/s]"
     ]
    },
    {
     "data": {
      "text/plain": [
       "Dict{Symbol,Any} with 11 entries:\n",
       "  :eta2       => 1.0e-12\n",
       "  :lamb1      => 0.132\n",
       "  :lamb2      => 1.0e-12\n",
       "  :method     => \"fl\"\n",
       "  :experiment => 5\n",
       "  :eta1       => 0.2\n",
       "  :task_space => \"mixed\"\n",
       "  :outliers   => 0\n",
       "  :cv_ll      => 0.994245\n",
       "  :val_ll     => 0.965092\n",
       "  :task_time  => \"constant\""
      ]
     },
     "metadata": {},
     "output_type": "display_data"
    },
    {
     "name": "stdout",
     "output_type": "stream",
     "text": [
      "40.00%┣█████████████████████████▌                                      ┫ 4/10 01:01<02:03, 0.05 it/s]"
     ]
    },
    {
     "data": {
      "text/plain": [
       "Dict{Symbol,Any} with 11 entries:\n",
       "  :eta2       => 1.0e-12\n",
       "  :lamb1      => 0.2\n",
       "  :lamb2      => 1.0e-12\n",
       "  :method     => \"fl\"\n",
       "  :experiment => 6\n",
       "  :eta1       => 0.2\n",
       "  :task_space => \"mixed\"\n",
       "  :outliers   => 0\n",
       "  :cv_ll      => 0.68886\n",
       "  :val_ll     => 0.630348\n",
       "  :task_time  => \"constant\""
      ]
     },
     "metadata": {},
     "output_type": "display_data"
    },
    {
     "name": "stdout",
     "output_type": "stream",
     "text": [
      "50.00%┣████████████████████████████████                                ┫ 5/10 01:12<01:30, 0.06 it/s]"
     ]
    },
    {
     "data": {
      "text/plain": [
       "Dict{Symbol,Any} with 11 entries:\n",
       "  :eta2       => 1.0e-12\n",
       "  :lamb1      => 0.132\n",
       "  :lamb2      => 1.0e-12\n",
       "  :method     => \"fl\"\n",
       "  :experiment => 7\n",
       "  :eta1       => 0.2\n",
       "  :task_space => \"mixed\"\n",
       "  :outliers   => 0\n",
       "  :cv_ll      => 0.888854\n",
       "  :val_ll     => 0.825941\n",
       "  :task_time  => \"constant\""
      ]
     },
     "metadata": {},
     "output_type": "display_data"
    },
    {
     "name": "stdout",
     "output_type": "stream",
     "text": [
      "60.00%┣██████████████████████████████████████▍                         ┫ 6/10 01:25<01:08, 0.06 it/s]"
     ]
    },
    {
     "data": {
      "text/plain": [
       "Dict{Symbol,Any} with 11 entries:\n",
       "  :eta2       => 1.0e-12\n",
       "  :lamb1      => 0.2\n",
       "  :lamb2      => 1.0e-12\n",
       "  :method     => \"fl\"\n",
       "  :experiment => 8\n",
       "  :eta1       => 0.2\n",
       "  :task_space => \"mixed\"\n",
       "  :outliers   => 0\n",
       "  :cv_ll      => 0.775208\n",
       "  :val_ll     => 0.674345\n",
       "  :task_time  => \"constant\""
      ]
     },
     "metadata": {},
     "output_type": "display_data"
    },
    {
     "name": "stdout",
     "output_type": "stream",
     "text": [
      "70.00%┣████████████████████████████████████████████▊                   ┫ 7/10 01:37<00:49, 0.06 it/s]"
     ]
    },
    {
     "data": {
      "text/plain": [
       "Dict{Symbol,Any} with 11 entries:\n",
       "  :eta2       => 1.0e-12\n",
       "  :lamb1      => 0.2\n",
       "  :lamb2      => 1.0e-12\n",
       "  :method     => \"fl\"\n",
       "  :experiment => 9\n",
       "  :eta1       => 0.132\n",
       "  :task_space => \"mixed\"\n",
       "  :outliers   => 0\n",
       "  :cv_ll      => 0.619609\n",
       "  :val_ll     => 0.583911\n",
       "  :task_time  => \"constant\""
      ]
     },
     "metadata": {},
     "output_type": "display_data"
    },
    {
     "name": "stdout",
     "output_type": "stream",
     "text": [
      "80.00%┣███████████████████████████████████████████████████▏            ┫ 8/10 01:48<00:31, 0.06 it/s]"
     ]
    },
    {
     "data": {
      "text/plain": [
       "Dict{Symbol,Any} with 11 entries:\n",
       "  :eta2       => 1.0e-12\n",
       "  :lamb1      => 0.2\n",
       "  :lamb2      => 1.0e-12\n",
       "  :method     => \"fl\"\n",
       "  :experiment => 10\n",
       "  :eta1       => 0.2\n",
       "  :task_space => \"mixed\"\n",
       "  :outliers   => 0\n",
       "  :cv_ll      => 0.969473\n",
       "  :val_ll     => 0.934358\n",
       "  :task_time  => \"constant\""
      ]
     },
     "metadata": {},
     "output_type": "display_data"
    },
    {
     "name": "stdout",
     "output_type": "stream",
     "text": [
      "100.00%┣██████████████████████████████████████████████████████████████┫ 10/10 02:00<00:00, 0.08 it/s]\n",
      "Running task_space mixed task_time constant for method kal, outliers false\n"
     ]
    },
    {
     "data": {
      "text/plain": [
       "Dict{Symbol,Any} with 11 entries:\n",
       "  :eta2       => 0.6\n",
       "  :lamb1      => 1.0e-12\n",
       "  :lamb2      => 0.6\n",
       "  :method     => \"kal\"\n",
       "  :experiment => 1\n",
       "  :eta1       => 1.0e-12\n",
       "  :task_space => \"mixed\"\n",
       "  :outliers   => 0\n",
       "  :cv_ll      => 0.800641\n",
       "  :val_ll     => 0.781416\n",
       "  :task_time  => \"constant\""
      ]
     },
     "metadata": {},
     "output_type": "display_data"
    },
    {
     "name": "stdout",
     "output_type": "stream",
     "text": [
      "0.00%┣                                                             ┫ 0/10 Inf:Inf<Inf:Inf, 0.00 it/s]"
     ]
    },
    {
     "data": {
      "text/plain": [
       "Dict{Symbol,Any} with 11 entries:\n",
       "  :eta2       => 0.6\n",
       "  :lamb1      => 1.0e-12\n",
       "  :lamb2      => 0.15\n",
       "  :method     => \"kal\"\n",
       "  :experiment => 2\n",
       "  :eta1       => 1.0e-12\n",
       "  :task_space => \"mixed\"\n",
       "  :outliers   => 0\n",
       "  :cv_ll      => 0.624893\n",
       "  :val_ll     => 0.580867\n",
       "  :task_time  => \"constant\""
      ]
     },
     "metadata": {},
     "output_type": "display_data"
    },
    {
     "name": "stdout",
     "output_type": "stream",
     "text": [
      "10.00%┣██████▏                                                       ┫ 1/10 00:25<Inf:Inf, 0.00 it/s]"
     ]
    },
    {
     "data": {
      "text/plain": [
       "Dict{Symbol,Any} with 11 entries:\n",
       "  :eta2       => 0.6\n",
       "  :lamb1      => 1.0e-12\n",
       "  :lamb2      => 0.3\n",
       "  :method     => \"kal\"\n",
       "  :experiment => 3\n",
       "  :eta1       => 1.0e-12\n",
       "  :task_space => \"mixed\"\n",
       "  :outliers   => 0\n",
       "  :cv_ll      => 0.648909\n",
       "  :val_ll     => 0.60008\n",
       "  :task_time  => \"constant\""
      ]
     },
     "metadata": {},
     "output_type": "display_data"
    },
    {
     "name": "stdout",
     "output_type": "stream",
     "text": [
      "20.00%┣████████████▊                                                   ┫ 2/10 00:38<05:00, 0.03 it/s]"
     ]
    },
    {
     "data": {
      "text/plain": [
       "Dict{Symbol,Any} with 11 entries:\n",
       "  :eta2       => 0.3\n",
       "  :lamb1      => 1.0e-12\n",
       "  :lamb2      => 0.6\n",
       "  :method     => \"kal\"\n",
       "  :experiment => 4\n",
       "  :eta1       => 1.0e-12\n",
       "  :task_space => \"mixed\"\n",
       "  :outliers   => 0\n",
       "  :cv_ll      => 0.706619\n",
       "  :val_ll     => 0.684225\n",
       "  :task_time  => \"constant\""
      ]
     },
     "metadata": {},
     "output_type": "display_data"
    },
    {
     "name": "stdout",
     "output_type": "stream",
     "text": [
      "30.00%┣███████████████████▏                                            ┫ 3/10 00:50<02:54, 0.04 it/s]"
     ]
    },
    {
     "data": {
      "text/plain": [
       "Dict{Symbol,Any} with 11 entries:\n",
       "  :eta2       => 0.6\n",
       "  :lamb1      => 1.0e-12\n",
       "  :lamb2      => 0.6\n",
       "  :method     => \"kal\"\n",
       "  :experiment => 5\n",
       "  :eta1       => 1.0e-12\n",
       "  :task_space => \"mixed\"\n",
       "  :outliers   => 0\n",
       "  :cv_ll      => 0.998528\n",
       "  :val_ll     => 0.953846\n",
       "  :task_time  => \"constant\""
      ]
     },
     "metadata": {},
     "output_type": "display_data"
    },
    {
     "name": "stdout",
     "output_type": "stream",
     "text": [
      "40.00%┣█████████████████████████▌                                      ┫ 4/10 01:02<02:03, 0.05 it/s]"
     ]
    },
    {
     "data": {
      "text/plain": [
       "Dict{Symbol,Any} with 11 entries:\n",
       "  :eta2       => 0.6\n",
       "  :lamb1      => 1.0e-12\n",
       "  :lamb2      => 0.15\n",
       "  :method     => \"kal\"\n",
       "  :experiment => 6\n",
       "  :eta1       => 1.0e-12\n",
       "  :task_space => \"mixed\"\n",
       "  :outliers   => 0\n",
       "  :cv_ll      => 0.665734\n",
       "  :val_ll     => 0.620025\n",
       "  :task_time  => \"constant\""
      ]
     },
     "metadata": {},
     "output_type": "display_data"
    },
    {
     "name": "stdout",
     "output_type": "stream",
     "text": [
      "50.00%┣████████████████████████████████                                ┫ 5/10 01:13<01:31, 0.05 it/s]"
     ]
    },
    {
     "data": {
      "text/plain": [
       "Dict{Symbol,Any} with 11 entries:\n",
       "  :eta2       => 0.6\n",
       "  :lamb1      => 1.0e-12\n",
       "  :lamb2      => 0.3\n",
       "  :method     => \"kal\"\n",
       "  :experiment => 7\n",
       "  :eta1       => 1.0e-12\n",
       "  :task_space => \"mixed\"\n",
       "  :outliers   => 0\n",
       "  :cv_ll      => 0.851042\n",
       "  :val_ll     => 0.801108\n",
       "  :task_time  => \"constant\""
      ]
     },
     "metadata": {},
     "output_type": "display_data"
    },
    {
     "name": "stdout",
     "output_type": "stream",
     "text": [
      "60.00%┣██████████████████████████████████████▍                         ┫ 6/10 01:26<01:09, 0.06 it/s]"
     ]
    },
    {
     "data": {
      "text/plain": [
       "Dict{Symbol,Any} with 11 entries:\n",
       "  :eta2       => 0.6\n",
       "  :lamb1      => 1.0e-12\n",
       "  :lamb2      => 0.6\n",
       "  :method     => \"kal\"\n",
       "  :experiment => 8\n",
       "  :eta1       => 1.0e-12\n",
       "  :task_space => \"mixed\"\n",
       "  :outliers   => 0\n",
       "  :cv_ll      => 0.725348\n",
       "  :val_ll     => 0.673574\n",
       "  :task_time  => \"constant\""
      ]
     },
     "metadata": {},
     "output_type": "display_data"
    },
    {
     "name": "stdout",
     "output_type": "stream",
     "text": [
      "70.00%┣████████████████████████████████████████████▊                   ┫ 7/10 01:39<00:49, 0.06 it/s]"
     ]
    },
    {
     "data": {
      "text/plain": [
       "Dict{Symbol,Any} with 11 entries:\n",
       "  :eta2       => 0.6\n",
       "  :lamb1      => 1.0e-12\n",
       "  :lamb2      => 0.6\n",
       "  :method     => \"kal\"\n",
       "  :experiment => 9\n",
       "  :eta1       => 1.0e-12\n",
       "  :task_space => \"mixed\"\n",
       "  :outliers   => 0\n",
       "  :cv_ll      => 0.6058\n",
       "  :val_ll     => 0.578213\n",
       "  :task_time  => \"constant\""
      ]
     },
     "metadata": {},
     "output_type": "display_data"
    },
    {
     "name": "stdout",
     "output_type": "stream",
     "text": [
      "80.00%┣███████████████████████████████████████████████████▏            ┫ 8/10 01:49<00:31, 0.06 it/s]"
     ]
    },
    {
     "data": {
      "text/plain": [
       "Dict{Symbol,Any} with 11 entries:\n",
       "  :eta2       => 0.6\n",
       "  :lamb1      => 1.0e-12\n",
       "  :lamb2      => 0.6\n",
       "  :method     => \"kal\"\n",
       "  :experiment => 10\n",
       "  :eta1       => 1.0e-12\n",
       "  :task_space => \"mixed\"\n",
       "  :outliers   => 0\n",
       "  :cv_ll      => 0.927727\n",
       "  :val_ll     => 0.91136\n",
       "  :task_time  => \"constant\""
      ]
     },
     "metadata": {},
     "output_type": "display_data"
    },
    {
     "name": "stdout",
     "output_type": "stream",
     "text": [
      "100.00%┣██████████████████████████████████████████████████████████████┫ 10/10 02:01<00:00, 0.07 it/s]\n",
      "Running task_space mixed task_time constant for method enet, outliers false\n"
     ]
    },
    {
     "data": {
      "text/plain": [
       "Dict{Symbol,Any} with 11 entries:\n",
       "  :eta2       => 0.6\n",
       "  :lamb1      => 0.132\n",
       "  :lamb2      => 2.0e-7\n",
       "  :method     => \"enet\"\n",
       "  :experiment => 1\n",
       "  :eta1       => 2.0e-7\n",
       "  :task_space => \"mixed\"\n",
       "  :outliers   => 0\n",
       "  :cv_ll      => 0.779763\n",
       "  :val_ll     => 0.772244\n",
       "  :task_time  => \"constant\""
      ]
     },
     "metadata": {},
     "output_type": "display_data"
    },
    {
     "name": "stdout",
     "output_type": "stream",
     "text": [
      "0.00%┣                                                             ┫ 0/10 Inf:Inf<Inf:Inf, 0.00 it/s]"
     ]
    },
    {
     "data": {
      "text/plain": [
       "Dict{Symbol,Any} with 11 entries:\n",
       "  :eta2       => 0.6\n",
       "  :lamb1      => 0.132\n",
       "  :lamb2      => 2.0e-7\n",
       "  :method     => \"enet\"\n",
       "  :experiment => 2\n",
       "  :eta1       => 2.0e-7\n",
       "  :task_space => \"mixed\"\n",
       "  :outliers   => 0\n",
       "  :cv_ll      => 0.580123\n",
       "  :val_ll     => 0.555001\n",
       "  :task_time  => \"constant\""
      ]
     },
     "metadata": {},
     "output_type": "display_data"
    },
    {
     "name": "stdout",
     "output_type": "stream",
     "text": [
      "10.00%┣██████▏                                                       ┫ 1/10 06:11<Inf:Inf, 0.00 it/s]"
     ]
    },
    {
     "data": {
      "text/plain": [
       "Dict{Symbol,Any} with 11 entries:\n",
       "  :eta2       => 0.6\n",
       "  :lamb1      => 0.132\n",
       "  :lamb2      => 2.0e-7\n",
       "  :method     => \"enet\"\n",
       "  :experiment => 3\n",
       "  :eta1       => 2.0e-7\n",
       "  :task_space => \"mixed\"\n",
       "  :outliers   => 0\n",
       "  :cv_ll      => 0.634539\n",
       "  :val_ll     => 0.593489\n",
       "  :task_time  => \"constant\""
      ]
     },
     "metadata": {},
     "output_type": "display_data"
    },
    {
     "name": "stdout",
     "output_type": "stream",
     "text": [
      "20.00%┣████████████▏                                                ┫ 2/10 09:24<01:15:14, 0.00 it/s]"
     ]
    },
    {
     "data": {
      "text/plain": [
       "Dict{Symbol,Any} with 11 entries:\n",
       "  :eta2       => 0.3\n",
       "  :lamb1      => 2.0e-7\n",
       "  :lamb2      => 0.6\n",
       "  :method     => \"enet\"\n",
       "  :experiment => 4\n",
       "  :eta1       => 2.0e-7\n",
       "  :task_space => \"mixed\"\n",
       "  :outliers   => 0\n",
       "  :cv_ll      => 0.709942\n",
       "  :val_ll     => 0.68525\n",
       "  :task_time  => \"constant\""
      ]
     },
     "metadata": {},
     "output_type": "display_data"
    },
    {
     "name": "stdout",
     "output_type": "stream",
     "text": [
      "30.00%┣███████████████████▏                                            ┫ 3/10 12:24<43:24, 0.00 it/s]"
     ]
    },
    {
     "data": {
      "text/plain": [
       "Dict{Symbol,Any} with 11 entries:\n",
       "  :eta2       => 0.6\n",
       "  :lamb1      => 0.132\n",
       "  :lamb2      => 2.0e-7\n",
       "  :method     => \"enet\"\n",
       "  :experiment => 5\n",
       "  :eta1       => 2.0e-7\n",
       "  :task_space => \"mixed\"\n",
       "  :outliers   => 0\n",
       "  :cv_ll      => 0.972622\n",
       "  :val_ll     => 0.941754\n",
       "  :task_time  => \"constant\""
      ]
     },
     "metadata": {},
     "output_type": "display_data"
    },
    {
     "name": "stdout",
     "output_type": "stream",
     "text": [
      "40.00%┣█████████████████████████▌                                      ┫ 4/10 15:26<30:52, 0.00 it/s]"
     ]
    },
    {
     "data": {
      "text/plain": [
       "Dict{Symbol,Any} with 11 entries:\n",
       "  :eta2       => 0.6\n",
       "  :lamb1      => 0.132\n",
       "  :lamb2      => 2.0e-7\n",
       "  :method     => \"enet\"\n",
       "  :experiment => 6\n",
       "  :eta1       => 0.132\n",
       "  :task_space => \"mixed\"\n",
       "  :outliers   => 0\n",
       "  :cv_ll      => 0.636968\n",
       "  :val_ll     => 0.603289\n",
       "  :task_time  => \"constant\""
      ]
     },
     "metadata": {},
     "output_type": "display_data"
    },
    {
     "name": "stdout",
     "output_type": "stream",
     "text": [
      "50.00%┣████████████████████████████████                                ┫ 5/10 18:19<22:54, 0.00 it/s]"
     ]
    },
    {
     "data": {
      "text/plain": [
       "Dict{Symbol,Any} with 11 entries:\n",
       "  :eta2       => 0.6\n",
       "  :lamb1      => 0.066\n",
       "  :lamb2      => 0.15\n",
       "  :method     => \"enet\"\n",
       "  :experiment => 7\n",
       "  :eta1       => 2.0e-7\n",
       "  :task_space => \"mixed\"\n",
       "  :outliers   => 0\n",
       "  :cv_ll      => 0.847037\n",
       "  :val_ll     => 0.797662\n",
       "  :task_time  => \"constant\""
      ]
     },
     "metadata": {},
     "output_type": "display_data"
    },
    {
     "name": "stdout",
     "output_type": "stream",
     "text": [
      "60.00%┣██████████████████████████████████████▍                         ┫ 6/10 21:44<17:23, 0.00 it/s]"
     ]
    },
    {
     "data": {
      "text/plain": [
       "Dict{Symbol,Any} with 11 entries:\n",
       "  :eta2       => 0.6\n",
       "  :lamb1      => 2.0e-7\n",
       "  :lamb2      => 0.6\n",
       "  :method     => \"enet\"\n",
       "  :experiment => 8\n",
       "  :eta1       => 2.0e-7\n",
       "  :task_space => \"mixed\"\n",
       "  :outliers   => 0\n",
       "  :cv_ll      => 0.736242\n",
       "  :val_ll     => 0.675874\n",
       "  :task_time  => \"constant\""
      ]
     },
     "metadata": {},
     "output_type": "display_data"
    },
    {
     "name": "stdout",
     "output_type": "stream",
     "text": [
      "70.00%┣████████████████████████████████████████████▊                   ┫ 7/10 24:56<12:28, 0.00 it/s]"
     ]
    },
    {
     "data": {
      "text/plain": [
       "Dict{Symbol,Any} with 11 entries:\n",
       "  :eta2       => 0.6\n",
       "  :lamb1      => 0.2\n",
       "  :lamb2      => 0.6\n",
       "  :method     => \"enet\"\n",
       "  :experiment => 9\n",
       "  :eta1       => 2.0e-7\n",
       "  :task_space => \"mixed\"\n",
       "  :outliers   => 0\n",
       "  :cv_ll      => 0.581106\n",
       "  :val_ll     => 0.560645\n",
       "  :task_time  => \"constant\""
      ]
     },
     "metadata": {},
     "output_type": "display_data"
    },
    {
     "name": "stdout",
     "output_type": "stream",
     "text": [
      "80.00%┣███████████████████████████████████████████████████▏            ┫ 8/10 27:45<07:56, 0.00 it/s]"
     ]
    },
    {
     "data": {
      "text/plain": [
       "Dict{Symbol,Any} with 11 entries:\n",
       "  :eta2       => 0.6\n",
       "  :lamb1      => 2.0e-7\n",
       "  :lamb2      => 0.6\n",
       "  :method     => \"enet\"\n",
       "  :experiment => 10\n",
       "  :eta1       => 2.0e-7\n",
       "  :task_space => \"mixed\"\n",
       "  :outliers   => 0\n",
       "  :cv_ll      => 0.931732\n",
       "  :val_ll     => 0.908737\n",
       "  :task_time  => \"constant\""
      ]
     },
     "metadata": {},
     "output_type": "display_data"
    },
    {
     "name": "stdout",
     "output_type": "stream",
     "text": [
      "100.00%┣██████████████████████████████████████████████████████████████┫ 10/10 30:52<00:00, 0.00 it/s]\n",
      "Running task_space mixed task_time mixed for method fl, outliers false\n"
     ]
    },
    {
     "data": {
      "text/plain": [
       "Dict{Symbol,Any} with 11 entries:\n",
       "  :eta2       => 1.0e-12\n",
       "  :lamb1      => 0.2\n",
       "  :lamb2      => 1.0e-12\n",
       "  :method     => \"fl\"\n",
       "  :experiment => 1\n",
       "  :eta1       => 0.2\n",
       "  :task_space => \"mixed\"\n",
       "  :outliers   => 0\n",
       "  :cv_ll      => 0.714624\n",
       "  :val_ll     => 0.686714\n",
       "  :task_time  => \"mixed\""
      ]
     },
     "metadata": {},
     "output_type": "display_data"
    },
    {
     "name": "stdout",
     "output_type": "stream",
     "text": [
      "0.00%┣                                                             ┫ 0/10 Inf:Inf<Inf:Inf, 0.00 it/s]"
     ]
    },
    {
     "data": {
      "text/plain": [
       "Dict{Symbol,Any} with 11 entries:\n",
       "  :eta2       => 1.0e-12\n",
       "  :lamb1      => 0.2\n",
       "  :lamb2      => 1.0e-12\n",
       "  :method     => \"fl\"\n",
       "  :experiment => 2\n",
       "  :eta1       => 0.2\n",
       "  :task_space => \"mixed\"\n",
       "  :outliers   => 0\n",
       "  :cv_ll      => 0.884213\n",
       "  :val_ll     => 0.849665\n",
       "  :task_time  => \"mixed\""
      ]
     },
     "metadata": {},
     "output_type": "display_data"
    },
    {
     "name": "stdout",
     "output_type": "stream",
     "text": [
      "10.00%┣██████▏                                                       ┫ 1/10 00:26<Inf:Inf, 0.00 it/s]"
     ]
    },
    {
     "data": {
      "text/plain": [
       "Dict{Symbol,Any} with 11 entries:\n",
       "  :eta2       => 1.0e-12\n",
       "  :lamb1      => 0.2\n",
       "  :lamb2      => 1.0e-12\n",
       "  :method     => \"fl\"\n",
       "  :experiment => 3\n",
       "  :eta1       => 0.2\n",
       "  :task_space => \"mixed\"\n",
       "  :outliers   => 0\n",
       "  :cv_ll      => 0.541297\n",
       "  :val_ll     => 0.526687\n",
       "  :task_time  => \"mixed\""
      ]
     },
     "metadata": {},
     "output_type": "display_data"
    },
    {
     "name": "stdout",
     "output_type": "stream",
     "text": [
      "20.00%┣████████████▊                                                   ┫ 2/10 00:36<04:51, 0.03 it/s]"
     ]
    },
    {
     "data": {
      "text/plain": [
       "Dict{Symbol,Any} with 11 entries:\n",
       "  :eta2       => 1.0e-12\n",
       "  :lamb1      => 0.066\n",
       "  :lamb2      => 1.0e-12\n",
       "  :method     => \"fl\"\n",
       "  :experiment => 4\n",
       "  :eta1       => 0.2\n",
       "  :task_space => \"mixed\"\n",
       "  :outliers   => 0\n",
       "  :cv_ll      => 0.737275\n",
       "  :val_ll     => 0.666697\n",
       "  :task_time  => \"mixed\""
      ]
     },
     "metadata": {},
     "output_type": "display_data"
    },
    {
     "name": "stdout",
     "output_type": "stream",
     "text": [
      "30.00%┣███████████████████▏                                            ┫ 3/10 00:49<02:50, 0.04 it/s]"
     ]
    },
    {
     "data": {
      "text/plain": [
       "Dict{Symbol,Any} with 11 entries:\n",
       "  :eta2       => 1.0e-12\n",
       "  :lamb1      => 0.2\n",
       "  :lamb2      => 1.0e-12\n",
       "  :method     => \"fl\"\n",
       "  :experiment => 5\n",
       "  :eta1       => 0.132\n",
       "  :task_space => \"mixed\"\n",
       "  :outliers   => 0\n",
       "  :cv_ll      => 0.776226\n",
       "  :val_ll     => 0.712977\n",
       "  :task_time  => \"mixed\""
      ]
     },
     "metadata": {},
     "output_type": "display_data"
    },
    {
     "name": "stdout",
     "output_type": "stream",
     "text": [
      "40.00%┣█████████████████████████▌                                      ┫ 4/10 01:00<02:01, 0.05 it/s]"
     ]
    },
    {
     "data": {
      "text/plain": [
       "Dict{Symbol,Any} with 11 entries:\n",
       "  :eta2       => 1.0e-12\n",
       "  :lamb1      => 0.2\n",
       "  :lamb2      => 1.0e-12\n",
       "  :method     => \"fl\"\n",
       "  :experiment => 6\n",
       "  :eta1       => 0.2\n",
       "  :task_space => \"mixed\"\n",
       "  :outliers   => 0\n",
       "  :cv_ll      => 0.923624\n",
       "  :val_ll     => 0.822314\n",
       "  :task_time  => \"mixed\""
      ]
     },
     "metadata": {},
     "output_type": "display_data"
    },
    {
     "name": "stdout",
     "output_type": "stream",
     "text": [
      "50.00%┣████████████████████████████████                                ┫ 5/10 01:13<01:32, 0.05 it/s]"
     ]
    },
    {
     "data": {
      "text/plain": [
       "Dict{Symbol,Any} with 11 entries:\n",
       "  :eta2       => 1.0e-12\n",
       "  :lamb1      => 0.2\n",
       "  :lamb2      => 1.0e-12\n",
       "  :method     => \"fl\"\n",
       "  :experiment => 7\n",
       "  :eta1       => 0.2\n",
       "  :task_space => \"mixed\"\n",
       "  :outliers   => 0\n",
       "  :cv_ll      => 0.72016\n",
       "  :val_ll     => 0.680389\n",
       "  :task_time  => \"mixed\""
      ]
     },
     "metadata": {},
     "output_type": "display_data"
    },
    {
     "name": "stdout",
     "output_type": "stream",
     "text": [
      "60.00%┣██████████████████████████████████████▍                         ┫ 6/10 01:24<01:07, 0.06 it/s]"
     ]
    },
    {
     "data": {
      "text/plain": [
       "Dict{Symbol,Any} with 11 entries:\n",
       "  :eta2       => 1.0e-12\n",
       "  :lamb1      => 0.2\n",
       "  :lamb2      => 1.0e-12\n",
       "  :method     => \"fl\"\n",
       "  :experiment => 8\n",
       "  :eta1       => 0.2\n",
       "  :task_space => \"mixed\"\n",
       "  :outliers   => 0\n",
       "  :cv_ll      => 0.790832\n",
       "  :val_ll     => 0.761707\n",
       "  :task_time  => \"mixed\""
      ]
     },
     "metadata": {},
     "output_type": "display_data"
    },
    {
     "name": "stdout",
     "output_type": "stream",
     "text": [
      "70.00%┣████████████████████████████████████████████▊                   ┫ 7/10 01:35<00:48, 0.06 it/s]"
     ]
    },
    {
     "data": {
      "text/plain": [
       "Dict{Symbol,Any} with 11 entries:\n",
       "  :eta2       => 1.0e-12\n",
       "  :lamb1      => 0.066\n",
       "  :lamb2      => 1.0e-12\n",
       "  :method     => \"fl\"\n",
       "  :experiment => 9\n",
       "  :eta1       => 0.2\n",
       "  :task_space => \"mixed\"\n",
       "  :outliers   => 0\n",
       "  :cv_ll      => 0.833361\n",
       "  :val_ll     => 0.743968\n",
       "  :task_time  => \"mixed\""
      ]
     },
     "metadata": {},
     "output_type": "display_data"
    },
    {
     "name": "stdout",
     "output_type": "stream",
     "text": [
      "80.00%┣███████████████████████████████████████████████████▏            ┫ 8/10 01:47<00:30, 0.07 it/s]"
     ]
    },
    {
     "data": {
      "text/plain": [
       "Dict{Symbol,Any} with 11 entries:\n",
       "  :eta2       => 1.0e-12\n",
       "  :lamb1      => 0.2\n",
       "  :lamb2      => 1.0e-12\n",
       "  :method     => \"fl\"\n",
       "  :experiment => 10\n",
       "  :eta1       => 0.066\n",
       "  :task_space => \"mixed\"\n",
       "  :outliers   => 0\n",
       "  :cv_ll      => 0.800798\n",
       "  :val_ll     => 0.789224\n",
       "  :task_time  => \"mixed\""
      ]
     },
     "metadata": {},
     "output_type": "display_data"
    },
    {
     "name": "stdout",
     "output_type": "stream",
     "text": [
      "100.00%┣██████████████████████████████████████████████████████████████┫ 10/10 01:57<00:00, 0.08 it/s]\n",
      "Running task_space mixed task_time mixed for method kal, outliers false\n"
     ]
    },
    {
     "data": {
      "text/plain": [
       "Dict{Symbol,Any} with 11 entries:\n",
       "  :eta2       => 0.6\n",
       "  :lamb1      => 1.0e-12\n",
       "  :lamb2      => 0.3\n",
       "  :method     => \"kal\"\n",
       "  :experiment => 1\n",
       "  :eta1       => 1.0e-12\n",
       "  :task_space => \"mixed\"\n",
       "  :outliers   => 0\n",
       "  :cv_ll      => 0.641117\n",
       "  :val_ll     => 0.626294\n",
       "  :task_time  => \"mixed\""
      ]
     },
     "metadata": {},
     "output_type": "display_data"
    },
    {
     "name": "stdout",
     "output_type": "stream",
     "text": [
      "0.00%┣                                                             ┫ 0/10 Inf:Inf<Inf:Inf, 0.00 it/s]"
     ]
    },
    {
     "data": {
      "text/plain": [
       "Dict{Symbol,Any} with 11 entries:\n",
       "  :eta2       => 0.6\n",
       "  :lamb1      => 1.0e-12\n",
       "  :lamb2      => 0.6\n",
       "  :method     => \"kal\"\n",
       "  :experiment => 2\n",
       "  :eta1       => 1.0e-12\n",
       "  :task_space => \"mixed\"\n",
       "  :outliers   => 0\n",
       "  :cv_ll      => 0.865468\n",
       "  :val_ll     => 0.833176\n",
       "  :task_time  => \"mixed\""
      ]
     },
     "metadata": {},
     "output_type": "display_data"
    },
    {
     "name": "stdout",
     "output_type": "stream",
     "text": [
      "10.00%┣██████▏                                                       ┫ 1/10 00:25<Inf:Inf, 0.00 it/s]"
     ]
    },
    {
     "data": {
      "text/plain": [
       "Dict{Symbol,Any} with 11 entries:\n",
       "  :eta2       => 0.6\n",
       "  :lamb1      => 1.0e-12\n",
       "  :lamb2      => 0.6\n",
       "  :method     => \"kal\"\n",
       "  :experiment => 3\n",
       "  :eta1       => 1.0e-12\n",
       "  :task_space => \"mixed\"\n",
       "  :outliers   => 0\n",
       "  :cv_ll      => 0.518247\n",
       "  :val_ll     => 0.506368\n",
       "  :task_time  => \"mixed\""
      ]
     },
     "metadata": {},
     "output_type": "display_data"
    },
    {
     "name": "stdout",
     "output_type": "stream",
     "text": [
      "20.00%┣████████████▊                                                   ┫ 2/10 00:36<04:46, 0.03 it/s]"
     ]
    },
    {
     "data": {
      "text/plain": [
       "Dict{Symbol,Any} with 11 entries:\n",
       "  :eta2       => 0.6\n",
       "  :lamb1      => 1.0e-12\n",
       "  :lamb2      => 0.15\n",
       "  :method     => \"kal\"\n",
       "  :experiment => 4\n",
       "  :eta1       => 1.0e-12\n",
       "  :task_space => \"mixed\"\n",
       "  :outliers   => 0\n",
       "  :cv_ll      => 0.659791\n",
       "  :val_ll     => 0.637604\n",
       "  :task_time  => \"mixed\""
      ]
     },
     "metadata": {},
     "output_type": "display_data"
    },
    {
     "name": "stdout",
     "output_type": "stream",
     "text": [
      "30.00%┣███████████████████▏                                            ┫ 3/10 00:49<02:50, 0.04 it/s]"
     ]
    },
    {
     "data": {
      "text/plain": [
       "Dict{Symbol,Any} with 11 entries:\n",
       "  :eta2       => 0.3\n",
       "  :lamb1      => 1.0e-12\n",
       "  :lamb2      => 0.6\n",
       "  :method     => \"kal\"\n",
       "  :experiment => 5\n",
       "  :eta1       => 1.0e-12\n",
       "  :task_space => \"mixed\"\n",
       "  :outliers   => 0\n",
       "  :cv_ll      => 0.72926\n",
       "  :val_ll     => 0.696519\n",
       "  :task_time  => \"mixed\""
      ]
     },
     "metadata": {},
     "output_type": "display_data"
    },
    {
     "name": "stdout",
     "output_type": "stream",
     "text": [
      "40.00%┣█████████████████████████▌                                      ┫ 4/10 01:01<02:02, 0.05 it/s]"
     ]
    },
    {
     "data": {
      "text/plain": [
       "Dict{Symbol,Any} with 11 entries:\n",
       "  :eta2       => 0.6\n",
       "  :lamb1      => 1.0e-12\n",
       "  :lamb2      => 0.6\n",
       "  :method     => \"kal\"\n",
       "  :experiment => 6\n",
       "  :eta1       => 1.0e-12\n",
       "  :task_space => \"mixed\"\n",
       "  :outliers   => 0\n",
       "  :cv_ll      => 0.876382\n",
       "  :val_ll     => 0.795857\n",
       "  :task_time  => \"mixed\""
      ]
     },
     "metadata": {},
     "output_type": "display_data"
    },
    {
     "name": "stdout",
     "output_type": "stream",
     "text": [
      "50.00%┣████████████████████████████████                                ┫ 5/10 01:15<01:33, 0.05 it/s]"
     ]
    },
    {
     "data": {
      "text/plain": [
       "Dict{Symbol,Any} with 11 entries:\n",
       "  :eta2       => 0.3\n",
       "  :lamb1      => 1.0e-12\n",
       "  :lamb2      => 0.6\n",
       "  :method     => \"kal\"\n",
       "  :experiment => 7\n",
       "  :eta1       => 1.0e-12\n",
       "  :task_space => \"mixed\"\n",
       "  :outliers   => 0\n",
       "  :cv_ll      => 0.692374\n",
       "  :val_ll     => 0.674487\n",
       "  :task_time  => \"mixed\""
      ]
     },
     "metadata": {},
     "output_type": "display_data"
    },
    {
     "name": "stdout",
     "output_type": "stream",
     "text": [
      "60.00%┣██████████████████████████████████████▍                         ┫ 6/10 01:25<01:08, 0.06 it/s]"
     ]
    },
    {
     "data": {
      "text/plain": [
       "Dict{Symbol,Any} with 11 entries:\n",
       "  :eta2       => 0.6\n",
       "  :lamb1      => 1.0e-12\n",
       "  :lamb2      => 0.6\n",
       "  :method     => \"kal\"\n",
       "  :experiment => 8\n",
       "  :eta1       => 1.0e-12\n",
       "  :task_space => \"mixed\"\n",
       "  :outliers   => 0\n",
       "  :cv_ll      => 0.753633\n",
       "  :val_ll     => 0.724949\n",
       "  :task_time  => \"mixed\""
      ]
     },
     "metadata": {},
     "output_type": "display_data"
    },
    {
     "name": "stdout",
     "output_type": "stream",
     "text": [
      "70.00%┣████████████████████████████████████████████▊                   ┫ 7/10 01:38<00:49, 0.06 it/s]"
     ]
    },
    {
     "data": {
      "text/plain": [
       "Dict{Symbol,Any} with 11 entries:\n",
       "  :eta2       => 0.6\n",
       "  :lamb1      => 1.0e-12\n",
       "  :lamb2      => 0.3\n",
       "  :method     => \"kal\"\n",
       "  :experiment => 9\n",
       "  :eta1       => 1.0e-12\n",
       "  :task_space => \"mixed\"\n",
       "  :outliers   => 0\n",
       "  :cv_ll      => 0.775489\n",
       "  :val_ll     => 0.71552\n",
       "  :task_time  => \"mixed\""
      ]
     },
     "metadata": {},
     "output_type": "display_data"
    },
    {
     "name": "stdout",
     "output_type": "stream",
     "text": [
      "80.00%┣███████████████████████████████████████████████████▏            ┫ 8/10 01:49<00:31, 0.06 it/s]"
     ]
    },
    {
     "data": {
      "text/plain": [
       "Dict{Symbol,Any} with 11 entries:\n",
       "  :eta2       => 0.6\n",
       "  :lamb1      => 1.0e-12\n",
       "  :lamb2      => 0.6\n",
       "  :method     => \"kal\"\n",
       "  :experiment => 10\n",
       "  :eta1       => 1.0e-12\n",
       "  :task_space => \"mixed\"\n",
       "  :outliers   => 0\n",
       "  :cv_ll      => 0.81091\n",
       "  :val_ll     => 0.782497\n",
       "  :task_time  => \"mixed\""
      ]
     },
     "metadata": {},
     "output_type": "display_data"
    },
    {
     "name": "stdout",
     "output_type": "stream",
     "text": [
      "100.00%┣██████████████████████████████████████████████████████████████┫ 10/10 02:01<00:00, 0.07 it/s]\n",
      "Running task_space mixed task_time mixed for method enet, outliers false\n"
     ]
    },
    {
     "data": {
      "text/plain": [
       "Dict{Symbol,Any} with 11 entries:\n",
       "  :eta2       => 0.6\n",
       "  :lamb1      => 2.0e-7\n",
       "  :lamb2      => 0.3\n",
       "  :method     => \"enet\"\n",
       "  :experiment => 1\n",
       "  :eta1       => 2.0e-7\n",
       "  :task_space => \"mixed\"\n",
       "  :outliers   => 0\n",
       "  :cv_ll      => 0.639381\n",
       "  :val_ll     => 0.627542\n",
       "  :task_time  => \"mixed\""
      ]
     },
     "metadata": {},
     "output_type": "display_data"
    },
    {
     "name": "stdout",
     "output_type": "stream",
     "text": [
      "0.00%┣                                                             ┫ 0/10 Inf:Inf<Inf:Inf, 0.00 it/s]"
     ]
    },
    {
     "data": {
      "text/plain": [
       "Dict{Symbol,Any} with 11 entries:\n",
       "  :eta2       => 0.6\n",
       "  :lamb1      => 0.066\n",
       "  :lamb2      => 0.6\n",
       "  :method     => \"enet\"\n",
       "  :experiment => 2\n",
       "  :eta1       => 2.0e-7\n",
       "  :task_space => \"mixed\"\n",
       "  :outliers   => 0\n",
       "  :cv_ll      => 0.85793\n",
       "  :val_ll     => 0.830839\n",
       "  :task_time  => \"mixed\""
      ]
     },
     "metadata": {},
     "output_type": "display_data"
    },
    {
     "name": "stdout",
     "output_type": "stream",
     "text": [
      "10.00%┣██████▏                                                       ┫ 1/10 06:31<Inf:Inf, 0.00 it/s]"
     ]
    },
    {
     "data": {
      "text/plain": [
       "Dict{Symbol,Any} with 11 entries:\n",
       "  :eta2       => 0.6\n",
       "  :lamb1      => 0.2\n",
       "  :lamb2      => 0.6\n",
       "  :method     => \"enet\"\n",
       "  :experiment => 3\n",
       "  :eta1       => 2.0e-7\n",
       "  :task_space => \"mixed\"\n",
       "  :outliers   => 0\n",
       "  :cv_ll      => 0.502848\n",
       "  :val_ll     => 0.49393\n",
       "  :task_time  => \"mixed\""
      ]
     },
     "metadata": {},
     "output_type": "display_data"
    },
    {
     "name": "stdout",
     "output_type": "stream",
     "text": [
      "20.00%┣████████████▏                                                ┫ 2/10 09:14<01:13:53, 0.00 it/s]"
     ]
    },
    {
     "data": {
      "text/plain": [
       "Dict{Symbol,Any} with 11 entries:\n",
       "  :eta2       => 0.6\n",
       "  :lamb1      => 0.066\n",
       "  :lamb2      => 2.0e-7\n",
       "  :method     => \"enet\"\n",
       "  :experiment => 4\n",
       "  :eta1       => 0.2\n",
       "  :task_space => \"mixed\"\n",
       "  :outliers   => 0\n",
       "  :cv_ll      => 0.641559\n",
       "  :val_ll     => 0.586127\n",
       "  :task_time  => \"mixed\""
      ]
     },
     "metadata": {},
     "output_type": "display_data"
    },
    {
     "name": "stdout",
     "output_type": "stream",
     "text": [
      "30.00%┣███████████████████▏                                            ┫ 3/10 12:22<43:18, 0.00 it/s]"
     ]
    },
    {
     "data": {
      "text/plain": [
       "Dict{Symbol,Any} with 11 entries:\n",
       "  :eta2       => 0.3\n",
       "  :lamb1      => 0.132\n",
       "  :lamb2      => 0.3\n",
       "  :method     => \"enet\"\n",
       "  :experiment => 5\n",
       "  :eta1       => 2.0e-7\n",
       "  :task_space => \"mixed\"\n",
       "  :outliers   => 0\n",
       "  :cv_ll      => 0.731925\n",
       "  :val_ll     => 0.692003\n",
       "  :task_time  => \"mixed\""
      ]
     },
     "metadata": {},
     "output_type": "display_data"
    },
    {
     "name": "stdout",
     "output_type": "stream",
     "text": [
      "40.00%┣█████████████████████████▌                                      ┫ 4/10 15:25<30:49, 0.00 it/s]"
     ]
    },
    {
     "data": {
      "text/plain": [
       "Dict{Symbol,Any} with 11 entries:\n",
       "  :eta2       => 0.6\n",
       "  :lamb1      => 2.0e-7\n",
       "  :lamb2      => 0.6\n",
       "  :method     => \"enet\"\n",
       "  :experiment => 6\n",
       "  :eta1       => 2.0e-7\n",
       "  :task_space => \"mixed\"\n",
       "  :outliers   => 0\n",
       "  :cv_ll      => 0.856061\n",
       "  :val_ll     => 0.794769\n",
       "  :task_time  => \"mixed\""
      ]
     },
     "metadata": {},
     "output_type": "display_data"
    },
    {
     "name": "stdout",
     "output_type": "stream",
     "text": [
      "50.00%┣████████████████████████████████                                ┫ 5/10 18:43<23:24, 0.00 it/s]"
     ]
    },
    {
     "data": {
      "text/plain": [
       "Dict{Symbol,Any} with 11 entries:\n",
       "  :eta2       => 0.3\n",
       "  :lamb1      => 0.2\n",
       "  :lamb2      => 0.6\n",
       "  :method     => \"enet\"\n",
       "  :experiment => 7\n",
       "  :eta1       => 2.0e-7\n",
       "  :task_space => \"mixed\"\n",
       "  :outliers   => 0\n",
       "  :cv_ll      => 0.67315\n",
       "  :val_ll     => 0.652557\n",
       "  :task_time  => \"mixed\""
      ]
     },
     "metadata": {},
     "output_type": "display_data"
    },
    {
     "name": "stdout",
     "output_type": "stream",
     "text": [
      "60.00%┣██████████████████████████████████████▍                         ┫ 6/10 21:15<17:00, 0.00 it/s]"
     ]
    },
    {
     "data": {
      "text/plain": [
       "Dict{Symbol,Any} with 11 entries:\n",
       "  :eta2       => 0.6\n",
       "  :lamb1      => 0.066\n",
       "  :lamb2      => 0.3\n",
       "  :method     => \"enet\"\n",
       "  :experiment => 8\n",
       "  :eta1       => 2.0e-7\n",
       "  :task_space => \"mixed\"\n",
       "  :outliers   => 0\n",
       "  :cv_ll      => 0.740759\n",
       "  :val_ll     => 0.721195\n",
       "  :task_time  => \"mixed\""
      ]
     },
     "metadata": {},
     "output_type": "display_data"
    },
    {
     "name": "stdout",
     "output_type": "stream",
     "text": [
      "70.00%┣████████████████████████████████████████████▊                   ┫ 7/10 24:12<12:06, 0.00 it/s]"
     ]
    },
    {
     "data": {
      "text/plain": [
       "Dict{Symbol,Any} with 11 entries:\n",
       "  :eta2       => 0.6\n",
       "  :lamb1      => 2.0e-7\n",
       "  :lamb2      => 0.3\n",
       "  :method     => \"enet\"\n",
       "  :experiment => 9\n",
       "  :eta1       => 0.2\n",
       "  :task_space => \"mixed\"\n",
       "  :outliers   => 0\n",
       "  :cv_ll      => 0.766226\n",
       "  :val_ll     => 0.704443\n",
       "  :task_time  => \"mixed\""
      ]
     },
     "metadata": {},
     "output_type": "display_data"
    },
    {
     "name": "stdout",
     "output_type": "stream",
     "text": [
      "80.00%┣███████████████████████████████████████████████████▏            ┫ 8/10 27:03<07:44, 0.00 it/s]"
     ]
    },
    {
     "data": {
      "text/plain": [
       "Dict{Symbol,Any} with 11 entries:\n",
       "  :eta2       => 0.6\n",
       "  :lamb1      => 0.2\n",
       "  :lamb2      => 0.6\n",
       "  :method     => \"enet\"\n",
       "  :experiment => 10\n",
       "  :eta1       => 2.0e-7\n",
       "  :task_space => \"mixed\"\n",
       "  :outliers   => 0\n",
       "  :cv_ll      => 0.795656\n",
       "  :val_ll     => 0.772821\n",
       "  :task_time  => \"mixed\""
      ]
     },
     "metadata": {},
     "output_type": "display_data"
    },
    {
     "name": "stdout",
     "output_type": "stream",
     "text": [
      "100.00%┣██████████████████████████████████████████████████████████████┫ 10/10 29:43<00:00, 0.01 it/s]\n",
      "Running task_space mixed task_time mixed for method fl, outliers true\n"
     ]
    },
    {
     "data": {
      "text/plain": [
       "Dict{Symbol,Any} with 11 entries:\n",
       "  :eta2       => 1.0e-12\n",
       "  :lamb1      => 0.2\n",
       "  :lamb2      => 1.0e-12\n",
       "  :method     => \"fl\"\n",
       "  :experiment => 1\n",
       "  :eta1       => 0.2\n",
       "  :task_space => \"mixed\"\n",
       "  :outliers   => 1\n",
       "  :cv_ll      => 1.09326\n",
       "  :val_ll     => 0.625121\n",
       "  :task_time  => \"mixed\""
      ]
     },
     "metadata": {},
     "output_type": "display_data"
    },
    {
     "name": "stdout",
     "output_type": "stream",
     "text": [
      "0.00%┣                                                             ┫ 0/10 Inf:Inf<Inf:Inf, 0.00 it/s]"
     ]
    },
    {
     "data": {
      "text/plain": [
       "Dict{Symbol,Any} with 11 entries:\n",
       "  :eta2       => 1.0e-12\n",
       "  :lamb1      => 0.2\n",
       "  :lamb2      => 1.0e-12\n",
       "  :method     => \"fl\"\n",
       "  :experiment => 2\n",
       "  :eta1       => 0.2\n",
       "  :task_space => \"mixed\"\n",
       "  :outliers   => 1\n",
       "  :cv_ll      => 1.44618\n",
       "  :val_ll     => 0.991524\n",
       "  :task_time  => \"mixed\""
      ]
     },
     "metadata": {},
     "output_type": "display_data"
    },
    {
     "name": "stdout",
     "output_type": "stream",
     "text": [
      "10.00%┣██████▏                                                       ┫ 1/10 00:23<Inf:Inf, 0.00 it/s]"
     ]
    },
    {
     "data": {
      "text/plain": [
       "Dict{Symbol,Any} with 11 entries:\n",
       "  :eta2       => 1.0e-12\n",
       "  :lamb1      => 0.2\n",
       "  :lamb2      => 1.0e-12\n",
       "  :method     => \"fl\"\n",
       "  :experiment => 3\n",
       "  :eta1       => 0.2\n",
       "  :task_space => \"mixed\"\n",
       "  :outliers   => 1\n",
       "  :cv_ll      => 1.30604\n",
       "  :val_ll     => 0.878497\n",
       "  :task_time  => \"mixed\""
      ]
     },
     "metadata": {},
     "output_type": "display_data"
    },
    {
     "name": "stdout",
     "output_type": "stream",
     "text": [
      "20.00%┣████████████▊                                                   ┫ 2/10 00:34<04:33, 0.03 it/s]"
     ]
    },
    {
     "data": {
      "text/plain": [
       "Dict{Symbol,Any} with 11 entries:\n",
       "  :eta2       => 1.0e-12\n",
       "  :lamb1      => 0.066\n",
       "  :lamb2      => 1.0e-12\n",
       "  :method     => \"fl\"\n",
       "  :experiment => 4\n",
       "  :eta1       => 0.2\n",
       "  :task_space => \"mixed\"\n",
       "  :outliers   => 1\n",
       "  :cv_ll      => 1.35527\n",
       "  :val_ll     => 0.897577\n",
       "  :task_time  => \"mixed\""
      ]
     },
     "metadata": {},
     "output_type": "display_data"
    },
    {
     "name": "stdout",
     "output_type": "stream",
     "text": [
      "30.00%┣███████████████████▏                                            ┫ 3/10 00:47<02:44, 0.04 it/s]"
     ]
    },
    {
     "data": {
      "text/plain": [
       "Dict{Symbol,Any} with 11 entries:\n",
       "  :eta2       => 1.0e-12\n",
       "  :lamb1      => 0.2\n",
       "  :lamb2      => 1.0e-12\n",
       "  :method     => \"fl\"\n",
       "  :experiment => 5\n",
       "  :eta1       => 0.2\n",
       "  :task_space => \"mixed\"\n",
       "  :outliers   => 1\n",
       "  :cv_ll      => 1.03665\n",
       "  :val_ll     => 0.574766\n",
       "  :task_time  => \"mixed\""
      ]
     },
     "metadata": {},
     "output_type": "display_data"
    },
    {
     "name": "stdout",
     "output_type": "stream",
     "text": [
      "40.00%┣█████████████████████████▌                                      ┫ 4/10 00:58<01:56, 0.05 it/s]"
     ]
    },
    {
     "data": {
      "text/plain": [
       "Dict{Symbol,Any} with 11 entries:\n",
       "  :eta2       => 1.0e-12\n",
       "  :lamb1      => 0.132\n",
       "  :lamb2      => 1.0e-12\n",
       "  :method     => \"fl\"\n",
       "  :experiment => 6\n",
       "  :eta1       => 0.2\n",
       "  :task_space => \"mixed\"\n",
       "  :outliers   => 1\n",
       "  :cv_ll      => 1.36558\n",
       "  :val_ll     => 0.932755\n",
       "  :task_time  => \"mixed\""
      ]
     },
     "metadata": {},
     "output_type": "display_data"
    },
    {
     "name": "stdout",
     "output_type": "stream",
     "text": [
      "50.00%┣████████████████████████████████                                ┫ 5/10 01:10<01:27, 0.06 it/s]"
     ]
    },
    {
     "data": {
      "text/plain": [
       "Dict{Symbol,Any} with 11 entries:\n",
       "  :eta2       => 1.0e-12\n",
       "  :lamb1      => 0.2\n",
       "  :lamb2      => 1.0e-12\n",
       "  :method     => \"fl\"\n",
       "  :experiment => 7\n",
       "  :eta1       => 0.2\n",
       "  :task_space => \"mixed\"\n",
       "  :outliers   => 1\n",
       "  :cv_ll      => 1.26244\n",
       "  :val_ll     => 0.739641\n",
       "  :task_time  => \"mixed\""
      ]
     },
     "metadata": {},
     "output_type": "display_data"
    },
    {
     "name": "stdout",
     "output_type": "stream",
     "text": [
      "60.00%┣██████████████████████████████████████▍                         ┫ 6/10 01:22<01:06, 0.06 it/s]"
     ]
    },
    {
     "data": {
      "text/plain": [
       "Dict{Symbol,Any} with 11 entries:\n",
       "  :eta2       => 1.0e-12\n",
       "  :lamb1      => 0.066\n",
       "  :lamb2      => 1.0e-12\n",
       "  :method     => \"fl\"\n",
       "  :experiment => 8\n",
       "  :eta1       => 0.2\n",
       "  :task_space => \"mixed\"\n",
       "  :outliers   => 1\n",
       "  :cv_ll      => 1.45167\n",
       "  :val_ll     => 1.02038\n",
       "  :task_time  => \"mixed\""
      ]
     },
     "metadata": {},
     "output_type": "display_data"
    },
    {
     "name": "stdout",
     "output_type": "stream",
     "text": [
      "70.00%┣████████████████████████████████████████████▊                   ┫ 7/10 01:35<00:48, 0.06 it/s]"
     ]
    },
    {
     "data": {
      "text/plain": [
       "Dict{Symbol,Any} with 11 entries:\n",
       "  :eta2       => 1.0e-12\n",
       "  :lamb1      => 0.2\n",
       "  :lamb2      => 1.0e-12\n",
       "  :method     => \"fl\"\n",
       "  :experiment => 9\n",
       "  :eta1       => 0.2\n",
       "  :task_space => \"mixed\"\n",
       "  :outliers   => 1\n",
       "  :cv_ll      => 1.23744\n",
       "  :val_ll     => 0.714132\n",
       "  :task_time  => \"mixed\""
      ]
     },
     "metadata": {},
     "output_type": "display_data"
    },
    {
     "name": "stdout",
     "output_type": "stream",
     "text": [
      "80.00%┣███████████████████████████████████████████████████▏            ┫ 8/10 01:48<00:31, 0.06 it/s]"
     ]
    },
    {
     "data": {
      "text/plain": [
       "Dict{Symbol,Any} with 11 entries:\n",
       "  :eta2       => 1.0e-12\n",
       "  :lamb1      => 0.2\n",
       "  :lamb2      => 1.0e-12\n",
       "  :method     => \"fl\"\n",
       "  :experiment => 10\n",
       "  :eta1       => 0.132\n",
       "  :task_space => \"mixed\"\n",
       "  :outliers   => 1\n",
       "  :cv_ll      => 1.29918\n",
       "  :val_ll     => 0.868665\n",
       "  :task_time  => \"mixed\""
      ]
     },
     "metadata": {},
     "output_type": "display_data"
    },
    {
     "name": "stdout",
     "output_type": "stream",
     "text": [
      "100.00%┣██████████████████████████████████████████████████████████████┫ 10/10 02:00<00:00, 0.07 it/s]\n",
      "Running task_space mixed task_time mixed for method kal, outliers true\n"
     ]
    },
    {
     "data": {
      "text/plain": [
       "Dict{Symbol,Any} with 11 entries:\n",
       "  :eta2       => 0.6\n",
       "  :lamb1      => 1.0e-12\n",
       "  :lamb2      => 0.15\n",
       "  :method     => \"kal\"\n",
       "  :experiment => 1\n",
       "  :eta1       => 1.0e-12\n",
       "  :task_space => \"mixed\"\n",
       "  :outliers   => 1\n",
       "  :cv_ll      => 1.04222\n",
       "  :val_ll     => 0.600758\n",
       "  :task_time  => \"mixed\""
      ]
     },
     "metadata": {},
     "output_type": "display_data"
    },
    {
     "name": "stdout",
     "output_type": "stream",
     "text": [
      "0.00%┣                                                             ┫ 0/10 Inf:Inf<Inf:Inf, 0.00 it/s]"
     ]
    },
    {
     "data": {
      "text/plain": [
       "Dict{Symbol,Any} with 11 entries:\n",
       "  :eta2       => 0.6\n",
       "  :lamb1      => 1.0e-12\n",
       "  :lamb2      => 0.15\n",
       "  :method     => \"kal\"\n",
       "  :experiment => 2\n",
       "  :eta1       => 1.0e-12\n",
       "  :task_space => \"mixed\"\n",
       "  :outliers   => 1\n",
       "  :cv_ll      => 1.40066\n",
       "  :val_ll     => 0.951737\n",
       "  :task_time  => \"mixed\""
      ]
     },
     "metadata": {},
     "output_type": "display_data"
    },
    {
     "name": "stdout",
     "output_type": "stream",
     "text": [
      "10.00%┣██████▏                                                       ┫ 1/10 00:23<Inf:Inf, 0.00 it/s]"
     ]
    },
    {
     "data": {
      "text/plain": [
       "Dict{Symbol,Any} with 11 entries:\n",
       "  :eta2       => 0.6\n",
       "  :lamb1      => 1.0e-12\n",
       "  :lamb2      => 0.6\n",
       "  :method     => \"kal\"\n",
       "  :experiment => 3\n",
       "  :eta1       => 1.0e-12\n",
       "  :task_space => \"mixed\"\n",
       "  :outliers   => 1\n",
       "  :cv_ll      => 1.27125\n",
       "  :val_ll     => 0.854725\n",
       "  :task_time  => \"mixed\""
      ]
     },
     "metadata": {},
     "output_type": "display_data"
    },
    {
     "name": "stdout",
     "output_type": "stream",
     "text": [
      "20.00%┣████████████▊                                                   ┫ 2/10 00:34<04:35, 0.03 it/s]"
     ]
    },
    {
     "data": {
      "text/plain": [
       "Dict{Symbol,Any} with 11 entries:\n",
       "  :eta2       => 0.6\n",
       "  :lamb1      => 1.0e-12\n",
       "  :lamb2      => 0.3\n",
       "  :method     => \"kal\"\n",
       "  :experiment => 4\n",
       "  :eta1       => 1.0e-12\n",
       "  :task_space => \"mixed\"\n",
       "  :outliers   => 1\n",
       "  :cv_ll      => 1.31401\n",
       "  :val_ll     => 0.880232\n",
       "  :task_time  => \"mixed\""
      ]
     },
     "metadata": {},
     "output_type": "display_data"
    },
    {
     "name": "stdout",
     "output_type": "stream",
     "text": [
      "30.00%┣███████████████████▏                                            ┫ 3/10 00:47<02:46, 0.04 it/s]"
     ]
    },
    {
     "data": {
      "text/plain": [
       "Dict{Symbol,Any} with 11 entries:\n",
       "  :eta2       => 0.6\n",
       "  :lamb1      => 1.0e-12\n",
       "  :lamb2      => 0.6\n",
       "  :method     => \"kal\"\n",
       "  :experiment => 5\n",
       "  :eta1       => 1.0e-12\n",
       "  :task_space => \"mixed\"\n",
       "  :outliers   => 1\n",
       "  :cv_ll      => 1.01106\n",
       "  :val_ll     => 0.553499\n",
       "  :task_time  => \"mixed\""
      ]
     },
     "metadata": {},
     "output_type": "display_data"
    },
    {
     "name": "stdout",
     "output_type": "stream",
     "text": [
      "40.00%┣█████████████████████████▌                                      ┫ 4/10 01:00<02:00, 0.05 it/s]"
     ]
    },
    {
     "data": {
      "text/plain": [
       "Dict{Symbol,Any} with 11 entries:\n",
       "  :eta2       => 0.6\n",
       "  :lamb1      => 1.0e-12\n",
       "  :lamb2      => 0.6\n",
       "  :method     => \"kal\"\n",
       "  :experiment => 6\n",
       "  :eta1       => 1.0e-12\n",
       "  :task_space => \"mixed\"\n",
       "  :outliers   => 1\n",
       "  :cv_ll      => 1.33934\n",
       "  :val_ll     => 0.895232\n",
       "  :task_time  => \"mixed\""
      ]
     },
     "metadata": {},
     "output_type": "display_data"
    },
    {
     "name": "stdout",
     "output_type": "stream",
     "text": [
      "50.00%┣████████████████████████████████                                ┫ 5/10 01:12<01:30, 0.06 it/s]"
     ]
    },
    {
     "data": {
      "text/plain": [
       "Dict{Symbol,Any} with 11 entries:\n",
       "  :eta2       => 0.6\n",
       "  :lamb1      => 1.0e-12\n",
       "  :lamb2      => 0.3\n",
       "  :method     => \"kal\"\n",
       "  :experiment => 7\n",
       "  :eta1       => 1.0e-12\n",
       "  :task_space => \"mixed\"\n",
       "  :outliers   => 1\n",
       "  :cv_ll      => 1.23703\n",
       "  :val_ll     => 0.721025\n",
       "  :task_time  => \"mixed\""
      ]
     },
     "metadata": {},
     "output_type": "display_data"
    },
    {
     "name": "stdout",
     "output_type": "stream",
     "text": [
      "60.00%┣██████████████████████████████████████▍                         ┫ 6/10 01:25<01:08, 0.06 it/s]"
     ]
    },
    {
     "data": {
      "text/plain": [
       "Dict{Symbol,Any} with 11 entries:\n",
       "  :eta2       => 0.6\n",
       "  :lamb1      => 1.0e-12\n",
       "  :lamb2      => 0.3\n",
       "  :method     => \"kal\"\n",
       "  :experiment => 8\n",
       "  :eta1       => 1.0e-12\n",
       "  :task_space => \"mixed\"\n",
       "  :outliers   => 1\n",
       "  :cv_ll      => 1.42238\n",
       "  :val_ll     => 0.997166\n",
       "  :task_time  => \"mixed\""
      ]
     },
     "metadata": {},
     "output_type": "display_data"
    },
    {
     "name": "stdout",
     "output_type": "stream",
     "text": [
      "70.00%┣████████████████████████████████████████████▊                   ┫ 7/10 01:38<00:49, 0.06 it/s]"
     ]
    },
    {
     "data": {
      "text/plain": [
       "Dict{Symbol,Any} with 11 entries:\n",
       "  :eta2       => 0.3\n",
       "  :lamb1      => 1.0e-12\n",
       "  :lamb2      => 0.6\n",
       "  :method     => \"kal\"\n",
       "  :experiment => 9\n",
       "  :eta1       => 1.0e-12\n",
       "  :task_space => \"mixed\"\n",
       "  :outliers   => 1\n",
       "  :cv_ll      => 1.15385\n",
       "  :val_ll     => 0.700195\n",
       "  :task_time  => \"mixed\""
      ]
     },
     "metadata": {},
     "output_type": "display_data"
    },
    {
     "name": "stdout",
     "output_type": "stream",
     "text": [
      "80.00%┣███████████████████████████████████████████████████▏            ┫ 8/10 01:52<00:32, 0.06 it/s]"
     ]
    },
    {
     "data": {
      "text/plain": [
       "Dict{Symbol,Any} with 11 entries:\n",
       "  :eta2       => 0.6\n",
       "  :lamb1      => 1.0e-12\n",
       "  :lamb2      => 0.3\n",
       "  :method     => \"kal\"\n",
       "  :experiment => 10\n",
       "  :eta1       => 1.0e-12\n",
       "  :task_space => \"mixed\"\n",
       "  :outliers   => 1\n",
       "  :cv_ll      => 1.2223\n",
       "  :val_ll     => 0.796199\n",
       "  :task_time  => \"mixed\""
      ]
     },
     "metadata": {},
     "output_type": "display_data"
    },
    {
     "name": "stdout",
     "output_type": "stream",
     "text": [
      "100.00%┣██████████████████████████████████████████████████████████████┫ 10/10 02:04<00:00, 0.07 it/s]\n",
      "Running task_space mixed task_time mixed for method enet, outliers true\n"
     ]
    },
    {
     "data": {
      "text/plain": [
       "Dict{Symbol,Any} with 11 entries:\n",
       "  :eta2       => 0.6\n",
       "  :lamb1      => 2.0e-7\n",
       "  :lamb2      => 0.15\n",
       "  :method     => \"enet\"\n",
       "  :experiment => 1\n",
       "  :eta1       => 0.132\n",
       "  :task_space => \"mixed\"\n",
       "  :outliers   => 1\n",
       "  :cv_ll      => 1.02494\n",
       "  :val_ll     => 0.593892\n",
       "  :task_time  => \"mixed\""
      ]
     },
     "metadata": {},
     "output_type": "display_data"
    },
    {
     "name": "stdout",
     "output_type": "stream",
     "text": [
      "0.00%┣                                                             ┫ 0/10 Inf:Inf<Inf:Inf, 0.00 it/s]"
     ]
    },
    {
     "data": {
      "text/plain": [
       "Dict{Symbol,Any} with 11 entries:\n",
       "  :eta2       => 0.6\n",
       "  :lamb1      => 2.0e-7\n",
       "  :lamb2      => 0.15\n",
       "  :method     => \"enet\"\n",
       "  :experiment => 2\n",
       "  :eta1       => 0.132\n",
       "  :task_space => \"mixed\"\n",
       "  :outliers   => 1\n",
       "  :cv_ll      => 1.40181\n",
       "  :val_ll     => 0.945404\n",
       "  :task_time  => \"mixed\""
      ]
     },
     "metadata": {},
     "output_type": "display_data"
    },
    {
     "name": "stdout",
     "output_type": "stream",
     "text": [
      "10.00%┣██████▏                                                       ┫ 1/10 06:01<Inf:Inf, 0.00 it/s]"
     ]
    },
    {
     "data": {
      "text/plain": [
       "Dict{Symbol,Any} with 11 entries:\n",
       "  :eta2       => 0.6\n",
       "  :lamb1      => 0.132\n",
       "  :lamb2      => 0.6\n",
       "  :method     => \"enet\"\n",
       "  :experiment => 3\n",
       "  :eta1       => 2.0e-7\n",
       "  :task_space => \"mixed\"\n",
       "  :outliers   => 1\n",
       "  :cv_ll      => 1.26588\n",
       "  :val_ll     => 0.857456\n",
       "  :task_time  => \"mixed\""
      ]
     },
     "metadata": {},
     "output_type": "display_data"
    },
    {
     "name": "stdout",
     "output_type": "stream",
     "text": [
      "20.00%┣████████████▏                                                ┫ 2/10 08:50<01:10:39, 0.00 it/s]"
     ]
    },
    {
     "data": {
      "text/plain": [
       "Dict{Symbol,Any} with 11 entries:\n",
       "  :eta2       => 2.0e-7\n",
       "  :lamb1      => 2.0e-7\n",
       "  :lamb2      => 0.3\n",
       "  :method     => \"enet\"\n",
       "  :experiment => 4\n",
       "  :eta1       => 0.132\n",
       "  :task_space => \"mixed\"\n",
       "  :outliers   => 1\n",
       "  :cv_ll      => 1.31811\n",
       "  :val_ll     => 0.876693\n",
       "  :task_time  => \"mixed\""
      ]
     },
     "metadata": {},
     "output_type": "display_data"
    },
    {
     "name": "stdout",
     "output_type": "stream",
     "text": [
      "30.00%┣███████████████████▏                                            ┫ 3/10 12:09<42:31, 0.00 it/s]"
     ]
    },
    {
     "data": {
      "text/plain": [
       "Dict{Symbol,Any} with 11 entries:\n",
       "  :eta2       => 2.0e-7\n",
       "  :lamb1      => 2.0e-7\n",
       "  :lamb2      => 0.6\n",
       "  :method     => \"enet\"\n",
       "  :experiment => 5\n",
       "  :eta1       => 0.2\n",
       "  :task_space => \"mixed\"\n",
       "  :outliers   => 1\n",
       "  :cv_ll      => 1.00725\n",
       "  :val_ll     => 0.552351\n",
       "  :task_time  => \"mixed\""
      ]
     },
     "metadata": {},
     "output_type": "display_data"
    },
    {
     "name": "stdout",
     "output_type": "stream",
     "text": [
      "40.00%┣█████████████████████████▌                                      ┫ 4/10 15:03<30:05, 0.00 it/s]"
     ]
    },
    {
     "data": {
      "text/plain": [
       "Dict{Symbol,Any} with 11 entries:\n",
       "  :eta2       => 0.3\n",
       "  :lamb1      => 2.0e-7\n",
       "  :lamb2      => 0.3\n",
       "  :method     => \"enet\"\n",
       "  :experiment => 6\n",
       "  :eta1       => 0.066\n",
       "  :task_space => \"mixed\"\n",
       "  :outliers   => 1\n",
       "  :cv_ll      => 1.33186\n",
       "  :val_ll     => 0.893746\n",
       "  :task_time  => \"mixed\""
      ]
     },
     "metadata": {},
     "output_type": "display_data"
    },
    {
     "name": "stdout",
     "output_type": "stream",
     "text": [
      "50.00%┣████████████████████████████████                                ┫ 5/10 18:08<22:40, 0.00 it/s]"
     ]
    },
    {
     "data": {
      "text/plain": [
       "Dict{Symbol,Any} with 11 entries:\n",
       "  :eta2       => 0.6\n",
       "  :lamb1      => 0.132\n",
       "  :lamb2      => 2.0e-7\n",
       "  :method     => \"enet\"\n",
       "  :experiment => 7\n",
       "  :eta1       => 0.132\n",
       "  :task_space => \"mixed\"\n",
       "  :outliers   => 1\n",
       "  :cv_ll      => 1.21236\n",
       "  :val_ll     => 0.710178\n",
       "  :task_time  => \"mixed\""
      ]
     },
     "metadata": {},
     "output_type": "display_data"
    },
    {
     "name": "stdout",
     "output_type": "stream",
     "text": [
      "60.00%┣██████████████████████████████████████▍                         ┫ 6/10 21:27<17:10, 0.00 it/s]"
     ]
    },
    {
     "data": {
      "text/plain": [
       "Dict{Symbol,Any} with 11 entries:\n",
       "  :eta2       => 0.6\n",
       "  :lamb1      => 2.0e-7\n",
       "  :lamb2      => 0.15\n",
       "  :method     => \"enet\"\n",
       "  :experiment => 8\n",
       "  :eta1       => 0.066\n",
       "  :task_space => \"mixed\"\n",
       "  :outliers   => 1\n",
       "  :cv_ll      => 1.43643\n",
       "  :val_ll     => 0.998259\n",
       "  :task_time  => \"mixed\""
      ]
     },
     "metadata": {},
     "output_type": "display_data"
    },
    {
     "name": "stdout",
     "output_type": "stream",
     "text": [
      "70.00%┣████████████████████████████████████████████▊                   ┫ 7/10 24:46<12:23, 0.00 it/s]"
     ]
    },
    {
     "data": {
      "text/plain": [
       "Dict{Symbol,Any} with 11 entries:\n",
       "  :eta2       => 0.3\n",
       "  :lamb1      => 2.0e-7\n",
       "  :lamb2      => 0.6\n",
       "  :method     => \"enet\"\n",
       "  :experiment => 9\n",
       "  :eta1       => 2.0e-7\n",
       "  :task_space => \"mixed\"\n",
       "  :outliers   => 1\n",
       "  :cv_ll      => 1.1669\n",
       "  :val_ll     => 0.702614\n",
       "  :task_time  => \"mixed\""
      ]
     },
     "metadata": {},
     "output_type": "display_data"
    },
    {
     "name": "stdout",
     "output_type": "stream",
     "text": [
      "80.00%┣███████████████████████████████████████████████████▏            ┫ 8/10 28:04<08:01, 0.00 it/s]"
     ]
    },
    {
     "data": {
      "text/plain": [
       "Dict{Symbol,Any} with 11 entries:\n",
       "  :eta2       => 0.6\n",
       "  :lamb1      => 2.0e-7\n",
       "  :lamb2      => 0.3\n",
       "  :method     => \"enet\"\n",
       "  :experiment => 10\n",
       "  :eta1       => 2.0e-7\n",
       "  :task_space => \"mixed\"\n",
       "  :outliers   => 1\n",
       "  :cv_ll      => 1.23036\n",
       "  :val_ll     => 0.800187\n",
       "  :task_time  => \"mixed\""
      ]
     },
     "metadata": {},
     "output_type": "display_data"
    },
    {
     "name": "stdout",
     "output_type": "stream",
     "text": [
      "100.00%┣██████████████████████████████████████████████████████████████┫ 10/10 31:18<00:00, 0.00 it/s]\n"
     ]
    },
    {
     "data": {
      "text/plain": [
       "30-element Array{Any,1}:\n",
       " Dict{Symbol,Any}(:eta2=>1.0e-12,:lamb1=>0.2,:lamb2=>1.0e-12,:method=>\"fl\",:experiment=>1,:eta1=>0.2,:task_space=>\"mixed\",:outliers=>1,:cv_ll=>1.09326,:val_ll=>0.625121…)   \n",
       " Dict{Symbol,Any}(:eta2=>1.0e-12,:lamb1=>0.2,:lamb2=>1.0e-12,:method=>\"fl\",:experiment=>2,:eta1=>0.2,:task_space=>\"mixed\",:outliers=>1,:cv_ll=>1.44618,:val_ll=>0.991524…)   \n",
       " Dict{Symbol,Any}(:eta2=>1.0e-12,:lamb1=>0.2,:lamb2=>1.0e-12,:method=>\"fl\",:experiment=>3,:eta1=>0.2,:task_space=>\"mixed\",:outliers=>1,:cv_ll=>1.30604,:val_ll=>0.878497…)   \n",
       " Dict{Symbol,Any}(:eta2=>1.0e-12,:lamb1=>0.066,:lamb2=>1.0e-12,:method=>\"fl\",:experiment=>4,:eta1=>0.2,:task_space=>\"mixed\",:outliers=>1,:cv_ll=>1.35527,:val_ll=>0.897577…) \n",
       " Dict{Symbol,Any}(:eta2=>1.0e-12,:lamb1=>0.2,:lamb2=>1.0e-12,:method=>\"fl\",:experiment=>5,:eta1=>0.2,:task_space=>\"mixed\",:outliers=>1,:cv_ll=>1.03665,:val_ll=>0.574766…)   \n",
       " Dict{Symbol,Any}(:eta2=>1.0e-12,:lamb1=>0.132,:lamb2=>1.0e-12,:method=>\"fl\",:experiment=>6,:eta1=>0.2,:task_space=>\"mixed\",:outliers=>1,:cv_ll=>1.36558,:val_ll=>0.932755…) \n",
       " Dict{Symbol,Any}(:eta2=>1.0e-12,:lamb1=>0.2,:lamb2=>1.0e-12,:method=>\"fl\",:experiment=>7,:eta1=>0.2,:task_space=>\"mixed\",:outliers=>1,:cv_ll=>1.26244,:val_ll=>0.739641…)   \n",
       " Dict{Symbol,Any}(:eta2=>1.0e-12,:lamb1=>0.066,:lamb2=>1.0e-12,:method=>\"fl\",:experiment=>8,:eta1=>0.2,:task_space=>\"mixed\",:outliers=>1,:cv_ll=>1.45167,:val_ll=>1.02038…)  \n",
       " Dict{Symbol,Any}(:eta2=>1.0e-12,:lamb1=>0.2,:lamb2=>1.0e-12,:method=>\"fl\",:experiment=>9,:eta1=>0.2,:task_space=>\"mixed\",:outliers=>1,:cv_ll=>1.23744,:val_ll=>0.714132…)   \n",
       " Dict{Symbol,Any}(:eta2=>1.0e-12,:lamb1=>0.2,:lamb2=>1.0e-12,:method=>\"fl\",:experiment=>10,:eta1=>0.132,:task_space=>\"mixed\",:outliers=>1,:cv_ll=>1.29918,:val_ll=>0.868665…)\n",
       " Dict{Symbol,Any}(:eta2=>0.6,:lamb1=>1.0e-12,:lamb2=>0.15,:method=>\"kal\",:experiment=>1,:eta1=>1.0e-12,:task_space=>\"mixed\",:outliers=>1,:cv_ll=>1.04222,:val_ll=>0.600758…) \n",
       " Dict{Symbol,Any}(:eta2=>0.6,:lamb1=>1.0e-12,:lamb2=>0.15,:method=>\"kal\",:experiment=>2,:eta1=>1.0e-12,:task_space=>\"mixed\",:outliers=>1,:cv_ll=>1.40066,:val_ll=>0.951737…) \n",
       " Dict{Symbol,Any}(:eta2=>0.6,:lamb1=>1.0e-12,:lamb2=>0.6,:method=>\"kal\",:experiment=>3,:eta1=>1.0e-12,:task_space=>\"mixed\",:outliers=>1,:cv_ll=>1.27125,:val_ll=>0.854725…)  \n",
       " ⋮                                                                                                                                                                           \n",
       " Dict{Symbol,Any}(:eta2=>0.3,:lamb1=>1.0e-12,:lamb2=>0.6,:method=>\"kal\",:experiment=>9,:eta1=>1.0e-12,:task_space=>\"mixed\",:outliers=>1,:cv_ll=>1.15385,:val_ll=>0.700195…)  \n",
       " Dict{Symbol,Any}(:eta2=>0.6,:lamb1=>1.0e-12,:lamb2=>0.3,:method=>\"kal\",:experiment=>10,:eta1=>1.0e-12,:task_space=>\"mixed\",:outliers=>1,:cv_ll=>1.2223,:val_ll=>0.796199…)  \n",
       " Dict{Symbol,Any}(:eta2=>0.6,:lamb1=>2.0e-7,:lamb2=>0.15,:method=>\"enet\",:experiment=>1,:eta1=>0.132,:task_space=>\"mixed\",:outliers=>1,:cv_ll=>1.02494,:val_ll=>0.593892…)   \n",
       " Dict{Symbol,Any}(:eta2=>0.6,:lamb1=>2.0e-7,:lamb2=>0.15,:method=>\"enet\",:experiment=>2,:eta1=>0.132,:task_space=>\"mixed\",:outliers=>1,:cv_ll=>1.40181,:val_ll=>0.945404…)   \n",
       " Dict{Symbol,Any}(:eta2=>0.6,:lamb1=>0.132,:lamb2=>0.6,:method=>\"enet\",:experiment=>3,:eta1=>2.0e-7,:task_space=>\"mixed\",:outliers=>1,:cv_ll=>1.26588,:val_ll=>0.857456…)    \n",
       " Dict{Symbol,Any}(:eta2=>2.0e-7,:lamb1=>2.0e-7,:lamb2=>0.3,:method=>\"enet\",:experiment=>4,:eta1=>0.132,:task_space=>\"mixed\",:outliers=>1,:cv_ll=>1.31811,:val_ll=>0.876693…) \n",
       " Dict{Symbol,Any}(:eta2=>2.0e-7,:lamb1=>2.0e-7,:lamb2=>0.6,:method=>\"enet\",:experiment=>5,:eta1=>0.2,:task_space=>\"mixed\",:outliers=>1,:cv_ll=>1.00725,:val_ll=>0.552351…)   \n",
       " Dict{Symbol,Any}(:eta2=>0.3,:lamb1=>2.0e-7,:lamb2=>0.3,:method=>\"enet\",:experiment=>6,:eta1=>0.066,:task_space=>\"mixed\",:outliers=>1,:cv_ll=>1.33186,:val_ll=>0.893746…)    \n",
       " Dict{Symbol,Any}(:eta2=>0.6,:lamb1=>0.132,:lamb2=>2.0e-7,:method=>\"enet\",:experiment=>7,:eta1=>0.132,:task_space=>\"mixed\",:outliers=>1,:cv_ll=>1.21236,:val_ll=>0.710178…)  \n",
       " Dict{Symbol,Any}(:eta2=>0.6,:lamb1=>2.0e-7,:lamb2=>0.15,:method=>\"enet\",:experiment=>8,:eta1=>0.066,:task_space=>\"mixed\",:outliers=>1,:cv_ll=>1.43643,:val_ll=>0.998259…)   \n",
       " Dict{Symbol,Any}(:eta2=>0.3,:lamb1=>2.0e-7,:lamb2=>0.6,:method=>\"enet\",:experiment=>9,:eta1=>2.0e-7,:task_space=>\"mixed\",:outliers=>1,:cv_ll=>1.1669,:val_ll=>0.702614…)    \n",
       " Dict{Symbol,Any}(:eta2=>0.6,:lamb1=>2.0e-7,:lamb2=>0.3,:method=>\"enet\",:experiment=>10,:eta1=>2.0e-7,:task_space=>\"mixed\",:outliers=>1,:cv_ll=>1.23036,:val_ll=>0.800187…)  "
      ]
     },
     "execution_count": 4,
     "metadata": {},
     "output_type": "execute_result"
    }
   ],
   "source": [
    "# %%\n",
    "# @everywhere begin\n",
    "N = 30\n",
    "nsims = 10\n",
    "tasks = (\"smooth\", \"constant\", \"mixed\")\n",
    "# end\n",
    "\n",
    "pmiss = 0.8\n",
    "\n",
    "\n",
    "experiment_results = run_benchmarks(N, pmiss, nsims=nsims, tasks=tasks)\n",
    "experiment_results_out = run_benchmarks(N, pmiss, nsims=nsims, tasks=(\"mixed\", ), outliers=true)"
   ]
  },
  {
   "cell_type": "code",
   "execution_count": 5,
   "metadata": {},
   "outputs": [
    {
     "data": {
      "text/html": [
       "<table class=\"data-frame\"><thead><tr><th></th><th>task_space</th><th>task_time</th><th>method</th><th>outliers</th><th>val_loglikelihood</th><th>cv_loglikelihood</th></tr><tr><th></th><th>String</th><th>String</th><th>String</th><th>Int64</th><th>Float64</th><th>Float64</th></tr></thead><tbody><tr><th>1</th><td>constant</td><td>constant</td><td>enet</td><td>0</td><td>0.716805</td><td>0.747859</td></tr><tr><th>2</th><td>constant</td><td>constant</td><td>fl</td><td>0</td><td>0.742836</td><td>0.799245</td></tr><tr><th>3</th><td>constant</td><td>constant</td><td>kal</td><td>0</td><td>0.735285</td><td>0.772055</td></tr><tr><th>4</th><td>constant</td><td>mixed</td><td>enet</td><td>0</td><td>0.733996</td><td>0.758068</td></tr><tr><th>5</th><td>constant</td><td>mixed</td><td>fl</td><td>0</td><td>0.763687</td><td>0.804908</td></tr><tr><th>6</th><td>constant</td><td>mixed</td><td>kal</td><td>0</td><td>0.736812</td><td>0.761795</td></tr><tr><th>7</th><td>constant</td><td>smooth</td><td>enet</td><td>0</td><td>0.70014</td><td>0.726449</td></tr><tr><th>8</th><td>constant</td><td>smooth</td><td>fl</td><td>0</td><td>0.733509</td><td>0.781413</td></tr><tr><th>9</th><td>constant</td><td>smooth</td><td>kal</td><td>0</td><td>0.70646</td><td>0.737081</td></tr><tr><th>10</th><td>mixed</td><td>constant</td><td>enet</td><td>0</td><td>0.709394</td><td>0.741007</td></tr><tr><th>11</th><td>mixed</td><td>constant</td><td>fl</td><td>0</td><td>0.739376</td><td>0.793821</td></tr><tr><th>12</th><td>mixed</td><td>constant</td><td>kal</td><td>0</td><td>0.718471</td><td>0.755524</td></tr><tr><th>13</th><td>mixed</td><td>mixed</td><td>enet</td><td>0</td><td>0.687623</td><td>0.720549</td></tr><tr><th>14</th><td>mixed</td><td>mixed</td><td>enet</td><td>1</td><td>0.793078</td><td>1.23959</td></tr><tr><th>15</th><td>mixed</td><td>mixed</td><td>fl</td><td>0</td><td>0.724034</td><td>0.772241</td></tr><tr><th>16</th><td>mixed</td><td>mixed</td><td>fl</td><td>1</td><td>0.824305</td><td>1.28537</td></tr><tr><th>17</th><td>mixed</td><td>mixed</td><td>kal</td><td>0</td><td>0.699327</td><td>0.732267</td></tr><tr><th>18</th><td>mixed</td><td>mixed</td><td>kal</td><td>1</td><td>0.795077</td><td>1.24141</td></tr><tr><th>19</th><td>mixed</td><td>smooth</td><td>enet</td><td>0</td><td>0.671449</td><td>0.700894</td></tr><tr><th>20</th><td>mixed</td><td>smooth</td><td>fl</td><td>0</td><td>0.724428</td><td>0.776567</td></tr><tr><th>21</th><td>mixed</td><td>smooth</td><td>kal</td><td>0</td><td>0.672263</td><td>0.70192</td></tr><tr><th>22</th><td>smooth</td><td>constant</td><td>enet</td><td>0</td><td>0.698649</td><td>0.727135</td></tr><tr><th>23</th><td>smooth</td><td>constant</td><td>fl</td><td>0</td><td>0.734219</td><td>0.774538</td></tr><tr><th>24</th><td>smooth</td><td>constant</td><td>kal</td><td>0</td><td>0.704965</td><td>0.733631</td></tr><tr><th>25</th><td>smooth</td><td>mixed</td><td>enet</td><td>0</td><td>0.729658</td><td>0.766145</td></tr><tr><th>26</th><td>smooth</td><td>mixed</td><td>fl</td><td>0</td><td>0.768399</td><td>0.826347</td></tr><tr><th>27</th><td>smooth</td><td>mixed</td><td>kal</td><td>0</td><td>0.732152</td><td>0.769907</td></tr><tr><th>28</th><td>smooth</td><td>smooth</td><td>enet</td><td>0</td><td>0.73385</td><td>0.754251</td></tr><tr><th>29</th><td>smooth</td><td>smooth</td><td>fl</td><td>0</td><td>0.779079</td><td>0.817569</td></tr><tr><th>30</th><td>smooth</td><td>smooth</td><td>kal</td><td>0</td><td>0.737836</td><td>0.765077</td></tr></tbody></table>"
      ],
      "text/latex": [
       "\\begin{tabular}{r|cccccc}\n",
       "\t& task\\_space & task\\_time & method & outliers & val\\_loglikelihood & cv\\_loglikelihood\\\\\n",
       "\t\\hline\n",
       "\t1 & constant & constant & enet & 0 & 0.716805 & 0.747859 \\\\\n",
       "\t2 & constant & constant & fl & 0 & 0.742836 & 0.799245 \\\\\n",
       "\t3 & constant & constant & kal & 0 & 0.735285 & 0.772055 \\\\\n",
       "\t4 & constant & mixed & enet & 0 & 0.733996 & 0.758068 \\\\\n",
       "\t5 & constant & mixed & fl & 0 & 0.763687 & 0.804908 \\\\\n",
       "\t6 & constant & mixed & kal & 0 & 0.736812 & 0.761795 \\\\\n",
       "\t7 & constant & smooth & enet & 0 & 0.70014 & 0.726449 \\\\\n",
       "\t8 & constant & smooth & fl & 0 & 0.733509 & 0.781413 \\\\\n",
       "\t9 & constant & smooth & kal & 0 & 0.70646 & 0.737081 \\\\\n",
       "\t10 & mixed & constant & enet & 0 & 0.709394 & 0.741007 \\\\\n",
       "\t11 & mixed & constant & fl & 0 & 0.739376 & 0.793821 \\\\\n",
       "\t12 & mixed & constant & kal & 0 & 0.718471 & 0.755524 \\\\\n",
       "\t13 & mixed & mixed & enet & 0 & 0.687623 & 0.720549 \\\\\n",
       "\t14 & mixed & mixed & enet & 1 & 0.793078 & 1.23959 \\\\\n",
       "\t15 & mixed & mixed & fl & 0 & 0.724034 & 0.772241 \\\\\n",
       "\t16 & mixed & mixed & fl & 1 & 0.824305 & 1.28537 \\\\\n",
       "\t17 & mixed & mixed & kal & 0 & 0.699327 & 0.732267 \\\\\n",
       "\t18 & mixed & mixed & kal & 1 & 0.795077 & 1.24141 \\\\\n",
       "\t19 & mixed & smooth & enet & 0 & 0.671449 & 0.700894 \\\\\n",
       "\t20 & mixed & smooth & fl & 0 & 0.724428 & 0.776567 \\\\\n",
       "\t21 & mixed & smooth & kal & 0 & 0.672263 & 0.70192 \\\\\n",
       "\t22 & smooth & constant & enet & 0 & 0.698649 & 0.727135 \\\\\n",
       "\t23 & smooth & constant & fl & 0 & 0.734219 & 0.774538 \\\\\n",
       "\t24 & smooth & constant & kal & 0 & 0.704965 & 0.733631 \\\\\n",
       "\t25 & smooth & mixed & enet & 0 & 0.729658 & 0.766145 \\\\\n",
       "\t26 & smooth & mixed & fl & 0 & 0.768399 & 0.826347 \\\\\n",
       "\t27 & smooth & mixed & kal & 0 & 0.732152 & 0.769907 \\\\\n",
       "\t28 & smooth & smooth & enet & 0 & 0.73385 & 0.754251 \\\\\n",
       "\t29 & smooth & smooth & fl & 0 & 0.779079 & 0.817569 \\\\\n",
       "\t30 & smooth & smooth & kal & 0 & 0.737836 & 0.765077 \\\\\n",
       "\\end{tabular}\n"
      ],
      "text/plain": [
       "30×6 DataFrame. Omitted printing of 1 columns\n",
       "│ Row │ task_space │ task_time │ method │ outliers │ val_loglikelihood │\n",
       "│     │ \u001b[90mString\u001b[39m     │ \u001b[90mString\u001b[39m    │ \u001b[90mString\u001b[39m │ \u001b[90mInt64\u001b[39m    │ \u001b[90mFloat64\u001b[39m           │\n",
       "├─────┼────────────┼───────────┼────────┼──────────┼───────────────────┤\n",
       "│ 1   │ constant   │ constant  │ enet   │ 0        │ 0.716805          │\n",
       "│ 2   │ constant   │ constant  │ fl     │ 0        │ 0.742836          │\n",
       "│ 3   │ constant   │ constant  │ kal    │ 0        │ 0.735285          │\n",
       "│ 4   │ constant   │ mixed     │ enet   │ 0        │ 0.733996          │\n",
       "│ 5   │ constant   │ mixed     │ fl     │ 0        │ 0.763687          │\n",
       "│ 6   │ constant   │ mixed     │ kal    │ 0        │ 0.736812          │\n",
       "│ 7   │ constant   │ smooth    │ enet   │ 0        │ 0.70014           │\n",
       "│ 8   │ constant   │ smooth    │ fl     │ 0        │ 0.733509          │\n",
       "│ 9   │ constant   │ smooth    │ kal    │ 0        │ 0.70646           │\n",
       "│ 10  │ mixed      │ constant  │ enet   │ 0        │ 0.709394          │\n",
       "⋮\n",
       "│ 20  │ mixed      │ smooth    │ fl     │ 0        │ 0.724428          │\n",
       "│ 21  │ mixed      │ smooth    │ kal    │ 0        │ 0.672263          │\n",
       "│ 22  │ smooth     │ constant  │ enet   │ 0        │ 0.698649          │\n",
       "│ 23  │ smooth     │ constant  │ fl     │ 0        │ 0.734219          │\n",
       "│ 24  │ smooth     │ constant  │ kal    │ 0        │ 0.704965          │\n",
       "│ 25  │ smooth     │ mixed     │ enet   │ 0        │ 0.729658          │\n",
       "│ 26  │ smooth     │ mixed     │ fl     │ 0        │ 0.768399          │\n",
       "│ 27  │ smooth     │ mixed     │ kal    │ 0        │ 0.732152          │\n",
       "│ 28  │ smooth     │ smooth    │ enet   │ 0        │ 0.73385           │\n",
       "│ 29  │ smooth     │ smooth    │ fl     │ 0        │ 0.779079          │\n",
       "│ 30  │ smooth     │ smooth    │ kal    │ 0        │ 0.737836          │"
      ]
     },
     "execution_count": 5,
     "metadata": {},
     "output_type": "execute_result"
    }
   ],
   "source": [
    "\n",
    "# %%\n",
    "df = DataFrame(experiment = Int[],\n",
    "               task_space=String[],\n",
    "               task_time=String[],\n",
    "               method=String[],\n",
    "               cv_ll=Float64[],\n",
    "               val_ll=Float64[],\n",
    "               lamb1=Float64[],\n",
    "               lamb2=Float64[],\n",
    "               eta1=Float64[],\n",
    "               eta2=Float64[],\n",
    "               outliers=Int[])\n",
    "for record in [experiment_results; experiment_results_out]\n",
    "    push!(df, record)\n",
    "end\n",
    "\n",
    "CSV.write(\"benchmarks-results-spt_p08_scaled.csv\", df)\n",
    "\n",
    "# %%\n",
    "head(df, 10)\n",
    "\n",
    "\n",
    "# %%\n",
    "res = R\"\"\"\n",
    "df = $df %>% \n",
    "    group_by(task_space, task_time, method, outliers) %>%\n",
    "    summarize(val_loglikelihood = mean(val_ll),\n",
    "              cv_loglikelihood = mean(cv_ll))\n",
    "df\n",
    "\"\"\"\n",
    "res = rcopy(res)\n",
    "\n",
    "# %%\n",
    "\n"
   ]
  },
  {
   "cell_type": "code",
   "execution_count": 6,
   "metadata": {},
   "outputs": [
    {
     "name": "stdout",
     "output_type": "stream",
     "text": [
      "300×11 DataFrame\n",
      "│ Row │ experiment │ task_space │ task_time │ method │ cv_ll    │ val_ll   │ lamb1   │ lamb2   │ eta1    │ eta2    │ outliers │\n",
      "│     │ \u001b[90mInt64\u001b[39m      │ \u001b[90mString\u001b[39m     │ \u001b[90mString\u001b[39m    │ \u001b[90mString\u001b[39m │ \u001b[90mFloat64\u001b[39m  │ \u001b[90mFloat64\u001b[39m  │ \u001b[90mFloat64\u001b[39m │ \u001b[90mFloat64\u001b[39m │ \u001b[90mFloat64\u001b[39m │ \u001b[90mFloat64\u001b[39m │ \u001b[90mInt64\u001b[39m    │\n",
      "├─────┼────────────┼────────────┼───────────┼────────┼──────────┼──────────┼─────────┼─────────┼─────────┼─────────┼──────────┤\n",
      "│ 1   │ 1          │ smooth     │ smooth    │ fl     │ 0.827946 │ 0.772092 │ 0.132   │ 1.0e-12 │ 0.2     │ 1.0e-12 │ 0        │\n",
      "│ 2   │ 2          │ smooth     │ smooth    │ fl     │ 0.774578 │ 0.676679 │ 0.2     │ 1.0e-12 │ 0.2     │ 1.0e-12 │ 0        │\n",
      "│ 3   │ 3          │ smooth     │ smooth    │ fl     │ 1.01038  │ 1.01173  │ 0.066   │ 1.0e-12 │ 0.2     │ 1.0e-12 │ 0        │\n",
      "│ 4   │ 4          │ smooth     │ smooth    │ fl     │ 0.779746 │ 0.744549 │ 0.2     │ 1.0e-12 │ 0.2     │ 1.0e-12 │ 0        │\n",
      "│ 5   │ 5          │ smooth     │ smooth    │ fl     │ 1.04391  │ 1.00248  │ 0.132   │ 1.0e-12 │ 0.2     │ 1.0e-12 │ 0        │\n",
      "│ 6   │ 6          │ smooth     │ smooth    │ fl     │ 0.876908 │ 0.854103 │ 0.2     │ 1.0e-12 │ 0.2     │ 1.0e-12 │ 0        │\n",
      "│ 7   │ 7          │ smooth     │ smooth    │ fl     │ 0.794685 │ 0.72503  │ 0.2     │ 1.0e-12 │ 0.2     │ 1.0e-12 │ 0        │\n",
      "│ 8   │ 8          │ smooth     │ smooth    │ fl     │ 0.573052 │ 0.555318 │ 0.2     │ 1.0e-12 │ 0.066   │ 1.0e-12 │ 0        │\n",
      "│ 9   │ 9          │ smooth     │ smooth    │ fl     │ 0.74614  │ 0.697543 │ 0.2     │ 1.0e-12 │ 0.2     │ 1.0e-12 │ 0        │\n",
      "│ 10  │ 10         │ smooth     │ smooth    │ fl     │ 0.748342 │ 0.751263 │ 0.066   │ 1.0e-12 │ 0.2     │ 1.0e-12 │ 0        │\n",
      "│ 11  │ 1          │ smooth     │ smooth    │ kal    │ 0.748702 │ 0.728472 │ 1.0e-12 │ 0.3     │ 1.0e-12 │ 0.6     │ 0        │\n",
      "│ 12  │ 2          │ smooth     │ smooth    │ kal    │ 0.621112 │ 0.570386 │ 1.0e-12 │ 0.15    │ 1.0e-12 │ 0.6     │ 0        │\n",
      "│ 13  │ 3          │ smooth     │ smooth    │ kal    │ 1.00779  │ 0.996042 │ 1.0e-12 │ 0.15    │ 1.0e-12 │ 0.6     │ 0        │\n",
      "│ 14  │ 4          │ smooth     │ smooth    │ kal    │ 0.709495 │ 0.710528 │ 1.0e-12 │ 0.6     │ 1.0e-12 │ 0.6     │ 0        │\n",
      "│ 15  │ 5          │ smooth     │ smooth    │ kal    │ 0.97555  │ 0.952892 │ 1.0e-12 │ 0.3     │ 1.0e-12 │ 0.6     │ 0        │\n",
      "│ 16  │ 6          │ smooth     │ smooth    │ kal    │ 0.885868 │ 0.839672 │ 1.0e-12 │ 0.6     │ 1.0e-12 │ 0.6     │ 0        │\n",
      "│ 17  │ 7          │ smooth     │ smooth    │ kal    │ 0.709037 │ 0.656465 │ 1.0e-12 │ 0.6     │ 1.0e-12 │ 0.3     │ 0        │\n",
      "│ 18  │ 8          │ smooth     │ smooth    │ kal    │ 0.57801  │ 0.556296 │ 1.0e-12 │ 0.6     │ 1.0e-12 │ 0.3     │ 0        │\n",
      "│ 19  │ 9          │ smooth     │ smooth    │ kal    │ 0.686852 │ 0.640199 │ 1.0e-12 │ 0.6     │ 1.0e-12 │ 0.6     │ 0        │\n",
      "│ 20  │ 10         │ smooth     │ smooth    │ kal    │ 0.728354 │ 0.72741  │ 1.0e-12 │ 0.3     │ 1.0e-12 │ 0.6     │ 0        │\n",
      "│ 21  │ 1          │ smooth     │ smooth    │ enet   │ 0.748601 │ 0.725711 │ 2.0e-7  │ 0.3     │ 0.132   │ 0.6     │ 0        │\n",
      "│ 22  │ 2          │ smooth     │ smooth    │ enet   │ 0.625256 │ 0.575821 │ 2.0e-7  │ 0.3     │ 2.0e-7  │ 0.6     │ 0        │\n",
      "│ 23  │ 3          │ smooth     │ smooth    │ enet   │ 0.981244 │ 0.988159 │ 2.0e-7  │ 0.15    │ 0.132   │ 0.6     │ 0        │\n",
      "│ 24  │ 4          │ smooth     │ smooth    │ enet   │ 0.711273 │ 0.711278 │ 2.0e-7  │ 0.6     │ 2.0e-7  │ 0.6     │ 0        │\n",
      "│ 25  │ 5          │ smooth     │ smooth    │ enet   │ 0.973804 │ 0.948273 │ 2.0e-7  │ 0.3     │ 2.0e-7  │ 0.6     │ 0        │\n",
      "│ 26  │ 6          │ smooth     │ smooth    │ enet   │ 0.848608 │ 0.826199 │ 0.2     │ 0.6     │ 2.0e-7  │ 0.6     │ 0        │\n",
      "│ 27  │ 7          │ smooth     │ smooth    │ enet   │ 0.704747 │ 0.654225 │ 0.066   │ 0.6     │ 2.0e-7  │ 0.3     │ 0        │\n",
      "│ 28  │ 8          │ smooth     │ smooth    │ enet   │ 0.551912 │ 0.537534 │ 0.2     │ 0.6     │ 2.0e-7  │ 0.15    │ 0        │\n",
      "│ 29  │ 9          │ smooth     │ smooth    │ enet   │ 0.684324 │ 0.645413 │ 2.0e-7  │ 0.6     │ 0.066   │ 0.6     │ 0        │\n",
      "│ 30  │ 10         │ smooth     │ smooth    │ enet   │ 0.712739 │ 0.72589  │ 2.0e-7  │ 0.3     │ 0.132   │ 0.6     │ 0        │\n",
      "│ 31  │ 1          │ smooth     │ constant  │ fl     │ 0.513892 │ 0.510222 │ 0.2     │ 1.0e-12 │ 0.2     │ 1.0e-12 │ 0        │\n",
      "│ 32  │ 2          │ smooth     │ constant  │ fl     │ 0.941096 │ 0.890016 │ 0.2     │ 1.0e-12 │ 0.2     │ 1.0e-12 │ 0        │\n",
      "│ 33  │ 3          │ smooth     │ constant  │ fl     │ 0.78208  │ 0.75404  │ 0.2     │ 1.0e-12 │ 0.2     │ 1.0e-12 │ 0        │\n",
      "│ 34  │ 4          │ smooth     │ constant  │ fl     │ 0.927762 │ 0.886147 │ 0.2     │ 1.0e-12 │ 0.2     │ 1.0e-12 │ 0        │\n",
      "│ 35  │ 5          │ smooth     │ constant  │ fl     │ 0.591772 │ 0.527046 │ 0.2     │ 1.0e-12 │ 0.2     │ 1.0e-12 │ 0        │\n",
      "│ 36  │ 6          │ smooth     │ constant  │ fl     │ 0.9184   │ 0.894901 │ 0.2     │ 1.0e-12 │ 0.2     │ 1.0e-12 │ 0        │\n",
      "│ 37  │ 7          │ smooth     │ constant  │ fl     │ 0.903396 │ 0.853972 │ 0.2     │ 1.0e-12 │ 0.2     │ 1.0e-12 │ 0        │\n",
      "│ 38  │ 8          │ smooth     │ constant  │ fl     │ 0.960403 │ 0.930065 │ 0.2     │ 1.0e-12 │ 0.132   │ 1.0e-12 │ 0        │\n",
      "│ 39  │ 9          │ smooth     │ constant  │ fl     │ 0.633857 │ 0.585568 │ 0.2     │ 1.0e-12 │ 0.2     │ 1.0e-12 │ 0        │\n",
      "│ 40  │ 10         │ smooth     │ constant  │ fl     │ 0.572725 │ 0.510212 │ 0.2     │ 1.0e-12 │ 0.2     │ 1.0e-12 │ 0        │\n",
      "│ 41  │ 1          │ smooth     │ constant  │ kal    │ 0.495403 │ 0.489927 │ 1.0e-12 │ 0.6     │ 1.0e-12 │ 0.3     │ 0        │\n",
      "│ 42  │ 2          │ smooth     │ constant  │ kal    │ 0.887954 │ 0.848112 │ 1.0e-12 │ 0.6     │ 1.0e-12 │ 0.3     │ 0        │\n",
      "│ 43  │ 3          │ smooth     │ constant  │ kal    │ 0.749357 │ 0.727842 │ 1.0e-12 │ 0.6     │ 1.0e-12 │ 0.6     │ 0        │\n",
      "│ 44  │ 4          │ smooth     │ constant  │ kal    │ 0.889029 │ 0.868374 │ 1.0e-12 │ 0.6     │ 1.0e-12 │ 0.6     │ 0        │\n",
      "│ 45  │ 5          │ smooth     │ constant  │ kal    │ 0.538404 │ 0.500618 │ 1.0e-12 │ 0.6     │ 1.0e-12 │ 0.6     │ 0        │\n",
      "│ 46  │ 6          │ smooth     │ constant  │ kal    │ 0.864875 │ 0.859752 │ 1.0e-12 │ 0.6     │ 1.0e-12 │ 0.6     │ 0        │\n",
      "│ 47  │ 7          │ smooth     │ constant  │ kal    │ 0.865865 │ 0.823428 │ 1.0e-12 │ 0.6     │ 1.0e-12 │ 0.6     │ 0        │\n",
      "│ 48  │ 8          │ smooth     │ constant  │ kal    │ 0.923521 │ 0.902738 │ 1.0e-12 │ 0.6     │ 1.0e-12 │ 0.6     │ 0        │\n",
      "│ 49  │ 9          │ smooth     │ constant  │ kal    │ 0.553634 │ 0.527607 │ 1.0e-12 │ 0.3     │ 1.0e-12 │ 0.6     │ 0        │\n",
      "│ 50  │ 10         │ smooth     │ constant  │ kal    │ 0.568265 │ 0.50125  │ 1.0e-12 │ 0.3     │ 1.0e-12 │ 0.6     │ 0        │\n",
      "│ 51  │ 1          │ smooth     │ constant  │ enet   │ 0.470752 │ 0.465123 │ 0.2     │ 0.6     │ 2.0e-7  │ 0.3     │ 0        │\n",
      "│ 52  │ 2          │ smooth     │ constant  │ enet   │ 0.885201 │ 0.852912 │ 2.0e-7  │ 0.6     │ 2.0e-7  │ 0.6     │ 0        │\n",
      "│ 53  │ 3          │ smooth     │ constant  │ enet   │ 0.745048 │ 0.724436 │ 0.2     │ 2.0e-7  │ 2.0e-7  │ 0.6     │ 0        │\n",
      "│ 54  │ 4          │ smooth     │ constant  │ enet   │ 0.883515 │ 0.857484 │ 0.132   │ 2.0e-7  │ 0.2     │ 0.6     │ 0        │\n",
      "│ 55  │ 5          │ smooth     │ constant  │ enet   │ 0.536759 │ 0.501582 │ 0.066   │ 0.3     │ 2.0e-7  │ 0.6     │ 0        │\n",
      "│ 56  │ 6          │ smooth     │ constant  │ enet   │ 0.867925 │ 0.859314 │ 0.066   │ 0.6     │ 2.0e-7  │ 0.6     │ 0        │\n",
      "│ 57  │ 7          │ smooth     │ constant  │ enet   │ 0.867413 │ 0.820691 │ 2.0e-7  │ 0.6     │ 2.0e-7  │ 0.6     │ 0        │\n",
      "│ 58  │ 8          │ smooth     │ constant  │ enet   │ 0.906296 │ 0.894666 │ 0.132   │ 0.6     │ 2.0e-7  │ 0.3     │ 0        │\n",
      "│ 59  │ 9          │ smooth     │ constant  │ enet   │ 0.56506  │ 0.528007 │ 2.0e-7  │ 0.3     │ 2.0e-7  │ 0.6     │ 0        │\n",
      "│ 60  │ 10         │ smooth     │ constant  │ enet   │ 0.54338  │ 0.48228  │ 0.132   │ 2.0e-7  │ 0.132   │ 0.6     │ 0        │\n",
      "│ 61  │ 1          │ smooth     │ mixed     │ fl     │ 0.787604 │ 0.710763 │ 0.2     │ 1.0e-12 │ 0.2     │ 1.0e-12 │ 0        │\n",
      "│ 62  │ 2          │ smooth     │ mixed     │ fl     │ 0.752395 │ 0.697835 │ 0.2     │ 1.0e-12 │ 0.2     │ 1.0e-12 │ 0        │\n",
      "│ 63  │ 3          │ smooth     │ mixed     │ fl     │ 0.656119 │ 0.613893 │ 0.2     │ 1.0e-12 │ 0.2     │ 1.0e-12 │ 0        │\n",
      "│ 64  │ 4          │ smooth     │ mixed     │ fl     │ 0.868204 │ 0.837923 │ 0.2     │ 1.0e-12 │ 0.2     │ 1.0e-12 │ 0        │\n",
      "│ 65  │ 5          │ smooth     │ mixed     │ fl     │ 0.915121 │ 0.848072 │ 0.2     │ 1.0e-12 │ 0.2     │ 1.0e-12 │ 0        │\n",
      "│ 66  │ 6          │ smooth     │ mixed     │ fl     │ 0.816523 │ 0.767087 │ 0.132   │ 1.0e-12 │ 0.2     │ 1.0e-12 │ 0        │\n",
      "│ 67  │ 7          │ smooth     │ mixed     │ fl     │ 0.890774 │ 0.770896 │ 0.132   │ 1.0e-12 │ 0.2     │ 1.0e-12 │ 0        │\n",
      "│ 68  │ 8          │ smooth     │ mixed     │ fl     │ 0.830524 │ 0.811729 │ 0.2     │ 1.0e-12 │ 0.2     │ 1.0e-12 │ 0        │\n",
      "│ 69  │ 9          │ smooth     │ mixed     │ fl     │ 0.828424 │ 0.740976 │ 0.2     │ 1.0e-12 │ 0.2     │ 1.0e-12 │ 0        │\n",
      "│ 70  │ 10         │ smooth     │ mixed     │ fl     │ 0.917781 │ 0.884811 │ 0.2     │ 1.0e-12 │ 0.066   │ 1.0e-12 │ 0        │\n",
      "│ 71  │ 1          │ smooth     │ mixed     │ kal    │ 0.707099 │ 0.652047 │ 1.0e-12 │ 0.6     │ 1.0e-12 │ 0.6     │ 0        │\n",
      "│ 72  │ 2          │ smooth     │ mixed     │ kal    │ 0.700794 │ 0.663974 │ 1.0e-12 │ 0.6     │ 1.0e-12 │ 0.6     │ 0        │\n",
      "│ 73  │ 3          │ smooth     │ mixed     │ kal    │ 0.627985 │ 0.581947 │ 1.0e-12 │ 0.6     │ 1.0e-12 │ 0.3     │ 0        │\n",
      "│ 74  │ 4          │ smooth     │ mixed     │ kal    │ 0.801429 │ 0.791978 │ 1.0e-12 │ 0.6     │ 1.0e-12 │ 0.3     │ 0        │\n",
      "│ 75  │ 5          │ smooth     │ mixed     │ kal    │ 0.863374 │ 0.815617 │ 1.0e-12 │ 0.6     │ 1.0e-12 │ 0.6     │ 0        │\n",
      "│ 76  │ 6          │ smooth     │ mixed     │ kal    │ 0.778322 │ 0.747309 │ 1.0e-12 │ 0.6     │ 1.0e-12 │ 0.6     │ 0        │\n",
      "│ 77  │ 7          │ smooth     │ mixed     │ kal    │ 0.789159 │ 0.720954 │ 1.0e-12 │ 0.15    │ 1.0e-12 │ 0.6     │ 0        │\n",
      "│ 78  │ 8          │ smooth     │ mixed     │ kal    │ 0.780127 │ 0.782448 │ 1.0e-12 │ 0.6     │ 1.0e-12 │ 0.6     │ 0        │\n",
      "│ 79  │ 9          │ smooth     │ mixed     │ kal    │ 0.778861 │ 0.721882 │ 1.0e-12 │ 0.3     │ 1.0e-12 │ 0.6     │ 0        │\n",
      "│ 80  │ 10         │ smooth     │ mixed     │ kal    │ 0.871924 │ 0.843362 │ 1.0e-12 │ 0.6     │ 1.0e-12 │ 0.15    │ 0        │\n",
      "│ 81  │ 1          │ smooth     │ mixed     │ enet   │ 0.71241  │ 0.65353  │ 2.0e-7  │ 0.6     │ 2.0e-7  │ 0.6     │ 0        │\n",
      "│ 82  │ 2          │ smooth     │ mixed     │ enet   │ 0.708363 │ 0.662223 │ 2.0e-7  │ 0.6     │ 2.0e-7  │ 0.6     │ 0        │\n",
      "│ 83  │ 3          │ smooth     │ mixed     │ enet   │ 0.610651 │ 0.569006 │ 0.2     │ 0.6     │ 2.0e-7  │ 0.3     │ 0        │\n",
      "│ 84  │ 4          │ smooth     │ mixed     │ enet   │ 0.792988 │ 0.795951 │ 0.2     │ 0.6     │ 2.0e-7  │ 0.15    │ 0        │\n",
      "│ 85  │ 5          │ smooth     │ mixed     │ enet   │ 0.859007 │ 0.814425 │ 2.0e-7  │ 0.6     │ 2.0e-7  │ 0.6     │ 0        │\n",
      "│ 86  │ 6          │ smooth     │ mixed     │ enet   │ 0.783342 │ 0.743512 │ 0.066   │ 0.6     │ 2.0e-7  │ 0.6     │ 0        │\n",
      "│ 87  │ 7          │ smooth     │ mixed     │ enet   │ 0.792388 │ 0.724367 │ 2.0e-7  │ 0.15    │ 2.0e-7  │ 0.6     │ 0        │\n",
      "│ 88  │ 8          │ smooth     │ mixed     │ enet   │ 0.777617 │ 0.782648 │ 2.0e-7  │ 0.3     │ 2.0e-7  │ 0.6     │ 0        │\n",
      "│ 89  │ 9          │ smooth     │ mixed     │ enet   │ 0.768994 │ 0.70811  │ 0.132   │ 2.0e-7  │ 2.0e-7  │ 0.6     │ 0        │\n",
      "│ 90  │ 10         │ smooth     │ mixed     │ enet   │ 0.855689 │ 0.842804 │ 0.066   │ 0.6     │ 2.0e-7  │ 0.15    │ 0        │\n",
      "│ 91  │ 1          │ constant   │ smooth    │ fl     │ 0.905106 │ 0.883054 │ 0.2     │ 1.0e-12 │ 0.132   │ 1.0e-12 │ 0        │\n",
      "│ 92  │ 2          │ constant   │ smooth    │ fl     │ 0.782721 │ 0.75245  │ 0.2     │ 1.0e-12 │ 0.2     │ 1.0e-12 │ 0        │\n",
      "│ 93  │ 3          │ constant   │ smooth    │ fl     │ 0.903444 │ 0.843901 │ 0.2     │ 1.0e-12 │ 0.2     │ 1.0e-12 │ 0        │\n",
      "│ 94  │ 4          │ constant   │ smooth    │ fl     │ 0.713848 │ 0.719241 │ 0.132   │ 1.0e-12 │ 0.2     │ 1.0e-12 │ 0        │\n",
      "│ 95  │ 5          │ constant   │ smooth    │ fl     │ 0.695137 │ 0.617926 │ 0.2     │ 1.0e-12 │ 0.2     │ 1.0e-12 │ 0        │\n",
      "│ 96  │ 6          │ constant   │ smooth    │ fl     │ 0.922743 │ 0.849217 │ 0.132   │ 1.0e-12 │ 0.2     │ 1.0e-12 │ 0        │\n",
      "│ 97  │ 7          │ constant   │ smooth    │ fl     │ 0.698154 │ 0.681632 │ 0.066   │ 1.0e-12 │ 0.2     │ 1.0e-12 │ 0        │\n",
      "│ 98  │ 8          │ constant   │ smooth    │ fl     │ 0.712947 │ 0.642551 │ 0.2     │ 1.0e-12 │ 0.2     │ 1.0e-12 │ 0        │\n",
      "│ 99  │ 9          │ constant   │ smooth    │ fl     │ 0.670561 │ 0.596248 │ 0.2     │ 1.0e-12 │ 0.2     │ 1.0e-12 │ 0        │\n",
      "│ 100 │ 10         │ constant   │ smooth    │ fl     │ 0.809466 │ 0.748875 │ 0.2     │ 1.0e-12 │ 0.2     │ 1.0e-12 │ 0        │\n",
      "│ 101 │ 1          │ constant   │ smooth    │ kal    │ 0.870367 │ 0.859537 │ 1.0e-12 │ 0.3     │ 1.0e-12 │ 0.3     │ 0        │\n",
      "│ 102 │ 2          │ constant   │ smooth    │ kal    │ 0.752795 │ 0.732005 │ 1.0e-12 │ 0.6     │ 1.0e-12 │ 0.6     │ 0        │\n",
      "│ 103 │ 3          │ constant   │ smooth    │ kal    │ 0.862147 │ 0.808049 │ 1.0e-12 │ 0.6     │ 1.0e-12 │ 0.3     │ 0        │\n",
      "│ 104 │ 4          │ constant   │ smooth    │ kal    │ 0.702031 │ 0.710936 │ 1.0e-12 │ 0.6     │ 1.0e-12 │ 0.6     │ 0        │\n",
      "│ 105 │ 5          │ constant   │ smooth    │ kal    │ 0.646223 │ 0.59276  │ 1.0e-12 │ 0.6     │ 1.0e-12 │ 0.6     │ 0        │\n",
      "│ 106 │ 6          │ constant   │ smooth    │ kal    │ 0.834832 │ 0.810143 │ 1.0e-12 │ 0.15    │ 1.0e-12 │ 0.6     │ 0        │\n",
      "│ 107 │ 7          │ constant   │ smooth    │ kal    │ 0.631467 │ 0.644013 │ 1.0e-12 │ 0.3     │ 1.0e-12 │ 0.6     │ 0        │\n",
      "│ 108 │ 8          │ constant   │ smooth    │ kal    │ 0.664478 │ 0.615724 │ 1.0e-12 │ 0.6     │ 1.0e-12 │ 0.6     │ 0        │\n",
      "│ 109 │ 9          │ constant   │ smooth    │ kal    │ 0.635345 │ 0.56491  │ 1.0e-12 │ 0.6     │ 1.0e-12 │ 0.3     │ 0        │\n",
      "│ 110 │ 10         │ constant   │ smooth    │ kal    │ 0.771126 │ 0.726523 │ 1.0e-12 │ 0.6     │ 1.0e-12 │ 0.3     │ 0        │\n",
      "│ 111 │ 1          │ constant   │ smooth    │ enet   │ 0.880079 │ 0.861539 │ 0.066   │ 0.3     │ 0.066   │ 0.15    │ 0        │\n",
      "│ 112 │ 2          │ constant   │ smooth    │ enet   │ 0.738728 │ 0.73073  │ 0.066   │ 0.6     │ 2.0e-7  │ 0.6     │ 0        │\n",
      "│ 113 │ 3          │ constant   │ smooth    │ enet   │ 0.840514 │ 0.805799 │ 2.0e-7  │ 0.6     │ 0.066   │ 0.15    │ 0        │\n",
      "│ 114 │ 4          │ constant   │ smooth    │ enet   │ 0.702001 │ 0.700331 │ 2.0e-7  │ 0.6     │ 0.2     │ 0.6     │ 0        │\n",
      "│ 115 │ 5          │ constant   │ smooth    │ enet   │ 0.641021 │ 0.588883 │ 2.0e-7  │ 0.6     │ 0.2     │ 2.0e-7  │ 0        │\n",
      "│ 116 │ 6          │ constant   │ smooth    │ enet   │ 0.816763 │ 0.797882 │ 2.0e-7  │ 0.15    │ 0.2     │ 0.6     │ 0        │\n",
      "│ 117 │ 7          │ constant   │ smooth    │ enet   │ 0.631508 │ 0.639185 │ 2.0e-7  │ 0.3     │ 2.0e-7  │ 0.6     │ 0        │\n",
      "│ 118 │ 8          │ constant   │ smooth    │ enet   │ 0.642748 │ 0.607568 │ 2.0e-7  │ 0.6     │ 0.2     │ 2.0e-7  │ 0        │\n",
      "│ 119 │ 9          │ constant   │ smooth    │ enet   │ 0.623106 │ 0.560204 │ 0.132   │ 0.6     │ 0.132   │ 2.0e-7  │ 0        │\n",
      "│ 120 │ 10         │ constant   │ smooth    │ enet   │ 0.748025 │ 0.709276 │ 2.0e-7  │ 0.6     │ 0.2     │ 2.0e-7  │ 0        │\n",
      "│ 121 │ 1          │ constant   │ constant  │ fl     │ 0.976517 │ 0.899012 │ 0.2     │ 1.0e-12 │ 0.2     │ 1.0e-12 │ 0        │\n",
      "│ 122 │ 2          │ constant   │ constant  │ fl     │ 0.426536 │ 0.397059 │ 0.2     │ 1.0e-12 │ 0.132   │ 1.0e-12 │ 0        │\n",
      "│ 123 │ 3          │ constant   │ constant  │ fl     │ 0.683207 │ 0.611874 │ 0.132   │ 1.0e-12 │ 0.2     │ 1.0e-12 │ 0        │\n",
      "│ 124 │ 4          │ constant   │ constant  │ fl     │ 0.867657 │ 0.792565 │ 0.2     │ 1.0e-12 │ 0.2     │ 1.0e-12 │ 0        │\n",
      "│ 125 │ 5          │ constant   │ constant  │ fl     │ 0.764212 │ 0.722025 │ 0.132   │ 1.0e-12 │ 0.2     │ 1.0e-12 │ 0        │\n",
      "│ 126 │ 6          │ constant   │ constant  │ fl     │ 0.926938 │ 0.898509 │ 0.132   │ 1.0e-12 │ 0.2     │ 1.0e-12 │ 0        │\n",
      "│ 127 │ 7          │ constant   │ constant  │ fl     │ 0.831316 │ 0.821329 │ 0.066   │ 1.0e-12 │ 0.2     │ 1.0e-12 │ 0        │\n",
      "│ 128 │ 8          │ constant   │ constant  │ fl     │ 0.945765 │ 0.920564 │ 0.132   │ 1.0e-12 │ 0.2     │ 1.0e-12 │ 0        │\n",
      "│ 129 │ 9          │ constant   │ constant  │ fl     │ 0.842621 │ 0.712197 │ 0.132   │ 1.0e-12 │ 0.2     │ 1.0e-12 │ 0        │\n",
      "│ 130 │ 10         │ constant   │ constant  │ fl     │ 0.727677 │ 0.653228 │ 0.132   │ 1.0e-12 │ 0.2     │ 1.0e-12 │ 0        │\n",
      "│ 131 │ 1          │ constant   │ constant  │ kal    │ 0.926547 │ 0.868411 │ 1.0e-12 │ 0.6     │ 1.0e-12 │ 0.6     │ 0        │\n",
      "│ 132 │ 2          │ constant   │ constant  │ kal    │ 0.440922 │ 0.414207 │ 1.0e-12 │ 0.6     │ 1.0e-12 │ 0.15    │ 0        │\n",
      "│ 133 │ 3          │ constant   │ constant  │ kal    │ 0.690608 │ 0.624472 │ 1.0e-12 │ 0.15    │ 1.0e-12 │ 0.6     │ 0        │\n",
      "│ 134 │ 4          │ constant   │ constant  │ kal    │ 0.805562 │ 0.778744 │ 1.0e-12 │ 0.6     │ 1.0e-12 │ 0.3     │ 0        │\n",
      "│ 135 │ 5          │ constant   │ constant  │ kal    │ 0.731642 │ 0.693586 │ 1.0e-12 │ 0.15    │ 1.0e-12 │ 0.6     │ 0        │\n",
      "│ 136 │ 6          │ constant   │ constant  │ kal    │ 0.912887 │ 0.890067 │ 1.0e-12 │ 0.6     │ 1.0e-12 │ 0.6     │ 0        │\n",
      "│ 137 │ 7          │ constant   │ constant  │ kal    │ 0.813983 │ 0.812024 │ 1.0e-12 │ 0.6     │ 1.0e-12 │ 0.6     │ 0        │\n",
      "│ 138 │ 8          │ constant   │ constant  │ kal    │ 0.9467   │ 0.916116 │ 1.0e-12 │ 0.6     │ 1.0e-12 │ 0.6     │ 0        │\n",
      "│ 139 │ 9          │ constant   │ constant  │ kal    │ 0.780626 │ 0.710153 │ 1.0e-12 │ 0.15    │ 1.0e-12 │ 0.6     │ 0        │\n",
      "│ 140 │ 10         │ constant   │ constant  │ kal    │ 0.671072 │ 0.645072 │ 1.0e-12 │ 0.15    │ 1.0e-12 │ 0.6     │ 0        │\n",
      "│ 141 │ 1          │ constant   │ constant  │ enet   │ 0.934021 │ 0.863022 │ 0.132   │ 2.0e-7  │ 2.0e-7  │ 0.6     │ 0        │\n",
      "│ 142 │ 2          │ constant   │ constant  │ enet   │ 0.390944 │ 0.373286 │ 0.2     │ 0.6     │ 0.066   │ 2.0e-7  │ 0        │\n",
      "│ 143 │ 3          │ constant   │ constant  │ enet   │ 0.618731 │ 0.592527 │ 0.066   │ 2.0e-7  │ 0.2     │ 0.6     │ 0        │\n",
      "│ 144 │ 4          │ constant   │ constant  │ enet   │ 0.790294 │ 0.76646  │ 2.0e-7  │ 0.6     │ 0.132   │ 2.0e-7  │ 0        │\n",
      "│ 145 │ 5          │ constant   │ constant  │ enet   │ 0.692448 │ 0.678987 │ 0.066   │ 2.0e-7  │ 0.2     │ 0.6     │ 0        │\n",
      "│ 146 │ 6          │ constant   │ constant  │ enet   │ 0.908409 │ 0.887788 │ 0.066   │ 0.15    │ 2.0e-7  │ 0.6     │ 0        │\n",
      "│ 147 │ 7          │ constant   │ constant  │ enet   │ 0.790304 │ 0.794493 │ 2.0e-7  │ 0.3     │ 0.2     │ 0.6     │ 0        │\n",
      "│ 148 │ 8          │ constant   │ constant  │ enet   │ 0.941306 │ 0.909001 │ 2.0e-7  │ 0.6     │ 0.132   │ 2.0e-7  │ 0        │\n",
      "│ 149 │ 9          │ constant   │ constant  │ enet   │ 0.771971 │ 0.696412 │ 0.066   │ 2.0e-7  │ 2.0e-7  │ 0.6     │ 0        │\n",
      "│ 150 │ 10         │ constant   │ constant  │ enet   │ 0.640161 │ 0.606069 │ 0.066   │ 2.0e-7  │ 0.2     │ 0.6     │ 0        │\n",
      "│ 151 │ 1          │ constant   │ mixed     │ fl     │ 0.873583 │ 0.864474 │ 0.2     │ 1.0e-12 │ 0.066   │ 1.0e-12 │ 0        │\n",
      "│ 152 │ 2          │ constant   │ mixed     │ fl     │ 0.755663 │ 0.714651 │ 0.2     │ 1.0e-12 │ 0.2     │ 1.0e-12 │ 0        │\n",
      "│ 153 │ 3          │ constant   │ mixed     │ fl     │ 0.808216 │ 0.788195 │ 0.132   │ 1.0e-12 │ 0.2     │ 1.0e-12 │ 0        │\n",
      "│ 154 │ 4          │ constant   │ mixed     │ fl     │ 0.988637 │ 0.969187 │ 0.2     │ 1.0e-12 │ 0.2     │ 1.0e-12 │ 0        │\n",
      "│ 155 │ 5          │ constant   │ mixed     │ fl     │ 0.781451 │ 0.740158 │ 0.132   │ 1.0e-12 │ 0.2     │ 1.0e-12 │ 0        │\n",
      "│ 156 │ 6          │ constant   │ mixed     │ fl     │ 0.773105 │ 0.735183 │ 0.2     │ 1.0e-12 │ 0.2     │ 1.0e-12 │ 0        │\n",
      "│ 157 │ 7          │ constant   │ mixed     │ fl     │ 0.781145 │ 0.708617 │ 0.2     │ 1.0e-12 │ 0.2     │ 1.0e-12 │ 0        │\n",
      "│ 158 │ 8          │ constant   │ mixed     │ fl     │ 0.768848 │ 0.714622 │ 0.2     │ 1.0e-12 │ 0.2     │ 1.0e-12 │ 0        │\n",
      "│ 159 │ 9          │ constant   │ mixed     │ fl     │ 0.552648 │ 0.507812 │ 0.2     │ 1.0e-12 │ 0.2     │ 1.0e-12 │ 0        │\n",
      "│ 160 │ 10         │ constant   │ mixed     │ fl     │ 0.96578  │ 0.893971 │ 0.2     │ 1.0e-12 │ 0.2     │ 1.0e-12 │ 0        │\n",
      "│ 161 │ 1          │ constant   │ mixed     │ kal    │ 0.845291 │ 0.84231  │ 1.0e-12 │ 0.6     │ 1.0e-12 │ 0.3     │ 0        │\n",
      "│ 162 │ 2          │ constant   │ mixed     │ kal    │ 0.727696 │ 0.697567 │ 1.0e-12 │ 0.3     │ 1.0e-12 │ 0.6     │ 0        │\n",
      "│ 163 │ 3          │ constant   │ mixed     │ kal    │ 0.76419  │ 0.765248 │ 1.0e-12 │ 0.3     │ 1.0e-12 │ 0.6     │ 0        │\n",
      "│ 164 │ 4          │ constant   │ mixed     │ kal    │ 0.947939 │ 0.939976 │ 1.0e-12 │ 0.3     │ 1.0e-12 │ 0.6     │ 0        │\n",
      "│ 165 │ 5          │ constant   │ mixed     │ kal    │ 0.745058 │ 0.712543 │ 1.0e-12 │ 0.3     │ 1.0e-12 │ 0.6     │ 0        │\n",
      "│ 166 │ 6          │ constant   │ mixed     │ kal    │ 0.750662 │ 0.716344 │ 1.0e-12 │ 0.3     │ 1.0e-12 │ 0.6     │ 0        │\n",
      "│ 167 │ 7          │ constant   │ mixed     │ kal    │ 0.750293 │ 0.693039 │ 1.0e-12 │ 0.15    │ 1.0e-12 │ 0.6     │ 0        │\n",
      "│ 168 │ 8          │ constant   │ mixed     │ kal    │ 0.686258 │ 0.683016 │ 1.0e-12 │ 0.3     │ 1.0e-12 │ 0.6     │ 0        │\n",
      "│ 169 │ 9          │ constant   │ mixed     │ kal    │ 0.504922 │ 0.474399 │ 1.0e-12 │ 0.6     │ 1.0e-12 │ 0.6     │ 0        │\n",
      "│ 170 │ 10         │ constant   │ mixed     │ kal    │ 0.895637 │ 0.843682 │ 1.0e-12 │ 0.6     │ 1.0e-12 │ 0.3     │ 0        │\n",
      "│ 171 │ 1          │ constant   │ mixed     │ enet   │ 0.842896 │ 0.842709 │ 0.2     │ 0.6     │ 2.0e-7  │ 0.3     │ 0        │\n",
      "│ 172 │ 2          │ constant   │ mixed     │ enet   │ 0.71099  │ 0.695728 │ 0.132   │ 2.0e-7  │ 0.132   │ 0.6     │ 0        │\n",
      "│ 173 │ 3          │ constant   │ mixed     │ enet   │ 0.758162 │ 0.765999 │ 2.0e-7  │ 0.3     │ 2.0e-7  │ 0.6     │ 0        │\n",
      "│ 174 │ 4          │ constant   │ mixed     │ enet   │ 0.945304 │ 0.939748 │ 2.0e-7  │ 0.6     │ 2.0e-7  │ 0.6     │ 0        │\n",
      "│ 175 │ 5          │ constant   │ mixed     │ enet   │ 0.7205   │ 0.703257 │ 2.0e-7  │ 0.3     │ 0.2     │ 0.6     │ 0        │\n",
      "│ 176 │ 6          │ constant   │ mixed     │ enet   │ 0.737167 │ 0.71272  │ 0.132   │ 2.0e-7  │ 0.066   │ 0.6     │ 0        │\n",
      "│ 177 │ 7          │ constant   │ mixed     │ enet   │ 0.748449 │ 0.685812 │ 0.132   │ 2.0e-7  │ 0.132   │ 0.6     │ 0        │\n",
      "│ 178 │ 8          │ constant   │ mixed     │ enet   │ 0.711279 │ 0.676941 │ 0.132   │ 2.0e-7  │ 2.0e-7  │ 0.6     │ 0        │\n",
      "│ 179 │ 9          │ constant   │ mixed     │ enet   │ 0.502583 │ 0.481036 │ 2.0e-7  │ 0.6     │ 0.2     │ 2.0e-7  │ 0        │\n",
      "│ 180 │ 10         │ constant   │ mixed     │ enet   │ 0.903345 │ 0.836008 │ 2.0e-7  │ 0.6     │ 0.132   │ 2.0e-7  │ 0        │\n",
      "│ 181 │ 1          │ mixed      │ smooth    │ fl     │ 0.749623 │ 0.684681 │ 0.132   │ 1.0e-12 │ 0.2     │ 1.0e-12 │ 0        │\n",
      "│ 182 │ 2          │ mixed      │ smooth    │ fl     │ 0.880891 │ 0.797154 │ 0.132   │ 1.0e-12 │ 0.2     │ 1.0e-12 │ 0        │\n",
      "│ 183 │ 3          │ mixed      │ smooth    │ fl     │ 0.871771 │ 0.866381 │ 0.2     │ 1.0e-12 │ 0.2     │ 1.0e-12 │ 0        │\n",
      "│ 184 │ 4          │ mixed      │ smooth    │ fl     │ 0.879266 │ 0.825776 │ 0.2     │ 1.0e-12 │ 0.132   │ 1.0e-12 │ 0        │\n",
      "│ 185 │ 5          │ mixed      │ smooth    │ fl     │ 0.584174 │ 0.535415 │ 0.2     │ 1.0e-12 │ 0.2     │ 1.0e-12 │ 0        │\n",
      "│ 186 │ 6          │ mixed      │ smooth    │ fl     │ 0.634789 │ 0.559161 │ 0.2     │ 1.0e-12 │ 0.2     │ 1.0e-12 │ 0        │\n",
      "│ 187 │ 7          │ mixed      │ smooth    │ fl     │ 0.86894  │ 0.856    │ 0.132   │ 1.0e-12 │ 0.2     │ 1.0e-12 │ 0        │\n",
      "│ 188 │ 8          │ mixed      │ smooth    │ fl     │ 0.875059 │ 0.796226 │ 0.2     │ 1.0e-12 │ 0.2     │ 1.0e-12 │ 0        │\n",
      "│ 189 │ 9          │ mixed      │ smooth    │ fl     │ 0.612715 │ 0.526592 │ 0.2     │ 1.0e-12 │ 0.2     │ 1.0e-12 │ 0        │\n",
      "│ 190 │ 10         │ mixed      │ smooth    │ fl     │ 0.808443 │ 0.796895 │ 0.2     │ 1.0e-12 │ 0.2     │ 1.0e-12 │ 0        │\n",
      "│ 191 │ 1          │ mixed      │ smooth    │ kal    │ 0.680684 │ 0.639472 │ 1.0e-12 │ 0.3     │ 1.0e-12 │ 0.6     │ 0        │\n",
      "│ 192 │ 2          │ mixed      │ smooth    │ kal    │ 0.791037 │ 0.735323 │ 1.0e-12 │ 0.3     │ 1.0e-12 │ 0.6     │ 0        │\n",
      "│ 193 │ 3          │ mixed      │ smooth    │ kal    │ 0.812676 │ 0.815037 │ 1.0e-12 │ 0.3     │ 1.0e-12 │ 0.6     │ 0        │\n",
      "│ 194 │ 4          │ mixed      │ smooth    │ kal    │ 0.776818 │ 0.765311 │ 1.0e-12 │ 0.6     │ 1.0e-12 │ 0.3     │ 0        │\n",
      "│ 195 │ 5          │ mixed      │ smooth    │ kal    │ 0.539307 │ 0.509839 │ 1.0e-12 │ 0.6     │ 1.0e-12 │ 0.6     │ 0        │\n",
      "│ 196 │ 6          │ mixed      │ smooth    │ kal    │ 0.547914 │ 0.501933 │ 1.0e-12 │ 0.6     │ 1.0e-12 │ 0.6     │ 0        │\n",
      "│ 197 │ 7          │ mixed      │ smooth    │ kal    │ 0.785232 │ 0.800092 │ 1.0e-12 │ 0.3     │ 1.0e-12 │ 0.3     │ 0        │\n",
      "│ 198 │ 8          │ mixed      │ smooth    │ kal    │ 0.78399  │ 0.735697 │ 1.0e-12 │ 0.3     │ 1.0e-12 │ 0.6     │ 0        │\n",
      "│ 199 │ 9          │ mixed      │ smooth    │ kal    │ 0.551293 │ 0.487595 │ 1.0e-12 │ 0.15    │ 1.0e-12 │ 0.6     │ 0        │\n",
      "│ 200 │ 10         │ mixed      │ smooth    │ kal    │ 0.750251 │ 0.732336 │ 1.0e-12 │ 0.3     │ 1.0e-12 │ 0.6     │ 0        │\n",
      "│ 201 │ 1          │ mixed      │ smooth    │ enet   │ 0.689462 │ 0.638599 │ 2.0e-7  │ 0.3     │ 2.0e-7  │ 0.6     │ 0        │\n",
      "│ 202 │ 2          │ mixed      │ smooth    │ enet   │ 0.779182 │ 0.738659 │ 2.0e-7  │ 0.3     │ 2.0e-7  │ 0.6     │ 0        │\n",
      "│ 203 │ 3          │ mixed      │ smooth    │ enet   │ 0.819841 │ 0.814249 │ 2.0e-7  │ 0.3     │ 0.066   │ 0.6     │ 0        │\n",
      "│ 204 │ 4          │ mixed      │ smooth    │ enet   │ 0.770023 │ 0.767    │ 2.0e-7  │ 0.6     │ 2.0e-7  │ 0.3     │ 0        │\n",
      "│ 205 │ 5          │ mixed      │ smooth    │ enet   │ 0.55159  │ 0.50637  │ 2.0e-7  │ 0.6     │ 0.2     │ 2.0e-7  │ 0        │\n",
      "│ 206 │ 6          │ mixed      │ smooth    │ enet   │ 0.550502 │ 0.503573 │ 2.0e-7  │ 0.6     │ 2.0e-7  │ 0.6     │ 0        │\n",
      "│ 207 │ 7          │ mixed      │ smooth    │ enet   │ 0.775152 │ 0.797265 │ 2.0e-7  │ 0.3     │ 2.0e-7  │ 0.3     │ 0        │\n",
      "│ 208 │ 8          │ mixed      │ smooth    │ enet   │ 0.781504 │ 0.733297 │ 2.0e-7  │ 0.3     │ 2.0e-7  │ 0.6     │ 0        │\n",
      "│ 209 │ 9          │ mixed      │ smooth    │ enet   │ 0.551967 │ 0.480022 │ 2.0e-7  │ 0.15    │ 0.2     │ 0.6     │ 0        │\n",
      "│ 210 │ 10         │ mixed      │ smooth    │ enet   │ 0.739718 │ 0.735453 │ 2.0e-7  │ 0.3     │ 2.0e-7  │ 0.6     │ 0        │\n",
      "│ 211 │ 1          │ mixed      │ constant  │ fl     │ 0.83205  │ 0.789728 │ 0.2     │ 1.0e-12 │ 0.2     │ 1.0e-12 │ 0        │\n",
      "│ 212 │ 2          │ mixed      │ constant  │ fl     │ 0.689651 │ 0.634387 │ 0.2     │ 1.0e-12 │ 0.2     │ 1.0e-12 │ 0        │\n",
      "│ 213 │ 3          │ mixed      │ constant  │ fl     │ 0.706296 │ 0.637614 │ 0.2     │ 1.0e-12 │ 0.2     │ 1.0e-12 │ 0        │\n",
      "│ 214 │ 4          │ mixed      │ constant  │ fl     │ 0.773964 │ 0.718033 │ 0.2     │ 1.0e-12 │ 0.132   │ 1.0e-12 │ 0        │\n",
      "│ 215 │ 5          │ mixed      │ constant  │ fl     │ 0.994245 │ 0.965092 │ 0.132   │ 1.0e-12 │ 0.2     │ 1.0e-12 │ 0        │\n",
      "│ 216 │ 6          │ mixed      │ constant  │ fl     │ 0.68886  │ 0.630348 │ 0.2     │ 1.0e-12 │ 0.2     │ 1.0e-12 │ 0        │\n",
      "│ 217 │ 7          │ mixed      │ constant  │ fl     │ 0.888854 │ 0.825941 │ 0.132   │ 1.0e-12 │ 0.2     │ 1.0e-12 │ 0        │\n",
      "│ 218 │ 8          │ mixed      │ constant  │ fl     │ 0.775208 │ 0.674345 │ 0.2     │ 1.0e-12 │ 0.2     │ 1.0e-12 │ 0        │\n",
      "│ 219 │ 9          │ mixed      │ constant  │ fl     │ 0.619609 │ 0.583911 │ 0.2     │ 1.0e-12 │ 0.132   │ 1.0e-12 │ 0        │\n",
      "│ 220 │ 10         │ mixed      │ constant  │ fl     │ 0.969473 │ 0.934358 │ 0.2     │ 1.0e-12 │ 0.2     │ 1.0e-12 │ 0        │\n",
      "│ 221 │ 1          │ mixed      │ constant  │ kal    │ 0.800641 │ 0.781416 │ 1.0e-12 │ 0.6     │ 1.0e-12 │ 0.6     │ 0        │\n",
      "│ 222 │ 2          │ mixed      │ constant  │ kal    │ 0.624893 │ 0.580867 │ 1.0e-12 │ 0.15    │ 1.0e-12 │ 0.6     │ 0        │\n",
      "│ 223 │ 3          │ mixed      │ constant  │ kal    │ 0.648909 │ 0.60008  │ 1.0e-12 │ 0.3     │ 1.0e-12 │ 0.6     │ 0        │\n",
      "│ 224 │ 4          │ mixed      │ constant  │ kal    │ 0.706619 │ 0.684225 │ 1.0e-12 │ 0.6     │ 1.0e-12 │ 0.3     │ 0        │\n",
      "│ 225 │ 5          │ mixed      │ constant  │ kal    │ 0.998528 │ 0.953846 │ 1.0e-12 │ 0.6     │ 1.0e-12 │ 0.6     │ 0        │\n",
      "│ 226 │ 6          │ mixed      │ constant  │ kal    │ 0.665734 │ 0.620025 │ 1.0e-12 │ 0.15    │ 1.0e-12 │ 0.6     │ 0        │\n",
      "│ 227 │ 7          │ mixed      │ constant  │ kal    │ 0.851042 │ 0.801108 │ 1.0e-12 │ 0.3     │ 1.0e-12 │ 0.6     │ 0        │\n",
      "│ 228 │ 8          │ mixed      │ constant  │ kal    │ 0.725348 │ 0.673574 │ 1.0e-12 │ 0.6     │ 1.0e-12 │ 0.6     │ 0        │\n",
      "│ 229 │ 9          │ mixed      │ constant  │ kal    │ 0.6058   │ 0.578213 │ 1.0e-12 │ 0.6     │ 1.0e-12 │ 0.6     │ 0        │\n",
      "│ 230 │ 10         │ mixed      │ constant  │ kal    │ 0.927727 │ 0.91136  │ 1.0e-12 │ 0.6     │ 1.0e-12 │ 0.6     │ 0        │\n",
      "│ 231 │ 1          │ mixed      │ constant  │ enet   │ 0.779763 │ 0.772244 │ 0.132   │ 2.0e-7  │ 2.0e-7  │ 0.6     │ 0        │\n",
      "│ 232 │ 2          │ mixed      │ constant  │ enet   │ 0.580123 │ 0.555001 │ 0.132   │ 2.0e-7  │ 2.0e-7  │ 0.6     │ 0        │\n",
      "│ 233 │ 3          │ mixed      │ constant  │ enet   │ 0.634539 │ 0.593489 │ 0.132   │ 2.0e-7  │ 2.0e-7  │ 0.6     │ 0        │\n",
      "│ 234 │ 4          │ mixed      │ constant  │ enet   │ 0.709942 │ 0.68525  │ 2.0e-7  │ 0.6     │ 2.0e-7  │ 0.3     │ 0        │\n",
      "│ 235 │ 5          │ mixed      │ constant  │ enet   │ 0.972622 │ 0.941754 │ 0.132   │ 2.0e-7  │ 2.0e-7  │ 0.6     │ 0        │\n",
      "│ 236 │ 6          │ mixed      │ constant  │ enet   │ 0.636968 │ 0.603289 │ 0.132   │ 2.0e-7  │ 0.132   │ 0.6     │ 0        │\n",
      "│ 237 │ 7          │ mixed      │ constant  │ enet   │ 0.847037 │ 0.797662 │ 0.066   │ 0.15    │ 2.0e-7  │ 0.6     │ 0        │\n",
      "│ 238 │ 8          │ mixed      │ constant  │ enet   │ 0.736242 │ 0.675874 │ 2.0e-7  │ 0.6     │ 2.0e-7  │ 0.6     │ 0        │\n",
      "│ 239 │ 9          │ mixed      │ constant  │ enet   │ 0.581106 │ 0.560645 │ 0.2     │ 0.6     │ 2.0e-7  │ 0.6     │ 0        │\n",
      "│ 240 │ 10         │ mixed      │ constant  │ enet   │ 0.931732 │ 0.908737 │ 2.0e-7  │ 0.6     │ 2.0e-7  │ 0.6     │ 0        │\n",
      "│ 241 │ 1          │ mixed      │ mixed     │ fl     │ 0.714624 │ 0.686714 │ 0.2     │ 1.0e-12 │ 0.2     │ 1.0e-12 │ 0        │\n",
      "│ 242 │ 2          │ mixed      │ mixed     │ fl     │ 0.884213 │ 0.849665 │ 0.2     │ 1.0e-12 │ 0.2     │ 1.0e-12 │ 0        │\n",
      "│ 243 │ 3          │ mixed      │ mixed     │ fl     │ 0.541297 │ 0.526687 │ 0.2     │ 1.0e-12 │ 0.2     │ 1.0e-12 │ 0        │\n",
      "│ 244 │ 4          │ mixed      │ mixed     │ fl     │ 0.737275 │ 0.666697 │ 0.066   │ 1.0e-12 │ 0.2     │ 1.0e-12 │ 0        │\n",
      "│ 245 │ 5          │ mixed      │ mixed     │ fl     │ 0.776226 │ 0.712977 │ 0.2     │ 1.0e-12 │ 0.132   │ 1.0e-12 │ 0        │\n",
      "│ 246 │ 6          │ mixed      │ mixed     │ fl     │ 0.923624 │ 0.822314 │ 0.2     │ 1.0e-12 │ 0.2     │ 1.0e-12 │ 0        │\n",
      "│ 247 │ 7          │ mixed      │ mixed     │ fl     │ 0.72016  │ 0.680389 │ 0.2     │ 1.0e-12 │ 0.2     │ 1.0e-12 │ 0        │\n",
      "│ 248 │ 8          │ mixed      │ mixed     │ fl     │ 0.790832 │ 0.761707 │ 0.2     │ 1.0e-12 │ 0.2     │ 1.0e-12 │ 0        │\n",
      "│ 249 │ 9          │ mixed      │ mixed     │ fl     │ 0.833361 │ 0.743968 │ 0.066   │ 1.0e-12 │ 0.2     │ 1.0e-12 │ 0        │\n",
      "│ 250 │ 10         │ mixed      │ mixed     │ fl     │ 0.800798 │ 0.789224 │ 0.2     │ 1.0e-12 │ 0.066   │ 1.0e-12 │ 0        │\n",
      "│ 251 │ 1          │ mixed      │ mixed     │ kal    │ 0.641117 │ 0.626294 │ 1.0e-12 │ 0.3     │ 1.0e-12 │ 0.6     │ 0        │\n",
      "│ 252 │ 2          │ mixed      │ mixed     │ kal    │ 0.865468 │ 0.833176 │ 1.0e-12 │ 0.6     │ 1.0e-12 │ 0.6     │ 0        │\n",
      "│ 253 │ 3          │ mixed      │ mixed     │ kal    │ 0.518247 │ 0.506368 │ 1.0e-12 │ 0.6     │ 1.0e-12 │ 0.6     │ 0        │\n",
      "│ 254 │ 4          │ mixed      │ mixed     │ kal    │ 0.659791 │ 0.637604 │ 1.0e-12 │ 0.15    │ 1.0e-12 │ 0.6     │ 0        │\n",
      "│ 255 │ 5          │ mixed      │ mixed     │ kal    │ 0.72926  │ 0.696519 │ 1.0e-12 │ 0.6     │ 1.0e-12 │ 0.3     │ 0        │\n",
      "│ 256 │ 6          │ mixed      │ mixed     │ kal    │ 0.876382 │ 0.795857 │ 1.0e-12 │ 0.6     │ 1.0e-12 │ 0.6     │ 0        │\n",
      "│ 257 │ 7          │ mixed      │ mixed     │ kal    │ 0.692374 │ 0.674487 │ 1.0e-12 │ 0.6     │ 1.0e-12 │ 0.3     │ 0        │\n",
      "│ 258 │ 8          │ mixed      │ mixed     │ kal    │ 0.753633 │ 0.724949 │ 1.0e-12 │ 0.6     │ 1.0e-12 │ 0.6     │ 0        │\n",
      "│ 259 │ 9          │ mixed      │ mixed     │ kal    │ 0.775489 │ 0.71552  │ 1.0e-12 │ 0.3     │ 1.0e-12 │ 0.6     │ 0        │\n",
      "│ 260 │ 10         │ mixed      │ mixed     │ kal    │ 0.81091  │ 0.782497 │ 1.0e-12 │ 0.6     │ 1.0e-12 │ 0.6     │ 0        │\n",
      "│ 261 │ 1          │ mixed      │ mixed     │ enet   │ 0.639381 │ 0.627542 │ 2.0e-7  │ 0.3     │ 2.0e-7  │ 0.6     │ 0        │\n",
      "│ 262 │ 2          │ mixed      │ mixed     │ enet   │ 0.85793  │ 0.830839 │ 0.066   │ 0.6     │ 2.0e-7  │ 0.6     │ 0        │\n",
      "│ 263 │ 3          │ mixed      │ mixed     │ enet   │ 0.502848 │ 0.49393  │ 0.2     │ 0.6     │ 2.0e-7  │ 0.6     │ 0        │\n",
      "│ 264 │ 4          │ mixed      │ mixed     │ enet   │ 0.641559 │ 0.586127 │ 0.066   │ 2.0e-7  │ 0.2     │ 0.6     │ 0        │\n",
      "│ 265 │ 5          │ mixed      │ mixed     │ enet   │ 0.731925 │ 0.692003 │ 0.132   │ 0.3     │ 2.0e-7  │ 0.3     │ 0        │\n",
      "│ 266 │ 6          │ mixed      │ mixed     │ enet   │ 0.856061 │ 0.794769 │ 2.0e-7  │ 0.6     │ 2.0e-7  │ 0.6     │ 0        │\n",
      "│ 267 │ 7          │ mixed      │ mixed     │ enet   │ 0.67315  │ 0.652557 │ 0.2     │ 0.6     │ 2.0e-7  │ 0.3     │ 0        │\n",
      "│ 268 │ 8          │ mixed      │ mixed     │ enet   │ 0.740759 │ 0.721195 │ 0.066   │ 0.3     │ 2.0e-7  │ 0.6     │ 0        │\n",
      "│ 269 │ 9          │ mixed      │ mixed     │ enet   │ 0.766226 │ 0.704443 │ 2.0e-7  │ 0.3     │ 0.2     │ 0.6     │ 0        │\n",
      "│ 270 │ 10         │ mixed      │ mixed     │ enet   │ 0.795656 │ 0.772821 │ 0.2     │ 0.6     │ 2.0e-7  │ 0.6     │ 0        │\n",
      "│ 271 │ 1          │ mixed      │ mixed     │ fl     │ 1.09326  │ 0.625121 │ 0.2     │ 1.0e-12 │ 0.2     │ 1.0e-12 │ 1        │\n",
      "│ 272 │ 2          │ mixed      │ mixed     │ fl     │ 1.44618  │ 0.991524 │ 0.2     │ 1.0e-12 │ 0.2     │ 1.0e-12 │ 1        │\n",
      "│ 273 │ 3          │ mixed      │ mixed     │ fl     │ 1.30604  │ 0.878497 │ 0.2     │ 1.0e-12 │ 0.2     │ 1.0e-12 │ 1        │\n",
      "│ 274 │ 4          │ mixed      │ mixed     │ fl     │ 1.35527  │ 0.897577 │ 0.066   │ 1.0e-12 │ 0.2     │ 1.0e-12 │ 1        │\n",
      "│ 275 │ 5          │ mixed      │ mixed     │ fl     │ 1.03665  │ 0.574766 │ 0.2     │ 1.0e-12 │ 0.2     │ 1.0e-12 │ 1        │\n",
      "│ 276 │ 6          │ mixed      │ mixed     │ fl     │ 1.36558  │ 0.932755 │ 0.132   │ 1.0e-12 │ 0.2     │ 1.0e-12 │ 1        │\n",
      "│ 277 │ 7          │ mixed      │ mixed     │ fl     │ 1.26244  │ 0.739641 │ 0.2     │ 1.0e-12 │ 0.2     │ 1.0e-12 │ 1        │\n",
      "│ 278 │ 8          │ mixed      │ mixed     │ fl     │ 1.45167  │ 1.02038  │ 0.066   │ 1.0e-12 │ 0.2     │ 1.0e-12 │ 1        │\n",
      "│ 279 │ 9          │ mixed      │ mixed     │ fl     │ 1.23744  │ 0.714132 │ 0.2     │ 1.0e-12 │ 0.2     │ 1.0e-12 │ 1        │\n",
      "│ 280 │ 10         │ mixed      │ mixed     │ fl     │ 1.29918  │ 0.868665 │ 0.2     │ 1.0e-12 │ 0.132   │ 1.0e-12 │ 1        │\n",
      "│ 281 │ 1          │ mixed      │ mixed     │ kal    │ 1.04222  │ 0.600758 │ 1.0e-12 │ 0.15    │ 1.0e-12 │ 0.6     │ 1        │\n",
      "│ 282 │ 2          │ mixed      │ mixed     │ kal    │ 1.40066  │ 0.951737 │ 1.0e-12 │ 0.15    │ 1.0e-12 │ 0.6     │ 1        │\n",
      "│ 283 │ 3          │ mixed      │ mixed     │ kal    │ 1.27125  │ 0.854725 │ 1.0e-12 │ 0.6     │ 1.0e-12 │ 0.6     │ 1        │\n",
      "│ 284 │ 4          │ mixed      │ mixed     │ kal    │ 1.31401  │ 0.880232 │ 1.0e-12 │ 0.3     │ 1.0e-12 │ 0.6     │ 1        │\n",
      "│ 285 │ 5          │ mixed      │ mixed     │ kal    │ 1.01106  │ 0.553499 │ 1.0e-12 │ 0.6     │ 1.0e-12 │ 0.6     │ 1        │\n",
      "│ 286 │ 6          │ mixed      │ mixed     │ kal    │ 1.33934  │ 0.895232 │ 1.0e-12 │ 0.6     │ 1.0e-12 │ 0.6     │ 1        │\n",
      "│ 287 │ 7          │ mixed      │ mixed     │ kal    │ 1.23703  │ 0.721025 │ 1.0e-12 │ 0.3     │ 1.0e-12 │ 0.6     │ 1        │\n",
      "│ 288 │ 8          │ mixed      │ mixed     │ kal    │ 1.42238  │ 0.997166 │ 1.0e-12 │ 0.3     │ 1.0e-12 │ 0.6     │ 1        │\n",
      "│ 289 │ 9          │ mixed      │ mixed     │ kal    │ 1.15385  │ 0.700195 │ 1.0e-12 │ 0.6     │ 1.0e-12 │ 0.3     │ 1        │\n",
      "│ 290 │ 10         │ mixed      │ mixed     │ kal    │ 1.2223   │ 0.796199 │ 1.0e-12 │ 0.3     │ 1.0e-12 │ 0.6     │ 1        │\n",
      "│ 291 │ 1          │ mixed      │ mixed     │ enet   │ 1.02494  │ 0.593892 │ 2.0e-7  │ 0.15    │ 0.132   │ 0.6     │ 1        │\n",
      "│ 292 │ 2          │ mixed      │ mixed     │ enet   │ 1.40181  │ 0.945404 │ 2.0e-7  │ 0.15    │ 0.132   │ 0.6     │ 1        │\n",
      "│ 293 │ 3          │ mixed      │ mixed     │ enet   │ 1.26588  │ 0.857456 │ 0.132   │ 0.6     │ 2.0e-7  │ 0.6     │ 1        │\n",
      "│ 294 │ 4          │ mixed      │ mixed     │ enet   │ 1.31811  │ 0.876693 │ 2.0e-7  │ 0.3     │ 0.132   │ 2.0e-7  │ 1        │\n",
      "│ 295 │ 5          │ mixed      │ mixed     │ enet   │ 1.00725  │ 0.552351 │ 2.0e-7  │ 0.6     │ 0.2     │ 2.0e-7  │ 1        │\n",
      "│ 296 │ 6          │ mixed      │ mixed     │ enet   │ 1.33186  │ 0.893746 │ 2.0e-7  │ 0.3     │ 0.066   │ 0.3     │ 1        │\n",
      "│ 297 │ 7          │ mixed      │ mixed     │ enet   │ 1.21236  │ 0.710178 │ 0.132   │ 2.0e-7  │ 0.132   │ 0.6     │ 1        │\n",
      "│ 298 │ 8          │ mixed      │ mixed     │ enet   │ 1.43643  │ 0.998259 │ 2.0e-7  │ 0.15    │ 0.066   │ 0.6     │ 1        │\n",
      "│ 299 │ 9          │ mixed      │ mixed     │ enet   │ 1.1669   │ 0.702614 │ 2.0e-7  │ 0.6     │ 2.0e-7  │ 0.3     │ 1        │\n",
      "│ 300 │ 10         │ mixed      │ mixed     │ enet   │ 1.23036  │ 0.800187 │ 2.0e-7  │ 0.3     │ 2.0e-7  │ 0.6     │ 1        │"
     ]
    }
   ],
   "source": [
    "print(df)"
   ]
  },
  {
   "cell_type": "code",
   "execution_count": null,
   "metadata": {},
   "outputs": [
    {
     "name": "stdout",
     "output_type": "stream",
     "text": [
      "Running task_space smooth task_time smooth for method fl, outliers false\n"
     ]
    },
    {
     "data": {
      "text/plain": [
       "Dict{Symbol,Any} with 11 entries:\n",
       "  :eta2       => 1.0e-12\n",
       "  :lamb1      => 0.132\n",
       "  :lamb2      => 1.0e-12\n",
       "  :method     => \"fl\"\n",
       "  :experiment => 1\n",
       "  :eta1       => 0.132\n",
       "  :task_space => \"smooth\"\n",
       "  :outliers   => 0\n",
       "  :cv_ll      => 0.438047\n",
       "  :val_ll     => 0.478896\n",
       "  :task_time  => \"smooth\""
      ]
     },
     "metadata": {},
     "output_type": "display_data"
    },
    {
     "name": "stdout",
     "output_type": "stream",
     "text": [
      "0.00%┣                                                             ┫ 0/10 Inf:Inf<Inf:Inf, 0.00 it/s]"
     ]
    },
    {
     "data": {
      "text/plain": [
       "Dict{Symbol,Any} with 11 entries:\n",
       "  :eta2       => 1.0e-12\n",
       "  :lamb1      => 0.2\n",
       "  :lamb2      => 1.0e-12\n",
       "  :method     => \"fl\"\n",
       "  :experiment => 2\n",
       "  :eta1       => 0.132\n",
       "  :task_space => \"smooth\"\n",
       "  :outliers   => 0\n",
       "  :cv_ll      => 0.57376\n",
       "  :val_ll     => 0.604859\n",
       "  :task_time  => \"smooth\""
      ]
     },
     "metadata": {},
     "output_type": "display_data"
    },
    {
     "name": "stdout",
     "output_type": "stream",
     "text": [
      "10.00%┣██████▏                                                       ┫ 1/10 00:28<Inf:Inf, 0.00 it/s]"
     ]
    },
    {
     "data": {
      "text/plain": [
       "Dict{Symbol,Any} with 11 entries:\n",
       "  :eta2       => 1.0e-12\n",
       "  :lamb1      => 0.2\n",
       "  :lamb2      => 1.0e-12\n",
       "  :method     => \"fl\"\n",
       "  :experiment => 3\n",
       "  :eta1       => 0.132\n",
       "  :task_space => \"smooth\"\n",
       "  :outliers   => 0\n",
       "  :cv_ll      => 0.56631\n",
       "  :val_ll     => 0.588402\n",
       "  :task_time  => \"smooth\""
      ]
     },
     "metadata": {},
     "output_type": "display_data"
    },
    {
     "name": "stdout",
     "output_type": "stream",
     "text": [
      "20.00%┣████████████▊                                                   ┫ 2/10 00:41<05:28, 0.02 it/s]"
     ]
    },
    {
     "data": {
      "text/plain": [
       "Dict{Symbol,Any} with 11 entries:\n",
       "  :eta2       => 1.0e-12\n",
       "  :lamb1      => 0.132\n",
       "  :lamb2      => 1.0e-12\n",
       "  :method     => \"fl\"\n",
       "  :experiment => 4\n",
       "  :eta1       => 0.132\n",
       "  :task_space => \"smooth\"\n",
       "  :outliers   => 0\n",
       "  :cv_ll      => 0.420964\n",
       "  :val_ll     => 0.436435\n",
       "  :task_time  => \"smooth\""
      ]
     },
     "metadata": {},
     "output_type": "display_data"
    },
    {
     "name": "stdout",
     "output_type": "stream",
     "text": [
      "30.00%┣███████████████████▏                                            ┫ 3/10 00:54<03:08, 0.04 it/s]"
     ]
    },
    {
     "data": {
      "text/plain": [
       "Dict{Symbol,Any} with 11 entries:\n",
       "  :eta2       => 1.0e-12\n",
       "  :lamb1      => 0.132\n",
       "  :lamb2      => 1.0e-12\n",
       "  :method     => \"fl\"\n",
       "  :experiment => 5\n",
       "  :eta1       => 0.132\n",
       "  :task_space => \"smooth\"\n",
       "  :outliers   => 0\n",
       "  :cv_ll      => 0.647807\n",
       "  :val_ll     => 0.701292\n",
       "  :task_time  => \"smooth\""
      ]
     },
     "metadata": {},
     "output_type": "display_data"
    },
    {
     "name": "stdout",
     "output_type": "stream",
     "text": [
      "40.00%┣█████████████████████████▌                                      ┫ 4/10 01:06<02:13, 0.05 it/s]"
     ]
    },
    {
     "data": {
      "text/plain": [
       "Dict{Symbol,Any} with 11 entries:\n",
       "  :eta2       => 1.0e-12\n",
       "  :lamb1      => 0.2\n",
       "  :lamb2      => 1.0e-12\n",
       "  :method     => \"fl\"\n",
       "  :experiment => 6\n",
       "  :eta1       => 0.132\n",
       "  :task_space => \"smooth\"\n",
       "  :outliers   => 0\n",
       "  :cv_ll      => 0.538849\n",
       "  :val_ll     => 0.562678\n",
       "  :task_time  => \"smooth\""
      ]
     },
     "metadata": {},
     "output_type": "display_data"
    },
    {
     "name": "stdout",
     "output_type": "stream",
     "text": [
      "50.00%┣████████████████████████████████                                ┫ 5/10 01:20<01:40, 0.05 it/s]"
     ]
    },
    {
     "data": {
      "text/plain": [
       "Dict{Symbol,Any} with 11 entries:\n",
       "  :eta2       => 1.0e-12\n",
       "  :lamb1      => 0.2\n",
       "  :lamb2      => 1.0e-12\n",
       "  :method     => \"fl\"\n",
       "  :experiment => 7\n",
       "  :eta1       => 0.132\n",
       "  :task_space => \"smooth\"\n",
       "  :outliers   => 0\n",
       "  :cv_ll      => 0.636467\n",
       "  :val_ll     => 0.671619\n",
       "  :task_time  => \"smooth\""
      ]
     },
     "metadata": {},
     "output_type": "display_data"
    },
    {
     "name": "stdout",
     "output_type": "stream",
     "text": [
      "60.00%┣██████████████████████████████████████▍                         ┫ 6/10 01:32<01:14, 0.05 it/s]"
     ]
    },
    {
     "data": {
      "text/plain": [
       "Dict{Symbol,Any} with 11 entries:\n",
       "  :eta2       => 1.0e-12\n",
       "  :lamb1      => 0.2\n",
       "  :lamb2      => 1.0e-12\n",
       "  :method     => \"fl\"\n",
       "  :experiment => 8\n",
       "  :eta1       => 0.132\n",
       "  :task_space => \"smooth\"\n",
       "  :outliers   => 0\n",
       "  :cv_ll      => 0.622526\n",
       "  :val_ll     => 0.65336\n",
       "  :task_time  => \"smooth\""
      ]
     },
     "metadata": {},
     "output_type": "display_data"
    },
    {
     "name": "stdout",
     "output_type": "stream",
     "text": [
      "70.00%┣████████████████████████████████████████████▊                   ┫ 7/10 01:46<00:53, 0.06 it/s]"
     ]
    },
    {
     "data": {
      "text/plain": [
       "Dict{Symbol,Any} with 11 entries:\n",
       "  :eta2       => 1.0e-12\n",
       "  :lamb1      => 0.132\n",
       "  :lamb2      => 1.0e-12\n",
       "  :method     => \"fl\"\n",
       "  :experiment => 9\n",
       "  :eta1       => 0.132\n",
       "  :task_space => \"smooth\"\n",
       "  :outliers   => 0\n",
       "  :cv_ll      => 0.83526\n",
       "  :val_ll     => 0.870187\n",
       "  :task_time  => \"smooth\""
      ]
     },
     "metadata": {},
     "output_type": "display_data"
    },
    {
     "name": "stdout",
     "output_type": "stream",
     "text": [
      "80.00%┣███████████████████████████████████████████████████▏            ┫ 8/10 01:59<00:34, 0.06 it/s]"
     ]
    },
    {
     "data": {
      "text/plain": [
       "Dict{Symbol,Any} with 11 entries:\n",
       "  :eta2       => 1.0e-12\n",
       "  :lamb1      => 0.066\n",
       "  :lamb2      => 1.0e-12\n",
       "  :method     => \"fl\"\n",
       "  :experiment => 10\n",
       "  :eta1       => 0.132\n",
       "  :task_space => \"smooth\"\n",
       "  :outliers   => 0\n",
       "  :cv_ll      => 0.574826\n",
       "  :val_ll     => 0.617566\n",
       "  :task_time  => \"smooth\""
      ]
     },
     "metadata": {},
     "output_type": "display_data"
    },
    {
     "name": "stdout",
     "output_type": "stream",
     "text": [
      "100.00%┣██████████████████████████████████████████████████████████████┫ 10/10 02:14<00:00, 0.07 it/s]\n",
      "Running task_space smooth task_time smooth for method kal, outliers false\n"
     ]
    },
    {
     "data": {
      "text/plain": [
       "Dict{Symbol,Any} with 11 entries:\n",
       "  :eta2       => 0.3\n",
       "  :lamb1      => 1.0e-12\n",
       "  :lamb2      => 0.3\n",
       "  :method     => \"kal\"\n",
       "  :experiment => 1\n",
       "  :eta1       => 1.0e-12\n",
       "  :task_space => \"smooth\"\n",
       "  :outliers   => 0\n",
       "  :cv_ll      => 0.420141\n",
       "  :val_ll     => 0.445209\n",
       "  :task_time  => \"smooth\""
      ]
     },
     "metadata": {},
     "output_type": "display_data"
    },
    {
     "name": "stdout",
     "output_type": "stream",
     "text": [
      "0.00%┣                                                             ┫ 0/10 Inf:Inf<Inf:Inf, 0.00 it/s]"
     ]
    },
    {
     "data": {
      "text/plain": [
       "Dict{Symbol,Any} with 11 entries:\n",
       "  :eta2       => 0.3\n",
       "  :lamb1      => 1.0e-12\n",
       "  :lamb2      => 0.3\n",
       "  :method     => \"kal\"\n",
       "  :experiment => 2\n",
       "  :eta1       => 1.0e-12\n",
       "  :task_space => \"smooth\"\n",
       "  :outliers   => 0\n",
       "  :cv_ll      => 0.549449\n",
       "  :val_ll     => 0.584231\n",
       "  :task_time  => \"smooth\""
      ]
     },
     "metadata": {},
     "output_type": "display_data"
    },
    {
     "name": "stdout",
     "output_type": "stream",
     "text": [
      "10.00%┣██████▏                                                       ┫ 1/10 00:27<Inf:Inf, 0.00 it/s]"
     ]
    },
    {
     "data": {
      "text/plain": [
       "Dict{Symbol,Any} with 11 entries:\n",
       "  :eta2       => 0.3\n",
       "  :lamb1      => 1.0e-12\n",
       "  :lamb2      => 0.6\n",
       "  :method     => \"kal\"\n",
       "  :experiment => 3\n",
       "  :eta1       => 1.0e-12\n",
       "  :task_space => \"smooth\"\n",
       "  :outliers   => 0\n",
       "  :cv_ll      => 0.551862\n",
       "  :val_ll     => 0.563276\n",
       "  :task_time  => \"smooth\""
      ]
     },
     "metadata": {},
     "output_type": "display_data"
    },
    {
     "name": "stdout",
     "output_type": "stream",
     "text": [
      "20.00%┣████████████▊                                                   ┫ 2/10 00:40<05:19, 0.03 it/s]"
     ]
    },
    {
     "data": {
      "text/plain": [
       "Dict{Symbol,Any} with 11 entries:\n",
       "  :eta2       => 0.6\n",
       "  :lamb1      => 1.0e-12\n",
       "  :lamb2      => 0.6\n",
       "  :method     => \"kal\"\n",
       "  :experiment => 4\n",
       "  :eta1       => 1.0e-12\n",
       "  :task_space => \"smooth\"\n",
       "  :outliers   => 0\n",
       "  :cv_ll      => 0.403629\n",
       "  :val_ll     => 0.396738\n",
       "  :task_time  => \"smooth\""
      ]
     },
     "metadata": {},
     "output_type": "display_data"
    },
    {
     "name": "stdout",
     "output_type": "stream",
     "text": [
      "30.00%┣███████████████████▏                                            ┫ 3/10 00:52<03:02, 0.04 it/s]"
     ]
    },
    {
     "data": {
      "text/plain": [
       "Dict{Symbol,Any} with 11 entries:\n",
       "  :eta2       => 0.6\n",
       "  :lamb1      => 1.0e-12\n",
       "  :lamb2      => 0.6\n",
       "  :method     => \"kal\"\n",
       "  :experiment => 5\n",
       "  :eta1       => 1.0e-12\n",
       "  :task_space => \"smooth\"\n",
       "  :outliers   => 0\n",
       "  :cv_ll      => 0.643229\n",
       "  :val_ll     => 0.650378\n",
       "  :task_time  => \"smooth\""
      ]
     },
     "metadata": {},
     "output_type": "display_data"
    },
    {
     "name": "stdout",
     "output_type": "stream",
     "text": [
      "40.00%┣█████████████████████████▌                                      ┫ 4/10 01:04<02:08, 0.05 it/s]"
     ]
    },
    {
     "data": {
      "text/plain": [
       "Dict{Symbol,Any} with 11 entries:\n",
       "  :eta2       => 0.3\n",
       "  :lamb1      => 1.0e-12\n",
       "  :lamb2      => 0.6\n",
       "  :method     => \"kal\"\n",
       "  :experiment => 6\n",
       "  :eta1       => 1.0e-12\n",
       "  :task_space => \"smooth\"\n",
       "  :outliers   => 0\n",
       "  :cv_ll      => 0.527654\n",
       "  :val_ll     => 0.542998\n",
       "  :task_time  => \"smooth\""
      ]
     },
     "metadata": {},
     "output_type": "display_data"
    },
    {
     "name": "stdout",
     "output_type": "stream",
     "text": [
      "50.00%┣████████████████████████████████                                ┫ 5/10 01:17<01:36, 0.05 it/s]"
     ]
    },
    {
     "data": {
      "text/plain": [
       "Dict{Symbol,Any} with 11 entries:\n",
       "  :eta2       => 0.3\n",
       "  :lamb1      => 1.0e-12\n",
       "  :lamb2      => 0.6\n",
       "  :method     => \"kal\"\n",
       "  :experiment => 7\n",
       "  :eta1       => 1.0e-12\n",
       "  :task_space => \"smooth\"\n",
       "  :outliers   => 0\n",
       "  :cv_ll      => 0.621635\n",
       "  :val_ll     => 0.644702\n",
       "  :task_time  => \"smooth\""
      ]
     },
     "metadata": {},
     "output_type": "display_data"
    },
    {
     "name": "stdout",
     "output_type": "stream",
     "text": [
      "60.00%┣██████████████████████████████████████▍                         ┫ 6/10 01:29<01:11, 0.06 it/s]"
     ]
    },
    {
     "data": {
      "text/plain": [
       "Dict{Symbol,Any} with 11 entries:\n",
       "  :eta2       => 0.3\n",
       "  :lamb1      => 1.0e-12\n",
       "  :lamb2      => 0.6\n",
       "  :method     => \"kal\"\n",
       "  :experiment => 8\n",
       "  :eta1       => 1.0e-12\n",
       "  :task_space => \"smooth\"\n",
       "  :outliers   => 0\n",
       "  :cv_ll      => 0.601339\n",
       "  :val_ll     => 0.6301\n",
       "  :task_time  => \"smooth\""
      ]
     },
     "metadata": {},
     "output_type": "display_data"
    },
    {
     "name": "stdout",
     "output_type": "stream",
     "text": [
      "70.00%┣████████████████████████████████████████████▊                   ┫ 7/10 01:41<00:51, 0.06 it/s]"
     ]
    },
    {
     "data": {
      "text/plain": [
       "Dict{Symbol,Any} with 11 entries:\n",
       "  :eta2       => 0.6\n",
       "  :lamb1      => 1.0e-12\n",
       "  :lamb2      => 0.3\n",
       "  :method     => \"kal\"\n",
       "  :experiment => 9\n",
       "  :eta1       => 1.0e-12\n",
       "  :task_space => \"smooth\"\n",
       "  :outliers   => 0\n",
       "  :cv_ll      => 0.814967\n",
       "  :val_ll     => 0.829427\n",
       "  :task_time  => \"smooth\""
      ]
     },
     "metadata": {},
     "output_type": "display_data"
    },
    {
     "name": "stdout",
     "output_type": "stream",
     "text": [
      "80.00%┣███████████████████████████████████████████████████▏            ┫ 8/10 01:55<00:33, 0.06 it/s]"
     ]
    },
    {
     "data": {
      "text/plain": [
       "Dict{Symbol,Any} with 11 entries:\n",
       "  :eta2       => 0.3\n",
       "  :lamb1      => 1.0e-12\n",
       "  :lamb2      => 0.15\n",
       "  :method     => \"kal\"\n",
       "  :experiment => 10\n",
       "  :eta1       => 1.0e-12\n",
       "  :task_space => \"smooth\"\n",
       "  :outliers   => 0\n",
       "  :cv_ll      => 0.550344\n",
       "  :val_ll     => 0.563822\n",
       "  :task_time  => \"smooth\""
      ]
     },
     "metadata": {},
     "output_type": "display_data"
    },
    {
     "name": "stdout",
     "output_type": "stream",
     "text": [
      "100.00%┣██████████████████████████████████████████████████████████████┫ 10/10 02:09<00:00, 0.07 it/s]\n",
      "Running task_space smooth task_time smooth for method enet, outliers false\n"
     ]
    },
    {
     "data": {
      "text/plain": [
       "Dict{Symbol,Any} with 11 entries:\n",
       "  :eta2       => 0.3\n",
       "  :lamb1      => 0.066\n",
       "  :lamb2      => 0.15\n",
       "  :method     => \"enet\"\n",
       "  :experiment => 1\n",
       "  :eta1       => 2.0e-7\n",
       "  :task_space => \"smooth\"\n",
       "  :outliers   => 0\n",
       "  :cv_ll      => 0.421451\n",
       "  :val_ll     => 0.439675\n",
       "  :task_time  => \"smooth\""
      ]
     },
     "metadata": {},
     "output_type": "display_data"
    },
    {
     "name": "stdout",
     "output_type": "stream",
     "text": [
      "0.00%┣                                                             ┫ 0/10 Inf:Inf<Inf:Inf, 0.00 it/s]"
     ]
    },
    {
     "data": {
      "text/plain": [
       "Dict{Symbol,Any} with 11 entries:\n",
       "  :eta2       => 0.15\n",
       "  :lamb1      => 2.0e-7\n",
       "  :lamb2      => 0.3\n",
       "  :method     => \"enet\"\n",
       "  :experiment => 2\n",
       "  :eta1       => 0.066\n",
       "  :task_space => \"smooth\"\n",
       "  :outliers   => 0\n",
       "  :cv_ll      => 0.553766\n",
       "  :val_ll     => 0.584227\n",
       "  :task_time  => \"smooth\""
      ]
     },
     "metadata": {},
     "output_type": "display_data"
    },
    {
     "name": "stdout",
     "output_type": "stream",
     "text": [
      "10.00%┣██████▏                                                       ┫ 1/10 07:03<Inf:Inf, 0.00 it/s]"
     ]
    },
    {
     "ename": "InterruptException",
     "evalue": "InterruptException:",
     "output_type": "error",
     "traceback": [
      "InterruptException:",
      "",
      "Stacktrace:",
      " [1] try_yieldto(::typeof(Base.ensure_rescheduled), ::Base.RefValue{Task}) at .\\event.jl:196",
      " [2] wait() at .\\event.jl:255",
      " [3] put_unbuffered(::Channel{Any}, ::Tuple{Base.RefValue{Any},Tuple{Int64}}) at .\\channels.jl:280",
      " [4] put! at .\\channels.jl:260 [inlined]",
      " [5] (::getfield(Base, Symbol(\"##692#694\")){Channel{Any}})(::Int64) at .\\asyncmap.jl:140",
      " [6] (::getfield(Base, Symbol(\"##693#695\")){Channel{Any},Array{Any,1},getfield(Distributed, Symbol(\"##216#219\")){WorkerPool},getfield(Base, Symbol(\"##686#691\")){getfield(Distributed, Symbol(\"##200#203\")){getfield(Distributed, Symbol(\"###200#201#202\")){WorkerPool,getfield(Main, Symbol(\"##19#48\")){Array{Array{Float64,1},1},Array{Int64,1},Array{Int64,1},Array{Bool,1},Array{NTuple{4,Float64},1},Array{Set{Int64},1},Int64}}}},getfield(Base, Symbol(\"##692#694\")){Channel{Any}}})(::Int64) at .\\asyncmap.jl:149",
      " [7] iterate at .\\generator.jl:47 [inlined]",
      " [8] collect_to! at .\\array.jl:651 [inlined]",
      " [9] collect_to_with_first!(::Array{Base.RefValue{Any},1}, ::Base.RefValue{Any}, ::Base.Generator{UnitRange{Int64},getfield(Base, Symbol(\"##693#695\")){Channel{Any},Array{Any,1},getfield(Distributed, Symbol(\"##216#219\")){WorkerPool},getfield(Base, Symbol(\"##686#691\")){getfield(Distributed, Symbol(\"##200#203\")){getfield(Distributed, Symbol(\"###200#201#202\")){WorkerPool,getfield(Main, Symbol(\"##19#48\")){Array{Array{Float64,1},1},Array{Int64,1},Array{Int64,1},Array{Bool,1},Array{NTuple{4,Float64},1},Array{Set{Int64},1},Int64}}}},getfield(Base, Symbol(\"##692#694\")){Channel{Any}}}}, ::Int64) at .\\array.jl:630",
      " [10] _collect(::UnitRange{Int64}, ::Base.Generator{UnitRange{Int64},getfield(Base, Symbol(\"##693#695\")){Channel{Any},Array{Any,1},getfield(Distributed, Symbol(\"##216#219\")){WorkerPool},getfield(Base, Symbol(\"##686#691\")){getfield(Distributed, Symbol(\"##200#203\")){getfield(Distributed, Symbol(\"###200#201#202\")){WorkerPool,getfield(Main, Symbol(\"##19#48\")){Array{Array{Float64,1},1},Array{Int64,1},Array{Int64,1},Array{Bool,1},Array{NTuple{4,Float64},1},Array{Set{Int64},1},Int64}}}},getfield(Base, Symbol(\"##692#694\")){Channel{Any}}}}, ::Base.EltypeUnknown, ::Base.HasShape{1}) at .\\array.jl:624",
      " [11] collect_similar(::UnitRange{Int64}, ::Base.Generator{UnitRange{Int64},getfield(Base, Symbol(\"##693#695\")){Channel{Any},Array{Any,1},getfield(Distributed, Symbol(\"##216#219\")){WorkerPool},getfield(Base, Symbol(\"##686#691\")){getfield(Distributed, Symbol(\"##200#203\")){getfield(Distributed, Symbol(\"###200#201#202\")){WorkerPool,getfield(Main, Symbol(\"##19#48\")){Array{Array{Float64,1},1},Array{Int64,1},Array{Int64,1},Array{Bool,1},Array{NTuple{4,Float64},1},Array{Set{Int64},1},Int64}}}},getfield(Base, Symbol(\"##692#694\")){Channel{Any}}}}) at .\\array.jl:548",
      " [12] map(::Function, ::UnitRange{Int64}) at .\\abstractarray.jl:2018",
      " [13] maptwice(::Function, ::Channel{Any}, ::Array{Any,1}, ::UnitRange{Int64}) at .\\asyncmap.jl:162",
      " [14] #async_usemap#681 at .\\asyncmap.jl:154 [inlined]",
      " [15] #async_usemap at .\\none:0 [inlined]",
      " [16] #asyncmap#680 at .\\asyncmap.jl:81 [inlined]",
      " [17] #asyncmap at .\\none:0 [inlined]",
      " [18] #pmap#215(::Bool, ::Int64, ::Nothing, ::Array{Any,1}, ::Nothing, ::Function, ::Function, ::WorkerPool, ::UnitRange{Int64}) at C:\\cygwin\\home\\Administrator\\buildbot\\worker\\package_win64\\build\\usr\\share\\julia\\stdlib\\v1.1\\Distributed\\src\\pmap.jl:126",
      " [19] pmap(::Function, ::WorkerPool, ::UnitRange{Int64}) at C:\\cygwin\\home\\Administrator\\buildbot\\worker\\package_win64\\build\\usr\\share\\julia\\stdlib\\v1.1\\Distributed\\src\\pmap.jl:101",
      " [20] #pmap#225(::Base.Iterators.Pairs{Union{},Union{},Tuple{},NamedTuple{(),Tuple{}}}, ::Function, ::Function, ::UnitRange{Int64}) at C:\\cygwin\\home\\Administrator\\buildbot\\worker\\package_win64\\build\\usr\\share\\julia\\stdlib\\v1.1\\Distributed\\src\\pmap.jl:156",
      " [21] pmap at C:\\cygwin\\home\\Administrator\\buildbot\\worker\\package_win64\\build\\usr\\share\\julia\\stdlib\\v1.1\\Distributed\\src\\pmap.jl:156 [inlined]",
      " [22] cv_fit2(::Array{Array{Float64,1},1}, ::Array{Float64,1}, ::Array{Int64,1}, ::Array{Int64,1}, ::Array{Bool,1}, ::Array{NTuple{4,Float64},1}, ::Array{Set{Int64},1}, ::Array{MixtureModel{Univariate,Continuous,Normal{Float64}},1}) at .\\In[3]:165",
      " [23] #run_benchmarks#31(::Int64, ::Int64, ::Tuple{String,String,String}, ::Bool, ::Function, ::Int64, ::Float64) at .\\In[3]:250",
      " [24] (::getfield(Main, Symbol(\"#kw##run_benchmarks\")))(::NamedTuple{(:nsims, :tasks),Tuple{Int64,Tuple{String,String,String}}}, ::typeof(run_benchmarks), ::Int64, ::Float64) at .\\none:0",
      " [25] top-level scope at In[7]:9"
     ]
    }
   ],
   "source": [
    "# %%\n",
    "# @everywhere begin\n",
    "N = 30\n",
    "nsims = 10\n",
    "tasks = (\"smooth\", \"constant\", \"mixed\")\n",
    "# end\n",
    "\n",
    "pmiss = 0.1\n",
    "\n",
    "\n",
    "experiment_results = run_benchmarks(N, pmiss, nsims=nsims, tasks=tasks)\n",
    "experiment_results_out = run_benchmarks(N, pmiss, nsims=nsims, tasks=(\"mixed\", ), outliers=true)"
   ]
  },
  {
   "cell_type": "code",
   "execution_count": 8,
   "metadata": {},
   "outputs": [
    {
     "data": {
      "text/html": [
       "<table class=\"data-frame\"><thead><tr><th></th><th>task_space</th><th>task_time</th><th>method</th><th>outliers</th><th>val_loglikelihood</th><th>cv_loglikelihood</th></tr><tr><th></th><th>String</th><th>String</th><th>String</th><th>Int64</th><th>Float64</th><th>Float64</th></tr></thead><tbody><tr><th>1</th><td>constant</td><td>constant</td><td>enet</td><td>0</td><td>0.716805</td><td>0.747859</td></tr><tr><th>2</th><td>constant</td><td>constant</td><td>fl</td><td>0</td><td>0.742836</td><td>0.799245</td></tr><tr><th>3</th><td>constant</td><td>constant</td><td>kal</td><td>0</td><td>0.735285</td><td>0.772055</td></tr><tr><th>4</th><td>constant</td><td>mixed</td><td>enet</td><td>0</td><td>0.733996</td><td>0.758068</td></tr><tr><th>5</th><td>constant</td><td>mixed</td><td>fl</td><td>0</td><td>0.763687</td><td>0.804908</td></tr><tr><th>6</th><td>constant</td><td>mixed</td><td>kal</td><td>0</td><td>0.736812</td><td>0.761795</td></tr><tr><th>7</th><td>constant</td><td>smooth</td><td>enet</td><td>0</td><td>0.70014</td><td>0.726449</td></tr><tr><th>8</th><td>constant</td><td>smooth</td><td>fl</td><td>0</td><td>0.733509</td><td>0.781413</td></tr><tr><th>9</th><td>constant</td><td>smooth</td><td>kal</td><td>0</td><td>0.70646</td><td>0.737081</td></tr><tr><th>10</th><td>mixed</td><td>constant</td><td>enet</td><td>0</td><td>0.709394</td><td>0.741007</td></tr><tr><th>11</th><td>mixed</td><td>constant</td><td>fl</td><td>0</td><td>0.739376</td><td>0.793821</td></tr><tr><th>12</th><td>mixed</td><td>constant</td><td>kal</td><td>0</td><td>0.718471</td><td>0.755524</td></tr><tr><th>13</th><td>mixed</td><td>mixed</td><td>enet</td><td>0</td><td>0.687623</td><td>0.720549</td></tr><tr><th>14</th><td>mixed</td><td>mixed</td><td>enet</td><td>1</td><td>0.793078</td><td>1.23959</td></tr><tr><th>15</th><td>mixed</td><td>mixed</td><td>fl</td><td>0</td><td>0.724034</td><td>0.772241</td></tr><tr><th>16</th><td>mixed</td><td>mixed</td><td>fl</td><td>1</td><td>0.824305</td><td>1.28537</td></tr><tr><th>17</th><td>mixed</td><td>mixed</td><td>kal</td><td>0</td><td>0.699327</td><td>0.732267</td></tr><tr><th>18</th><td>mixed</td><td>mixed</td><td>kal</td><td>1</td><td>0.795077</td><td>1.24141</td></tr><tr><th>19</th><td>mixed</td><td>smooth</td><td>enet</td><td>0</td><td>0.671449</td><td>0.700894</td></tr><tr><th>20</th><td>mixed</td><td>smooth</td><td>fl</td><td>0</td><td>0.724428</td><td>0.776567</td></tr><tr><th>21</th><td>mixed</td><td>smooth</td><td>kal</td><td>0</td><td>0.672263</td><td>0.70192</td></tr><tr><th>22</th><td>smooth</td><td>constant</td><td>enet</td><td>0</td><td>0.698649</td><td>0.727135</td></tr><tr><th>23</th><td>smooth</td><td>constant</td><td>fl</td><td>0</td><td>0.734219</td><td>0.774538</td></tr><tr><th>24</th><td>smooth</td><td>constant</td><td>kal</td><td>0</td><td>0.704965</td><td>0.733631</td></tr><tr><th>25</th><td>smooth</td><td>mixed</td><td>enet</td><td>0</td><td>0.729658</td><td>0.766145</td></tr><tr><th>26</th><td>smooth</td><td>mixed</td><td>fl</td><td>0</td><td>0.768399</td><td>0.826347</td></tr><tr><th>27</th><td>smooth</td><td>mixed</td><td>kal</td><td>0</td><td>0.732152</td><td>0.769907</td></tr><tr><th>28</th><td>smooth</td><td>smooth</td><td>enet</td><td>0</td><td>0.73385</td><td>0.754251</td></tr><tr><th>29</th><td>smooth</td><td>smooth</td><td>fl</td><td>0</td><td>0.779079</td><td>0.817569</td></tr><tr><th>30</th><td>smooth</td><td>smooth</td><td>kal</td><td>0</td><td>0.737836</td><td>0.765077</td></tr></tbody></table>"
      ],
      "text/latex": [
       "\\begin{tabular}{r|cccccc}\n",
       "\t& task\\_space & task\\_time & method & outliers & val\\_loglikelihood & cv\\_loglikelihood\\\\\n",
       "\t\\hline\n",
       "\t1 & constant & constant & enet & 0 & 0.716805 & 0.747859 \\\\\n",
       "\t2 & constant & constant & fl & 0 & 0.742836 & 0.799245 \\\\\n",
       "\t3 & constant & constant & kal & 0 & 0.735285 & 0.772055 \\\\\n",
       "\t4 & constant & mixed & enet & 0 & 0.733996 & 0.758068 \\\\\n",
       "\t5 & constant & mixed & fl & 0 & 0.763687 & 0.804908 \\\\\n",
       "\t6 & constant & mixed & kal & 0 & 0.736812 & 0.761795 \\\\\n",
       "\t7 & constant & smooth & enet & 0 & 0.70014 & 0.726449 \\\\\n",
       "\t8 & constant & smooth & fl & 0 & 0.733509 & 0.781413 \\\\\n",
       "\t9 & constant & smooth & kal & 0 & 0.70646 & 0.737081 \\\\\n",
       "\t10 & mixed & constant & enet & 0 & 0.709394 & 0.741007 \\\\\n",
       "\t11 & mixed & constant & fl & 0 & 0.739376 & 0.793821 \\\\\n",
       "\t12 & mixed & constant & kal & 0 & 0.718471 & 0.755524 \\\\\n",
       "\t13 & mixed & mixed & enet & 0 & 0.687623 & 0.720549 \\\\\n",
       "\t14 & mixed & mixed & enet & 1 & 0.793078 & 1.23959 \\\\\n",
       "\t15 & mixed & mixed & fl & 0 & 0.724034 & 0.772241 \\\\\n",
       "\t16 & mixed & mixed & fl & 1 & 0.824305 & 1.28537 \\\\\n",
       "\t17 & mixed & mixed & kal & 0 & 0.699327 & 0.732267 \\\\\n",
       "\t18 & mixed & mixed & kal & 1 & 0.795077 & 1.24141 \\\\\n",
       "\t19 & mixed & smooth & enet & 0 & 0.671449 & 0.700894 \\\\\n",
       "\t20 & mixed & smooth & fl & 0 & 0.724428 & 0.776567 \\\\\n",
       "\t21 & mixed & smooth & kal & 0 & 0.672263 & 0.70192 \\\\\n",
       "\t22 & smooth & constant & enet & 0 & 0.698649 & 0.727135 \\\\\n",
       "\t23 & smooth & constant & fl & 0 & 0.734219 & 0.774538 \\\\\n",
       "\t24 & smooth & constant & kal & 0 & 0.704965 & 0.733631 \\\\\n",
       "\t25 & smooth & mixed & enet & 0 & 0.729658 & 0.766145 \\\\\n",
       "\t26 & smooth & mixed & fl & 0 & 0.768399 & 0.826347 \\\\\n",
       "\t27 & smooth & mixed & kal & 0 & 0.732152 & 0.769907 \\\\\n",
       "\t28 & smooth & smooth & enet & 0 & 0.73385 & 0.754251 \\\\\n",
       "\t29 & smooth & smooth & fl & 0 & 0.779079 & 0.817569 \\\\\n",
       "\t30 & smooth & smooth & kal & 0 & 0.737836 & 0.765077 \\\\\n",
       "\\end{tabular}\n"
      ],
      "text/plain": [
       "30×6 DataFrame. Omitted printing of 1 columns\n",
       "│ Row │ task_space │ task_time │ method │ outliers │ val_loglikelihood │\n",
       "│     │ \u001b[90mString\u001b[39m     │ \u001b[90mString\u001b[39m    │ \u001b[90mString\u001b[39m │ \u001b[90mInt64\u001b[39m    │ \u001b[90mFloat64\u001b[39m           │\n",
       "├─────┼────────────┼───────────┼────────┼──────────┼───────────────────┤\n",
       "│ 1   │ constant   │ constant  │ enet   │ 0        │ 0.716805          │\n",
       "│ 2   │ constant   │ constant  │ fl     │ 0        │ 0.742836          │\n",
       "│ 3   │ constant   │ constant  │ kal    │ 0        │ 0.735285          │\n",
       "│ 4   │ constant   │ mixed     │ enet   │ 0        │ 0.733996          │\n",
       "│ 5   │ constant   │ mixed     │ fl     │ 0        │ 0.763687          │\n",
       "│ 6   │ constant   │ mixed     │ kal    │ 0        │ 0.736812          │\n",
       "│ 7   │ constant   │ smooth    │ enet   │ 0        │ 0.70014           │\n",
       "│ 8   │ constant   │ smooth    │ fl     │ 0        │ 0.733509          │\n",
       "│ 9   │ constant   │ smooth    │ kal    │ 0        │ 0.70646           │\n",
       "│ 10  │ mixed      │ constant  │ enet   │ 0        │ 0.709394          │\n",
       "⋮\n",
       "│ 20  │ mixed      │ smooth    │ fl     │ 0        │ 0.724428          │\n",
       "│ 21  │ mixed      │ smooth    │ kal    │ 0        │ 0.672263          │\n",
       "│ 22  │ smooth     │ constant  │ enet   │ 0        │ 0.698649          │\n",
       "│ 23  │ smooth     │ constant  │ fl     │ 0        │ 0.734219          │\n",
       "│ 24  │ smooth     │ constant  │ kal    │ 0        │ 0.704965          │\n",
       "│ 25  │ smooth     │ mixed     │ enet   │ 0        │ 0.729658          │\n",
       "│ 26  │ smooth     │ mixed     │ fl     │ 0        │ 0.768399          │\n",
       "│ 27  │ smooth     │ mixed     │ kal    │ 0        │ 0.732152          │\n",
       "│ 28  │ smooth     │ smooth    │ enet   │ 0        │ 0.73385           │\n",
       "│ 29  │ smooth     │ smooth    │ fl     │ 0        │ 0.779079          │\n",
       "│ 30  │ smooth     │ smooth    │ kal    │ 0        │ 0.737836          │"
      ]
     },
     "execution_count": 8,
     "metadata": {},
     "output_type": "execute_result"
    }
   ],
   "source": [
    "\n",
    "# %%\n",
    "df = DataFrame(experiment = Int[],\n",
    "               task_space=String[],\n",
    "               task_time=String[],\n",
    "               method=String[],\n",
    "               cv_ll=Float64[],\n",
    "               val_ll=Float64[],\n",
    "               lamb1=Float64[],\n",
    "               lamb2=Float64[],\n",
    "               eta1=Float64[],\n",
    "               eta2=Float64[],\n",
    "               outliers=Int[])\n",
    "for record in [experiment_results; experiment_results_out]\n",
    "    push!(df, record)\n",
    "end\n",
    "\n",
    "CSV.write(\"benchmarks-results-spt_p01_scaled.csv\", df)\n",
    "\n",
    "# %%\n",
    "head(df, 10)\n",
    "\n",
    "\n",
    "# %%\n",
    "res = R\"\"\"\n",
    "df = $df %>% \n",
    "    group_by(task_space, task_time, method, outliers) %>%\n",
    "    summarize(val_loglikelihood = mean(val_ll),\n",
    "              cv_loglikelihood = mean(cv_ll))\n",
    "df\n",
    "\"\"\"\n",
    "res = rcopy(res)\n",
    "\n",
    "# %%\n",
    "\n"
   ]
  },
  {
   "cell_type": "code",
   "execution_count": 9,
   "metadata": {},
   "outputs": [
    {
     "name": "stdout",
     "output_type": "stream",
     "text": [
      "300×11 DataFrame\n",
      "│ Row │ experiment │ task_space │ task_time │ method │ cv_ll    │ val_ll   │ lamb1   │ lamb2   │ eta1    │ eta2    │ outliers │\n",
      "│     │ \u001b[90mInt64\u001b[39m      │ \u001b[90mString\u001b[39m     │ \u001b[90mString\u001b[39m    │ \u001b[90mString\u001b[39m │ \u001b[90mFloat64\u001b[39m  │ \u001b[90mFloat64\u001b[39m  │ \u001b[90mFloat64\u001b[39m │ \u001b[90mFloat64\u001b[39m │ \u001b[90mFloat64\u001b[39m │ \u001b[90mFloat64\u001b[39m │ \u001b[90mInt64\u001b[39m    │\n",
      "├─────┼────────────┼────────────┼───────────┼────────┼──────────┼──────────┼─────────┼─────────┼─────────┼─────────┼──────────┤\n",
      "│ 1   │ 1          │ smooth     │ smooth    │ fl     │ 0.827946 │ 0.772092 │ 0.132   │ 1.0e-12 │ 0.2     │ 1.0e-12 │ 0        │\n",
      "│ 2   │ 2          │ smooth     │ smooth    │ fl     │ 0.774578 │ 0.676679 │ 0.2     │ 1.0e-12 │ 0.2     │ 1.0e-12 │ 0        │\n",
      "│ 3   │ 3          │ smooth     │ smooth    │ fl     │ 1.01038  │ 1.01173  │ 0.066   │ 1.0e-12 │ 0.2     │ 1.0e-12 │ 0        │\n",
      "│ 4   │ 4          │ smooth     │ smooth    │ fl     │ 0.779746 │ 0.744549 │ 0.2     │ 1.0e-12 │ 0.2     │ 1.0e-12 │ 0        │\n",
      "│ 5   │ 5          │ smooth     │ smooth    │ fl     │ 1.04391  │ 1.00248  │ 0.132   │ 1.0e-12 │ 0.2     │ 1.0e-12 │ 0        │\n",
      "│ 6   │ 6          │ smooth     │ smooth    │ fl     │ 0.876908 │ 0.854103 │ 0.2     │ 1.0e-12 │ 0.2     │ 1.0e-12 │ 0        │\n",
      "│ 7   │ 7          │ smooth     │ smooth    │ fl     │ 0.794685 │ 0.72503  │ 0.2     │ 1.0e-12 │ 0.2     │ 1.0e-12 │ 0        │\n",
      "│ 8   │ 8          │ smooth     │ smooth    │ fl     │ 0.573052 │ 0.555318 │ 0.2     │ 1.0e-12 │ 0.066   │ 1.0e-12 │ 0        │\n",
      "│ 9   │ 9          │ smooth     │ smooth    │ fl     │ 0.74614  │ 0.697543 │ 0.2     │ 1.0e-12 │ 0.2     │ 1.0e-12 │ 0        │\n",
      "│ 10  │ 10         │ smooth     │ smooth    │ fl     │ 0.748342 │ 0.751263 │ 0.066   │ 1.0e-12 │ 0.2     │ 1.0e-12 │ 0        │\n",
      "│ 11  │ 1          │ smooth     │ smooth    │ kal    │ 0.748702 │ 0.728472 │ 1.0e-12 │ 0.3     │ 1.0e-12 │ 0.6     │ 0        │\n",
      "│ 12  │ 2          │ smooth     │ smooth    │ kal    │ 0.621112 │ 0.570386 │ 1.0e-12 │ 0.15    │ 1.0e-12 │ 0.6     │ 0        │\n",
      "│ 13  │ 3          │ smooth     │ smooth    │ kal    │ 1.00779  │ 0.996042 │ 1.0e-12 │ 0.15    │ 1.0e-12 │ 0.6     │ 0        │\n",
      "│ 14  │ 4          │ smooth     │ smooth    │ kal    │ 0.709495 │ 0.710528 │ 1.0e-12 │ 0.6     │ 1.0e-12 │ 0.6     │ 0        │\n",
      "│ 15  │ 5          │ smooth     │ smooth    │ kal    │ 0.97555  │ 0.952892 │ 1.0e-12 │ 0.3     │ 1.0e-12 │ 0.6     │ 0        │\n",
      "│ 16  │ 6          │ smooth     │ smooth    │ kal    │ 0.885868 │ 0.839672 │ 1.0e-12 │ 0.6     │ 1.0e-12 │ 0.6     │ 0        │\n",
      "│ 17  │ 7          │ smooth     │ smooth    │ kal    │ 0.709037 │ 0.656465 │ 1.0e-12 │ 0.6     │ 1.0e-12 │ 0.3     │ 0        │\n",
      "│ 18  │ 8          │ smooth     │ smooth    │ kal    │ 0.57801  │ 0.556296 │ 1.0e-12 │ 0.6     │ 1.0e-12 │ 0.3     │ 0        │\n",
      "│ 19  │ 9          │ smooth     │ smooth    │ kal    │ 0.686852 │ 0.640199 │ 1.0e-12 │ 0.6     │ 1.0e-12 │ 0.6     │ 0        │\n",
      "│ 20  │ 10         │ smooth     │ smooth    │ kal    │ 0.728354 │ 0.72741  │ 1.0e-12 │ 0.3     │ 1.0e-12 │ 0.6     │ 0        │\n",
      "│ 21  │ 1          │ smooth     │ smooth    │ enet   │ 0.748601 │ 0.725711 │ 2.0e-7  │ 0.3     │ 0.132   │ 0.6     │ 0        │\n",
      "│ 22  │ 2          │ smooth     │ smooth    │ enet   │ 0.625256 │ 0.575821 │ 2.0e-7  │ 0.3     │ 2.0e-7  │ 0.6     │ 0        │\n",
      "│ 23  │ 3          │ smooth     │ smooth    │ enet   │ 0.981244 │ 0.988159 │ 2.0e-7  │ 0.15    │ 0.132   │ 0.6     │ 0        │\n",
      "│ 24  │ 4          │ smooth     │ smooth    │ enet   │ 0.711273 │ 0.711278 │ 2.0e-7  │ 0.6     │ 2.0e-7  │ 0.6     │ 0        │\n",
      "│ 25  │ 5          │ smooth     │ smooth    │ enet   │ 0.973804 │ 0.948273 │ 2.0e-7  │ 0.3     │ 2.0e-7  │ 0.6     │ 0        │\n",
      "│ 26  │ 6          │ smooth     │ smooth    │ enet   │ 0.848608 │ 0.826199 │ 0.2     │ 0.6     │ 2.0e-7  │ 0.6     │ 0        │\n",
      "│ 27  │ 7          │ smooth     │ smooth    │ enet   │ 0.704747 │ 0.654225 │ 0.066   │ 0.6     │ 2.0e-7  │ 0.3     │ 0        │\n",
      "│ 28  │ 8          │ smooth     │ smooth    │ enet   │ 0.551912 │ 0.537534 │ 0.2     │ 0.6     │ 2.0e-7  │ 0.15    │ 0        │\n",
      "│ 29  │ 9          │ smooth     │ smooth    │ enet   │ 0.684324 │ 0.645413 │ 2.0e-7  │ 0.6     │ 0.066   │ 0.6     │ 0        │\n",
      "│ 30  │ 10         │ smooth     │ smooth    │ enet   │ 0.712739 │ 0.72589  │ 2.0e-7  │ 0.3     │ 0.132   │ 0.6     │ 0        │\n",
      "│ 31  │ 1          │ smooth     │ constant  │ fl     │ 0.513892 │ 0.510222 │ 0.2     │ 1.0e-12 │ 0.2     │ 1.0e-12 │ 0        │\n",
      "│ 32  │ 2          │ smooth     │ constant  │ fl     │ 0.941096 │ 0.890016 │ 0.2     │ 1.0e-12 │ 0.2     │ 1.0e-12 │ 0        │\n",
      "│ 33  │ 3          │ smooth     │ constant  │ fl     │ 0.78208  │ 0.75404  │ 0.2     │ 1.0e-12 │ 0.2     │ 1.0e-12 │ 0        │\n",
      "│ 34  │ 4          │ smooth     │ constant  │ fl     │ 0.927762 │ 0.886147 │ 0.2     │ 1.0e-12 │ 0.2     │ 1.0e-12 │ 0        │\n",
      "│ 35  │ 5          │ smooth     │ constant  │ fl     │ 0.591772 │ 0.527046 │ 0.2     │ 1.0e-12 │ 0.2     │ 1.0e-12 │ 0        │\n",
      "│ 36  │ 6          │ smooth     │ constant  │ fl     │ 0.9184   │ 0.894901 │ 0.2     │ 1.0e-12 │ 0.2     │ 1.0e-12 │ 0        │\n",
      "│ 37  │ 7          │ smooth     │ constant  │ fl     │ 0.903396 │ 0.853972 │ 0.2     │ 1.0e-12 │ 0.2     │ 1.0e-12 │ 0        │\n",
      "│ 38  │ 8          │ smooth     │ constant  │ fl     │ 0.960403 │ 0.930065 │ 0.2     │ 1.0e-12 │ 0.132   │ 1.0e-12 │ 0        │\n",
      "│ 39  │ 9          │ smooth     │ constant  │ fl     │ 0.633857 │ 0.585568 │ 0.2     │ 1.0e-12 │ 0.2     │ 1.0e-12 │ 0        │\n",
      "│ 40  │ 10         │ smooth     │ constant  │ fl     │ 0.572725 │ 0.510212 │ 0.2     │ 1.0e-12 │ 0.2     │ 1.0e-12 │ 0        │\n",
      "│ 41  │ 1          │ smooth     │ constant  │ kal    │ 0.495403 │ 0.489927 │ 1.0e-12 │ 0.6     │ 1.0e-12 │ 0.3     │ 0        │\n",
      "│ 42  │ 2          │ smooth     │ constant  │ kal    │ 0.887954 │ 0.848112 │ 1.0e-12 │ 0.6     │ 1.0e-12 │ 0.3     │ 0        │\n",
      "│ 43  │ 3          │ smooth     │ constant  │ kal    │ 0.749357 │ 0.727842 │ 1.0e-12 │ 0.6     │ 1.0e-12 │ 0.6     │ 0        │\n",
      "│ 44  │ 4          │ smooth     │ constant  │ kal    │ 0.889029 │ 0.868374 │ 1.0e-12 │ 0.6     │ 1.0e-12 │ 0.6     │ 0        │\n",
      "│ 45  │ 5          │ smooth     │ constant  │ kal    │ 0.538404 │ 0.500618 │ 1.0e-12 │ 0.6     │ 1.0e-12 │ 0.6     │ 0        │\n",
      "│ 46  │ 6          │ smooth     │ constant  │ kal    │ 0.864875 │ 0.859752 │ 1.0e-12 │ 0.6     │ 1.0e-12 │ 0.6     │ 0        │\n",
      "│ 47  │ 7          │ smooth     │ constant  │ kal    │ 0.865865 │ 0.823428 │ 1.0e-12 │ 0.6     │ 1.0e-12 │ 0.6     │ 0        │\n",
      "│ 48  │ 8          │ smooth     │ constant  │ kal    │ 0.923521 │ 0.902738 │ 1.0e-12 │ 0.6     │ 1.0e-12 │ 0.6     │ 0        │\n",
      "│ 49  │ 9          │ smooth     │ constant  │ kal    │ 0.553634 │ 0.527607 │ 1.0e-12 │ 0.3     │ 1.0e-12 │ 0.6     │ 0        │\n",
      "│ 50  │ 10         │ smooth     │ constant  │ kal    │ 0.568265 │ 0.50125  │ 1.0e-12 │ 0.3     │ 1.0e-12 │ 0.6     │ 0        │\n",
      "│ 51  │ 1          │ smooth     │ constant  │ enet   │ 0.470752 │ 0.465123 │ 0.2     │ 0.6     │ 2.0e-7  │ 0.3     │ 0        │\n",
      "│ 52  │ 2          │ smooth     │ constant  │ enet   │ 0.885201 │ 0.852912 │ 2.0e-7  │ 0.6     │ 2.0e-7  │ 0.6     │ 0        │\n",
      "│ 53  │ 3          │ smooth     │ constant  │ enet   │ 0.745048 │ 0.724436 │ 0.2     │ 2.0e-7  │ 2.0e-7  │ 0.6     │ 0        │\n",
      "│ 54  │ 4          │ smooth     │ constant  │ enet   │ 0.883515 │ 0.857484 │ 0.132   │ 2.0e-7  │ 0.2     │ 0.6     │ 0        │\n",
      "│ 55  │ 5          │ smooth     │ constant  │ enet   │ 0.536759 │ 0.501582 │ 0.066   │ 0.3     │ 2.0e-7  │ 0.6     │ 0        │\n",
      "│ 56  │ 6          │ smooth     │ constant  │ enet   │ 0.867925 │ 0.859314 │ 0.066   │ 0.6     │ 2.0e-7  │ 0.6     │ 0        │\n",
      "│ 57  │ 7          │ smooth     │ constant  │ enet   │ 0.867413 │ 0.820691 │ 2.0e-7  │ 0.6     │ 2.0e-7  │ 0.6     │ 0        │\n",
      "│ 58  │ 8          │ smooth     │ constant  │ enet   │ 0.906296 │ 0.894666 │ 0.132   │ 0.6     │ 2.0e-7  │ 0.3     │ 0        │\n",
      "│ 59  │ 9          │ smooth     │ constant  │ enet   │ 0.56506  │ 0.528007 │ 2.0e-7  │ 0.3     │ 2.0e-7  │ 0.6     │ 0        │\n",
      "│ 60  │ 10         │ smooth     │ constant  │ enet   │ 0.54338  │ 0.48228  │ 0.132   │ 2.0e-7  │ 0.132   │ 0.6     │ 0        │\n",
      "│ 61  │ 1          │ smooth     │ mixed     │ fl     │ 0.787604 │ 0.710763 │ 0.2     │ 1.0e-12 │ 0.2     │ 1.0e-12 │ 0        │\n",
      "│ 62  │ 2          │ smooth     │ mixed     │ fl     │ 0.752395 │ 0.697835 │ 0.2     │ 1.0e-12 │ 0.2     │ 1.0e-12 │ 0        │\n",
      "│ 63  │ 3          │ smooth     │ mixed     │ fl     │ 0.656119 │ 0.613893 │ 0.2     │ 1.0e-12 │ 0.2     │ 1.0e-12 │ 0        │\n",
      "│ 64  │ 4          │ smooth     │ mixed     │ fl     │ 0.868204 │ 0.837923 │ 0.2     │ 1.0e-12 │ 0.2     │ 1.0e-12 │ 0        │\n",
      "│ 65  │ 5          │ smooth     │ mixed     │ fl     │ 0.915121 │ 0.848072 │ 0.2     │ 1.0e-12 │ 0.2     │ 1.0e-12 │ 0        │\n",
      "│ 66  │ 6          │ smooth     │ mixed     │ fl     │ 0.816523 │ 0.767087 │ 0.132   │ 1.0e-12 │ 0.2     │ 1.0e-12 │ 0        │\n",
      "│ 67  │ 7          │ smooth     │ mixed     │ fl     │ 0.890774 │ 0.770896 │ 0.132   │ 1.0e-12 │ 0.2     │ 1.0e-12 │ 0        │\n",
      "│ 68  │ 8          │ smooth     │ mixed     │ fl     │ 0.830524 │ 0.811729 │ 0.2     │ 1.0e-12 │ 0.2     │ 1.0e-12 │ 0        │\n",
      "│ 69  │ 9          │ smooth     │ mixed     │ fl     │ 0.828424 │ 0.740976 │ 0.2     │ 1.0e-12 │ 0.2     │ 1.0e-12 │ 0        │\n",
      "│ 70  │ 10         │ smooth     │ mixed     │ fl     │ 0.917781 │ 0.884811 │ 0.2     │ 1.0e-12 │ 0.066   │ 1.0e-12 │ 0        │\n",
      "│ 71  │ 1          │ smooth     │ mixed     │ kal    │ 0.707099 │ 0.652047 │ 1.0e-12 │ 0.6     │ 1.0e-12 │ 0.6     │ 0        │\n",
      "│ 72  │ 2          │ smooth     │ mixed     │ kal    │ 0.700794 │ 0.663974 │ 1.0e-12 │ 0.6     │ 1.0e-12 │ 0.6     │ 0        │\n",
      "│ 73  │ 3          │ smooth     │ mixed     │ kal    │ 0.627985 │ 0.581947 │ 1.0e-12 │ 0.6     │ 1.0e-12 │ 0.3     │ 0        │\n",
      "│ 74  │ 4          │ smooth     │ mixed     │ kal    │ 0.801429 │ 0.791978 │ 1.0e-12 │ 0.6     │ 1.0e-12 │ 0.3     │ 0        │\n",
      "│ 75  │ 5          │ smooth     │ mixed     │ kal    │ 0.863374 │ 0.815617 │ 1.0e-12 │ 0.6     │ 1.0e-12 │ 0.6     │ 0        │\n",
      "│ 76  │ 6          │ smooth     │ mixed     │ kal    │ 0.778322 │ 0.747309 │ 1.0e-12 │ 0.6     │ 1.0e-12 │ 0.6     │ 0        │\n",
      "│ 77  │ 7          │ smooth     │ mixed     │ kal    │ 0.789159 │ 0.720954 │ 1.0e-12 │ 0.15    │ 1.0e-12 │ 0.6     │ 0        │\n",
      "│ 78  │ 8          │ smooth     │ mixed     │ kal    │ 0.780127 │ 0.782448 │ 1.0e-12 │ 0.6     │ 1.0e-12 │ 0.6     │ 0        │\n",
      "│ 79  │ 9          │ smooth     │ mixed     │ kal    │ 0.778861 │ 0.721882 │ 1.0e-12 │ 0.3     │ 1.0e-12 │ 0.6     │ 0        │\n",
      "│ 80  │ 10         │ smooth     │ mixed     │ kal    │ 0.871924 │ 0.843362 │ 1.0e-12 │ 0.6     │ 1.0e-12 │ 0.15    │ 0        │\n",
      "│ 81  │ 1          │ smooth     │ mixed     │ enet   │ 0.71241  │ 0.65353  │ 2.0e-7  │ 0.6     │ 2.0e-7  │ 0.6     │ 0        │\n",
      "│ 82  │ 2          │ smooth     │ mixed     │ enet   │ 0.708363 │ 0.662223 │ 2.0e-7  │ 0.6     │ 2.0e-7  │ 0.6     │ 0        │\n",
      "│ 83  │ 3          │ smooth     │ mixed     │ enet   │ 0.610651 │ 0.569006 │ 0.2     │ 0.6     │ 2.0e-7  │ 0.3     │ 0        │\n",
      "│ 84  │ 4          │ smooth     │ mixed     │ enet   │ 0.792988 │ 0.795951 │ 0.2     │ 0.6     │ 2.0e-7  │ 0.15    │ 0        │\n",
      "│ 85  │ 5          │ smooth     │ mixed     │ enet   │ 0.859007 │ 0.814425 │ 2.0e-7  │ 0.6     │ 2.0e-7  │ 0.6     │ 0        │\n",
      "│ 86  │ 6          │ smooth     │ mixed     │ enet   │ 0.783342 │ 0.743512 │ 0.066   │ 0.6     │ 2.0e-7  │ 0.6     │ 0        │\n",
      "│ 87  │ 7          │ smooth     │ mixed     │ enet   │ 0.792388 │ 0.724367 │ 2.0e-7  │ 0.15    │ 2.0e-7  │ 0.6     │ 0        │\n",
      "│ 88  │ 8          │ smooth     │ mixed     │ enet   │ 0.777617 │ 0.782648 │ 2.0e-7  │ 0.3     │ 2.0e-7  │ 0.6     │ 0        │\n",
      "│ 89  │ 9          │ smooth     │ mixed     │ enet   │ 0.768994 │ 0.70811  │ 0.132   │ 2.0e-7  │ 2.0e-7  │ 0.6     │ 0        │\n",
      "│ 90  │ 10         │ smooth     │ mixed     │ enet   │ 0.855689 │ 0.842804 │ 0.066   │ 0.6     │ 2.0e-7  │ 0.15    │ 0        │\n",
      "│ 91  │ 1          │ constant   │ smooth    │ fl     │ 0.905106 │ 0.883054 │ 0.2     │ 1.0e-12 │ 0.132   │ 1.0e-12 │ 0        │\n",
      "│ 92  │ 2          │ constant   │ smooth    │ fl     │ 0.782721 │ 0.75245  │ 0.2     │ 1.0e-12 │ 0.2     │ 1.0e-12 │ 0        │\n",
      "│ 93  │ 3          │ constant   │ smooth    │ fl     │ 0.903444 │ 0.843901 │ 0.2     │ 1.0e-12 │ 0.2     │ 1.0e-12 │ 0        │\n",
      "│ 94  │ 4          │ constant   │ smooth    │ fl     │ 0.713848 │ 0.719241 │ 0.132   │ 1.0e-12 │ 0.2     │ 1.0e-12 │ 0        │\n",
      "│ 95  │ 5          │ constant   │ smooth    │ fl     │ 0.695137 │ 0.617926 │ 0.2     │ 1.0e-12 │ 0.2     │ 1.0e-12 │ 0        │\n",
      "│ 96  │ 6          │ constant   │ smooth    │ fl     │ 0.922743 │ 0.849217 │ 0.132   │ 1.0e-12 │ 0.2     │ 1.0e-12 │ 0        │\n",
      "│ 97  │ 7          │ constant   │ smooth    │ fl     │ 0.698154 │ 0.681632 │ 0.066   │ 1.0e-12 │ 0.2     │ 1.0e-12 │ 0        │\n",
      "│ 98  │ 8          │ constant   │ smooth    │ fl     │ 0.712947 │ 0.642551 │ 0.2     │ 1.0e-12 │ 0.2     │ 1.0e-12 │ 0        │\n",
      "│ 99  │ 9          │ constant   │ smooth    │ fl     │ 0.670561 │ 0.596248 │ 0.2     │ 1.0e-12 │ 0.2     │ 1.0e-12 │ 0        │\n",
      "│ 100 │ 10         │ constant   │ smooth    │ fl     │ 0.809466 │ 0.748875 │ 0.2     │ 1.0e-12 │ 0.2     │ 1.0e-12 │ 0        │\n",
      "│ 101 │ 1          │ constant   │ smooth    │ kal    │ 0.870367 │ 0.859537 │ 1.0e-12 │ 0.3     │ 1.0e-12 │ 0.3     │ 0        │\n",
      "│ 102 │ 2          │ constant   │ smooth    │ kal    │ 0.752795 │ 0.732005 │ 1.0e-12 │ 0.6     │ 1.0e-12 │ 0.6     │ 0        │\n",
      "│ 103 │ 3          │ constant   │ smooth    │ kal    │ 0.862147 │ 0.808049 │ 1.0e-12 │ 0.6     │ 1.0e-12 │ 0.3     │ 0        │\n",
      "│ 104 │ 4          │ constant   │ smooth    │ kal    │ 0.702031 │ 0.710936 │ 1.0e-12 │ 0.6     │ 1.0e-12 │ 0.6     │ 0        │\n",
      "│ 105 │ 5          │ constant   │ smooth    │ kal    │ 0.646223 │ 0.59276  │ 1.0e-12 │ 0.6     │ 1.0e-12 │ 0.6     │ 0        │\n",
      "│ 106 │ 6          │ constant   │ smooth    │ kal    │ 0.834832 │ 0.810143 │ 1.0e-12 │ 0.15    │ 1.0e-12 │ 0.6     │ 0        │\n",
      "│ 107 │ 7          │ constant   │ smooth    │ kal    │ 0.631467 │ 0.644013 │ 1.0e-12 │ 0.3     │ 1.0e-12 │ 0.6     │ 0        │\n",
      "│ 108 │ 8          │ constant   │ smooth    │ kal    │ 0.664478 │ 0.615724 │ 1.0e-12 │ 0.6     │ 1.0e-12 │ 0.6     │ 0        │\n",
      "│ 109 │ 9          │ constant   │ smooth    │ kal    │ 0.635345 │ 0.56491  │ 1.0e-12 │ 0.6     │ 1.0e-12 │ 0.3     │ 0        │\n",
      "│ 110 │ 10         │ constant   │ smooth    │ kal    │ 0.771126 │ 0.726523 │ 1.0e-12 │ 0.6     │ 1.0e-12 │ 0.3     │ 0        │\n",
      "│ 111 │ 1          │ constant   │ smooth    │ enet   │ 0.880079 │ 0.861539 │ 0.066   │ 0.3     │ 0.066   │ 0.15    │ 0        │\n",
      "│ 112 │ 2          │ constant   │ smooth    │ enet   │ 0.738728 │ 0.73073  │ 0.066   │ 0.6     │ 2.0e-7  │ 0.6     │ 0        │\n",
      "│ 113 │ 3          │ constant   │ smooth    │ enet   │ 0.840514 │ 0.805799 │ 2.0e-7  │ 0.6     │ 0.066   │ 0.15    │ 0        │\n",
      "│ 114 │ 4          │ constant   │ smooth    │ enet   │ 0.702001 │ 0.700331 │ 2.0e-7  │ 0.6     │ 0.2     │ 0.6     │ 0        │\n",
      "│ 115 │ 5          │ constant   │ smooth    │ enet   │ 0.641021 │ 0.588883 │ 2.0e-7  │ 0.6     │ 0.2     │ 2.0e-7  │ 0        │\n",
      "│ 116 │ 6          │ constant   │ smooth    │ enet   │ 0.816763 │ 0.797882 │ 2.0e-7  │ 0.15    │ 0.2     │ 0.6     │ 0        │\n",
      "│ 117 │ 7          │ constant   │ smooth    │ enet   │ 0.631508 │ 0.639185 │ 2.0e-7  │ 0.3     │ 2.0e-7  │ 0.6     │ 0        │\n",
      "│ 118 │ 8          │ constant   │ smooth    │ enet   │ 0.642748 │ 0.607568 │ 2.0e-7  │ 0.6     │ 0.2     │ 2.0e-7  │ 0        │\n",
      "│ 119 │ 9          │ constant   │ smooth    │ enet   │ 0.623106 │ 0.560204 │ 0.132   │ 0.6     │ 0.132   │ 2.0e-7  │ 0        │\n",
      "│ 120 │ 10         │ constant   │ smooth    │ enet   │ 0.748025 │ 0.709276 │ 2.0e-7  │ 0.6     │ 0.2     │ 2.0e-7  │ 0        │\n",
      "│ 121 │ 1          │ constant   │ constant  │ fl     │ 0.976517 │ 0.899012 │ 0.2     │ 1.0e-12 │ 0.2     │ 1.0e-12 │ 0        │\n",
      "│ 122 │ 2          │ constant   │ constant  │ fl     │ 0.426536 │ 0.397059 │ 0.2     │ 1.0e-12 │ 0.132   │ 1.0e-12 │ 0        │\n",
      "│ 123 │ 3          │ constant   │ constant  │ fl     │ 0.683207 │ 0.611874 │ 0.132   │ 1.0e-12 │ 0.2     │ 1.0e-12 │ 0        │\n",
      "│ 124 │ 4          │ constant   │ constant  │ fl     │ 0.867657 │ 0.792565 │ 0.2     │ 1.0e-12 │ 0.2     │ 1.0e-12 │ 0        │\n",
      "│ 125 │ 5          │ constant   │ constant  │ fl     │ 0.764212 │ 0.722025 │ 0.132   │ 1.0e-12 │ 0.2     │ 1.0e-12 │ 0        │\n",
      "│ 126 │ 6          │ constant   │ constant  │ fl     │ 0.926938 │ 0.898509 │ 0.132   │ 1.0e-12 │ 0.2     │ 1.0e-12 │ 0        │\n",
      "│ 127 │ 7          │ constant   │ constant  │ fl     │ 0.831316 │ 0.821329 │ 0.066   │ 1.0e-12 │ 0.2     │ 1.0e-12 │ 0        │\n",
      "│ 128 │ 8          │ constant   │ constant  │ fl     │ 0.945765 │ 0.920564 │ 0.132   │ 1.0e-12 │ 0.2     │ 1.0e-12 │ 0        │\n",
      "│ 129 │ 9          │ constant   │ constant  │ fl     │ 0.842621 │ 0.712197 │ 0.132   │ 1.0e-12 │ 0.2     │ 1.0e-12 │ 0        │\n",
      "│ 130 │ 10         │ constant   │ constant  │ fl     │ 0.727677 │ 0.653228 │ 0.132   │ 1.0e-12 │ 0.2     │ 1.0e-12 │ 0        │\n",
      "│ 131 │ 1          │ constant   │ constant  │ kal    │ 0.926547 │ 0.868411 │ 1.0e-12 │ 0.6     │ 1.0e-12 │ 0.6     │ 0        │\n",
      "│ 132 │ 2          │ constant   │ constant  │ kal    │ 0.440922 │ 0.414207 │ 1.0e-12 │ 0.6     │ 1.0e-12 │ 0.15    │ 0        │\n",
      "│ 133 │ 3          │ constant   │ constant  │ kal    │ 0.690608 │ 0.624472 │ 1.0e-12 │ 0.15    │ 1.0e-12 │ 0.6     │ 0        │\n",
      "│ 134 │ 4          │ constant   │ constant  │ kal    │ 0.805562 │ 0.778744 │ 1.0e-12 │ 0.6     │ 1.0e-12 │ 0.3     │ 0        │\n",
      "│ 135 │ 5          │ constant   │ constant  │ kal    │ 0.731642 │ 0.693586 │ 1.0e-12 │ 0.15    │ 1.0e-12 │ 0.6     │ 0        │\n",
      "│ 136 │ 6          │ constant   │ constant  │ kal    │ 0.912887 │ 0.890067 │ 1.0e-12 │ 0.6     │ 1.0e-12 │ 0.6     │ 0        │\n",
      "│ 137 │ 7          │ constant   │ constant  │ kal    │ 0.813983 │ 0.812024 │ 1.0e-12 │ 0.6     │ 1.0e-12 │ 0.6     │ 0        │\n",
      "│ 138 │ 8          │ constant   │ constant  │ kal    │ 0.9467   │ 0.916116 │ 1.0e-12 │ 0.6     │ 1.0e-12 │ 0.6     │ 0        │\n",
      "│ 139 │ 9          │ constant   │ constant  │ kal    │ 0.780626 │ 0.710153 │ 1.0e-12 │ 0.15    │ 1.0e-12 │ 0.6     │ 0        │\n",
      "│ 140 │ 10         │ constant   │ constant  │ kal    │ 0.671072 │ 0.645072 │ 1.0e-12 │ 0.15    │ 1.0e-12 │ 0.6     │ 0        │\n",
      "│ 141 │ 1          │ constant   │ constant  │ enet   │ 0.934021 │ 0.863022 │ 0.132   │ 2.0e-7  │ 2.0e-7  │ 0.6     │ 0        │\n",
      "│ 142 │ 2          │ constant   │ constant  │ enet   │ 0.390944 │ 0.373286 │ 0.2     │ 0.6     │ 0.066   │ 2.0e-7  │ 0        │\n",
      "│ 143 │ 3          │ constant   │ constant  │ enet   │ 0.618731 │ 0.592527 │ 0.066   │ 2.0e-7  │ 0.2     │ 0.6     │ 0        │\n",
      "│ 144 │ 4          │ constant   │ constant  │ enet   │ 0.790294 │ 0.76646  │ 2.0e-7  │ 0.6     │ 0.132   │ 2.0e-7  │ 0        │\n",
      "│ 145 │ 5          │ constant   │ constant  │ enet   │ 0.692448 │ 0.678987 │ 0.066   │ 2.0e-7  │ 0.2     │ 0.6     │ 0        │\n",
      "│ 146 │ 6          │ constant   │ constant  │ enet   │ 0.908409 │ 0.887788 │ 0.066   │ 0.15    │ 2.0e-7  │ 0.6     │ 0        │\n",
      "│ 147 │ 7          │ constant   │ constant  │ enet   │ 0.790304 │ 0.794493 │ 2.0e-7  │ 0.3     │ 0.2     │ 0.6     │ 0        │\n",
      "│ 148 │ 8          │ constant   │ constant  │ enet   │ 0.941306 │ 0.909001 │ 2.0e-7  │ 0.6     │ 0.132   │ 2.0e-7  │ 0        │\n",
      "│ 149 │ 9          │ constant   │ constant  │ enet   │ 0.771971 │ 0.696412 │ 0.066   │ 2.0e-7  │ 2.0e-7  │ 0.6     │ 0        │\n",
      "│ 150 │ 10         │ constant   │ constant  │ enet   │ 0.640161 │ 0.606069 │ 0.066   │ 2.0e-7  │ 0.2     │ 0.6     │ 0        │\n",
      "│ 151 │ 1          │ constant   │ mixed     │ fl     │ 0.873583 │ 0.864474 │ 0.2     │ 1.0e-12 │ 0.066   │ 1.0e-12 │ 0        │\n",
      "│ 152 │ 2          │ constant   │ mixed     │ fl     │ 0.755663 │ 0.714651 │ 0.2     │ 1.0e-12 │ 0.2     │ 1.0e-12 │ 0        │\n",
      "│ 153 │ 3          │ constant   │ mixed     │ fl     │ 0.808216 │ 0.788195 │ 0.132   │ 1.0e-12 │ 0.2     │ 1.0e-12 │ 0        │\n",
      "│ 154 │ 4          │ constant   │ mixed     │ fl     │ 0.988637 │ 0.969187 │ 0.2     │ 1.0e-12 │ 0.2     │ 1.0e-12 │ 0        │\n",
      "│ 155 │ 5          │ constant   │ mixed     │ fl     │ 0.781451 │ 0.740158 │ 0.132   │ 1.0e-12 │ 0.2     │ 1.0e-12 │ 0        │\n",
      "│ 156 │ 6          │ constant   │ mixed     │ fl     │ 0.773105 │ 0.735183 │ 0.2     │ 1.0e-12 │ 0.2     │ 1.0e-12 │ 0        │\n",
      "│ 157 │ 7          │ constant   │ mixed     │ fl     │ 0.781145 │ 0.708617 │ 0.2     │ 1.0e-12 │ 0.2     │ 1.0e-12 │ 0        │\n",
      "│ 158 │ 8          │ constant   │ mixed     │ fl     │ 0.768848 │ 0.714622 │ 0.2     │ 1.0e-12 │ 0.2     │ 1.0e-12 │ 0        │\n",
      "│ 159 │ 9          │ constant   │ mixed     │ fl     │ 0.552648 │ 0.507812 │ 0.2     │ 1.0e-12 │ 0.2     │ 1.0e-12 │ 0        │\n",
      "│ 160 │ 10         │ constant   │ mixed     │ fl     │ 0.96578  │ 0.893971 │ 0.2     │ 1.0e-12 │ 0.2     │ 1.0e-12 │ 0        │\n",
      "│ 161 │ 1          │ constant   │ mixed     │ kal    │ 0.845291 │ 0.84231  │ 1.0e-12 │ 0.6     │ 1.0e-12 │ 0.3     │ 0        │\n",
      "│ 162 │ 2          │ constant   │ mixed     │ kal    │ 0.727696 │ 0.697567 │ 1.0e-12 │ 0.3     │ 1.0e-12 │ 0.6     │ 0        │\n",
      "│ 163 │ 3          │ constant   │ mixed     │ kal    │ 0.76419  │ 0.765248 │ 1.0e-12 │ 0.3     │ 1.0e-12 │ 0.6     │ 0        │\n",
      "│ 164 │ 4          │ constant   │ mixed     │ kal    │ 0.947939 │ 0.939976 │ 1.0e-12 │ 0.3     │ 1.0e-12 │ 0.6     │ 0        │\n",
      "│ 165 │ 5          │ constant   │ mixed     │ kal    │ 0.745058 │ 0.712543 │ 1.0e-12 │ 0.3     │ 1.0e-12 │ 0.6     │ 0        │\n",
      "│ 166 │ 6          │ constant   │ mixed     │ kal    │ 0.750662 │ 0.716344 │ 1.0e-12 │ 0.3     │ 1.0e-12 │ 0.6     │ 0        │\n",
      "│ 167 │ 7          │ constant   │ mixed     │ kal    │ 0.750293 │ 0.693039 │ 1.0e-12 │ 0.15    │ 1.0e-12 │ 0.6     │ 0        │\n",
      "│ 168 │ 8          │ constant   │ mixed     │ kal    │ 0.686258 │ 0.683016 │ 1.0e-12 │ 0.3     │ 1.0e-12 │ 0.6     │ 0        │\n",
      "│ 169 │ 9          │ constant   │ mixed     │ kal    │ 0.504922 │ 0.474399 │ 1.0e-12 │ 0.6     │ 1.0e-12 │ 0.6     │ 0        │\n",
      "│ 170 │ 10         │ constant   │ mixed     │ kal    │ 0.895637 │ 0.843682 │ 1.0e-12 │ 0.6     │ 1.0e-12 │ 0.3     │ 0        │\n",
      "│ 171 │ 1          │ constant   │ mixed     │ enet   │ 0.842896 │ 0.842709 │ 0.2     │ 0.6     │ 2.0e-7  │ 0.3     │ 0        │\n",
      "│ 172 │ 2          │ constant   │ mixed     │ enet   │ 0.71099  │ 0.695728 │ 0.132   │ 2.0e-7  │ 0.132   │ 0.6     │ 0        │\n",
      "│ 173 │ 3          │ constant   │ mixed     │ enet   │ 0.758162 │ 0.765999 │ 2.0e-7  │ 0.3     │ 2.0e-7  │ 0.6     │ 0        │\n",
      "│ 174 │ 4          │ constant   │ mixed     │ enet   │ 0.945304 │ 0.939748 │ 2.0e-7  │ 0.6     │ 2.0e-7  │ 0.6     │ 0        │\n",
      "│ 175 │ 5          │ constant   │ mixed     │ enet   │ 0.7205   │ 0.703257 │ 2.0e-7  │ 0.3     │ 0.2     │ 0.6     │ 0        │\n",
      "│ 176 │ 6          │ constant   │ mixed     │ enet   │ 0.737167 │ 0.71272  │ 0.132   │ 2.0e-7  │ 0.066   │ 0.6     │ 0        │\n",
      "│ 177 │ 7          │ constant   │ mixed     │ enet   │ 0.748449 │ 0.685812 │ 0.132   │ 2.0e-7  │ 0.132   │ 0.6     │ 0        │\n",
      "│ 178 │ 8          │ constant   │ mixed     │ enet   │ 0.711279 │ 0.676941 │ 0.132   │ 2.0e-7  │ 2.0e-7  │ 0.6     │ 0        │\n",
      "│ 179 │ 9          │ constant   │ mixed     │ enet   │ 0.502583 │ 0.481036 │ 2.0e-7  │ 0.6     │ 0.2     │ 2.0e-7  │ 0        │\n",
      "│ 180 │ 10         │ constant   │ mixed     │ enet   │ 0.903345 │ 0.836008 │ 2.0e-7  │ 0.6     │ 0.132   │ 2.0e-7  │ 0        │\n",
      "│ 181 │ 1          │ mixed      │ smooth    │ fl     │ 0.749623 │ 0.684681 │ 0.132   │ 1.0e-12 │ 0.2     │ 1.0e-12 │ 0        │\n",
      "│ 182 │ 2          │ mixed      │ smooth    │ fl     │ 0.880891 │ 0.797154 │ 0.132   │ 1.0e-12 │ 0.2     │ 1.0e-12 │ 0        │\n",
      "│ 183 │ 3          │ mixed      │ smooth    │ fl     │ 0.871771 │ 0.866381 │ 0.2     │ 1.0e-12 │ 0.2     │ 1.0e-12 │ 0        │\n",
      "│ 184 │ 4          │ mixed      │ smooth    │ fl     │ 0.879266 │ 0.825776 │ 0.2     │ 1.0e-12 │ 0.132   │ 1.0e-12 │ 0        │\n",
      "│ 185 │ 5          │ mixed      │ smooth    │ fl     │ 0.584174 │ 0.535415 │ 0.2     │ 1.0e-12 │ 0.2     │ 1.0e-12 │ 0        │\n",
      "│ 186 │ 6          │ mixed      │ smooth    │ fl     │ 0.634789 │ 0.559161 │ 0.2     │ 1.0e-12 │ 0.2     │ 1.0e-12 │ 0        │\n",
      "│ 187 │ 7          │ mixed      │ smooth    │ fl     │ 0.86894  │ 0.856    │ 0.132   │ 1.0e-12 │ 0.2     │ 1.0e-12 │ 0        │\n",
      "│ 188 │ 8          │ mixed      │ smooth    │ fl     │ 0.875059 │ 0.796226 │ 0.2     │ 1.0e-12 │ 0.2     │ 1.0e-12 │ 0        │\n",
      "│ 189 │ 9          │ mixed      │ smooth    │ fl     │ 0.612715 │ 0.526592 │ 0.2     │ 1.0e-12 │ 0.2     │ 1.0e-12 │ 0        │\n",
      "│ 190 │ 10         │ mixed      │ smooth    │ fl     │ 0.808443 │ 0.796895 │ 0.2     │ 1.0e-12 │ 0.2     │ 1.0e-12 │ 0        │\n",
      "│ 191 │ 1          │ mixed      │ smooth    │ kal    │ 0.680684 │ 0.639472 │ 1.0e-12 │ 0.3     │ 1.0e-12 │ 0.6     │ 0        │\n",
      "│ 192 │ 2          │ mixed      │ smooth    │ kal    │ 0.791037 │ 0.735323 │ 1.0e-12 │ 0.3     │ 1.0e-12 │ 0.6     │ 0        │\n",
      "│ 193 │ 3          │ mixed      │ smooth    │ kal    │ 0.812676 │ 0.815037 │ 1.0e-12 │ 0.3     │ 1.0e-12 │ 0.6     │ 0        │\n",
      "│ 194 │ 4          │ mixed      │ smooth    │ kal    │ 0.776818 │ 0.765311 │ 1.0e-12 │ 0.6     │ 1.0e-12 │ 0.3     │ 0        │\n",
      "│ 195 │ 5          │ mixed      │ smooth    │ kal    │ 0.539307 │ 0.509839 │ 1.0e-12 │ 0.6     │ 1.0e-12 │ 0.6     │ 0        │\n",
      "│ 196 │ 6          │ mixed      │ smooth    │ kal    │ 0.547914 │ 0.501933 │ 1.0e-12 │ 0.6     │ 1.0e-12 │ 0.6     │ 0        │\n",
      "│ 197 │ 7          │ mixed      │ smooth    │ kal    │ 0.785232 │ 0.800092 │ 1.0e-12 │ 0.3     │ 1.0e-12 │ 0.3     │ 0        │\n",
      "│ 198 │ 8          │ mixed      │ smooth    │ kal    │ 0.78399  │ 0.735697 │ 1.0e-12 │ 0.3     │ 1.0e-12 │ 0.6     │ 0        │\n",
      "│ 199 │ 9          │ mixed      │ smooth    │ kal    │ 0.551293 │ 0.487595 │ 1.0e-12 │ 0.15    │ 1.0e-12 │ 0.6     │ 0        │\n",
      "│ 200 │ 10         │ mixed      │ smooth    │ kal    │ 0.750251 │ 0.732336 │ 1.0e-12 │ 0.3     │ 1.0e-12 │ 0.6     │ 0        │\n",
      "│ 201 │ 1          │ mixed      │ smooth    │ enet   │ 0.689462 │ 0.638599 │ 2.0e-7  │ 0.3     │ 2.0e-7  │ 0.6     │ 0        │\n",
      "│ 202 │ 2          │ mixed      │ smooth    │ enet   │ 0.779182 │ 0.738659 │ 2.0e-7  │ 0.3     │ 2.0e-7  │ 0.6     │ 0        │\n",
      "│ 203 │ 3          │ mixed      │ smooth    │ enet   │ 0.819841 │ 0.814249 │ 2.0e-7  │ 0.3     │ 0.066   │ 0.6     │ 0        │\n",
      "│ 204 │ 4          │ mixed      │ smooth    │ enet   │ 0.770023 │ 0.767    │ 2.0e-7  │ 0.6     │ 2.0e-7  │ 0.3     │ 0        │\n",
      "│ 205 │ 5          │ mixed      │ smooth    │ enet   │ 0.55159  │ 0.50637  │ 2.0e-7  │ 0.6     │ 0.2     │ 2.0e-7  │ 0        │\n",
      "│ 206 │ 6          │ mixed      │ smooth    │ enet   │ 0.550502 │ 0.503573 │ 2.0e-7  │ 0.6     │ 2.0e-7  │ 0.6     │ 0        │\n",
      "│ 207 │ 7          │ mixed      │ smooth    │ enet   │ 0.775152 │ 0.797265 │ 2.0e-7  │ 0.3     │ 2.0e-7  │ 0.3     │ 0        │\n",
      "│ 208 │ 8          │ mixed      │ smooth    │ enet   │ 0.781504 │ 0.733297 │ 2.0e-7  │ 0.3     │ 2.0e-7  │ 0.6     │ 0        │\n",
      "│ 209 │ 9          │ mixed      │ smooth    │ enet   │ 0.551967 │ 0.480022 │ 2.0e-7  │ 0.15    │ 0.2     │ 0.6     │ 0        │\n",
      "│ 210 │ 10         │ mixed      │ smooth    │ enet   │ 0.739718 │ 0.735453 │ 2.0e-7  │ 0.3     │ 2.0e-7  │ 0.6     │ 0        │\n",
      "│ 211 │ 1          │ mixed      │ constant  │ fl     │ 0.83205  │ 0.789728 │ 0.2     │ 1.0e-12 │ 0.2     │ 1.0e-12 │ 0        │\n",
      "│ 212 │ 2          │ mixed      │ constant  │ fl     │ 0.689651 │ 0.634387 │ 0.2     │ 1.0e-12 │ 0.2     │ 1.0e-12 │ 0        │\n",
      "│ 213 │ 3          │ mixed      │ constant  │ fl     │ 0.706296 │ 0.637614 │ 0.2     │ 1.0e-12 │ 0.2     │ 1.0e-12 │ 0        │\n",
      "│ 214 │ 4          │ mixed      │ constant  │ fl     │ 0.773964 │ 0.718033 │ 0.2     │ 1.0e-12 │ 0.132   │ 1.0e-12 │ 0        │\n",
      "│ 215 │ 5          │ mixed      │ constant  │ fl     │ 0.994245 │ 0.965092 │ 0.132   │ 1.0e-12 │ 0.2     │ 1.0e-12 │ 0        │\n",
      "│ 216 │ 6          │ mixed      │ constant  │ fl     │ 0.68886  │ 0.630348 │ 0.2     │ 1.0e-12 │ 0.2     │ 1.0e-12 │ 0        │\n",
      "│ 217 │ 7          │ mixed      │ constant  │ fl     │ 0.888854 │ 0.825941 │ 0.132   │ 1.0e-12 │ 0.2     │ 1.0e-12 │ 0        │\n",
      "│ 218 │ 8          │ mixed      │ constant  │ fl     │ 0.775208 │ 0.674345 │ 0.2     │ 1.0e-12 │ 0.2     │ 1.0e-12 │ 0        │\n",
      "│ 219 │ 9          │ mixed      │ constant  │ fl     │ 0.619609 │ 0.583911 │ 0.2     │ 1.0e-12 │ 0.132   │ 1.0e-12 │ 0        │\n",
      "│ 220 │ 10         │ mixed      │ constant  │ fl     │ 0.969473 │ 0.934358 │ 0.2     │ 1.0e-12 │ 0.2     │ 1.0e-12 │ 0        │\n",
      "│ 221 │ 1          │ mixed      │ constant  │ kal    │ 0.800641 │ 0.781416 │ 1.0e-12 │ 0.6     │ 1.0e-12 │ 0.6     │ 0        │\n",
      "│ 222 │ 2          │ mixed      │ constant  │ kal    │ 0.624893 │ 0.580867 │ 1.0e-12 │ 0.15    │ 1.0e-12 │ 0.6     │ 0        │\n",
      "│ 223 │ 3          │ mixed      │ constant  │ kal    │ 0.648909 │ 0.60008  │ 1.0e-12 │ 0.3     │ 1.0e-12 │ 0.6     │ 0        │\n",
      "│ 224 │ 4          │ mixed      │ constant  │ kal    │ 0.706619 │ 0.684225 │ 1.0e-12 │ 0.6     │ 1.0e-12 │ 0.3     │ 0        │\n",
      "│ 225 │ 5          │ mixed      │ constant  │ kal    │ 0.998528 │ 0.953846 │ 1.0e-12 │ 0.6     │ 1.0e-12 │ 0.6     │ 0        │\n",
      "│ 226 │ 6          │ mixed      │ constant  │ kal    │ 0.665734 │ 0.620025 │ 1.0e-12 │ 0.15    │ 1.0e-12 │ 0.6     │ 0        │\n",
      "│ 227 │ 7          │ mixed      │ constant  │ kal    │ 0.851042 │ 0.801108 │ 1.0e-12 │ 0.3     │ 1.0e-12 │ 0.6     │ 0        │\n",
      "│ 228 │ 8          │ mixed      │ constant  │ kal    │ 0.725348 │ 0.673574 │ 1.0e-12 │ 0.6     │ 1.0e-12 │ 0.6     │ 0        │\n",
      "│ 229 │ 9          │ mixed      │ constant  │ kal    │ 0.6058   │ 0.578213 │ 1.0e-12 │ 0.6     │ 1.0e-12 │ 0.6     │ 0        │\n",
      "│ 230 │ 10         │ mixed      │ constant  │ kal    │ 0.927727 │ 0.91136  │ 1.0e-12 │ 0.6     │ 1.0e-12 │ 0.6     │ 0        │\n",
      "│ 231 │ 1          │ mixed      │ constant  │ enet   │ 0.779763 │ 0.772244 │ 0.132   │ 2.0e-7  │ 2.0e-7  │ 0.6     │ 0        │\n",
      "│ 232 │ 2          │ mixed      │ constant  │ enet   │ 0.580123 │ 0.555001 │ 0.132   │ 2.0e-7  │ 2.0e-7  │ 0.6     │ 0        │\n",
      "│ 233 │ 3          │ mixed      │ constant  │ enet   │ 0.634539 │ 0.593489 │ 0.132   │ 2.0e-7  │ 2.0e-7  │ 0.6     │ 0        │\n",
      "│ 234 │ 4          │ mixed      │ constant  │ enet   │ 0.709942 │ 0.68525  │ 2.0e-7  │ 0.6     │ 2.0e-7  │ 0.3     │ 0        │\n",
      "│ 235 │ 5          │ mixed      │ constant  │ enet   │ 0.972622 │ 0.941754 │ 0.132   │ 2.0e-7  │ 2.0e-7  │ 0.6     │ 0        │\n",
      "│ 236 │ 6          │ mixed      │ constant  │ enet   │ 0.636968 │ 0.603289 │ 0.132   │ 2.0e-7  │ 0.132   │ 0.6     │ 0        │\n",
      "│ 237 │ 7          │ mixed      │ constant  │ enet   │ 0.847037 │ 0.797662 │ 0.066   │ 0.15    │ 2.0e-7  │ 0.6     │ 0        │\n",
      "│ 238 │ 8          │ mixed      │ constant  │ enet   │ 0.736242 │ 0.675874 │ 2.0e-7  │ 0.6     │ 2.0e-7  │ 0.6     │ 0        │\n",
      "│ 239 │ 9          │ mixed      │ constant  │ enet   │ 0.581106 │ 0.560645 │ 0.2     │ 0.6     │ 2.0e-7  │ 0.6     │ 0        │\n",
      "│ 240 │ 10         │ mixed      │ constant  │ enet   │ 0.931732 │ 0.908737 │ 2.0e-7  │ 0.6     │ 2.0e-7  │ 0.6     │ 0        │\n",
      "│ 241 │ 1          │ mixed      │ mixed     │ fl     │ 0.714624 │ 0.686714 │ 0.2     │ 1.0e-12 │ 0.2     │ 1.0e-12 │ 0        │\n",
      "│ 242 │ 2          │ mixed      │ mixed     │ fl     │ 0.884213 │ 0.849665 │ 0.2     │ 1.0e-12 │ 0.2     │ 1.0e-12 │ 0        │\n",
      "│ 243 │ 3          │ mixed      │ mixed     │ fl     │ 0.541297 │ 0.526687 │ 0.2     │ 1.0e-12 │ 0.2     │ 1.0e-12 │ 0        │\n",
      "│ 244 │ 4          │ mixed      │ mixed     │ fl     │ 0.737275 │ 0.666697 │ 0.066   │ 1.0e-12 │ 0.2     │ 1.0e-12 │ 0        │\n",
      "│ 245 │ 5          │ mixed      │ mixed     │ fl     │ 0.776226 │ 0.712977 │ 0.2     │ 1.0e-12 │ 0.132   │ 1.0e-12 │ 0        │\n",
      "│ 246 │ 6          │ mixed      │ mixed     │ fl     │ 0.923624 │ 0.822314 │ 0.2     │ 1.0e-12 │ 0.2     │ 1.0e-12 │ 0        │\n",
      "│ 247 │ 7          │ mixed      │ mixed     │ fl     │ 0.72016  │ 0.680389 │ 0.2     │ 1.0e-12 │ 0.2     │ 1.0e-12 │ 0        │\n",
      "│ 248 │ 8          │ mixed      │ mixed     │ fl     │ 0.790832 │ 0.761707 │ 0.2     │ 1.0e-12 │ 0.2     │ 1.0e-12 │ 0        │\n",
      "│ 249 │ 9          │ mixed      │ mixed     │ fl     │ 0.833361 │ 0.743968 │ 0.066   │ 1.0e-12 │ 0.2     │ 1.0e-12 │ 0        │\n",
      "│ 250 │ 10         │ mixed      │ mixed     │ fl     │ 0.800798 │ 0.789224 │ 0.2     │ 1.0e-12 │ 0.066   │ 1.0e-12 │ 0        │\n",
      "│ 251 │ 1          │ mixed      │ mixed     │ kal    │ 0.641117 │ 0.626294 │ 1.0e-12 │ 0.3     │ 1.0e-12 │ 0.6     │ 0        │\n",
      "│ 252 │ 2          │ mixed      │ mixed     │ kal    │ 0.865468 │ 0.833176 │ 1.0e-12 │ 0.6     │ 1.0e-12 │ 0.6     │ 0        │\n",
      "│ 253 │ 3          │ mixed      │ mixed     │ kal    │ 0.518247 │ 0.506368 │ 1.0e-12 │ 0.6     │ 1.0e-12 │ 0.6     │ 0        │\n",
      "│ 254 │ 4          │ mixed      │ mixed     │ kal    │ 0.659791 │ 0.637604 │ 1.0e-12 │ 0.15    │ 1.0e-12 │ 0.6     │ 0        │\n",
      "│ 255 │ 5          │ mixed      │ mixed     │ kal    │ 0.72926  │ 0.696519 │ 1.0e-12 │ 0.6     │ 1.0e-12 │ 0.3     │ 0        │\n",
      "│ 256 │ 6          │ mixed      │ mixed     │ kal    │ 0.876382 │ 0.795857 │ 1.0e-12 │ 0.6     │ 1.0e-12 │ 0.6     │ 0        │\n",
      "│ 257 │ 7          │ mixed      │ mixed     │ kal    │ 0.692374 │ 0.674487 │ 1.0e-12 │ 0.6     │ 1.0e-12 │ 0.3     │ 0        │\n",
      "│ 258 │ 8          │ mixed      │ mixed     │ kal    │ 0.753633 │ 0.724949 │ 1.0e-12 │ 0.6     │ 1.0e-12 │ 0.6     │ 0        │\n",
      "│ 259 │ 9          │ mixed      │ mixed     │ kal    │ 0.775489 │ 0.71552  │ 1.0e-12 │ 0.3     │ 1.0e-12 │ 0.6     │ 0        │\n",
      "│ 260 │ 10         │ mixed      │ mixed     │ kal    │ 0.81091  │ 0.782497 │ 1.0e-12 │ 0.6     │ 1.0e-12 │ 0.6     │ 0        │\n",
      "│ 261 │ 1          │ mixed      │ mixed     │ enet   │ 0.639381 │ 0.627542 │ 2.0e-7  │ 0.3     │ 2.0e-7  │ 0.6     │ 0        │\n",
      "│ 262 │ 2          │ mixed      │ mixed     │ enet   │ 0.85793  │ 0.830839 │ 0.066   │ 0.6     │ 2.0e-7  │ 0.6     │ 0        │\n",
      "│ 263 │ 3          │ mixed      │ mixed     │ enet   │ 0.502848 │ 0.49393  │ 0.2     │ 0.6     │ 2.0e-7  │ 0.6     │ 0        │\n",
      "│ 264 │ 4          │ mixed      │ mixed     │ enet   │ 0.641559 │ 0.586127 │ 0.066   │ 2.0e-7  │ 0.2     │ 0.6     │ 0        │\n",
      "│ 265 │ 5          │ mixed      │ mixed     │ enet   │ 0.731925 │ 0.692003 │ 0.132   │ 0.3     │ 2.0e-7  │ 0.3     │ 0        │\n",
      "│ 266 │ 6          │ mixed      │ mixed     │ enet   │ 0.856061 │ 0.794769 │ 2.0e-7  │ 0.6     │ 2.0e-7  │ 0.6     │ 0        │\n",
      "│ 267 │ 7          │ mixed      │ mixed     │ enet   │ 0.67315  │ 0.652557 │ 0.2     │ 0.6     │ 2.0e-7  │ 0.3     │ 0        │\n",
      "│ 268 │ 8          │ mixed      │ mixed     │ enet   │ 0.740759 │ 0.721195 │ 0.066   │ 0.3     │ 2.0e-7  │ 0.6     │ 0        │\n",
      "│ 269 │ 9          │ mixed      │ mixed     │ enet   │ 0.766226 │ 0.704443 │ 2.0e-7  │ 0.3     │ 0.2     │ 0.6     │ 0        │\n",
      "│ 270 │ 10         │ mixed      │ mixed     │ enet   │ 0.795656 │ 0.772821 │ 0.2     │ 0.6     │ 2.0e-7  │ 0.6     │ 0        │\n",
      "│ 271 │ 1          │ mixed      │ mixed     │ fl     │ 1.09326  │ 0.625121 │ 0.2     │ 1.0e-12 │ 0.2     │ 1.0e-12 │ 1        │\n",
      "│ 272 │ 2          │ mixed      │ mixed     │ fl     │ 1.44618  │ 0.991524 │ 0.2     │ 1.0e-12 │ 0.2     │ 1.0e-12 │ 1        │\n",
      "│ 273 │ 3          │ mixed      │ mixed     │ fl     │ 1.30604  │ 0.878497 │ 0.2     │ 1.0e-12 │ 0.2     │ 1.0e-12 │ 1        │\n",
      "│ 274 │ 4          │ mixed      │ mixed     │ fl     │ 1.35527  │ 0.897577 │ 0.066   │ 1.0e-12 │ 0.2     │ 1.0e-12 │ 1        │\n",
      "│ 275 │ 5          │ mixed      │ mixed     │ fl     │ 1.03665  │ 0.574766 │ 0.2     │ 1.0e-12 │ 0.2     │ 1.0e-12 │ 1        │\n",
      "│ 276 │ 6          │ mixed      │ mixed     │ fl     │ 1.36558  │ 0.932755 │ 0.132   │ 1.0e-12 │ 0.2     │ 1.0e-12 │ 1        │\n",
      "│ 277 │ 7          │ mixed      │ mixed     │ fl     │ 1.26244  │ 0.739641 │ 0.2     │ 1.0e-12 │ 0.2     │ 1.0e-12 │ 1        │\n",
      "│ 278 │ 8          │ mixed      │ mixed     │ fl     │ 1.45167  │ 1.02038  │ 0.066   │ 1.0e-12 │ 0.2     │ 1.0e-12 │ 1        │\n",
      "│ 279 │ 9          │ mixed      │ mixed     │ fl     │ 1.23744  │ 0.714132 │ 0.2     │ 1.0e-12 │ 0.2     │ 1.0e-12 │ 1        │\n",
      "│ 280 │ 10         │ mixed      │ mixed     │ fl     │ 1.29918  │ 0.868665 │ 0.2     │ 1.0e-12 │ 0.132   │ 1.0e-12 │ 1        │\n",
      "│ 281 │ 1          │ mixed      │ mixed     │ kal    │ 1.04222  │ 0.600758 │ 1.0e-12 │ 0.15    │ 1.0e-12 │ 0.6     │ 1        │\n",
      "│ 282 │ 2          │ mixed      │ mixed     │ kal    │ 1.40066  │ 0.951737 │ 1.0e-12 │ 0.15    │ 1.0e-12 │ 0.6     │ 1        │\n",
      "│ 283 │ 3          │ mixed      │ mixed     │ kal    │ 1.27125  │ 0.854725 │ 1.0e-12 │ 0.6     │ 1.0e-12 │ 0.6     │ 1        │\n",
      "│ 284 │ 4          │ mixed      │ mixed     │ kal    │ 1.31401  │ 0.880232 │ 1.0e-12 │ 0.3     │ 1.0e-12 │ 0.6     │ 1        │\n",
      "│ 285 │ 5          │ mixed      │ mixed     │ kal    │ 1.01106  │ 0.553499 │ 1.0e-12 │ 0.6     │ 1.0e-12 │ 0.6     │ 1        │\n",
      "│ 286 │ 6          │ mixed      │ mixed     │ kal    │ 1.33934  │ 0.895232 │ 1.0e-12 │ 0.6     │ 1.0e-12 │ 0.6     │ 1        │\n",
      "│ 287 │ 7          │ mixed      │ mixed     │ kal    │ 1.23703  │ 0.721025 │ 1.0e-12 │ 0.3     │ 1.0e-12 │ 0.6     │ 1        │\n",
      "│ 288 │ 8          │ mixed      │ mixed     │ kal    │ 1.42238  │ 0.997166 │ 1.0e-12 │ 0.3     │ 1.0e-12 │ 0.6     │ 1        │\n",
      "│ 289 │ 9          │ mixed      │ mixed     │ kal    │ 1.15385  │ 0.700195 │ 1.0e-12 │ 0.6     │ 1.0e-12 │ 0.3     │ 1        │\n",
      "│ 290 │ 10         │ mixed      │ mixed     │ kal    │ 1.2223   │ 0.796199 │ 1.0e-12 │ 0.3     │ 1.0e-12 │ 0.6     │ 1        │\n",
      "│ 291 │ 1          │ mixed      │ mixed     │ enet   │ 1.02494  │ 0.593892 │ 2.0e-7  │ 0.15    │ 0.132   │ 0.6     │ 1        │\n",
      "│ 292 │ 2          │ mixed      │ mixed     │ enet   │ 1.40181  │ 0.945404 │ 2.0e-7  │ 0.15    │ 0.132   │ 0.6     │ 1        │\n",
      "│ 293 │ 3          │ mixed      │ mixed     │ enet   │ 1.26588  │ 0.857456 │ 0.132   │ 0.6     │ 2.0e-7  │ 0.6     │ 1        │\n",
      "│ 294 │ 4          │ mixed      │ mixed     │ enet   │ 1.31811  │ 0.876693 │ 2.0e-7  │ 0.3     │ 0.132   │ 2.0e-7  │ 1        │\n",
      "│ 295 │ 5          │ mixed      │ mixed     │ enet   │ 1.00725  │ 0.552351 │ 2.0e-7  │ 0.6     │ 0.2     │ 2.0e-7  │ 1        │\n",
      "│ 296 │ 6          │ mixed      │ mixed     │ enet   │ 1.33186  │ 0.893746 │ 2.0e-7  │ 0.3     │ 0.066   │ 0.3     │ 1        │\n",
      "│ 297 │ 7          │ mixed      │ mixed     │ enet   │ 1.21236  │ 0.710178 │ 0.132   │ 2.0e-7  │ 0.132   │ 0.6     │ 1        │\n",
      "│ 298 │ 8          │ mixed      │ mixed     │ enet   │ 1.43643  │ 0.998259 │ 2.0e-7  │ 0.15    │ 0.066   │ 0.6     │ 1        │\n",
      "│ 299 │ 9          │ mixed      │ mixed     │ enet   │ 1.1669   │ 0.702614 │ 2.0e-7  │ 0.6     │ 2.0e-7  │ 0.3     │ 1        │\n",
      "│ 300 │ 10         │ mixed      │ mixed     │ enet   │ 1.23036  │ 0.800187 │ 2.0e-7  │ 0.3     │ 2.0e-7  │ 0.6     │ 1        │"
     ]
    }
   ],
   "source": [
    "print(df)"
   ]
  },
  {
   "cell_type": "code",
   "execution_count": null,
   "metadata": {},
   "outputs": [],
   "source": []
  }
 ],
 "metadata": {
  "kernelspec": {
   "display_name": "Julia 1.1.0",
   "language": "julia",
   "name": "julia-1.1"
  },
  "language_info": {
   "file_extension": ".jl",
   "mimetype": "application/julia",
   "name": "julia",
   "version": "1.1.0"
  }
 },
 "nbformat": 4,
 "nbformat_minor": 4
}
